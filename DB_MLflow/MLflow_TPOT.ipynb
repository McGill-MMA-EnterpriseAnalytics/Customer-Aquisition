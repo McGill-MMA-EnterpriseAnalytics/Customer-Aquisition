{
 "cells": [
  {
   "cell_type": "code",
   "execution_count": 0,
   "metadata": {
    "application/vnd.databricks.v1+cell": {
     "cellMetadata": {
      "byteLimit": 2048000,
      "rowLimit": 10000
     },
     "inputWidgets": {},
     "nuid": "60648235-252d-4cf6-9ce6-8aacb9b0e4fe",
     "showTitle": false,
     "title": ""
    },
    "id": "GJ7SaA1wfveg"
   },
   "outputs": [
    {
     "output_type": "display_data",
     "data": {
      "application/vnd.databricks.v1+bamboolib_hint": "{\"pd.DataFrames\": [], \"version\": \"0.0.1\"}",
      "text/plain": []
     },
     "metadata": {},
     "output_type": "display_data"
    }
   ],
   "source": [
    "import pandas as pd\n",
    "import numpy as np\n",
    "\n",
    "from sklearn.preprocessing import MinMaxScaler, StandardScaler\n",
    "from sklearn.ensemble import IsolationForest"
   ]
  },
  {
   "cell_type": "code",
   "execution_count": 0,
   "metadata": {
    "application/vnd.databricks.v1+cell": {
     "cellMetadata": {
      "byteLimit": 2048000,
      "rowLimit": 10000
     },
     "inputWidgets": {},
     "nuid": "05c839a2-3136-4b78-81ca-8d2991e7ce09",
     "showTitle": false,
     "title": ""
    }
   },
   "outputs": [
    {
     "output_type": "stream",
     "name": "stdout",
     "output_type": "stream",
     "text": [
      "Out[2]: [FileInfo(path='dbfs:/FileStore/tables/media_prediction_and_its_cost-1.csv', name='media_prediction_and_its_cost-1.csv', size=16667988, modificationTime=1682550968000),\n FileInfo(path='dbfs:/FileStore/tables/media_prediction_and_its_cost-2.csv', name='media_prediction_and_its_cost-2.csv', size=16667988, modificationTime=1682551383000),\n FileInfo(path='dbfs:/FileStore/tables/media_prediction_and_its_cost.csv', name='media_prediction_and_its_cost.csv', size=16667988, modificationTime=1682548452000),\n FileInfo(path='dbfs:/FileStore/tables/media_prediction_and_its_cost_NEW.csv', name='media_prediction_and_its_cost_NEW.csv', size=14592433, modificationTime=1682555895000)]"
     ]
    }
   ],
   "source": [
    "dbutils.fs.ls(\"/FileStore/tables/\")"
   ]
  },
  {
   "cell_type": "code",
   "execution_count": 0,
   "metadata": {
    "application/vnd.databricks.v1+cell": {
     "cellMetadata": {
      "byteLimit": 2048000,
      "rowLimit": 10000
     },
     "inputWidgets": {},
     "nuid": "4ae7f9ac-be86-45ce-84a6-075ea029f3bb",
     "showTitle": false,
     "title": ""
    },
    "id": "CkbdW2Jtf-KT"
   },
   "outputs": [],
   "source": [
    "# path = 'D:/Study/McGill University - MMA/Courses/INSY 695/Team Project/Data/'\n",
    "# df_raw = pd.read_csv(path+\"media prediction and its cost NEW.csv\")\n",
    "\n",
    "# File location and type\n",
    "file_location = \"/FileStore/tables/media_prediction_and_its_cost_NEW.csv\"\n",
    "file_type = \"csv\"\n",
    "\n",
    "# CSV options\n",
    "infer_schema = \"True\"\n",
    "first_row_is_header = \"True\"\n",
    "delimiter = \",\"\n",
    "\n",
    "# The applied options are for CSV files. For other file types, these will be ignored.\n",
    "df = spark.read.format(file_type) \\\n",
    "  .option(\"inferSchema\", infer_schema) \\\n",
    "  .option(\"header\", first_row_is_header) \\\n",
    "  .option(\"sep\", delimiter) \\\n",
    "  .load(file_location)\n",
    "\n",
    "df_raw = df.toPandas()"
   ]
  },
  {
   "cell_type": "code",
   "execution_count": 0,
   "metadata": {
    "application/vnd.databricks.v1+cell": {
     "cellMetadata": {
      "byteLimit": 2048000,
      "rowLimit": 10000
     },
     "inputWidgets": {},
     "nuid": "dfd230b6-4e79-4129-b16d-0ae2760395ac",
     "showTitle": false,
     "title": ""
    },
    "colab": {
     "base_uri": "https://localhost:8080/"
    },
    "id": "JEYK5C4sgbJ_",
    "outputId": "d31e2f4c-9bcc-4a6e-87ea-40cf880658b2"
   },
   "outputs": [
    {
     "output_type": "stream",
     "name": "stdout",
     "output_type": "stream",
     "text": [
      "Number of unique values: 6 \t Datatype: int32 \t Column name: unit_sales(in millions)\nNumber of unique values: 6 \t Datatype: int32 \t Column name: total_children\nNumber of unique values: 5 \t Datatype: int32 \t Column name: avg_cars_at home(approx)15\nNumber of unique values: 6 \t Datatype: int32 \t Column name: num_children_at_home\nNumber of unique values: 5 \t Datatype: int32 \t Column name: avg_cars_at home(approx)18\n"
     ]
    }
   ],
   "source": [
    "num_cols, cate_cols, pre_dum_cols = [], [], []\n",
    "for c in df_raw.columns:\n",
    "    uni_len = len(set(df_raw[c]))\n",
    "    dtype = df_raw[c].dtypes\n",
    "\n",
    "    if dtype == object:\n",
    "        cate_cols.append(c)\n",
    "    else: # dtype == float\n",
    "        if uni_len == 2:\n",
    "            pre_dum_cols.append(c)\n",
    "        elif uni_len < 10:\n",
    "            num_cols.append(c)\n",
    "            print(\"Number of unique values: %d \\t Datatype: %s \\t Column name: %s\" %(uni_len, dtype, c))\n",
    "        else:\n",
    "            num_cols.append(c)"
   ]
  },
  {
   "cell_type": "code",
   "execution_count": 0,
   "metadata": {
    "application/vnd.databricks.v1+cell": {
     "cellMetadata": {
      "byteLimit": 2048000,
      "rowLimit": 10000
     },
     "inputWidgets": {},
     "nuid": "28601591-d117-4b83-8a7e-a03cb4e42403",
     "showTitle": false,
     "title": ""
    }
   },
   "outputs": [
    {
     "output_type": "display_data",
     "data": {
      "text/html": [
       "<div>\n",
       "<style scoped>\n",
       "    .dataframe tbody tr th:only-of-type {\n",
       "        vertical-align: middle;\n",
       "    }\n",
       "\n",
       "    .dataframe tbody tr th {\n",
       "        vertical-align: top;\n",
       "    }\n",
       "\n",
       "    .dataframe thead th {\n",
       "        text-align: right;\n",
       "    }\n",
       "</style>\n",
       "<table border=\"1\" class=\"dataframe\">\n",
       "  <thead>\n",
       "    <tr style=\"text-align: right;\">\n",
       "      <th></th>\n",
       "      <th>food_category</th>\n",
       "      <th>food_department</th>\n",
       "      <th>food_family</th>\n",
       "      <th>store_sales(in millions)</th>\n",
       "      <th>store_cost(in millions)</th>\n",
       "      <th>unit_sales(in millions)</th>\n",
       "      <th>promotion_name</th>\n",
       "      <th>sales_country</th>\n",
       "      <th>marital_status</th>\n",
       "      <th>gender</th>\n",
       "      <th>...</th>\n",
       "      <th>grocery_sqft</th>\n",
       "      <th>frozen_sqft</th>\n",
       "      <th>meat_sqft</th>\n",
       "      <th>coffee_bar</th>\n",
       "      <th>video_store</th>\n",
       "      <th>salad_bar</th>\n",
       "      <th>prepared_food</th>\n",
       "      <th>florist</th>\n",
       "      <th>media_type</th>\n",
       "      <th>cost</th>\n",
       "    </tr>\n",
       "  </thead>\n",
       "  <tbody>\n",
       "    <tr>\n",
       "      <th>0</th>\n",
       "      <td>Breakfast Foods</td>\n",
       "      <td>Frozen Foods</td>\n",
       "      <td>Food</td>\n",
       "      <td>7.36</td>\n",
       "      <td>2.7232</td>\n",
       "      <td>4</td>\n",
       "      <td>Bag Stuffers</td>\n",
       "      <td>USA</td>\n",
       "      <td>M</td>\n",
       "      <td>F</td>\n",
       "      <td>...</td>\n",
       "      <td>8670</td>\n",
       "      <td>5415</td>\n",
       "      <td>13610</td>\n",
       "      <td>1</td>\n",
       "      <td>1</td>\n",
       "      <td>1</td>\n",
       "      <td>1</td>\n",
       "      <td>1</td>\n",
       "      <td>Daily Paper, Radio</td>\n",
       "      <td>126.62</td>\n",
       "    </tr>\n",
       "    <tr>\n",
       "      <th>1</th>\n",
       "      <td>Breakfast Foods</td>\n",
       "      <td>Frozen Foods</td>\n",
       "      <td>Food</td>\n",
       "      <td>7.36</td>\n",
       "      <td>2.7232</td>\n",
       "      <td>4</td>\n",
       "      <td>Bag Stuffers</td>\n",
       "      <td>USA</td>\n",
       "      <td>M</td>\n",
       "      <td>F</td>\n",
       "      <td>...</td>\n",
       "      <td>18670</td>\n",
       "      <td>5415</td>\n",
       "      <td>3610</td>\n",
       "      <td>1</td>\n",
       "      <td>1</td>\n",
       "      <td>1</td>\n",
       "      <td>1</td>\n",
       "      <td>1</td>\n",
       "      <td>Daily Paper, Radio</td>\n",
       "      <td>126.62</td>\n",
       "    </tr>\n",
       "    <tr>\n",
       "      <th>2</th>\n",
       "      <td>Breakfast Foods</td>\n",
       "      <td>Frozen Foods</td>\n",
       "      <td>Food</td>\n",
       "      <td>5.52</td>\n",
       "      <td>2.5944</td>\n",
       "      <td>3</td>\n",
       "      <td>Cash Register Lottery</td>\n",
       "      <td>USA</td>\n",
       "      <td>M</td>\n",
       "      <td>M</td>\n",
       "      <td>...</td>\n",
       "      <td>18670</td>\n",
       "      <td>5415</td>\n",
       "      <td>3610</td>\n",
       "      <td>1</td>\n",
       "      <td>1</td>\n",
       "      <td>1</td>\n",
       "      <td>1</td>\n",
       "      <td>1</td>\n",
       "      <td>Daily Paper, Radio</td>\n",
       "      <td>59.86</td>\n",
       "    </tr>\n",
       "    <tr>\n",
       "      <th>3</th>\n",
       "      <td>Breakfast Foods</td>\n",
       "      <td>Frozen Foods</td>\n",
       "      <td>Food</td>\n",
       "      <td>3.68</td>\n",
       "      <td>1.3616</td>\n",
       "      <td>2</td>\n",
       "      <td>High Roller Savings</td>\n",
       "      <td>USA</td>\n",
       "      <td>S</td>\n",
       "      <td>F</td>\n",
       "      <td>...</td>\n",
       "      <td>18670</td>\n",
       "      <td>5415</td>\n",
       "      <td>3610</td>\n",
       "      <td>1</td>\n",
       "      <td>1</td>\n",
       "      <td>1</td>\n",
       "      <td>1</td>\n",
       "      <td>1</td>\n",
       "      <td>Daily Paper, Radio</td>\n",
       "      <td>84.16</td>\n",
       "    </tr>\n",
       "    <tr>\n",
       "      <th>4</th>\n",
       "      <td>Breakfast Foods</td>\n",
       "      <td>Frozen Foods</td>\n",
       "      <td>Food</td>\n",
       "      <td>3.68</td>\n",
       "      <td>1.1776</td>\n",
       "      <td>2</td>\n",
       "      <td>Cash Register Lottery</td>\n",
       "      <td>USA</td>\n",
       "      <td>M</td>\n",
       "      <td>F</td>\n",
       "      <td>...</td>\n",
       "      <td>18670</td>\n",
       "      <td>5415</td>\n",
       "      <td>3610</td>\n",
       "      <td>1</td>\n",
       "      <td>1</td>\n",
       "      <td>1</td>\n",
       "      <td>1</td>\n",
       "      <td>1</td>\n",
       "      <td>In-Store Coupon</td>\n",
       "      <td>95.78</td>\n",
       "    </tr>\n",
       "  </tbody>\n",
       "</table>\n",
       "<p>5 rows × 40 columns</p>\n",
       "</div>"
      ]
     },
     "metadata": {
      "application/vnd.databricks.v1+output": {
       "addedWidgets": {},
       "arguments": {},
       "data": "<div>\n<style scoped>\n    .dataframe tbody tr th:only-of-type {\n        vertical-align: middle;\n    }\n\n    .dataframe tbody tr th {\n        vertical-align: top;\n    }\n\n    .dataframe thead th {\n        text-align: right;\n    }\n</style>\n<table border=\"1\" class=\"dataframe\">\n  <thead>\n    <tr style=\"text-align: right;\">\n      <th></th>\n      <th>food_category</th>\n      <th>food_department</th>\n      <th>food_family</th>\n      <th>store_sales(in millions)</th>\n      <th>store_cost(in millions)</th>\n      <th>unit_sales(in millions)</th>\n      <th>promotion_name</th>\n      <th>sales_country</th>\n      <th>marital_status</th>\n      <th>gender</th>\n      <th>...</th>\n      <th>grocery_sqft</th>\n      <th>frozen_sqft</th>\n      <th>meat_sqft</th>\n      <th>coffee_bar</th>\n      <th>video_store</th>\n      <th>salad_bar</th>\n      <th>prepared_food</th>\n      <th>florist</th>\n      <th>media_type</th>\n      <th>cost</th>\n    </tr>\n  </thead>\n  <tbody>\n    <tr>\n      <th>0</th>\n      <td>Breakfast Foods</td>\n      <td>Frozen Foods</td>\n      <td>Food</td>\n      <td>7.36</td>\n      <td>2.7232</td>\n      <td>4</td>\n      <td>Bag Stuffers</td>\n      <td>USA</td>\n      <td>M</td>\n      <td>F</td>\n      <td>...</td>\n      <td>8670</td>\n      <td>5415</td>\n      <td>13610</td>\n      <td>1</td>\n      <td>1</td>\n      <td>1</td>\n      <td>1</td>\n      <td>1</td>\n      <td>Daily Paper, Radio</td>\n      <td>126.62</td>\n    </tr>\n    <tr>\n      <th>1</th>\n      <td>Breakfast Foods</td>\n      <td>Frozen Foods</td>\n      <td>Food</td>\n      <td>7.36</td>\n      <td>2.7232</td>\n      <td>4</td>\n      <td>Bag Stuffers</td>\n      <td>USA</td>\n      <td>M</td>\n      <td>F</td>\n      <td>...</td>\n      <td>18670</td>\n      <td>5415</td>\n      <td>3610</td>\n      <td>1</td>\n      <td>1</td>\n      <td>1</td>\n      <td>1</td>\n      <td>1</td>\n      <td>Daily Paper, Radio</td>\n      <td>126.62</td>\n    </tr>\n    <tr>\n      <th>2</th>\n      <td>Breakfast Foods</td>\n      <td>Frozen Foods</td>\n      <td>Food</td>\n      <td>5.52</td>\n      <td>2.5944</td>\n      <td>3</td>\n      <td>Cash Register Lottery</td>\n      <td>USA</td>\n      <td>M</td>\n      <td>M</td>\n      <td>...</td>\n      <td>18670</td>\n      <td>5415</td>\n      <td>3610</td>\n      <td>1</td>\n      <td>1</td>\n      <td>1</td>\n      <td>1</td>\n      <td>1</td>\n      <td>Daily Paper, Radio</td>\n      <td>59.86</td>\n    </tr>\n    <tr>\n      <th>3</th>\n      <td>Breakfast Foods</td>\n      <td>Frozen Foods</td>\n      <td>Food</td>\n      <td>3.68</td>\n      <td>1.3616</td>\n      <td>2</td>\n      <td>High Roller Savings</td>\n      <td>USA</td>\n      <td>S</td>\n      <td>F</td>\n      <td>...</td>\n      <td>18670</td>\n      <td>5415</td>\n      <td>3610</td>\n      <td>1</td>\n      <td>1</td>\n      <td>1</td>\n      <td>1</td>\n      <td>1</td>\n      <td>Daily Paper, Radio</td>\n      <td>84.16</td>\n    </tr>\n    <tr>\n      <th>4</th>\n      <td>Breakfast Foods</td>\n      <td>Frozen Foods</td>\n      <td>Food</td>\n      <td>3.68</td>\n      <td>1.1776</td>\n      <td>2</td>\n      <td>Cash Register Lottery</td>\n      <td>USA</td>\n      <td>M</td>\n      <td>F</td>\n      <td>...</td>\n      <td>18670</td>\n      <td>5415</td>\n      <td>3610</td>\n      <td>1</td>\n      <td>1</td>\n      <td>1</td>\n      <td>1</td>\n      <td>1</td>\n      <td>In-Store Coupon</td>\n      <td>95.78</td>\n    </tr>\n  </tbody>\n</table>\n<p>5 rows × 40 columns</p>\n</div>",
       "datasetInfos": [],
       "metadata": {},
       "removedWidgets": [],
       "textData": null,
       "type": "htmlSandbox"
      }
     },
     "output_type": "display_data"
    }
   ],
   "source": [
    "df_raw.head()"
   ]
  },
  {
   "cell_type": "markdown",
   "metadata": {
    "application/vnd.databricks.v1+cell": {
     "cellMetadata": {
      "byteLimit": 2048000,
      "rowLimit": 10000
     },
     "inputWidgets": {},
     "nuid": "0b9162fb-5f35-46d5-bffb-5aac3a3c380c",
     "showTitle": false,
     "title": ""
    },
    "id": "4HOZ5MTIP3Lz"
   },
   "source": [
    "# Model Development"
   ]
  },
  {
   "cell_type": "code",
   "execution_count": 0,
   "metadata": {
    "application/vnd.databricks.v1+cell": {
     "cellMetadata": {
      "byteLimit": 2048000,
      "rowLimit": 10000
     },
     "inputWidgets": {},
     "nuid": "d0001ab3-d4c2-4576-8827-51d9a50bf06e",
     "showTitle": false,
     "title": ""
    }
   },
   "outputs": [],
   "source": [
    "y = df_raw['cost']\n",
    "X = df_raw.drop(columns = ['cost'])\n",
    "X = pd.get_dummies(X)"
   ]
  },
  {
   "cell_type": "code",
   "execution_count": 0,
   "metadata": {
    "application/vnd.databricks.v1+cell": {
     "cellMetadata": {
      "byteLimit": 2048000,
      "rowLimit": 10000
     },
     "inputWidgets": {},
     "nuid": "9604b118-87a8-4f65-b186-4c30735829d8",
     "showTitle": false,
     "title": ""
    },
    "id": "1GRLE-HnX2Dt"
   },
   "outputs": [],
   "source": [
    "from sklearn.model_selection import train_test_split\n",
    "X_train_final, X_test_final, y_train, y_test = train_test_split(X, y, test_size = 0.3, random_state = 0)"
   ]
  },
  {
   "cell_type": "code",
   "execution_count": 0,
   "metadata": {
    "application/vnd.databricks.v1+cell": {
     "cellMetadata": {
      "byteLimit": 2048000,
      "rowLimit": 10000
     },
     "inputWidgets": {},
     "nuid": "ba956e44-e46d-4e32-8665-bd6d836b0a6b",
     "showTitle": false,
     "title": ""
    },
    "id": "QMi3lO79w6_N"
   },
   "outputs": [],
   "source": [
    "X_test_final, X_val_final, y_test, y_val = train_test_split(X_test_final, y_test, test_size = 0.5, random_state = 0)"
   ]
  },
  {
   "cell_type": "markdown",
   "metadata": {
    "application/vnd.databricks.v1+cell": {
     "cellMetadata": {
      "byteLimit": 2048000,
      "rowLimit": 10000
     },
     "inputWidgets": {},
     "nuid": "3ade3e2a-1bfd-44d5-a1f7-9fa22818816a",
     "showTitle": false,
     "title": ""
    }
   },
   "source": [
    "# TPOT"
   ]
  },
  {
   "cell_type": "code",
   "execution_count": 0,
   "metadata": {
    "application/vnd.databricks.v1+cell": {
     "cellMetadata": {
      "byteLimit": 2048000,
      "rowLimit": 10000
     },
     "inputWidgets": {},
     "nuid": "77fb1a3f-5af6-477c-ba7b-d8cfe0b4b9f5",
     "showTitle": false,
     "title": ""
    }
   },
   "outputs": [
    {
     "output_type": "stream",
     "name": "stdout",
     "output_type": "stream",
     "text": [
      "Collecting tpot\r\n  Downloading TPOT-0.11.7-py3-none-any.whl (87 kB)\r\n\u001B[?25l\r\u001B[K     |███▊                            | 10 kB 20.8 MB/s eta 0:00:01\r\u001B[K     |███████▌                        | 20 kB 27.2 MB/s eta 0:00:01\r\u001B[K     |███████████▎                    | 30 kB 31.9 MB/s eta 0:00:01\r\u001B[K     |███████████████                 | 40 kB 24.6 MB/s eta 0:00:01\r\u001B[K     |██████████████████▉             | 51 kB 13.8 MB/s eta 0:00:01\r\u001B[K     |██████████████████████▋         | 61 kB 15.8 MB/s eta 0:00:01\r\u001B[K     |██████████████████████████▎     | 71 kB 17.8 MB/s eta 0:00:01\r\u001B[K     |██████████████████████████████  | 81 kB 19.9 MB/s eta 0:00:01\r\u001B[K     |████████████████████████████████| 87 kB 5.9 MB/s \r\n\u001B[?25hCollecting tqdm>=4.36.1\r\n  Downloading tqdm-4.65.0-py3-none-any.whl (77 kB)\r\n\u001B[?25l\r\u001B[K     |████▎                           | 10 kB 34.6 MB/s eta 0:00:01\r\u001B[K     |████████▌                       | 20 kB 43.4 MB/s eta 0:00:01\r\u001B[K     |████████████▊                   | 30 kB 54.9 MB/s eta 0:00:01\r\u001B[K     |█████████████████               | 40 kB 62.4 MB/s eta 0:00:01\r\u001B[K     |█████████████████████▎          | 51 kB 68.1 MB/s eta 0:00:01\r\u001B[K     |█████████████████████████▌      | 61 kB 74.6 MB/s eta 0:00:01\r\u001B[K     |█████████████████████████████▊  | 71 kB 78.6 MB/s eta 0:00:01\r\u001B[K     |████████████████████████████████| 77 kB 7.6 MB/s \r\n\u001B[?25hCollecting xgboost>=1.1.0\r\n  Downloading xgboost-1.7.5-py3-none-manylinux2014_x86_64.whl (200.3 MB)\r\n\u001B[?25l\r\u001B[K     |                                | 10 kB 34.8 MB/s eta 0:00:06\r\u001B[K     |                                | 20 kB 41.5 MB/s eta 0:00:05\r\u001B[K     |                                | 30 kB 52.5 MB/s eta 0:00:04\r\u001B[K     |                                | 40 kB 59.7 MB/s eta 0:00:04\r\u001B[K     |                                | 51 kB 63.4 MB/s eta 0:00:04\r\u001B[K     |                                | 61 kB 69.2 MB/s eta 0:00:03\r\u001B[K     |                                | 71 kB 73.7 MB/s eta 0:00:03\r\u001B[K     |                                | 81 kB 77.6 MB/s eta 0:00:03\r\u001B[K     |                                | 92 kB 77.9 MB/s eta 0:00:03\r\u001B[K     |                                | 102 kB 78.0 MB/s eta 0:00:03\r\u001B[K     |                                | 112 kB 78.0 MB/s eta 0:00:03\r\u001B[K     |                                | 122 kB 78.0 MB/s eta 0:00:03\r\u001B[K     |                                | 133 kB 78.0 MB/s eta 0:00:03\r\u001B[K     |                                | 143 kB 78.0 MB/s eta 0:00:03\r\u001B[K     |                                | 153 kB 78.0 MB/s eta 0:00:03\r\u001B[K     |                                | 163 kB 78.0 MB/s eta 0:00:03\r\u001B[K     |                                | 174 kB 78.0 MB/s eta 0:00:03\r\u001B[K     |                                | 184 kB 78.0 MB/s eta 0:00:03\r\u001B[K     |                                | 194 kB 78.0 MB/s eta 0:00:03\r\u001B[K     |                                | 204 kB 78.0 MB/s eta 0:00:03\r\u001B[K     |                                | 215 kB 78.0 MB/s eta 0:00:03\r\u001B[K     |                                | 225 kB 78.0 MB/s eta 0:00:03\r\u001B[K     |                                | 235 kB 78.0 MB/s eta 0:00:03\r\u001B[K     |                                | 245 kB 78.0 MB/s eta 0:00:03\r\u001B[K     |                                | 256 kB 78.0 MB/s eta 0:00:03\r\u001B[K     |                                | 266 kB 78.0 MB/s eta 0:00:03\r\u001B[K     |                                | 276 kB 78.0 MB/s eta 0:00:03\r\u001B[K     |                                | 286 kB 78.0 MB/s eta 0:00:03\r\u001B[K     |                                | 296 kB 78.0 MB/s eta 0:00:03\r\u001B[K     |                                | 307 kB 78.0 MB/s eta 0:00:03\r\u001B[K     |                                | 317 kB 78.0 MB/s eta 0:00:03\r\u001B[K     |                                | 327 kB 78.0 MB/s eta 0:00:03\r\u001B[K     |                                | 337 kB 78.0 MB/s eta 0:00:03\r\u001B[K     |                                | 348 kB 78.0 MB/s eta 0:00:03\r\u001B[K     |                                | 358 kB 78.0 MB/s eta 0:00:03\r\u001B[K     |                                | 368 kB 78.0 MB/s eta 0:00:03\r\u001B[K     |                                | 378 kB 78.0 MB/s eta 0:00:03\r\u001B[K     |                                | 389 kB 78.0 MB/s eta 0:00:03\r\u001B[K     |                                | 399 kB 78.0 MB/s eta 0:00:03\r\u001B[K     |                                | 409 kB 78.0 MB/s eta 0:00:03\r\u001B[K     |                                | 419 kB 78.0 MB/s eta 0:00:03\r\u001B[K     |                                | 430 kB 78.0 MB/s eta 0:00:03\r\u001B[K     |                                | 440 kB 78.0 MB/s eta 0:00:03\r\u001B[K     |                                | 450 kB 78.0 MB/s eta 0:00:03\r\u001B[K     |                                | 460 kB 78.0 MB/s eta 0:00:03\r\u001B[K     |                                | 471 kB 78.0 MB/s eta 0:00:03\r\u001B[K     |                                | 481 kB 78.0 MB/s eta 0:00:03\r\u001B[K     |                                | 491 kB 78.0 MB/s eta 0:00:03\r\u001B[K     |                                | 501 kB 78.0 MB/s eta 0:00:03\r\u001B[K     |                                | 512 kB 78.0 MB/s eta 0:00:03\r\u001B[K     |                                | 522 kB 78.0 MB/s eta 0:00:03\r\u001B[K     |                                | 532 kB 78.0 MB/s eta 0:00:03\r\u001B[K     |                                | 542 kB 78.0 MB/s eta 0:00:03\r\u001B[K     |                                | 552 kB 78.0 MB/s eta 0:00:03\r\u001B[K     |                                | 563 kB 78.0 MB/s eta 0:00:03\r\u001B[K     |                                | 573 kB 78.0 MB/s eta 0:00:03\r\u001B[K     |                                | 583 kB 78.0 MB/s eta 0:00:03\r\u001B[K     |                                | 593 kB 78.0 MB/s eta 0:00:03\r\u001B[K     |                                | 604 kB 78.0 MB/s eta 0:00:03\r\u001B[K     |                                | 614 kB 78.0 MB/s eta 0:00:03\r\u001B[K     |                                | 624 kB 78.0 MB/s eta 0:00:03\r\u001B[K     |                                | 634 kB 78.0 MB/s eta 0:00:03\r\u001B[K     |                                | 645 kB 78.0 MB/s eta 0:00:03\r\u001B[K     |                                | 655 kB 78.0 MB/s eta 0:00:03\r\u001B[K     |                                | 665 kB 78.0 MB/s eta 0:00:03\r\u001B[K     |                                | 675 kB 78.0 MB/s eta 0:00:03\r\u001B[K     |                                | 686 kB 78.0 MB/s eta 0:00:03\r\u001B[K     |▏                               | 696 kB 78.0 MB/s eta 0:00:03\r\u001B[K     |▏                               | 706 kB 78.0 MB/s eta 0:00:03\r\u001B[K     |▏                               | 716 kB 78.0 MB/s eta 0:00:03\r\u001B[K     |▏                               | 727 kB 78.0 MB/s eta 0:00:03\r\u001B[K     |▏                               | 737 kB 78.0 MB/s eta 0:00:03\r\u001B[K     |▏                               | 747 kB 78.0 MB/s eta 0:00:03\r\u001B[K     |▏                               | 757 kB 78.0 MB/s eta 0:00:03\r\u001B[K     |▏                               | 768 kB 78.0 MB/s eta 0:00:03\r\u001B[K     |▏                               | 778 kB 78.0 MB/s eta 0:00:03\r\u001B[K     |▏                               | 788 kB 78.0 MB/s eta 0:00:03\r\u001B[K     |▏                               | 798 kB 78.0 MB/s eta 0:00:03\r\u001B[K     |▏                               | 808 kB 78.0 MB/s eta 0:00:03\r\u001B[K     |▏                               | 819 kB 78.0 MB/s eta 0:00:03\r\u001B[K     |▏                               | 829 kB 78.0 MB/s eta 0:00:03\r\u001B[K     |▏                               | 839 kB 78.0 MB/s eta 0:00:03\r\u001B[K     |▏                               | 849 kB 78.0 MB/s eta 0:00:03\r\u001B[K     |▏                               | 860 kB 78.0 MB/s eta 0:00:03\r\u001B[K     |▏                               | 870 kB 78.0 MB/s eta 0:00:03\r\u001B[K     |▏                               | 880 kB 78.0 MB/s eta 0:00:03\r\u001B[K     |▏                               | 890 kB 78.0 MB/s eta 0:00:03\r\u001B[K     |▏                               | 901 kB 78.0 MB/s eta 0:00:03\r\u001B[K     |▏                               | 911 kB 78.0 MB/s eta 0:00:03\r\u001B[K     |▏                               | 921 kB 78.0 MB/s eta 0:00:03\r\u001B[K     |▏                               | 931 kB 78.0 MB/s eta 0:00:03\r\u001B[K     |▏                               | 942 kB 78.0 MB/s eta 0:00:03\r\u001B[K     |▏                               | 952 kB 78.0 MB/s eta 0:00:03\r\u001B[K     |▏                               | 962 kB 78.0 MB/s eta 0:00:03\r\u001B[K     |▏                               | 972 kB 78.0 MB/s eta 0:00:03\r\u001B[K     |▏                               | 983 kB 78.0 MB/s eta 0:00:03\r\u001B[K     |▏                               | 993 kB 78.0 MB/s eta 0:00:03\r\u001B[K     |▏                               | 1.0 MB 78.0 MB/s eta 0:00:03\r\u001B[K     |▏                               | 1.0 MB 78.0 MB/s eta 0:00:03\r\u001B[K     |▏                               | 1.0 MB 78.0 MB/s eta 0:00:03\r\u001B[K     |▏                               | 1.0 MB 78.0 MB/s eta 0:00:03\r\u001B[K     |▏                               | 1.0 MB 78.0 MB/s eta 0:00:03\r\u001B[K     |▏                               | 1.1 MB 78.0 MB/s eta 0:00:03\r\u001B[K     |▏                               | 1.1 MB 78.0 MB/s eta 0:00:03\r\u001B[K     |▏                               | 1.1 MB 78.0 MB/s eta 0:00:03\r\u001B[K     |▏                               | 1.1 MB 78.0 MB/s eta 0:00:03\r\u001B[K     |▏                               | 1.1 MB 78.0 MB/s eta 0:00:03\r\u001B[K     |▏                               | 1.1 MB 78.0 MB/s eta 0:00:03\r\u001B[K     |▏                               | 1.1 MB 78.0 MB/s eta 0:00:03\r\u001B[K     |▏                               | 1.1 MB 78.0 MB/s eta 0:00:03\r\u001B[K     |▏                               | 1.1 MB 78.0 MB/s eta 0:00:03\r\u001B[K     |▏                               | 1.1 MB 78.0 MB/s eta 0:00:03\r\u001B[K     |▏                               | 1.2 MB 78.0 MB/s eta 0:00:03\r\u001B[K     |▏                               | 1.2 MB 78.0 MB/s eta 0:00:03\r\u001B[K     |▏                               | 1.2 MB 78.0 MB/s eta 0:00:03\r\u001B[K     |▏                               | 1.2 MB 78.0 MB/s eta 0:00:03\r\u001B[K     |▏                               | 1.2 MB 78.0 MB/s eta 0:00:03\r\u001B[K     |▏                               | 1.2 MB 78.0 MB/s eta 0:00:03\r\u001B[K     |▏                               | 1.2 MB 78.0 MB/s eta 0:00:03\r\u001B[K     |▏                               | 1.2 MB 78.0 MB/s eta 0:00:03\r\u001B[K     |▏                               | 1.2 MB 78.0 MB/s eta 0:00:03\r\u001B[K     |▏                               | 1.2 MB 78.0 MB/s eta 0:00:03\r\u001B[K     |▏                               | 1.3 MB 78.0 MB/s eta 0:00:03\r\u001B[K     |▏                               | 1.3 MB 78.0 MB/s eta 0:00:03\r\u001B[K     |▏                               | 1.3 MB 78.0 MB/s eta 0:00:03\r\u001B[K     |▏                               | 1.3 MB 78.0 MB/s eta 0:00:03\r\u001B[K     |▏                               | 1.3 MB 78.0 MB/s eta 0:00:03\r\u001B[K     |▏                               | 1.3 MB 78.0 MB/s eta 0:00:03\r\u001B[K     |▏                               | 1.3 MB 78.0 MB/s eta 0:00:03\r\u001B[K     |▏                               | 1.3 MB 78.0 MB/s eta 0:00:03\r\u001B[K     |▏                               | 1.3 MB 78.0 MB/s eta 0:00:03\r\u001B[K     |▏                               | 1.4 MB 78.0 MB/s eta 0:00:03\r\u001B[K     |▏                               | 1.4 MB 78.0 MB/s eta 0:00:03\r\u001B[K     |▏                               | 1.4 MB 78.0 MB/s eta 0:00:03\r\u001B[K     |▏                               | 1.4 MB 78.0 MB/s eta 0:00:03\r\u001B[K     |▎                               | 1.4 MB 78.0 MB/s eta 0:00:03\r\u001B[K     |▎                               | 1.4 MB 78.0 MB/s eta 0:00:03\r\u001B[K     |▎                               | 1.4 MB 78.0 MB/s eta 0:00:03\r\u001B[K     |▎                               | 1.4 MB 78.0 MB/s eta 0:00:03\r\u001B[K     |▎                               | 1.4 MB 78.0 MB/s eta 0:00:03\r\u001B[K     |▎                               | 1.4 MB 78.0 MB/s eta 0:00:03\r\u001B[K     |▎                               | 1.5 MB 78.0 MB/s eta 0:00:03\r\u001B[K     |▎                               | 1.5 MB 78.0 MB/s eta 0:00:03\r\u001B[K     |▎                               | 1.5 MB 78.0 MB/s eta 0:00:03\r\u001B[K     |▎                               | 1.5 MB 78.0 MB/s eta 0:00:03\r\u001B[K     |▎                               | 1.5 MB 78.0 MB/s eta 0:00:03\r\u001B[K     |▎                               | 1.5 MB 78.0 MB/s eta 0:00:03\r\u001B[K     |▎                               | 1.5 MB 78.0 MB/s eta 0:00:03\r\u001B[K     |▎                               | 1.5 MB 78.0 MB/s eta 0:00:03\r\u001B[K     |▎                               | 1.5 MB 78.0 MB/s eta 0:00:03\r\u001B[K     |▎                               | 1.5 MB 78.0 MB/s eta 0:00:03\r\u001B[K     |▎                               | 1.6 MB 78.0 MB/s eta 0:00:03\r\u001B[K     |▎                               | 1.6 MB 78.0 MB/s eta 0:00:03\r\u001B[K     |▎                               | 1.6 MB 78.0 MB/s eta 0:00:03\r\u001B[K     |▎                               | 1.6 MB 78.0 MB/s eta 0:00:03\r\u001B[K     |▎                               | 1.6 MB 78.0 MB/s eta 0:00:03\r\u001B[K     |▎                               | 1.6 MB 78.0 MB/s eta 0:00:03\r\u001B[K     |▎                               | 1.6 MB 78.0 MB/s eta 0:00:03\r\u001B[K     |▎                               | 1.6 MB 78.0 MB/s eta 0:00:03\r\u001B[K     |▎                               | 1.6 MB 78.0 MB/s eta 0:00:03\r\u001B[K     |▎                               | 1.6 MB 78.0 MB/s eta 0:00:03\r\u001B[K     |▎                               | 1.7 MB 78.0 MB/s eta 0:00:03\r\u001B[K     |▎                               | 1.7 MB 78.0 MB/s eta 0:00:03\r\u001B[K     |▎                               | 1.7 MB 78.0 MB/s eta 0:00:03\r\u001B[K     |▎                               | 1.7 MB 78.0 MB/s eta 0:00:03\r\u001B[K     |▎                               | 1.7 MB 78.0 MB/s eta 0:00:03\r\u001B[K     |▎                               | 1.7 MB 78.0 MB/s eta 0:00:03\r\u001B[K     |▎                               | 1.7 MB 78.0 MB/s eta 0:00:03\r\u001B[K     |▎                               | 1.7 MB 78.0 MB/s eta 0:00:03\r\u001B[K     |▎                               | 1.7 MB 78.0 MB/s eta 0:00:03\r\u001B[K     |▎                               | 1.8 MB 78.0 MB/s eta 0:00:03\r\u001B[K     |▎                               | 1.8 MB 78.0 MB/s eta 0:00:03\r\u001B[K     |▎                               | 1.8 MB 78.0 MB/s eta 0:00:03\r\u001B[K     |▎                               | 1.8 MB 78.0 MB/s eta 0:00:03\r\u001B[K     |▎                               | 1.8 MB 78.0 MB/s eta 0:00:03\r\u001B[K     |▎                               | 1.8 MB 78.0 MB/s eta 0:00:03\r\u001B[K     |▎                               | 1.8 MB 78.0 MB/s eta 0:00:03\r\u001B[K     |▎                               | 1.8 MB 78.0 MB/s eta 0:00:03\r\u001B[K     |▎                               | 1.8 MB 78.0 MB/s eta 0:00:03\r\u001B[K     |▎                               | 1.8 MB 78.0 MB/s eta 0:00:03\r\u001B[K     |▎                               | 1.9 MB 78.0 MB/s eta 0:00:03\r\u001B[K     |▎                               | 1.9 MB 78.0 MB/s eta 0:00:03\r\u001B[K     |▎                               | 1.9 MB 78.0 MB/s eta 0:00:03\r\u001B[K     |▎                               | 1.9 MB 78.0 MB/s eta 0:00:03\r\u001B[K     |▎                               | 1.9 MB 78.0 MB/s eta 0:00:03\r\u001B[K     |▎                               | 1.9 MB 78.0 MB/s eta 0:00:03\r\u001B[K     |▎                               | 1.9 MB 78.0 MB/s eta 0:00:03\r\u001B[K     |▎                               | 1.9 MB 78.0 MB/s eta 0:00:03\r\u001B[K     |▎                               | 1.9 MB 78.0 MB/s eta 0:00:03\r\u001B[K     |▎                               | 1.9 MB 78.0 MB/s eta 0:00:03\r\u001B[K     |▎                               | 2.0 MB 78.0 MB/s eta 0:00:03\r\u001B[K     |▎                               | 2.0 MB 78.0 MB/s eta 0:00:03\r\u001B[K     |▎                               | 2.0 MB 78.0 MB/s eta 0:00:03\r\u001B[K     |▎                               | 2.0 MB 78.0 MB/s eta 0:00:03\r\u001B[K     |▎                               | 2.0 MB 78.0 MB/s eta 0:00:03\r\u001B[K     |▎                               | 2.0 MB 78.0 MB/s eta 0:00:03\r\u001B[K     |▎                               | 2.0 MB 78.0 MB/s eta 0:00:03\r\u001B[K     |▎                               | 2.0 MB 78.0 MB/s eta 0:00:03\r\u001B[K     |▎                               | 2.0 MB 78.0 MB/s eta 0:00:03\r\u001B[K     |▎                               | 2.0 MB 78.0 MB/s eta 0:00:03\r\u001B[K     |▎                               | 2.1 MB 78.0 MB/s eta 0:00:03\r\u001B[K     |▎                               | 2.1 MB 78.0 MB/s eta 0:00:03\r\u001B[K     |▎                               | 2.1 MB 78.0 MB/s eta 0:00:03\r\u001B[K     |▍                               | 2.1 MB 78.0 MB/s eta 0:00:03\r\u001B[K     |▍                               | 2.1 MB 78.0 MB/s eta 0:00:03\r\u001B[K     |▍                               | 2.1 MB 78.0 MB/s eta 0:00:03\r\u001B[K     |▍                               | 2.1 MB 78.0 MB/s eta 0:00:03\r\u001B[K     |▍                               | 2.1 MB 78.0 MB/s eta 0:00:03\r\u001B[K     |▍                               | 2.1 MB 78.0 MB/s eta 0:00:03\r\u001B[K     |▍                               | 2.2 MB 78.0 MB/s eta 0:00:03\r\u001B[K     |▍                               | 2.2 MB 78.0 MB/s eta 0:00:03\r\u001B[K     |▍                               | 2.2 MB 78.0 MB/s eta 0:00:03\r\u001B[K     |▍                               | 2.2 MB 78.0 MB/s eta 0:00:03\r\u001B[K     |▍                               | 2.2 MB 78.0 MB/s eta 0:00:03\r\u001B[K     |▍                               | 2.2 MB 78.0 MB/s eta 0:00:03\r\u001B[K     |▍                               | 2.2 MB 78.0 MB/s eta 0:00:03\r\u001B[K     |▍                               | 2.2 MB 78.0 MB/s eta 0:00:03\r\u001B[K     |▍                               | 2.2 MB 78.0 MB/s eta 0:00:03\r\u001B[K     |▍                               | 2.2 MB 78.0 MB/s eta 0:00:03\r\u001B[K     |▍                               | 2.3 MB 78.0 MB/s eta 0:00:03\r\u001B[K     |▍                               | 2.3 MB 78.0 MB/s eta 0:00:03\r\u001B[K     |▍                               | 2.3 MB 78.0 MB/s eta 0:00:03\r\u001B[K     |▍                               | 2.3 MB 78.0 MB/s eta 0:00:03\r\u001B[K     |▍                               | 2.3 MB 78.0 MB/s eta 0:00:03\r\u001B[K     |▍                               | 2.3 MB 78.0 MB/s eta 0:00:03\r\u001B[K     |▍                               | 2.3 MB 78.0 MB/s eta 0:00:03\r\u001B[K     |▍                               | 2.3 MB 78.0 MB/s eta 0:00:03\r\u001B[K     |▍                               | 2.3 MB 78.0 MB/s eta 0:00:03\r\u001B[K     |▍                               | 2.3 MB 78.0 MB/s eta 0:00:03\r\u001B[K     |▍                               | 2.4 MB 78.0 MB/s eta 0:00:03\r\u001B[K     |▍                               | 2.4 MB 78.0 MB/s eta 0:00:03\r\u001B[K     |▍                               | 2.4 MB 78.0 MB/s eta 0:00:03\r\u001B[K     |▍                               | 2.4 MB 78.0 MB/s eta 0:00:03\r\u001B[K     |▍                               | 2.4 MB 78.0 MB/s eta 0:00:03\r\u001B[K     |▍                               | 2.4 MB 78.0 MB/s eta 0:00:03\r\u001B[K     |▍                               | 2.4 MB 78.0 MB/s eta 0:00:03\r\u001B[K     |▍                               | 2.4 MB 78.0 MB/s eta 0:00:03\r\u001B[K     |▍                               | 2.4 MB 78.0 MB/s eta 0:00:03\r\u001B[K     |▍                               | 2.4 MB 78.0 MB/s eta 0:00:03\r\u001B[K     |▍                               | 2.5 MB 78.0 MB/s eta 0:00:03\r\u001B[K     |▍                               | 2.5 MB 78.0 MB/s eta 0:00:03\r\u001B[K     |▍                               | 2.5 MB 78.0 MB/s eta 0:00:03\r\u001B[K     |▍                               | 2.5 MB 78.0 MB/s eta 0:00:03\r\u001B[K     |▍                               | 2.5 MB 78.0 MB/s eta 0:00:03\r\u001B[K     |▍                               | 2.5 MB 78.0 MB/s eta 0:00:03\r\u001B[K     |▍                               | 2.5 MB 78.0 MB/s eta 0:00:03\r\u001B[K     |▍                               | 2.5 MB 78.0 MB/s eta 0:00:03\r\u001B[K     |▍                               | 2.5 MB 78.0 MB/s eta 0:00:03\r\u001B[K     |▍                               | 2.5 MB 78.0 MB/s eta 0:00:03\r\u001B[K     |▍                               | 2.6 MB 78.0 MB/s eta 0:00:03\r\u001B[K     |▍                               | 2.6 MB 78.0 MB/s eta 0:00:03\r\u001B[K     |▍                               | 2.6 MB 78.0 MB/s eta 0:00:03\r\u001B[K     |▍                               | 2.6 MB 78.0 MB/s eta 0:00:03\r\u001B[K     |▍                               | 2.6 MB 78.0 MB/s eta 0:00:03\r\u001B[K     |▍                               | 2.6 MB 78.0 MB/s eta 0:00:03\r\u001B[K     |▍                               | 2.6 MB 78.0 MB/s eta 0:00:03\r\u001B[K     |▍                               | 2.6 MB 78.0 MB/s eta 0:00:03\r\u001B[K     |▍                               | 2.6 MB 78.0 MB/s eta 0:00:03\r\u001B[K     |▍                               | 2.7 MB 78.0 MB/s eta 0:00:03\r\u001B[K     |▍                               | 2.7 MB 78.0 MB/s eta 0:00:03\r\u001B[K     |▍                               | 2.7 MB 78.0 MB/s eta 0:00:03\r\u001B[K     |▍                               | 2.7 MB 78.0 MB/s eta 0:00:03\r\u001B[K     |▍                               | 2.7 MB 78.0 MB/s eta 0:00:03\r\u001B[K     |▍                               | 2.7 MB 78.0 MB/s eta 0:00:03\r\u001B[K     |▍                               | 2.7 MB 78.0 MB/s eta 0:00:03\r\u001B[K     |▍                               | 2.7 MB 78.0 MB/s eta 0:00:03\r\u001B[K     |▍                               | 2.7 MB 78.0 MB/s eta 0:00:03\r\u001B[K     |▍                               | 2.7 MB 78.0 MB/s eta 0:00:03\r\u001B[K     |▍                               | 2.8 MB 78.0 MB/s eta 0:00:03\r\u001B[K     |▍                               | 2.8 MB 78.0 MB/s eta 0:00:03\r\u001B[K     |▍                               | 2.8 MB 78.0 MB/s eta 0:00:03\r\u001B[K     |▌                               | 2.8 MB 78.0 MB/s eta 0:00:03\r\u001B[K     |▌                               | 2.8 MB 78.0 MB/s eta 0:00:03\r\u001B[K     |▌                               | 2.8 MB 78.0 MB/s eta 0:00:03\r\u001B[K     |▌                               | 2.8 MB 78.0 MB/s eta 0:00:03\r\u001B[K     |▌                               | 2.8 MB 78.0 MB/s eta 0:00:03\r\u001B[K     |▌                               | 2.8 MB 78.0 MB/s eta 0:00:03\r\u001B[K     |▌                               | 2.8 MB 78.0 MB/s eta 0:00:03\r\u001B[K     |▌                               | 2.9 MB 78.0 MB/s eta 0:00:03\r\u001B[K     |▌                               | 2.9 MB 78.0 MB/s eta 0:00:03\r\u001B[K     |▌                               | 2.9 MB 78.0 MB/s eta 0:00:03\r\u001B[K     |▌                               | 2.9 MB 78.0 MB/s eta 0:00:03\r\u001B[K     |▌                               | 2.9 MB 78.0 MB/s eta 0:00:03\r\u001B[K     |▌                               | 2.9 MB 78.0 MB/s eta 0:00:03\r\u001B[K     |▌                               | 2.9 MB 78.0 MB/s eta 0:00:03\r\u001B[K     |▌                               | 2.9 MB 78.0 MB/s eta 0:00:03\r\u001B[K     |▌                               | 2.9 MB 78.0 MB/s eta 0:00:03\r\u001B[K     |▌                               | 2.9 MB 78.0 MB/s eta 0:00:03\r\u001B[K     |▌                               | 3.0 MB 78.0 MB/s eta 0:00:03\r\u001B[K     |▌                               | 3.0 MB 78.0 MB/s eta 0:00:03\r\u001B[K     |▌                               | 3.0 MB 78.0 MB/s eta 0:00:03\r\u001B[K     |▌                               | 3.0 MB 78.0 MB/s eta 0:00:03\r\u001B[K     |▌                               | 3.0 MB 78.0 MB/s eta 0:00:03\r\u001B[K     |▌                               | 3.0 MB 78.0 MB/s eta 0:00:03\r\u001B[K     |▌                               | 3.0 MB 78.0 MB/s eta 0:00:03\r\u001B[K     |▌                               | 3.0 MB 78.0 MB/s eta 0:00:03\r\u001B[K     |▌                               | 3.0 MB 78.0 MB/s eta 0:00:03\r\u001B[K     |▌                               | 3.1 MB 78.0 MB/s eta 0:00:03\r\u001B[K     |▌                               | 3.1 MB 78.0 MB/s eta 0:00:03\r\u001B[K     |▌                               | 3.1 MB 78.0 MB/s eta 0:00:03\r\u001B[K     |▌                               | 3.1 MB 78.0 MB/s eta 0:00:03\r\u001B[K     |▌                               | 3.1 MB 78.0 MB/s eta 0:00:03\r\u001B[K     |▌                               | 3.1 MB 78.0 MB/s eta 0:00:03\r\u001B[K     |▌                               | 3.1 MB 78.0 MB/s eta 0:00:03\r\u001B[K     |▌                               | 3.1 MB 78.0 MB/s eta 0:00:03\r\u001B[K     |▌                               | 3.1 MB 78.0 MB/s eta 0:00:03\r\u001B[K     |▌                               | 3.1 MB 78.0 MB/s eta 0:00:03\r\u001B[K     |▌                               | 3.2 MB 78.0 MB/s eta 0:00:03\r\u001B[K     |▌                               | 3.2 MB 78.0 MB/s eta 0:00:03\r\u001B[K     |▌                               | 3.2 MB 78.0 MB/s eta 0:00:03\r\u001B[K     |▌                               | 3.2 MB 78.0 MB/s eta 0:00:03\r\u001B[K     |▌                               | 3.2 MB 78.0 MB/s eta 0:00:03\r\u001B[K     |▌                               | 3.2 MB 78.0 MB/s eta 0:00:03\r\u001B[K     |▌                               | 3.2 MB 78.0 MB/s eta 0:00:03\r\u001B[K     |▌                               | 3.2 MB 78.0 MB/s eta 0:00:03\r\u001B[K     |▌                               | 3.2 MB 78.0 MB/s eta 0:00:03\r\u001B[K     |▌                               | 3.2 MB 78.0 MB/s eta 0:00:03\r\u001B[K     |▌                               | 3.3 MB 78.0 MB/s eta 0:00:03\r\u001B[K     |▌                               | 3.3 MB 78.0 MB/s eta 0:00:03\r\u001B[K     |▌                               | 3.3 MB 78.0 MB/s eta 0:00:03\r\u001B[K     |▌                               | 3.3 MB 78.0 MB/s eta 0:00:03\r\u001B[K     |▌                               | 3.3 MB 78.0 MB/s eta 0:00:03\r\u001B[K     |▌                               | 3.3 MB 78.0 MB/s eta 0:00:03\r\u001B[K     |▌                               | 3.3 MB 78.0 MB/s eta 0:00:03\r\u001B[K     |▌                               | 3.3 MB 78.0 MB/s eta 0:00:03\r\u001B[K     |▌                               | 3.3 MB 78.0 MB/s eta 0:00:03\r\u001B[K     |▌                               | 3.3 MB 78.0 MB/s eta 0:00:03\r\n\n*** WARNING: max output size exceeded, skipping output. ***\n\nB 105.0 MB/s eta 0:00:01\r\u001B[K     |███████████████████████████████▌| 197.5 MB 105.0 MB/s eta 0:00:01\r\u001B[K     |███████████████████████████████▌| 197.5 MB 105.0 MB/s eta 0:00:01\r\u001B[K     |███████████████████████████████▌| 197.5 MB 105.0 MB/s eta 0:00:01\r\u001B[K     |███████████████████████████████▌| 197.5 MB 105.0 MB/s eta 0:00:01\r\u001B[K     |███████████████████████████████▌| 197.5 MB 105.0 MB/s eta 0:00:01\r\u001B[K     |███████████████████████████████▋| 197.6 MB 105.0 MB/s eta 0:00:01\r\u001B[K     |███████████████████████████████▋| 197.6 MB 105.0 MB/s eta 0:00:01\r\u001B[K     |███████████████████████████████▋| 197.6 MB 105.0 MB/s eta 0:00:01\r\u001B[K     |███████████████████████████████▋| 197.6 MB 105.0 MB/s eta 0:00:01\r\u001B[K     |███████████████████████████████▋| 197.6 MB 105.0 MB/s eta 0:00:01\r\u001B[K     |███████████████████████████████▋| 197.6 MB 105.0 MB/s eta 0:00:01\r\u001B[K     |███████████████████████████████▋| 197.6 MB 105.0 MB/s eta 0:00:01\r\u001B[K     |███████████████████████████████▋| 197.6 MB 105.0 MB/s eta 0:00:01\r\u001B[K     |███████████████████████████████▋| 197.6 MB 105.0 MB/s eta 0:00:01\r\u001B[K     |███████████████████████████████▋| 197.6 MB 105.0 MB/s eta 0:00:01\r\u001B[K     |███████████████████████████████▋| 197.7 MB 105.0 MB/s eta 0:00:01\r\u001B[K     |███████████████████████████████▋| 197.7 MB 105.0 MB/s eta 0:00:01\r\u001B[K     |███████████████████████████████▋| 197.7 MB 105.0 MB/s eta 0:00:01\r\u001B[K     |███████████████████████████████▋| 197.7 MB 105.0 MB/s eta 0:00:01\r\u001B[K     |███████████████████████████████▋| 197.7 MB 105.0 MB/s eta 0:00:01\r\u001B[K     |███████████████████████████████▋| 197.7 MB 105.0 MB/s eta 0:00:01\r\u001B[K     |███████████████████████████████▋| 197.7 MB 105.0 MB/s eta 0:00:01\r\u001B[K     |███████████████████████████████▋| 197.7 MB 105.0 MB/s eta 0:00:01\r\u001B[K     |███████████████████████████████▋| 197.7 MB 105.0 MB/s eta 0:00:01\r\u001B[K     |███████████████████████████████▋| 197.7 MB 105.0 MB/s eta 0:00:01\r\u001B[K     |███████████████████████████████▋| 197.8 MB 105.0 MB/s eta 0:00:01\r\u001B[K     |███████████████████████████████▋| 197.8 MB 105.0 MB/s eta 0:00:01\r\u001B[K     |███████████████████████████████▋| 197.8 MB 105.0 MB/s eta 0:00:01\r\u001B[K     |███████████████████████████████▋| 197.8 MB 105.0 MB/s eta 0:00:01\r\u001B[K     |███████████████████████████████▋| 197.8 MB 105.0 MB/s eta 0:00:01\r\u001B[K     |███████████████████████████████▋| 197.8 MB 105.0 MB/s eta 0:00:01\r\u001B[K     |███████████████████████████████▋| 197.8 MB 105.0 MB/s eta 0:00:01\r\u001B[K     |███████████████████████████████▋| 197.8 MB 105.0 MB/s eta 0:00:01\r\u001B[K     |███████████████████████████████▋| 197.8 MB 105.0 MB/s eta 0:00:01\r\u001B[K     |███████████████████████████████▋| 197.8 MB 105.0 MB/s eta 0:00:01\r\u001B[K     |███████████████████████████████▋| 197.9 MB 105.0 MB/s eta 0:00:01\r\u001B[K     |███████████████████████████████▋| 197.9 MB 105.0 MB/s eta 0:00:01\r\u001B[K     |███████████████████████████████▋| 197.9 MB 105.0 MB/s eta 0:00:01\r\u001B[K     |███████████████████████████████▋| 197.9 MB 105.0 MB/s eta 0:00:01\r\u001B[K     |███████████████████████████████▋| 197.9 MB 105.0 MB/s eta 0:00:01\r\u001B[K     |███████████████████████████████▋| 197.9 MB 105.0 MB/s eta 0:00:01\r\u001B[K     |███████████████████████████████▋| 197.9 MB 105.0 MB/s eta 0:00:01\r\u001B[K     |███████████████████████████████▋| 197.9 MB 105.0 MB/s eta 0:00:01\r\u001B[K     |███████████████████████████████▋| 197.9 MB 105.0 MB/s eta 0:00:01\r\u001B[K     |███████████████████████████████▋| 197.9 MB 105.0 MB/s eta 0:00:01\r\u001B[K     |███████████████████████████████▋| 198.0 MB 105.0 MB/s eta 0:00:01\r\u001B[K     |███████████████████████████████▋| 198.0 MB 105.0 MB/s eta 0:00:01\r\u001B[K     |███████████████████████████████▋| 198.0 MB 105.0 MB/s eta 0:00:01\r\u001B[K     |███████████████████████████████▋| 198.0 MB 105.0 MB/s eta 0:00:01\r\u001B[K     |███████████████████████████████▋| 198.0 MB 105.0 MB/s eta 0:00:01\r\u001B[K     |███████████████████████████████▋| 198.0 MB 105.0 MB/s eta 0:00:01\r\u001B[K     |███████████████████████████████▋| 198.0 MB 105.0 MB/s eta 0:00:01\r\u001B[K     |███████████████████████████████▋| 198.0 MB 105.0 MB/s eta 0:00:01\r\u001B[K     |███████████████████████████████▋| 198.0 MB 105.0 MB/s eta 0:00:01\r\u001B[K     |███████████████████████████████▋| 198.1 MB 105.0 MB/s eta 0:00:01\r\u001B[K     |███████████████████████████████▋| 198.1 MB 105.0 MB/s eta 0:00:01\r\u001B[K     |███████████████████████████████▋| 198.1 MB 105.0 MB/s eta 0:00:01\r\u001B[K     |███████████████████████████████▋| 198.1 MB 105.0 MB/s eta 0:00:01\r\u001B[K     |███████████████████████████████▋| 198.1 MB 105.0 MB/s eta 0:00:01\r\u001B[K     |███████████████████████████████▋| 198.1 MB 105.0 MB/s eta 0:00:01\r\u001B[K     |███████████████████████████████▋| 198.1 MB 105.0 MB/s eta 0:00:01\r\u001B[K     |███████████████████████████████▋| 198.1 MB 105.0 MB/s eta 0:00:01\r\u001B[K     |███████████████████████████████▋| 198.1 MB 105.0 MB/s eta 0:00:01\r\u001B[K     |███████████████████████████████▋| 198.1 MB 105.0 MB/s eta 0:00:01\r\u001B[K     |███████████████████████████████▋| 198.2 MB 105.0 MB/s eta 0:00:01\r\u001B[K     |███████████████████████████████▋| 198.2 MB 105.0 MB/s eta 0:00:01\r\u001B[K     |███████████████████████████████▋| 198.2 MB 105.0 MB/s eta 0:00:01\r\u001B[K     |███████████████████████████████▋| 198.2 MB 105.0 MB/s eta 0:00:01\r\u001B[K     |███████████████████████████████▋| 198.2 MB 105.0 MB/s eta 0:00:01\r\u001B[K     |███████████████████████████████▋| 198.2 MB 105.0 MB/s eta 0:00:01\r\u001B[K     |███████████████████████████████▋| 198.2 MB 105.0 MB/s eta 0:00:01\r\u001B[K     |███████████████████████████████▋| 198.2 MB 105.0 MB/s eta 0:00:01\r\u001B[K     |███████████████████████████████▋| 198.2 MB 105.0 MB/s eta 0:00:01\r\u001B[K     |███████████████████████████████▊| 198.2 MB 105.0 MB/s eta 0:00:01\r\u001B[K     |███████████████████████████████▊| 198.3 MB 105.0 MB/s eta 0:00:01\r\u001B[K     |███████████████████████████████▊| 198.3 MB 105.0 MB/s eta 0:00:01\r\u001B[K     |███████████████████████████████▊| 198.3 MB 105.0 MB/s eta 0:00:01\r\u001B[K     |███████████████████████████████▊| 198.3 MB 105.0 MB/s eta 0:00:01\r\u001B[K     |███████████████████████████████▊| 198.3 MB 105.0 MB/s eta 0:00:01\r\u001B[K     |███████████████████████████████▊| 198.3 MB 105.0 MB/s eta 0:00:01\r\u001B[K     |███████████████████████████████▊| 198.3 MB 105.0 MB/s eta 0:00:01\r\u001B[K     |███████████████████████████████▊| 198.3 MB 105.0 MB/s eta 0:00:01\r\u001B[K     |███████████████████████████████▊| 198.3 MB 105.0 MB/s eta 0:00:01\r\u001B[K     |███████████████████████████████▊| 198.3 MB 105.0 MB/s eta 0:00:01\r\u001B[K     |███████████████████████████████▊| 198.4 MB 105.0 MB/s eta 0:00:01\r\u001B[K     |███████████████████████████████▊| 198.4 MB 105.0 MB/s eta 0:00:01\r\u001B[K     |███████████████████████████████▊| 198.4 MB 105.0 MB/s eta 0:00:01\r\u001B[K     |███████████████████████████████▊| 198.4 MB 105.0 MB/s eta 0:00:01\r\u001B[K     |███████████████████████████████▊| 198.4 MB 105.0 MB/s eta 0:00:01\r\u001B[K     |███████████████████████████████▊| 198.4 MB 105.0 MB/s eta 0:00:01\r\u001B[K     |███████████████████████████████▊| 198.4 MB 105.0 MB/s eta 0:00:01\r\u001B[K     |███████████████████████████████▊| 198.4 MB 105.0 MB/s eta 0:00:01\r\u001B[K     |███████████████████████████████▊| 198.4 MB 105.0 MB/s eta 0:00:01\r\u001B[K     |███████████████████████████████▊| 198.5 MB 105.0 MB/s eta 0:00:01\r\u001B[K     |███████████████████████████████▊| 198.5 MB 105.0 MB/s eta 0:00:01\r\u001B[K     |███████████████████████████████▊| 198.5 MB 105.0 MB/s eta 0:00:01\r\u001B[K     |███████████████████████████████▊| 198.5 MB 105.0 MB/s eta 0:00:01\r\u001B[K     |███████████████████████████████▊| 198.5 MB 105.0 MB/s eta 0:00:01\r\u001B[K     |███████████████████████████████▊| 198.5 MB 105.0 MB/s eta 0:00:01\r\u001B[K     |███████████████████████████████▊| 198.5 MB 105.0 MB/s eta 0:00:01\r\u001B[K     |███████████████████████████████▊| 198.5 MB 105.0 MB/s eta 0:00:01\r\u001B[K     |███████████████████████████████▊| 198.5 MB 105.0 MB/s eta 0:00:01\r\u001B[K     |███████████████████████████████▊| 198.5 MB 105.0 MB/s eta 0:00:01\r\u001B[K     |███████████████████████████████▊| 198.6 MB 105.0 MB/s eta 0:00:01\r\u001B[K     |███████████████████████████████▊| 198.6 MB 105.0 MB/s eta 0:00:01\r\u001B[K     |███████████████████████████████▊| 198.6 MB 105.0 MB/s eta 0:00:01\r\u001B[K     |███████████████████████████████▊| 198.6 MB 105.0 MB/s eta 0:00:01\r\u001B[K     |███████████████████████████████▊| 198.6 MB 105.0 MB/s eta 0:00:01\r\u001B[K     |███████████████████████████████▊| 198.6 MB 105.0 MB/s eta 0:00:01\r\u001B[K     |███████████████████████████████▊| 198.6 MB 105.0 MB/s eta 0:00:01\r\u001B[K     |███████████████████████████████▊| 198.6 MB 105.0 MB/s eta 0:00:01\r\u001B[K     |███████████████████████████████▊| 198.6 MB 105.0 MB/s eta 0:00:01\r\u001B[K     |███████████████████████████████▊| 198.6 MB 105.0 MB/s eta 0:00:01\r\u001B[K     |███████████████████████████████▊| 198.7 MB 105.0 MB/s eta 0:00:01\r\u001B[K     |███████████████████████████████▊| 198.7 MB 105.0 MB/s eta 0:00:01\r\u001B[K     |███████████████████████████████▊| 198.7 MB 105.0 MB/s eta 0:00:01\r\u001B[K     |███████████████████████████████▊| 198.7 MB 105.0 MB/s eta 0:00:01\r\u001B[K     |███████████████████████████████▊| 198.7 MB 105.0 MB/s eta 0:00:01\r\u001B[K     |███████████████████████████████▊| 198.7 MB 105.0 MB/s eta 0:00:01\r\u001B[K     |███████████████████████████████▊| 198.7 MB 105.0 MB/s eta 0:00:01\r\u001B[K     |███████████████████████████████▊| 198.7 MB 105.0 MB/s eta 0:00:01\r\u001B[K     |███████████████████████████████▊| 198.7 MB 105.0 MB/s eta 0:00:01\r\u001B[K     |███████████████████████████████▊| 198.7 MB 105.0 MB/s eta 0:00:01\r\u001B[K     |███████████████████████████████▊| 198.8 MB 105.0 MB/s eta 0:00:01\r\u001B[K     |███████████████████████████████▊| 198.8 MB 105.0 MB/s eta 0:00:01\r\u001B[K     |███████████████████████████████▊| 198.8 MB 105.0 MB/s eta 0:00:01\r\u001B[K     |███████████████████████████████▊| 198.8 MB 105.0 MB/s eta 0:00:01\r\u001B[K     |███████████████████████████████▊| 198.8 MB 105.0 MB/s eta 0:00:01\r\u001B[K     |███████████████████████████████▊| 198.8 MB 105.0 MB/s eta 0:00:01\r\u001B[K     |███████████████████████████████▊| 198.8 MB 105.0 MB/s eta 0:00:01\r\u001B[K     |███████████████████████████████▊| 198.8 MB 105.0 MB/s eta 0:00:01\r\u001B[K     |███████████████████████████████▊| 198.8 MB 105.0 MB/s eta 0:00:01\r\u001B[K     |███████████████████████████████▊| 198.9 MB 105.0 MB/s eta 0:00:01\r\u001B[K     |███████████████████████████████▊| 198.9 MB 105.0 MB/s eta 0:00:01\r\u001B[K     |███████████████████████████████▊| 198.9 MB 105.0 MB/s eta 0:00:01\r\u001B[K     |███████████████████████████████▊| 198.9 MB 105.0 MB/s eta 0:00:01\r\u001B[K     |███████████████████████████████▊| 198.9 MB 105.0 MB/s eta 0:00:01\r\u001B[K     |███████████████████████████████▊| 198.9 MB 105.0 MB/s eta 0:00:01\r\u001B[K     |███████████████████████████████▊| 198.9 MB 105.0 MB/s eta 0:00:01\r\u001B[K     |███████████████████████████████▊| 198.9 MB 105.0 MB/s eta 0:00:01\r\u001B[K     |███████████████████████████████▊| 198.9 MB 105.0 MB/s eta 0:00:01\r\u001B[K     |███████████████████████████████▉| 198.9 MB 105.0 MB/s eta 0:00:01\r\u001B[K     |███████████████████████████████▉| 199.0 MB 105.0 MB/s eta 0:00:01\r\u001B[K     |███████████████████████████████▉| 199.0 MB 105.0 MB/s eta 0:00:01\r\u001B[K     |███████████████████████████████▉| 199.0 MB 105.0 MB/s eta 0:00:01\r\u001B[K     |███████████████████████████████▉| 199.0 MB 105.0 MB/s eta 0:00:01\r\u001B[K     |███████████████████████████████▉| 199.0 MB 105.0 MB/s eta 0:00:01\r\u001B[K     |███████████████████████████████▉| 199.0 MB 105.0 MB/s eta 0:00:01\r\u001B[K     |███████████████████████████████▉| 199.0 MB 105.0 MB/s eta 0:00:01\r\u001B[K     |███████████████████████████████▉| 199.0 MB 105.0 MB/s eta 0:00:01\r\u001B[K     |███████████████████████████████▉| 199.0 MB 105.0 MB/s eta 0:00:01\r\u001B[K     |███████████████████████████████▉| 199.0 MB 105.0 MB/s eta 0:00:01\r\u001B[K     |███████████████████████████████▉| 199.1 MB 105.0 MB/s eta 0:00:01\r\u001B[K     |███████████████████████████████▉| 199.1 MB 105.0 MB/s eta 0:00:01\r\u001B[K     |███████████████████████████████▉| 199.1 MB 105.0 MB/s eta 0:00:01\r\u001B[K     |███████████████████████████████▉| 199.1 MB 105.0 MB/s eta 0:00:01\r\u001B[K     |███████████████████████████████▉| 199.1 MB 105.0 MB/s eta 0:00:01\r\u001B[K     |███████████████████████████████▉| 199.1 MB 105.0 MB/s eta 0:00:01\r\u001B[K     |███████████████████████████████▉| 199.1 MB 105.0 MB/s eta 0:00:01\r\u001B[K     |███████████████████████████████▉| 199.1 MB 105.0 MB/s eta 0:00:01\r\u001B[K     |███████████████████████████████▉| 199.1 MB 105.0 MB/s eta 0:00:01\r\u001B[K     |███████████████████████████████▉| 199.1 MB 105.0 MB/s eta 0:00:01\r\u001B[K     |███████████████████████████████▉| 199.2 MB 105.0 MB/s eta 0:00:01\r\u001B[K     |███████████████████████████████▉| 199.2 MB 105.0 MB/s eta 0:00:01\r\u001B[K     |███████████████████████████████▉| 199.2 MB 105.0 MB/s eta 0:00:01\r\u001B[K     |███████████████████████████████▉| 199.2 MB 105.0 MB/s eta 0:00:01\r\u001B[K     |███████████████████████████████▉| 199.2 MB 105.0 MB/s eta 0:00:01\r\u001B[K     |███████████████████████████████▉| 199.2 MB 105.0 MB/s eta 0:00:01\r\u001B[K     |███████████████████████████████▉| 199.2 MB 105.0 MB/s eta 0:00:01\r\u001B[K     |███████████████████████████████▉| 199.2 MB 105.0 MB/s eta 0:00:01\r\u001B[K     |███████████████████████████████▉| 199.2 MB 105.0 MB/s eta 0:00:01\r\u001B[K     |███████████████████████████████▉| 199.2 MB 105.0 MB/s eta 0:00:01\r\u001B[K     |███████████████████████████████▉| 199.3 MB 105.0 MB/s eta 0:00:01\r\u001B[K     |███████████████████████████████▉| 199.3 MB 105.0 MB/s eta 0:00:01\r\u001B[K     |███████████████████████████████▉| 199.3 MB 105.0 MB/s eta 0:00:01\r\u001B[K     |███████████████████████████████▉| 199.3 MB 105.0 MB/s eta 0:00:01\r\u001B[K     |███████████████████████████████▉| 199.3 MB 105.0 MB/s eta 0:00:01\r\u001B[K     |███████████████████████████████▉| 199.3 MB 105.0 MB/s eta 0:00:01\r\u001B[K     |███████████████████████████████▉| 199.3 MB 105.0 MB/s eta 0:00:01\r\u001B[K     |███████████████████████████████▉| 199.3 MB 105.0 MB/s eta 0:00:01\r\u001B[K     |███████████████████████████████▉| 199.3 MB 105.0 MB/s eta 0:00:01\r\u001B[K     |███████████████████████████████▉| 199.4 MB 105.0 MB/s eta 0:00:01\r\u001B[K     |███████████████████████████████▉| 199.4 MB 105.0 MB/s eta 0:00:01\r\u001B[K     |███████████████████████████████▉| 199.4 MB 105.0 MB/s eta 0:00:01\r\u001B[K     |███████████████████████████████▉| 199.4 MB 105.0 MB/s eta 0:00:01\r\u001B[K     |███████████████████████████████▉| 199.4 MB 105.0 MB/s eta 0:00:01\r\u001B[K     |███████████████████████████████▉| 199.4 MB 105.0 MB/s eta 0:00:01\r\u001B[K     |███████████████████████████████▉| 199.4 MB 105.0 MB/s eta 0:00:01\r\u001B[K     |███████████████████████████████▉| 199.4 MB 105.0 MB/s eta 0:00:01\r\u001B[K     |███████████████████████████████▉| 199.4 MB 105.0 MB/s eta 0:00:01\r\u001B[K     |███████████████████████████████▉| 199.4 MB 105.0 MB/s eta 0:00:01\r\u001B[K     |███████████████████████████████▉| 199.5 MB 105.0 MB/s eta 0:00:01\r\u001B[K     |███████████████████████████████▉| 199.5 MB 105.0 MB/s eta 0:00:01\r\u001B[K     |███████████████████████████████▉| 199.5 MB 105.0 MB/s eta 0:00:01\r\u001B[K     |███████████████████████████████▉| 199.5 MB 105.0 MB/s eta 0:00:01\r\u001B[K     |███████████████████████████████▉| 199.5 MB 105.0 MB/s eta 0:00:01\r\u001B[K     |███████████████████████████████▉| 199.5 MB 105.0 MB/s eta 0:00:01\r\u001B[K     |███████████████████████████████▉| 199.5 MB 105.0 MB/s eta 0:00:01\r\u001B[K     |███████████████████████████████▉| 199.5 MB 105.0 MB/s eta 0:00:01\r\u001B[K     |███████████████████████████████▉| 199.5 MB 105.0 MB/s eta 0:00:01\r\u001B[K     |███████████████████████████████▉| 199.5 MB 105.0 MB/s eta 0:00:01\r\u001B[K     |███████████████████████████████▉| 199.6 MB 105.0 MB/s eta 0:00:01\r\u001B[K     |███████████████████████████████▉| 199.6 MB 105.0 MB/s eta 0:00:01\r\u001B[K     |███████████████████████████████▉| 199.6 MB 105.0 MB/s eta 0:00:01\r\u001B[K     |███████████████████████████████▉| 199.6 MB 105.0 MB/s eta 0:00:01\r\u001B[K     |███████████████████████████████▉| 199.6 MB 105.0 MB/s eta 0:00:01\r\u001B[K     |███████████████████████████████▉| 199.6 MB 105.0 MB/s eta 0:00:01\r\u001B[K     |███████████████████████████████▉| 199.6 MB 105.0 MB/s eta 0:00:01\r\u001B[K     |███████████████████████████████▉| 199.6 MB 105.0 MB/s eta 0:00:01\r\u001B[K     |████████████████████████████████| 199.6 MB 105.0 MB/s eta 0:00:01\r\u001B[K     |████████████████████████████████| 199.6 MB 105.0 MB/s eta 0:00:01\r\u001B[K     |████████████████████████████████| 199.7 MB 105.0 MB/s eta 0:00:01\r\u001B[K     |████████████████████████████████| 199.7 MB 105.0 MB/s eta 0:00:01\r\u001B[K     |████████████████████████████████| 199.7 MB 105.0 MB/s eta 0:00:01\r\u001B[K     |████████████████████████████████| 199.7 MB 105.0 MB/s eta 0:00:01\r\u001B[K     |████████████████████████████████| 199.7 MB 105.0 MB/s eta 0:00:01\r\u001B[K     |████████████████████████████████| 199.7 MB 105.0 MB/s eta 0:00:01\r\u001B[K     |████████████████████████████████| 199.7 MB 105.0 MB/s eta 0:00:01\r\u001B[K     |████████████████████████████████| 199.7 MB 105.0 MB/s eta 0:00:01\r\u001B[K     |████████████████████████████████| 199.7 MB 105.0 MB/s eta 0:00:01\r\u001B[K     |████████████████████████████████| 199.8 MB 105.0 MB/s eta 0:00:01\r\u001B[K     |████████████████████████████████| 199.8 MB 105.0 MB/s eta 0:00:01\r\u001B[K     |████████████████████████████████| 199.8 MB 105.0 MB/s eta 0:00:01\r\u001B[K     |████████████████████████████████| 199.8 MB 105.0 MB/s eta 0:00:01\r\u001B[K     |████████████████████████████████| 199.8 MB 105.0 MB/s eta 0:00:01\r\u001B[K     |████████████████████████████████| 199.8 MB 105.0 MB/s eta 0:00:01\r\u001B[K     |████████████████████████████████| 199.8 MB 105.0 MB/s eta 0:00:01\r\u001B[K     |████████████████████████████████| 199.8 MB 105.0 MB/s eta 0:00:01\r\u001B[K     |████████████████████████████████| 199.8 MB 105.0 MB/s eta 0:00:01\r\u001B[K     |████████████████████████████████| 199.8 MB 105.0 MB/s eta 0:00:01\r\u001B[K     |████████████████████████████████| 199.9 MB 105.0 MB/s eta 0:00:01\r\u001B[K     |████████████████████████████████| 199.9 MB 105.0 MB/s eta 0:00:01\r\u001B[K     |████████████████████████████████| 199.9 MB 105.0 MB/s eta 0:00:01\r\u001B[K     |████████████████████████████████| 199.9 MB 105.0 MB/s eta 0:00:01\r\u001B[K     |████████████████████████████████| 199.9 MB 105.0 MB/s eta 0:00:01\r\u001B[K     |████████████████████████████████| 199.9 MB 105.0 MB/s eta 0:00:01\r\u001B[K     |████████████████████████████████| 199.9 MB 105.0 MB/s eta 0:00:01\r\u001B[K     |████████████████████████████████| 199.9 MB 105.0 MB/s eta 0:00:01\r\u001B[K     |████████████████████████████████| 199.9 MB 105.0 MB/s eta 0:00:01\r\u001B[K     |████████████████████████████████| 199.9 MB 105.0 MB/s eta 0:00:01\r\u001B[K     |████████████████████████████████| 200.0 MB 105.0 MB/s eta 0:00:01\r\u001B[K     |████████████████████████████████| 200.0 MB 105.0 MB/s eta 0:00:01\r\u001B[K     |████████████████████████████████| 200.0 MB 105.0 MB/s eta 0:00:01\r\u001B[K     |████████████████████████████████| 200.0 MB 105.0 MB/s eta 0:00:01\r\u001B[K     |████████████████████████████████| 200.0 MB 105.0 MB/s eta 0:00:01\r\u001B[K     |████████████████████████████████| 200.0 MB 105.0 MB/s eta 0:00:01\r\u001B[K     |████████████████████████████████| 200.0 MB 105.0 MB/s eta 0:00:01\r\u001B[K     |████████████████████████████████| 200.0 MB 105.0 MB/s eta 0:00:01\r\u001B[K     |████████████████████████████████| 200.0 MB 105.0 MB/s eta 0:00:01\r\u001B[K     |████████████████████████████████| 200.0 MB 105.0 MB/s eta 0:00:01\r\u001B[K     |████████████████████████████████| 200.1 MB 105.0 MB/s eta 0:00:01\r\u001B[K     |████████████████████████████████| 200.1 MB 105.0 MB/s eta 0:00:01\r\u001B[K     |████████████████████████████████| 200.1 MB 105.0 MB/s eta 0:00:01\r\u001B[K     |████████████████████████████████| 200.1 MB 105.0 MB/s eta 0:00:01\r\u001B[K     |████████████████████████████████| 200.1 MB 105.0 MB/s eta 0:00:01\r\u001B[K     |████████████████████████████████| 200.1 MB 105.0 MB/s eta 0:00:01\r\u001B[K     |████████████████████████████████| 200.1 MB 105.0 MB/s eta 0:00:01\r\u001B[K     |████████████████████████████████| 200.1 MB 105.0 MB/s eta 0:00:01\r\u001B[K     |████████████████████████████████| 200.1 MB 105.0 MB/s eta 0:00:01\r\u001B[K     |████████████████████████████████| 200.2 MB 105.0 MB/s eta 0:00:01\r\u001B[K     |████████████████████████████████| 200.2 MB 105.0 MB/s eta 0:00:01\r\u001B[K     |████████████████████████████████| 200.2 MB 105.0 MB/s eta 0:00:01\r\u001B[K     |████████████████████████████████| 200.2 MB 105.0 MB/s eta 0:00:01\r\u001B[K     |████████████████████████████████| 200.2 MB 105.0 MB/s eta 0:00:01\r\u001B[K     |████████████████████████████████| 200.2 MB 105.0 MB/s eta 0:00:01\r\u001B[K     |████████████████████████████████| 200.2 MB 105.0 MB/s eta 0:00:01\r\u001B[K     |████████████████████████████████| 200.2 MB 105.0 MB/s eta 0:00:01\r\u001B[K     |████████████████████████████████| 200.2 MB 105.0 MB/s eta 0:00:01\r\u001B[K     |████████████████████████████████| 200.2 MB 105.0 MB/s eta 0:00:01\r\u001B[K     |████████████████████████████████| 200.3 MB 105.0 MB/s eta 0:00:01\r\u001B[K     |████████████████████████████████| 200.3 MB 105.0 MB/s eta 0:00:01\r\u001B[K     |████████████████████████████████| 200.3 MB 105.0 MB/s eta 0:00:01\r\u001B[K     |████████████████████████████████| 200.3 MB 105.0 MB/s eta 0:00:01\r\u001B[K     |████████████████████████████████| 200.3 MB 105.0 MB/s eta 0:00:01\r\u001B[K     |████████████████████████████████| 200.3 MB 105.0 MB/s eta 0:00:01\r\u001B[K     |████████████████████████████████| 200.3 MB 105.0 MB/s eta 0:00:01\r\u001B[K     |████████████████████████████████| 200.3 MB 105.0 MB/s eta 0:00:01\r\u001B[K     |████████████████████████████████| 200.3 MB 10 kB/s \r\n\u001B[?25hRequirement already satisfied: joblib>=0.13.2 in /databricks/python3/lib/python3.9/site-packages (from tpot) (1.0.1)\r\nRequirement already satisfied: numpy>=1.16.3 in /databricks/python3/lib/python3.9/site-packages (from tpot) (1.20.3)\r\nCollecting stopit>=1.1.1\r\n  Downloading stopit-1.1.2.tar.gz (18 kB)\r\nCollecting deap>=1.2\r\n  Downloading deap-1.3.3-cp39-cp39-manylinux_2_5_x86_64.manylinux1_x86_64.manylinux_2_17_x86_64.manylinux2014_x86_64.whl (139 kB)\r\n\u001B[?25l\r\u001B[K     |██▍                             | 10 kB 32.9 MB/s eta 0:00:01\r\u001B[K     |████▊                           | 20 kB 41.2 MB/s eta 0:00:01\r\u001B[K     |███████                         | 30 kB 52.1 MB/s eta 0:00:01\r\u001B[K     |█████████▍                      | 40 kB 58.4 MB/s eta 0:00:01\r\u001B[K     |███████████▊                    | 51 kB 63.2 MB/s eta 0:00:01\r\u001B[K     |██████████████                  | 61 kB 69.1 MB/s eta 0:00:01\r\u001B[K     |████████████████▍               | 71 kB 72.7 MB/s eta 0:00:01\r\u001B[K     |██████████████████▊             | 81 kB 77.4 MB/s eta 0:00:01\r\u001B[K     |█████████████████████           | 92 kB 79.9 MB/s eta 0:00:01\r\u001B[K     |███████████████████████▌        | 102 kB 82.0 MB/s eta 0:00:01\r\u001B[K     |█████████████████████████▉      | 112 kB 82.0 MB/s eta 0:00:01\r\u001B[K     |████████████████████████████▏   | 122 kB 82.0 MB/s eta 0:00:01\r\u001B[K     |██████████████████████████████▌ | 133 kB 82.0 MB/s eta 0:00:01\r\u001B[K     |████████████████████████████████| 139 kB 82.0 MB/s \r\n\u001B[?25hRequirement already satisfied: scikit-learn>=0.22.0 in /databricks/python3/lib/python3.9/site-packages (from tpot) (0.24.2)\r\nRequirement already satisfied: scipy>=1.3.1 in /databricks/python3/lib/python3.9/site-packages (from tpot) (1.7.1)\r\nRequirement already satisfied: pandas>=0.24.2 in /databricks/python3/lib/python3.9/site-packages (from tpot) (1.3.4)\r\nCollecting update-checker>=0.16\r\n  Downloading update_checker-0.18.0-py3-none-any.whl (7.0 kB)\r\nRequirement already satisfied: python-dateutil>=2.7.3 in /databricks/python3/lib/python3.9/site-packages (from pandas>=0.24.2->tpot) (2.8.2)\r\nRequirement already satisfied: pytz>=2017.3 in /databricks/python3/lib/python3.9/site-packages (from pandas>=0.24.2->tpot) (2021.3)\r\nRequirement already satisfied: six>=1.5 in /databricks/python3/lib/python3.9/site-packages (from python-dateutil>=2.7.3->pandas>=0.24.2->tpot) (1.16.0)\r\nRequirement already satisfied: threadpoolctl>=2.0.0 in /databricks/python3/lib/python3.9/site-packages (from scikit-learn>=0.22.0->tpot) (2.2.0)\r\nRequirement already satisfied: requests>=2.3.0 in /databricks/python3/lib/python3.9/site-packages (from update-checker>=0.16->tpot) (2.26.0)\r\nRequirement already satisfied: idna<4,>=2.5 in /databricks/python3/lib/python3.9/site-packages (from requests>=2.3.0->update-checker>=0.16->tpot) (3.2)\r\nRequirement already satisfied: charset-normalizer~=2.0.0 in /databricks/python3/lib/python3.9/site-packages (from requests>=2.3.0->update-checker>=0.16->tpot) (2.0.4)\r\nRequirement already satisfied: urllib3<1.27,>=1.21.1 in /databricks/python3/lib/python3.9/site-packages (from requests>=2.3.0->update-checker>=0.16->tpot) (1.26.7)\r\nRequirement already satisfied: certifi>=2017.4.17 in /databricks/python3/lib/python3.9/site-packages (from requests>=2.3.0->update-checker>=0.16->tpot) (2021.10.8)\r\nBuilding wheels for collected packages: stopit\r\n  Building wheel for stopit (setup.py) ... \u001B[?25l-\b \bdone\r\n\u001B[?25h  Created wheel for stopit: filename=stopit-1.1.2-py3-none-any.whl size=11952 sha256=bfbaf27cefa88de75487283fedbd433483122ecaae63093f52765a591539e0fc\r\n  Stored in directory: /root/.cache/pip/wheels/48/8c/93/3afb1916772591fe6bcc25cdf8b1c5bdc362f0ec8e2f0fd413\r\nSuccessfully built stopit\r\nInstalling collected packages: xgboost, update-checker, tqdm, stopit, deap, tpot\r\nSuccessfully installed deap-1.3.3 stopit-1.1.2 tpot-0.11.7 tqdm-4.65.0 update-checker-0.18.0 xgboost-1.7.5\r\n\u001B[33mWARNING: You are using pip version 21.2.4; however, version 23.1.2 is available.\r\nYou should consider upgrading via the '/local_disk0/.ephemeral_nfs/envs/pythonEnv-e7b9e488-edb8-4e73-b495-a84a207db0db/bin/python -m pip install --upgrade pip' command.\u001B[0m\r\n"
     ]
    }
   ],
   "source": [
    "! pip install tpot"
   ]
  },
  {
   "cell_type": "code",
   "execution_count": 0,
   "metadata": {
    "application/vnd.databricks.v1+cell": {
     "cellMetadata": {
      "byteLimit": 2048000,
      "rowLimit": 10000
     },
     "inputWidgets": {},
     "nuid": "819fe1f8-aec3-494f-8c9a-7771fc68fdb5",
     "showTitle": false,
     "title": ""
    }
   },
   "outputs": [
    {
     "output_type": "display_data",
     "data": {
      "text/plain": [
       "\u001B[0;31m---------------------------------------------------------------------------\u001B[0m\n",
       "\u001B[0;31mThe Python process exited with exit code 137 (SIGKILL: Killed). This may have been caused by an OOM error. Check your command's memory usage.\u001B[0m\n",
       "\u001B[0;31m\u001B[0m\n",
       "\u001B[0;31m---------------------------------------------------------------------------\u001B[0m\n",
       "\u001B[0;31mThe last 10 KB of the process's stderr and stdout can be found below. See driver logs for full logs.\u001B[0m\n",
       "\u001B[0;31m---------------------------------------------------------------------------\u001B[0m\n",
       "\u001B[0;31mLast messages on stderr:\u001B[0m\n",
       "\u001B[0;31mThu Apr 27 00:51:46 2023 Connection to spark from PID  914\u001B[0m\n",
       "\u001B[0;31mThu Apr 27 00:51:46 2023 Initialized gateway on port 39435\u001B[0m\n",
       "\u001B[0;31mThu Apr 27 00:51:46 2023 Connected to spark.\u001B[0m\n",
       "\u001B[0;31m/local_disk0/.ephemeral_nfs/envs/pythonEnv-e7b9e488-edb8-4e73-b495-a84a207db0db/lib/python3.9/site-packages/tpot/builtins/__init__.py:36: UserWarning: Warning: optional dependency `torch` is not available. - skipping import of NN models.\u001B[0m\n",
       "\u001B[0;31m  warnings.warn(\"Warning: optional dependency `torch` is not available. - skipping import of NN models.\")\u001B[0m\n",
       "\u001B[0;31m---------------------------------------------------------------------------\u001B[0m\n",
       "\u001B[0;31mLast messages on stdout:\u001B[0m\n",
       "\u001B[0;31m██████████| 199.9 MB 105.0 MB/s eta 0:00:01\r\u001B[K     |████████████████████████████████| 199.9 MB 105.0 MB/s eta 0:00:01\r\u001B[K     |████████████████████████████████| 199.9 MB 105.0 MB/s eta 0:00:01\r\u001B[K     |████████████████████████████████| 200.0 MB 105.0 MB/s eta 0:00:01\r\u001B[K     |████████████████████████████████| 200.0 MB 105.0 MB/s eta 0:00:01\r\u001B[K     |████████████████████████████████| 200.0 MB 105.0 MB/s eta 0:00:01\r\u001B[K     |████████████████████████████████| 200.0 MB 105.0 MB/s eta 0:00:01\r\u001B[K     |████████████████████████████████| 200.0 MB 105.0 MB/s eta 0:00:01\r\u001B[K     |████████████████████████████████| 200.0 MB 105.0 MB/s eta 0:00:01\r\u001B[K     |████████████████████████████████| 200.0 MB 105.0 MB/s eta 0:00:01\r\u001B[K     |████████████████████████████████| 200.0 MB 105.0 MB/s eta 0:00:01\r\u001B[K     |████████████████████████████████| 200.0 MB 105.0 MB/s eta 0:00:01\r\u001B[K     |████████████████████████████████| 200.0 MB 105.0 MB/s eta 0:00:01\r\u001B[K     |████████████████████████████████| 200.1 MB 105.0 MB/s eta 0:00:01\r\u001B[K     |████████████████████████████████| 200.1 MB 105.0 MB/s eta 0:00:01\r\u001B[K     |████████████████████████████████| 200.1 MB 105.0 MB/s eta 0:00:01\r\u001B[K     |████████████████████████████████| 200.1 MB 105.0 MB/s eta 0:00:01\r\u001B[K     |████████████████████████████████| 200.1 MB 105.0 MB/s eta 0:00:01\r\u001B[K     |████████████████████████████████| 200.1 MB 105.0 MB/s eta 0:00:01\r\u001B[K     |████████████████████████████████| 200.1 MB 105.0 MB/s eta 0:00:01\r\u001B[K     |████████████████████████████████| 200.1 MB 105.0 MB/s eta 0:00:01\r\u001B[K     |████████████████████████████████| 200.1 MB 105.0 MB/s eta 0:00:01\r\u001B[K     |████████████████████████████████| 200.2 MB 105.0 MB/s eta 0:00:01\r\u001B[K     |████████████████████████████████| 200.2 MB 105.0 MB/s eta 0:00:01\r\u001B[K     |████████████████████████████████| 200.2 MB 105.0 MB/s eta 0:00:01\r\u001B[K     |████████████████████████████████| 200.2 MB 105.0 MB/s eta 0:00:01\r\u001B[K     |████████████████████████████████| 200.2 MB 105.0 MB/s eta 0:00:01\r\u001B[K     |████████████████████████████████| 200.2 MB 105.0 MB/s eta 0:00:01\r\u001B[K     |████████████████████████████████| 200.2 MB 105.0 MB/s eta 0:00:01\r\u001B[K     |████████████████████████████████| 200.2 MB 105.0 MB/s eta 0:00:01\r\u001B[K     |████████████████████████████████| 200.2 MB 105.0 MB/s eta 0:00:01\r\u001B[K     |████████████████████████████████| 200.2 MB 105.0 MB/s eta 0:00:01\r\u001B[K     |████████████████████████████████| 200.3 MB 105.0 MB/s eta 0:00:01\r\u001B[K     |████████████████████████████████| 200.3 MB 105.0 MB/s eta 0:00:01\r\u001B[K     |████████████████████████████████| 200.3 MB 105.0 MB/s eta 0:00:01\r\u001B[K     |████████████████████████████████| 200.3 MB 105.0 MB/s eta 0:00:01\r\u001B[K     |████████████████████████████████| 200.3 MB 105.0 MB/s eta 0:00:01\r\u001B[K     |████████████████████████████████| 200.3 MB 105.0 MB/s eta 0:00:01\r\u001B[K     |████████████████████████████████| 200.3 MB 105.0 MB/s eta 0:00:01\r\u001B[K     |████████████████████████████████| 200.3 MB 105.0 MB/s eta 0:00:01\r\u001B[K     |████████████████████████████████| 200.3 MB 10 kB/s \r\u001B[0m\n",
       "\u001B[0;31m\u001B[?25hRequirement already satisfied: joblib>=0.13.2 in /databricks/python3/lib/python3.9/site-packages (from tpot) (1.0.1)\r\u001B[0m\n",
       "\u001B[0;31mRequirement already satisfied: numpy>=1.16.3 in /databricks/python3/lib/python3.9/site-packages (from tpot) (1.20.3)\r\u001B[0m\n",
       "\u001B[0;31mCollecting stopit>=1.1.1\r\u001B[0m\n",
       "\u001B[0;31m  Downloading stopit-1.1.2.tar.gz (18 kB)\r\u001B[0m\n",
       "\u001B[0;31mCollecting deap>=1.2\r\u001B[0m\n",
       "\u001B[0;31m  Downloading deap-1.3.3-cp39-cp39-manylinux_2_5_x86_64.manylinux1_x86_64.manylinux_2_17_x86_64.manylinux2014_x86_64.whl (139 kB)\r\u001B[0m\n",
       "\u001B[0;31m\u001B[?25l\r\u001B[K     |██▍                             | 10 kB 32.9 MB/s eta 0:00:01\r\u001B[K     |████▊                           | 20 kB 41.2 MB/s eta 0:00:01\r\u001B[K     |███████                         | 30 kB 52.1 MB/s eta 0:00:01\r\u001B[K     |█████████▍                      | 40 kB 58.4 MB/s eta 0:00:01\r\u001B[K     |███████████▊                    | 51 kB 63.2 MB/s eta 0:00:01\r\u001B[K     |██████████████                  | 61 kB 69.1 MB/s eta 0:00:01\r\u001B[K     |████████████████▍               | 71 kB 72.7 MB/s eta 0:00:01\r\u001B[K     |██████████████████▊             | 81 kB 77.4 MB/s eta 0:00:01\r\u001B[K     |█████████████████████           | 92 kB 79.9 MB/s eta 0:00:01\r\u001B[K     |███████████████████████▌        | 102 kB 82.0 MB/s eta 0:00:01\r\u001B[K     |█████████████████████████▉      | 112 kB 82.0 MB/s eta 0:00:01\r\u001B[K     |████████████████████████████▏   | 122 kB 82.0 MB/s eta 0:00:01\r\u001B[K     |██████████████████████████████▌ | 133 kB 82.0 MB/s eta 0:00:01\r\u001B[K     |████████████████████████████████| 139 kB 82.0 MB/s \r\u001B[0m\n",
       "\u001B[0;31m\u001B[?25hRequirement already satisfied: scikit-learn>=0.22.0 in /databricks/python3/lib/python3.9/site-packages (from tpot) (0.24.2)\r\u001B[0m\n",
       "\u001B[0;31mRequirement already satisfied: scipy>=1.3.1 in /databricks/python3/lib/python3.9/site-packages (from tpot) (1.7.1)\r\u001B[0m\n",
       "\u001B[0;31mRequirement already satisfied: pandas>=0.24.2 in /databricks/python3/lib/python3.9/site-packages (from tpot) (1.3.4)\r\u001B[0m\n",
       "\u001B[0;31mCollecting update-checker>=0.16\r\u001B[0m\n",
       "\u001B[0;31m  Downloading update_checker-0.18.0-py3-none-any.whl (7.0 kB)\r\u001B[0m\n",
       "\u001B[0;31mRequirement already satisfied: python-dateutil>=2.7.3 in /databricks/python3/lib/python3.9/site-packages (from pandas>=0.24.2->tpot) (2.8.2)\r\u001B[0m\n",
       "\u001B[0;31mRequirement already satisfied: pytz>=2017.3 in /databricks/python3/lib/python3.9/site-packages (from pandas>=0.24.2->tpot) (2021.3)\r\u001B[0m\n",
       "\u001B[0;31mRequirement already satisfied: six>=1.5 in /databricks/python3/lib/python3.9/site-packages (from python-dateutil>=2.7.3->pandas>=0.24.2->tpot) (1.16.0)\r\u001B[0m\n",
       "\u001B[0;31mRequirement already satisfied: threadpoolctl>=2.0.0 in /databricks/python3/lib/python3.9/site-packages (from scikit-learn>=0.22.0->tpot) (2.2.0)\r\u001B[0m\n",
       "\u001B[0;31mRequirement already satisfied: requests>=2.3.0 in /databricks/python3/lib/python3.9/site-packages (from update-checker>=0.16->tpot) (2.26.0)\r\u001B[0m\n",
       "\u001B[0;31mRequirement already satisfied: idna<4,>=2.5 in /databricks/python3/lib/python3.9/site-packages (from requests>=2.3.0->update-checker>=0.16->tpot) (3.2)\r\u001B[0m\n",
       "\u001B[0;31mRequirement already satisfied: charset-normalizer~=2.0.0 in /databricks/python3/lib/python3.9/site-packages (from requests>=2.3.0->update-checker>=0.16->tpot) (2.0.4)\r\u001B[0m\n",
       "\u001B[0;31mRequirement already satisfied: urllib3<1.27,>=1.21.1 in /databricks/python3/lib/python3.9/site-packages (from requests>=2.3.0->update-checker>=0.16->tpot) (1.26.7)\r\u001B[0m\n",
       "\u001B[0;31mRequirement already satisfied: certifi>=2017.4.17 in /databricks/python3/lib/python3.9/site-packages (from requests>=2.3.0->update-checker>=0.16->tpot) (2021.10.8)\r\u001B[0m\n",
       "\u001B[0;31mBuilding wheels for collected packages: stopit\r\u001B[0m\n",
       "\u001B[0;31m  Building wheel for stopit (setup.py) ... \u001B[?25l-\b \bdone\r\u001B[0m\n",
       "\u001B[0;31m\u001B[?25h  Created wheel for stopit: filename=stopit-1.1.2-py3-none-any.whl size=11952 sha256=bfbaf27cefa88de75487283fedbd433483122ecaae63093f52765a591539e0fc\r\u001B[0m\n",
       "\u001B[0;31m  Stored in directory: /root/.cache/pip/wheels/48/8c/93/3afb1916772591fe6bcc25cdf8b1c5bdc362f0ec8e2f0fd413\r\u001B[0m\n",
       "\u001B[0;31mSuccessfully built stopit\r\u001B[0m\n",
       "\u001B[0;31mInstalling collected packages: xgboost, update-checker, tqdm, stopit, deap, tpot\r\u001B[0m\n",
       "\u001B[0;31mSuccessfully installed deap-1.3.3 stopit-1.1.2 tpot-0.11.7 tqdm-4.65.0 update-checker-0.18.0 xgboost-1.7.5\r\u001B[0m\n",
       "\u001B[0;31mWARNING: You are using pip version 21.2.4; however, version 23.1.2 is available.\r\u001B[0m\n",
       "\u001B[0;31mYou should consider upgrading via the '/local_disk0/.ephemeral_nfs/envs/pythonEnv-e7b9e488-edb8-4e73-b495-a84a207db0db/bin/python -m pip install --upgrade pip' command.\r\u001B[0m"
      ]
     },
     "metadata": {
      "application/vnd.databricks.v1+output": {
       "arguments": {},
       "data": "\u001B[0;31m---------------------------------------------------------------------------\u001B[0m\n\u001B[0;31mThe Python process exited with exit code 137 (SIGKILL: Killed). This may have been caused by an OOM error. Check your command's memory usage.\u001B[0m\n\u001B[0;31m\u001B[0m\n\u001B[0;31m---------------------------------------------------------------------------\u001B[0m\n\u001B[0;31mThe last 10 KB of the process's stderr and stdout can be found below. See driver logs for full logs.\u001B[0m\n\u001B[0;31m---------------------------------------------------------------------------\u001B[0m\n\u001B[0;31mLast messages on stderr:\u001B[0m\n\u001B[0;31mThu Apr 27 00:51:46 2023 Connection to spark from PID  914\u001B[0m\n\u001B[0;31mThu Apr 27 00:51:46 2023 Initialized gateway on port 39435\u001B[0m\n\u001B[0;31mThu Apr 27 00:51:46 2023 Connected to spark.\u001B[0m\n\u001B[0;31m/local_disk0/.ephemeral_nfs/envs/pythonEnv-e7b9e488-edb8-4e73-b495-a84a207db0db/lib/python3.9/site-packages/tpot/builtins/__init__.py:36: UserWarning: Warning: optional dependency `torch` is not available. - skipping import of NN models.\u001B[0m\n\u001B[0;31m  warnings.warn(\"Warning: optional dependency `torch` is not available. - skipping import of NN models.\")\u001B[0m\n\u001B[0;31m---------------------------------------------------------------------------\u001B[0m\n\u001B[0;31mLast messages on stdout:\u001B[0m\n\u001B[0;31m██████████| 199.9 MB 105.0 MB/s eta 0:00:01\r\u001B[K     |████████████████████████████████| 199.9 MB 105.0 MB/s eta 0:00:01\r\u001B[K     |████████████████████████████████| 199.9 MB 105.0 MB/s eta 0:00:01\r\u001B[K     |████████████████████████████████| 200.0 MB 105.0 MB/s eta 0:00:01\r\u001B[K     |████████████████████████████████| 200.0 MB 105.0 MB/s eta 0:00:01\r\u001B[K     |████████████████████████████████| 200.0 MB 105.0 MB/s eta 0:00:01\r\u001B[K     |████████████████████████████████| 200.0 MB 105.0 MB/s eta 0:00:01\r\u001B[K     |████████████████████████████████| 200.0 MB 105.0 MB/s eta 0:00:01\r\u001B[K     |████████████████████████████████| 200.0 MB 105.0 MB/s eta 0:00:01\r\u001B[K     |████████████████████████████████| 200.0 MB 105.0 MB/s eta 0:00:01\r\u001B[K     |████████████████████████████████| 200.0 MB 105.0 MB/s eta 0:00:01\r\u001B[K     |████████████████████████████████| 200.0 MB 105.0 MB/s eta 0:00:01\r\u001B[K     |████████████████████████████████| 200.0 MB 105.0 MB/s eta 0:00:01\r\u001B[K     |████████████████████████████████| 200.1 MB 105.0 MB/s eta 0:00:01\r\u001B[K     |████████████████████████████████| 200.1 MB 105.0 MB/s eta 0:00:01\r\u001B[K     |████████████████████████████████| 200.1 MB 105.0 MB/s eta 0:00:01\r\u001B[K     |████████████████████████████████| 200.1 MB 105.0 MB/s eta 0:00:01\r\u001B[K     |████████████████████████████████| 200.1 MB 105.0 MB/s eta 0:00:01\r\u001B[K     |████████████████████████████████| 200.1 MB 105.0 MB/s eta 0:00:01\r\u001B[K     |████████████████████████████████| 200.1 MB 105.0 MB/s eta 0:00:01\r\u001B[K     |████████████████████████████████| 200.1 MB 105.0 MB/s eta 0:00:01\r\u001B[K     |████████████████████████████████| 200.1 MB 105.0 MB/s eta 0:00:01\r\u001B[K     |████████████████████████████████| 200.2 MB 105.0 MB/s eta 0:00:01\r\u001B[K     |████████████████████████████████| 200.2 MB 105.0 MB/s eta 0:00:01\r\u001B[K     |████████████████████████████████| 200.2 MB 105.0 MB/s eta 0:00:01\r\u001B[K     |████████████████████████████████| 200.2 MB 105.0 MB/s eta 0:00:01\r\u001B[K     |████████████████████████████████| 200.2 MB 105.0 MB/s eta 0:00:01\r\u001B[K     |████████████████████████████████| 200.2 MB 105.0 MB/s eta 0:00:01\r\u001B[K     |████████████████████████████████| 200.2 MB 105.0 MB/s eta 0:00:01\r\u001B[K     |████████████████████████████████| 200.2 MB 105.0 MB/s eta 0:00:01\r\u001B[K     |████████████████████████████████| 200.2 MB 105.0 MB/s eta 0:00:01\r\u001B[K     |████████████████████████████████| 200.2 MB 105.0 MB/s eta 0:00:01\r\u001B[K     |████████████████████████████████| 200.3 MB 105.0 MB/s eta 0:00:01\r\u001B[K     |████████████████████████████████| 200.3 MB 105.0 MB/s eta 0:00:01\r\u001B[K     |████████████████████████████████| 200.3 MB 105.0 MB/s eta 0:00:01\r\u001B[K     |████████████████████████████████| 200.3 MB 105.0 MB/s eta 0:00:01\r\u001B[K     |████████████████████████████████| 200.3 MB 105.0 MB/s eta 0:00:01\r\u001B[K     |████████████████████████████████| 200.3 MB 105.0 MB/s eta 0:00:01\r\u001B[K     |████████████████████████████████| 200.3 MB 105.0 MB/s eta 0:00:01\r\u001B[K     |████████████████████████████████| 200.3 MB 105.0 MB/s eta 0:00:01\r\u001B[K     |████████████████████████████████| 200.3 MB 10 kB/s \r\u001B[0m\n\u001B[0;31m\u001B[?25hRequirement already satisfied: joblib>=0.13.2 in /databricks/python3/lib/python3.9/site-packages (from tpot) (1.0.1)\r\u001B[0m\n\u001B[0;31mRequirement already satisfied: numpy>=1.16.3 in /databricks/python3/lib/python3.9/site-packages (from tpot) (1.20.3)\r\u001B[0m\n\u001B[0;31mCollecting stopit>=1.1.1\r\u001B[0m\n\u001B[0;31m  Downloading stopit-1.1.2.tar.gz (18 kB)\r\u001B[0m\n\u001B[0;31mCollecting deap>=1.2\r\u001B[0m\n\u001B[0;31m  Downloading deap-1.3.3-cp39-cp39-manylinux_2_5_x86_64.manylinux1_x86_64.manylinux_2_17_x86_64.manylinux2014_x86_64.whl (139 kB)\r\u001B[0m\n\u001B[0;31m\u001B[?25l\r\u001B[K     |██▍                             | 10 kB 32.9 MB/s eta 0:00:01\r\u001B[K     |████▊                           | 20 kB 41.2 MB/s eta 0:00:01\r\u001B[K     |███████                         | 30 kB 52.1 MB/s eta 0:00:01\r\u001B[K     |█████████▍                      | 40 kB 58.4 MB/s eta 0:00:01\r\u001B[K     |███████████▊                    | 51 kB 63.2 MB/s eta 0:00:01\r\u001B[K     |██████████████                  | 61 kB 69.1 MB/s eta 0:00:01\r\u001B[K     |████████████████▍               | 71 kB 72.7 MB/s eta 0:00:01\r\u001B[K     |██████████████████▊             | 81 kB 77.4 MB/s eta 0:00:01\r\u001B[K     |█████████████████████           | 92 kB 79.9 MB/s eta 0:00:01\r\u001B[K     |███████████████████████▌        | 102 kB 82.0 MB/s eta 0:00:01\r\u001B[K     |█████████████████████████▉      | 112 kB 82.0 MB/s eta 0:00:01\r\u001B[K     |████████████████████████████▏   | 122 kB 82.0 MB/s eta 0:00:01\r\u001B[K     |██████████████████████████████▌ | 133 kB 82.0 MB/s eta 0:00:01\r\u001B[K     |████████████████████████████████| 139 kB 82.0 MB/s \r\u001B[0m\n\u001B[0;31m\u001B[?25hRequirement already satisfied: scikit-learn>=0.22.0 in /databricks/python3/lib/python3.9/site-packages (from tpot) (0.24.2)\r\u001B[0m\n\u001B[0;31mRequirement already satisfied: scipy>=1.3.1 in /databricks/python3/lib/python3.9/site-packages (from tpot) (1.7.1)\r\u001B[0m\n\u001B[0;31mRequirement already satisfied: pandas>=0.24.2 in /databricks/python3/lib/python3.9/site-packages (from tpot) (1.3.4)\r\u001B[0m\n\u001B[0;31mCollecting update-checker>=0.16\r\u001B[0m\n\u001B[0;31m  Downloading update_checker-0.18.0-py3-none-any.whl (7.0 kB)\r\u001B[0m\n\u001B[0;31mRequirement already satisfied: python-dateutil>=2.7.3 in /databricks/python3/lib/python3.9/site-packages (from pandas>=0.24.2->tpot) (2.8.2)\r\u001B[0m\n\u001B[0;31mRequirement already satisfied: pytz>=2017.3 in /databricks/python3/lib/python3.9/site-packages (from pandas>=0.24.2->tpot) (2021.3)\r\u001B[0m\n\u001B[0;31mRequirement already satisfied: six>=1.5 in /databricks/python3/lib/python3.9/site-packages (from python-dateutil>=2.7.3->pandas>=0.24.2->tpot) (1.16.0)\r\u001B[0m\n\u001B[0;31mRequirement already satisfied: threadpoolctl>=2.0.0 in /databricks/python3/lib/python3.9/site-packages (from scikit-learn>=0.22.0->tpot) (2.2.0)\r\u001B[0m\n\u001B[0;31mRequirement already satisfied: requests>=2.3.0 in /databricks/python3/lib/python3.9/site-packages (from update-checker>=0.16->tpot) (2.26.0)\r\u001B[0m\n\u001B[0;31mRequirement already satisfied: idna<4,>=2.5 in /databricks/python3/lib/python3.9/site-packages (from requests>=2.3.0->update-checker>=0.16->tpot) (3.2)\r\u001B[0m\n\u001B[0;31mRequirement already satisfied: charset-normalizer~=2.0.0 in /databricks/python3/lib/python3.9/site-packages (from requests>=2.3.0->update-checker>=0.16->tpot) (2.0.4)\r\u001B[0m\n\u001B[0;31mRequirement already satisfied: urllib3<1.27,>=1.21.1 in /databricks/python3/lib/python3.9/site-packages (from requests>=2.3.0->update-checker>=0.16->tpot) (1.26.7)\r\u001B[0m\n\u001B[0;31mRequirement already satisfied: certifi>=2017.4.17 in /databricks/python3/lib/python3.9/site-packages (from requests>=2.3.0->update-checker>=0.16->tpot) (2021.10.8)\r\u001B[0m\n\u001B[0;31mBuilding wheels for collected packages: stopit\r\u001B[0m\n\u001B[0;31m  Building wheel for stopit (setup.py) ... \u001B[?25l-\b \bdone\r\u001B[0m\n\u001B[0;31m\u001B[?25h  Created wheel for stopit: filename=stopit-1.1.2-py3-none-any.whl size=11952 sha256=bfbaf27cefa88de75487283fedbd433483122ecaae63093f52765a591539e0fc\r\u001B[0m\n\u001B[0;31m  Stored in directory: /root/.cache/pip/wheels/48/8c/93/3afb1916772591fe6bcc25cdf8b1c5bdc362f0ec8e2f0fd413\r\u001B[0m\n\u001B[0;31mSuccessfully built stopit\r\u001B[0m\n\u001B[0;31mInstalling collected packages: xgboost, update-checker, tqdm, stopit, deap, tpot\r\u001B[0m\n\u001B[0;31mSuccessfully installed deap-1.3.3 stopit-1.1.2 tpot-0.11.7 tqdm-4.65.0 update-checker-0.18.0 xgboost-1.7.5\r\u001B[0m\n\u001B[0;31mWARNING: You are using pip version 21.2.4; however, version 23.1.2 is available.\r\u001B[0m\n\u001B[0;31mYou should consider upgrading via the '/local_disk0/.ephemeral_nfs/envs/pythonEnv-e7b9e488-edb8-4e73-b495-a84a207db0db/bin/python -m pip install --upgrade pip' command.\r\u001B[0m",
       "errorSummary": "<span class='ansi-red-fg'>Fatal error</span>: The Python kernel is unresponsive.",
       "errorTraceType": "ansi",
       "metadata": {},
       "type": "ipynbError"
      }
     },
     "output_type": "display_data"
    }
   ],
   "source": [
    "from tpot import TPOTRegressor\n",
    "tpot = TPOTRegressor(generations=5, population_size=50, verbosity=2, random_state=0)\n",
    "tpot_model = tpot.fit(X_train_final, y_train)\n",
    "y_val_pred_tpot = tpot_model.predict(X_val_final)"
   ]
  },
  {
   "cell_type": "code",
   "execution_count": 0,
   "metadata": {
    "application/vnd.databricks.v1+cell": {
     "cellMetadata": {
      "byteLimit": 2048000,
      "rowLimit": 10000
     },
     "inputWidgets": {},
     "nuid": "019f1866-06c4-4243-97ba-a8dc9da89ad7",
     "showTitle": false,
     "title": ""
    }
   },
   "outputs": [
    {
     "output_type": "display_data",
     "data": {
      "text/plain": [
       ""
      ]
     },
     "metadata": {
      "application/vnd.databricks.v1+output": {
       "arguments": {},
       "data": "",
       "errorSummary": "Command skipped",
       "errorTraceType": "ansi",
       "metadata": {},
       "type": "ipynbError"
      }
     },
     "output_type": "display_data"
    }
   ],
   "source": [
    "from sklearn.metrics import mean_squared_error\n",
    "tpot_pred_mse = mean_squared_error(y_val, y_val_pred_tpot, squared=False)\n",
    "tpot_pred_mse"
   ]
  },
  {
   "cell_type": "code",
   "execution_count": 0,
   "metadata": {
    "application/vnd.databricks.v1+cell": {
     "cellMetadata": {
      "byteLimit": 2048000,
      "rowLimit": 10000
     },
     "inputWidgets": {},
     "nuid": "4512d145-f3bc-4227-8179-64cbd24e08e9",
     "showTitle": false,
     "title": ""
    }
   },
   "outputs": [
    {
     "output_type": "display_data",
     "data": {
      "text/plain": [
       ""
      ]
     },
     "metadata": {
      "application/vnd.databricks.v1+output": {
       "arguments": {},
       "data": "",
       "errorSummary": "Command skipped",
       "errorTraceType": "ansi",
       "metadata": {},
       "type": "ipynbError"
      }
     },
     "output_type": "display_data"
    }
   ],
   "source": [
    "from sklearn.ensemble import GradientBoostingRegressor\n",
    "from sklearn.datasets import fetch_california_housing\n",
    "from sklearn.model_selection import train_test_split\n",
    "import numpy as np\n",
    "import mlflow\n",
    "from mlflow.models import make_metric\n",
    "import os\n",
    "import matplotlib.pyplot as plt\n",
    "\n",
    "# creating the evaluation dataframe\n",
    "eval_data = X_val_final.copy()\n",
    "eval_data[\"target\"] = y_test\n",
    "\n",
    "\n",
    "def squared_diff_plus_one(eval_df, _builtin_metrics):\n",
    "    \"\"\"\n",
    "    This example custom metric function creates a metric based on the ``prediction`` and\n",
    "    ``target`` columns in ``eval_df``.\n",
    "    \"\"\"\n",
    "    return np.sum(np.abs(eval_df[\"prediction\"] - eval_df[\"target\"] + 1) ** 2)\n",
    "\n",
    "\n",
    "def sum_on_target_divided_by_two(_eval_df, builtin_metrics):\n",
    "    \"\"\"\n",
    "    This example custom metric function creates a metric derived from existing metrics in\n",
    "    ``builtin_metrics``.\n",
    "    \"\"\"\n",
    "    return builtin_metrics[\"sum_on_target\"] / 2\n",
    "\n",
    "\n",
    "def prediction_target_scatter(eval_df, _builtin_metrics, artifacts_dir):\n",
    "    \"\"\"\n",
    "    This example custom artifact generates and saves a scatter plot to ``artifacts_dir`` that\n",
    "    visualizes the relationship between the predictions and targets for the given model to a\n",
    "    file as an image artifact.\n",
    "    \"\"\"\n",
    "    plt.scatter(eval_df[\"prediction\"], eval_df[\"target\"])\n",
    "    plt.xlabel(\"Targets\")\n",
    "    plt.ylabel(\"Predictions\")\n",
    "    plt.title(\"Targets vs. Predictions\")\n",
    "    plot_path = os.path.join(artifacts_dir, \"example_scatter_plot.png\")\n",
    "    plt.savefig(plot_path)\n",
    "    return {\"example_scatter_plot_artifact\": plot_path}\n",
    "\n",
    "\n",
    "experiment_id = \"4410962850347378\"\n",
    "\n",
    "with mlflow.start_run(experiment_id = experiment_id) as run:\n",
    "    mlflow.sklearn.log_model(tpot_model, \"model\")\n",
    "\n",
    "    model_uri = mlflow.get_artifact_uri(\"model\")\n",
    "    \n",
    "    result = mlflow.evaluate(\n",
    "        model = model_uri,\n",
    "        data = eval_data,\n",
    "        targets = \"target\",\n",
    "        model_type = \"regressor\",\n",
    "        evaluators=[\"default\"],\n",
    "        custom_metrics=[\n",
    "            make_metric(\n",
    "                eval_fn=squared_diff_plus_one,\n",
    "                greater_is_better=False,\n",
    "            ),\n",
    "            make_metric(\n",
    "                eval_fn=sum_on_target_divided_by_two,\n",
    "                greater_is_better=True,\n",
    "            ),\n",
    "        ],\n",
    "        custom_artifacts=[prediction_target_scatter],\n",
    "    )\n",
    "\n",
    "print(f\"metrics:\\n{result.metrics}\")\n",
    "print(f\"artifacts:\\n{result.artifacts}\")\n"
   ]
  }
 ],
 "metadata": {
  "application/vnd.databricks.v1+notebook": {
   "dashboards": [],
   "language": "python",
   "notebookMetadata": {
    "pythonIndentUnit": 4
   },
   "notebookName": "INSY_695_2_TPOT_(V3) (1)",
   "notebookOrigID": 4410962850347379,
   "widgets": {}
  },
  "colab": {
   "gpuType": "T4",
   "provenance": []
  },
  "gpuClass": "standard",
  "kernelspec": {
   "display_name": "Python 3",
   "language": "python",
   "name": "python3"
  },
  "language_info": {
   "codemirror_mode": {
    "name": "ipython",
    "version": 3
   },
   "file_extension": ".py",
   "mimetype": "text/x-python",
   "name": "python",
   "nbconvert_exporter": "python",
   "pygments_lexer": "ipython3",
   "version": "3.8.8"
  }
 },
 "nbformat": 4,
 "nbformat_minor": 0
}
