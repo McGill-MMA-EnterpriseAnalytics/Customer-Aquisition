{
 "cells": [
  {
   "cell_type": "code",
   "execution_count": 0,
   "metadata": {
    "application/vnd.databricks.v1+cell": {
     "cellMetadata": {
      "byteLimit": 2048000,
      "rowLimit": 10000
     },
     "inputWidgets": {},
     "nuid": "4874d7eb-1573-4ce5-89b8-e776eca23d12",
     "showTitle": false,
     "title": ""
    }
   },
   "outputs": [
    {
     "output_type": "display_data",
     "data": {
      "application/vnd.databricks.v1+bamboolib_hint": "{\"pd.DataFrames\": [], \"version\": \"0.0.1\"}",
      "text/plain": []
     },
     "metadata": {},
     "output_type": "display_data"
    }
   ],
   "source": [
    "import pandas as pd\n",
    "import numpy as np\n",
    "\n",
    "from sklearn.preprocessing import MinMaxScaler, StandardScaler\n",
    "from sklearn.ensemble import IsolationForest"
   ]
  },
  {
   "cell_type": "code",
   "execution_count": 0,
   "metadata": {
    "application/vnd.databricks.v1+cell": {
     "cellMetadata": {
      "byteLimit": 2048000,
      "rowLimit": 10000
     },
     "inputWidgets": {},
     "nuid": "24d7bb2d-1eaf-4ff9-aaff-adf16fe28cff",
     "showTitle": false,
     "title": ""
    }
   },
   "outputs": [
    {
     "output_type": "stream",
     "name": "stdout",
     "output_type": "stream",
     "text": [
      "Out[2]: [FileInfo(path='dbfs:/FileStore/tables/media_prediction_and_its_cost-1.csv', name='media_prediction_and_its_cost-1.csv', size=16667988, modificationTime=1682550968000),\n FileInfo(path='dbfs:/FileStore/tables/media_prediction_and_its_cost-2.csv', name='media_prediction_and_its_cost-2.csv', size=16667988, modificationTime=1682551383000),\n FileInfo(path='dbfs:/FileStore/tables/media_prediction_and_its_cost.csv', name='media_prediction_and_its_cost.csv', size=16667988, modificationTime=1682548452000),\n FileInfo(path='dbfs:/FileStore/tables/media_prediction_and_its_cost_NEW-1.csv', name='media_prediction_and_its_cost_NEW-1.csv', size=14592433, modificationTime=1682602944000),\n FileInfo(path='dbfs:/FileStore/tables/media_prediction_and_its_cost_NEW.csv', name='media_prediction_and_its_cost_NEW.csv', size=14592433, modificationTime=1682555895000)]"
     ]
    }
   ],
   "source": [
    "dbutils.fs.ls(\"/FileStore/tables/\")"
   ]
  },
  {
   "cell_type": "code",
   "execution_count": 0,
   "metadata": {
    "application/vnd.databricks.v1+cell": {
     "cellMetadata": {
      "byteLimit": 2048000,
      "rowLimit": 10000
     },
     "inputWidgets": {},
     "nuid": "6dd00e57-b096-4311-8ab9-6a2940bc6aaf",
     "showTitle": false,
     "title": ""
    }
   },
   "outputs": [],
   "source": [
    "# df_raw = pd.read_csv(\"/Users/benmeiga/Downloads/media prediction and its cost.csv\")\n",
    "\n",
    "# File location and type\n",
    "file_location = \"/FileStore/tables/media_prediction_and_its_cost-1.csv\"\n",
    "file_type = \"csv\"\n",
    "\n",
    "# CSV options\n",
    "infer_schema = \"True\"\n",
    "first_row_is_header = \"True\"\n",
    "delimiter = \",\"\n",
    "\n",
    "# The applied options are for CSV files. For other file types, these will be ignored.\n",
    "df = spark.read.format(file_type) \\\n",
    "  .option(\"inferSchema\", infer_schema) \\\n",
    "  .option(\"header\", first_row_is_header) \\\n",
    "  .option(\"sep\", delimiter) \\\n",
    "  .load(file_location)\n",
    "\n",
    "df_raw = df.toPandas()"
   ]
  },
  {
   "cell_type": "code",
   "execution_count": 0,
   "metadata": {
    "application/vnd.databricks.v1+cell": {
     "cellMetadata": {
      "byteLimit": 2048000,
      "rowLimit": 10000
     },
     "inputWidgets": {},
     "nuid": "7c1d3dc3-accf-426a-b305-7fa91747db34",
     "showTitle": false,
     "title": ""
    }
   },
   "outputs": [
    {
     "output_type": "stream",
     "name": "stdout",
     "output_type": "stream",
     "text": [
      "Number of unique values: 6 \t Datatype: float64 \t Column name: unit_sales(in millions)\nNumber of unique values: 6 \t Datatype: float64 \t Column name: total_children\nNumber of unique values: 5 \t Datatype: float64 \t Column name: avg_cars_at home(approx)15\nNumber of unique values: 6 \t Datatype: float64 \t Column name: num_children_at_home\nNumber of unique values: 5 \t Datatype: float64 \t Column name: avg_cars_at home(approx)18\n"
     ]
    }
   ],
   "source": [
    "num_cols, cate_cols, pre_dum_cols = [], [], []\n",
    "for c in df_raw.columns:\n",
    "    uni_len = len(set(df_raw[c]))\n",
    "    dtype = df_raw[c].dtypes\n",
    "\n",
    "    if dtype == object:\n",
    "        cate_cols.append(c)\n",
    "    else: # dtype == float\n",
    "        if uni_len == 2:\n",
    "            pre_dum_cols.append(c)\n",
    "        elif uni_len < 10:\n",
    "            num_cols.append(c)\n",
    "            print(\"Number of unique values: %d \\t Datatype: %s \\t Column name: %s\" %(uni_len, dtype, c))\n",
    "        else:\n",
    "            num_cols.append(c)"
   ]
  },
  {
   "cell_type": "code",
   "execution_count": 0,
   "metadata": {
    "application/vnd.databricks.v1+cell": {
     "cellMetadata": {
      "byteLimit": 2048000,
      "rowLimit": 10000
     },
     "inputWidgets": {},
     "nuid": "77ecea3b-4cc9-4bc1-9965-42c4fe6b31d9",
     "showTitle": false,
     "title": ""
    }
   },
   "outputs": [
    {
     "output_type": "display_data",
     "data": {
      "text/html": [
       "<div>\n",
       "<style scoped>\n",
       "    .dataframe tbody tr th:only-of-type {\n",
       "        vertical-align: middle;\n",
       "    }\n",
       "\n",
       "    .dataframe tbody tr th {\n",
       "        vertical-align: top;\n",
       "    }\n",
       "\n",
       "    .dataframe thead th {\n",
       "        text-align: right;\n",
       "    }\n",
       "</style>\n",
       "<table border=\"1\" class=\"dataframe\">\n",
       "  <thead>\n",
       "    <tr style=\"text-align: right;\">\n",
       "      <th></th>\n",
       "      <th>food_category</th>\n",
       "      <th>food_department</th>\n",
       "      <th>food_family</th>\n",
       "      <th>store_sales(in millions)</th>\n",
       "      <th>store_cost(in millions)</th>\n",
       "      <th>unit_sales(in millions)</th>\n",
       "      <th>promotion_name</th>\n",
       "      <th>sales_country</th>\n",
       "      <th>marital_status</th>\n",
       "      <th>gender</th>\n",
       "      <th>...</th>\n",
       "      <th>grocery_sqft</th>\n",
       "      <th>frozen_sqft</th>\n",
       "      <th>meat_sqft</th>\n",
       "      <th>coffee_bar</th>\n",
       "      <th>video_store</th>\n",
       "      <th>salad_bar</th>\n",
       "      <th>prepared_food</th>\n",
       "      <th>florist</th>\n",
       "      <th>media_type</th>\n",
       "      <th>cost</th>\n",
       "    </tr>\n",
       "  </thead>\n",
       "  <tbody>\n",
       "    <tr>\n",
       "      <th>0</th>\n",
       "      <td>Breakfast Foods</td>\n",
       "      <td>Frozen Foods</td>\n",
       "      <td>Food</td>\n",
       "      <td>7.36</td>\n",
       "      <td>2.7232</td>\n",
       "      <td>4.0</td>\n",
       "      <td>Bag Stuffers</td>\n",
       "      <td>USA</td>\n",
       "      <td>M</td>\n",
       "      <td>F</td>\n",
       "      <td>...</td>\n",
       "      <td>18670.0</td>\n",
       "      <td>5415.0</td>\n",
       "      <td>3610.0</td>\n",
       "      <td>1.0</td>\n",
       "      <td>1.0</td>\n",
       "      <td>1.0</td>\n",
       "      <td>1.0</td>\n",
       "      <td>1.0</td>\n",
       "      <td>Daily Paper, Radio</td>\n",
       "      <td>126.62</td>\n",
       "    </tr>\n",
       "    <tr>\n",
       "      <th>1</th>\n",
       "      <td>Breakfast Foods</td>\n",
       "      <td>Frozen Foods</td>\n",
       "      <td>Food</td>\n",
       "      <td>5.52</td>\n",
       "      <td>2.5944</td>\n",
       "      <td>3.0</td>\n",
       "      <td>Cash Register Lottery</td>\n",
       "      <td>USA</td>\n",
       "      <td>M</td>\n",
       "      <td>M</td>\n",
       "      <td>...</td>\n",
       "      <td>18670.0</td>\n",
       "      <td>5415.0</td>\n",
       "      <td>3610.0</td>\n",
       "      <td>1.0</td>\n",
       "      <td>1.0</td>\n",
       "      <td>1.0</td>\n",
       "      <td>1.0</td>\n",
       "      <td>1.0</td>\n",
       "      <td>Daily Paper, Radio</td>\n",
       "      <td>59.86</td>\n",
       "    </tr>\n",
       "    <tr>\n",
       "      <th>2</th>\n",
       "      <td>Breakfast Foods</td>\n",
       "      <td>Frozen Foods</td>\n",
       "      <td>Food</td>\n",
       "      <td>3.68</td>\n",
       "      <td>1.3616</td>\n",
       "      <td>2.0</td>\n",
       "      <td>High Roller Savings</td>\n",
       "      <td>USA</td>\n",
       "      <td>S</td>\n",
       "      <td>F</td>\n",
       "      <td>...</td>\n",
       "      <td>18670.0</td>\n",
       "      <td>5415.0</td>\n",
       "      <td>3610.0</td>\n",
       "      <td>1.0</td>\n",
       "      <td>1.0</td>\n",
       "      <td>1.0</td>\n",
       "      <td>1.0</td>\n",
       "      <td>1.0</td>\n",
       "      <td>Daily Paper, Radio</td>\n",
       "      <td>84.16</td>\n",
       "    </tr>\n",
       "    <tr>\n",
       "      <th>3</th>\n",
       "      <td>Breakfast Foods</td>\n",
       "      <td>Frozen Foods</td>\n",
       "      <td>Food</td>\n",
       "      <td>3.68</td>\n",
       "      <td>1.1776</td>\n",
       "      <td>2.0</td>\n",
       "      <td>Cash Register Lottery</td>\n",
       "      <td>USA</td>\n",
       "      <td>M</td>\n",
       "      <td>F</td>\n",
       "      <td>...</td>\n",
       "      <td>18670.0</td>\n",
       "      <td>5415.0</td>\n",
       "      <td>3610.0</td>\n",
       "      <td>1.0</td>\n",
       "      <td>1.0</td>\n",
       "      <td>1.0</td>\n",
       "      <td>1.0</td>\n",
       "      <td>1.0</td>\n",
       "      <td>In-Store Coupon</td>\n",
       "      <td>95.78</td>\n",
       "    </tr>\n",
       "    <tr>\n",
       "      <th>4</th>\n",
       "      <td>Breakfast Foods</td>\n",
       "      <td>Frozen Foods</td>\n",
       "      <td>Food</td>\n",
       "      <td>4.08</td>\n",
       "      <td>1.4280</td>\n",
       "      <td>3.0</td>\n",
       "      <td>Double Down Sale</td>\n",
       "      <td>USA</td>\n",
       "      <td>M</td>\n",
       "      <td>M</td>\n",
       "      <td>...</td>\n",
       "      <td>18670.0</td>\n",
       "      <td>5415.0</td>\n",
       "      <td>3610.0</td>\n",
       "      <td>1.0</td>\n",
       "      <td>1.0</td>\n",
       "      <td>1.0</td>\n",
       "      <td>1.0</td>\n",
       "      <td>1.0</td>\n",
       "      <td>Radio</td>\n",
       "      <td>50.79</td>\n",
       "    </tr>\n",
       "    <tr>\n",
       "      <th>...</th>\n",
       "      <td>...</td>\n",
       "      <td>...</td>\n",
       "      <td>...</td>\n",
       "      <td>...</td>\n",
       "      <td>...</td>\n",
       "      <td>...</td>\n",
       "      <td>...</td>\n",
       "      <td>...</td>\n",
       "      <td>...</td>\n",
       "      <td>...</td>\n",
       "      <td>...</td>\n",
       "      <td>...</td>\n",
       "      <td>...</td>\n",
       "      <td>...</td>\n",
       "      <td>...</td>\n",
       "      <td>...</td>\n",
       "      <td>...</td>\n",
       "      <td>...</td>\n",
       "      <td>...</td>\n",
       "      <td>...</td>\n",
       "      <td>...</td>\n",
       "    </tr>\n",
       "    <tr>\n",
       "      <th>60423</th>\n",
       "      <td>Specialty</td>\n",
       "      <td>Carousel</td>\n",
       "      <td>Non-Consumable</td>\n",
       "      <td>2.76</td>\n",
       "      <td>1.3248</td>\n",
       "      <td>1.0</td>\n",
       "      <td>You Save Days</td>\n",
       "      <td>USA</td>\n",
       "      <td>M</td>\n",
       "      <td>F</td>\n",
       "      <td>...</td>\n",
       "      <td>15321.0</td>\n",
       "      <td>4294.0</td>\n",
       "      <td>2863.0</td>\n",
       "      <td>1.0</td>\n",
       "      <td>0.0</td>\n",
       "      <td>0.0</td>\n",
       "      <td>0.0</td>\n",
       "      <td>0.0</td>\n",
       "      <td>In-Store Coupon</td>\n",
       "      <td>95.25</td>\n",
       "    </tr>\n",
       "    <tr>\n",
       "      <th>60424</th>\n",
       "      <td>Specialty</td>\n",
       "      <td>Carousel</td>\n",
       "      <td>Non-Consumable</td>\n",
       "      <td>1.60</td>\n",
       "      <td>0.4960</td>\n",
       "      <td>1.0</td>\n",
       "      <td>Price Cutters</td>\n",
       "      <td>USA</td>\n",
       "      <td>S</td>\n",
       "      <td>F</td>\n",
       "      <td>...</td>\n",
       "      <td>15321.0</td>\n",
       "      <td>4294.0</td>\n",
       "      <td>2863.0</td>\n",
       "      <td>1.0</td>\n",
       "      <td>0.0</td>\n",
       "      <td>0.0</td>\n",
       "      <td>0.0</td>\n",
       "      <td>0.0</td>\n",
       "      <td>Sunday Paper</td>\n",
       "      <td>69.42</td>\n",
       "    </tr>\n",
       "    <tr>\n",
       "      <th>60425</th>\n",
       "      <td>Specialty</td>\n",
       "      <td>Carousel</td>\n",
       "      <td>Non-Consumable</td>\n",
       "      <td>5.52</td>\n",
       "      <td>2.5392</td>\n",
       "      <td>2.0</td>\n",
       "      <td>Weekend Markdown</td>\n",
       "      <td>USA</td>\n",
       "      <td>M</td>\n",
       "      <td>M</td>\n",
       "      <td>...</td>\n",
       "      <td>15321.0</td>\n",
       "      <td>4294.0</td>\n",
       "      <td>2863.0</td>\n",
       "      <td>1.0</td>\n",
       "      <td>0.0</td>\n",
       "      <td>0.0</td>\n",
       "      <td>0.0</td>\n",
       "      <td>0.0</td>\n",
       "      <td>Sunday Paper, Radio, TV</td>\n",
       "      <td>67.51</td>\n",
       "    </tr>\n",
       "    <tr>\n",
       "      <th>60426</th>\n",
       "      <td>Specialty</td>\n",
       "      <td>Carousel</td>\n",
       "      <td>Non-Consumable</td>\n",
       "      <td>8.28</td>\n",
       "      <td>2.5668</td>\n",
       "      <td>3.0</td>\n",
       "      <td>Sales Days</td>\n",
       "      <td>Canada</td>\n",
       "      <td>S</td>\n",
       "      <td>M</td>\n",
       "      <td>...</td>\n",
       "      <td>27463.0</td>\n",
       "      <td>4193.0</td>\n",
       "      <td>2795.0</td>\n",
       "      <td>1.0</td>\n",
       "      <td>0.0</td>\n",
       "      <td>0.0</td>\n",
       "      <td>0.0</td>\n",
       "      <td>1.0</td>\n",
       "      <td>Sunday Paper</td>\n",
       "      <td>132.88</td>\n",
       "    </tr>\n",
       "    <tr>\n",
       "      <th>60427</th>\n",
       "      <td>Specialty</td>\n",
       "      <td>Carousel</td>\n",
       "      <td>Non-Consumable</td>\n",
       "      <td>9.20</td>\n",
       "      <td>4.2320</td>\n",
       "      <td>4.0</td>\n",
       "      <td>Super Duper Savers</td>\n",
       "      <td>Canada</td>\n",
       "      <td>S</td>\n",
       "      <td>F</td>\n",
       "      <td>...</td>\n",
       "      <td>27463.0</td>\n",
       "      <td>4193.0</td>\n",
       "      <td>2795.0</td>\n",
       "      <td>1.0</td>\n",
       "      <td>0.0</td>\n",
       "      <td>0.0</td>\n",
       "      <td>0.0</td>\n",
       "      <td>1.0</td>\n",
       "      <td>Daily Paper, Radio</td>\n",
       "      <td>87.76</td>\n",
       "    </tr>\n",
       "  </tbody>\n",
       "</table>\n",
       "<p>60428 rows × 40 columns</p>\n",
       "</div>"
      ]
     },
     "metadata": {
      "application/vnd.databricks.v1+output": {
       "addedWidgets": {},
       "arguments": {},
       "data": "<div>\n<style scoped>\n    .dataframe tbody tr th:only-of-type {\n        vertical-align: middle;\n    }\n\n    .dataframe tbody tr th {\n        vertical-align: top;\n    }\n\n    .dataframe thead th {\n        text-align: right;\n    }\n</style>\n<table border=\"1\" class=\"dataframe\">\n  <thead>\n    <tr style=\"text-align: right;\">\n      <th></th>\n      <th>food_category</th>\n      <th>food_department</th>\n      <th>food_family</th>\n      <th>store_sales(in millions)</th>\n      <th>store_cost(in millions)</th>\n      <th>unit_sales(in millions)</th>\n      <th>promotion_name</th>\n      <th>sales_country</th>\n      <th>marital_status</th>\n      <th>gender</th>\n      <th>...</th>\n      <th>grocery_sqft</th>\n      <th>frozen_sqft</th>\n      <th>meat_sqft</th>\n      <th>coffee_bar</th>\n      <th>video_store</th>\n      <th>salad_bar</th>\n      <th>prepared_food</th>\n      <th>florist</th>\n      <th>media_type</th>\n      <th>cost</th>\n    </tr>\n  </thead>\n  <tbody>\n    <tr>\n      <th>0</th>\n      <td>Breakfast Foods</td>\n      <td>Frozen Foods</td>\n      <td>Food</td>\n      <td>7.36</td>\n      <td>2.7232</td>\n      <td>4.0</td>\n      <td>Bag Stuffers</td>\n      <td>USA</td>\n      <td>M</td>\n      <td>F</td>\n      <td>...</td>\n      <td>18670.0</td>\n      <td>5415.0</td>\n      <td>3610.0</td>\n      <td>1.0</td>\n      <td>1.0</td>\n      <td>1.0</td>\n      <td>1.0</td>\n      <td>1.0</td>\n      <td>Daily Paper, Radio</td>\n      <td>126.62</td>\n    </tr>\n    <tr>\n      <th>1</th>\n      <td>Breakfast Foods</td>\n      <td>Frozen Foods</td>\n      <td>Food</td>\n      <td>5.52</td>\n      <td>2.5944</td>\n      <td>3.0</td>\n      <td>Cash Register Lottery</td>\n      <td>USA</td>\n      <td>M</td>\n      <td>M</td>\n      <td>...</td>\n      <td>18670.0</td>\n      <td>5415.0</td>\n      <td>3610.0</td>\n      <td>1.0</td>\n      <td>1.0</td>\n      <td>1.0</td>\n      <td>1.0</td>\n      <td>1.0</td>\n      <td>Daily Paper, Radio</td>\n      <td>59.86</td>\n    </tr>\n    <tr>\n      <th>2</th>\n      <td>Breakfast Foods</td>\n      <td>Frozen Foods</td>\n      <td>Food</td>\n      <td>3.68</td>\n      <td>1.3616</td>\n      <td>2.0</td>\n      <td>High Roller Savings</td>\n      <td>USA</td>\n      <td>S</td>\n      <td>F</td>\n      <td>...</td>\n      <td>18670.0</td>\n      <td>5415.0</td>\n      <td>3610.0</td>\n      <td>1.0</td>\n      <td>1.0</td>\n      <td>1.0</td>\n      <td>1.0</td>\n      <td>1.0</td>\n      <td>Daily Paper, Radio</td>\n      <td>84.16</td>\n    </tr>\n    <tr>\n      <th>3</th>\n      <td>Breakfast Foods</td>\n      <td>Frozen Foods</td>\n      <td>Food</td>\n      <td>3.68</td>\n      <td>1.1776</td>\n      <td>2.0</td>\n      <td>Cash Register Lottery</td>\n      <td>USA</td>\n      <td>M</td>\n      <td>F</td>\n      <td>...</td>\n      <td>18670.0</td>\n      <td>5415.0</td>\n      <td>3610.0</td>\n      <td>1.0</td>\n      <td>1.0</td>\n      <td>1.0</td>\n      <td>1.0</td>\n      <td>1.0</td>\n      <td>In-Store Coupon</td>\n      <td>95.78</td>\n    </tr>\n    <tr>\n      <th>4</th>\n      <td>Breakfast Foods</td>\n      <td>Frozen Foods</td>\n      <td>Food</td>\n      <td>4.08</td>\n      <td>1.4280</td>\n      <td>3.0</td>\n      <td>Double Down Sale</td>\n      <td>USA</td>\n      <td>M</td>\n      <td>M</td>\n      <td>...</td>\n      <td>18670.0</td>\n      <td>5415.0</td>\n      <td>3610.0</td>\n      <td>1.0</td>\n      <td>1.0</td>\n      <td>1.0</td>\n      <td>1.0</td>\n      <td>1.0</td>\n      <td>Radio</td>\n      <td>50.79</td>\n    </tr>\n    <tr>\n      <th>...</th>\n      <td>...</td>\n      <td>...</td>\n      <td>...</td>\n      <td>...</td>\n      <td>...</td>\n      <td>...</td>\n      <td>...</td>\n      <td>...</td>\n      <td>...</td>\n      <td>...</td>\n      <td>...</td>\n      <td>...</td>\n      <td>...</td>\n      <td>...</td>\n      <td>...</td>\n      <td>...</td>\n      <td>...</td>\n      <td>...</td>\n      <td>...</td>\n      <td>...</td>\n      <td>...</td>\n    </tr>\n    <tr>\n      <th>60423</th>\n      <td>Specialty</td>\n      <td>Carousel</td>\n      <td>Non-Consumable</td>\n      <td>2.76</td>\n      <td>1.3248</td>\n      <td>1.0</td>\n      <td>You Save Days</td>\n      <td>USA</td>\n      <td>M</td>\n      <td>F</td>\n      <td>...</td>\n      <td>15321.0</td>\n      <td>4294.0</td>\n      <td>2863.0</td>\n      <td>1.0</td>\n      <td>0.0</td>\n      <td>0.0</td>\n      <td>0.0</td>\n      <td>0.0</td>\n      <td>In-Store Coupon</td>\n      <td>95.25</td>\n    </tr>\n    <tr>\n      <th>60424</th>\n      <td>Specialty</td>\n      <td>Carousel</td>\n      <td>Non-Consumable</td>\n      <td>1.60</td>\n      <td>0.4960</td>\n      <td>1.0</td>\n      <td>Price Cutters</td>\n      <td>USA</td>\n      <td>S</td>\n      <td>F</td>\n      <td>...</td>\n      <td>15321.0</td>\n      <td>4294.0</td>\n      <td>2863.0</td>\n      <td>1.0</td>\n      <td>0.0</td>\n      <td>0.0</td>\n      <td>0.0</td>\n      <td>0.0</td>\n      <td>Sunday Paper</td>\n      <td>69.42</td>\n    </tr>\n    <tr>\n      <th>60425</th>\n      <td>Specialty</td>\n      <td>Carousel</td>\n      <td>Non-Consumable</td>\n      <td>5.52</td>\n      <td>2.5392</td>\n      <td>2.0</td>\n      <td>Weekend Markdown</td>\n      <td>USA</td>\n      <td>M</td>\n      <td>M</td>\n      <td>...</td>\n      <td>15321.0</td>\n      <td>4294.0</td>\n      <td>2863.0</td>\n      <td>1.0</td>\n      <td>0.0</td>\n      <td>0.0</td>\n      <td>0.0</td>\n      <td>0.0</td>\n      <td>Sunday Paper, Radio, TV</td>\n      <td>67.51</td>\n    </tr>\n    <tr>\n      <th>60426</th>\n      <td>Specialty</td>\n      <td>Carousel</td>\n      <td>Non-Consumable</td>\n      <td>8.28</td>\n      <td>2.5668</td>\n      <td>3.0</td>\n      <td>Sales Days</td>\n      <td>Canada</td>\n      <td>S</td>\n      <td>M</td>\n      <td>...</td>\n      <td>27463.0</td>\n      <td>4193.0</td>\n      <td>2795.0</td>\n      <td>1.0</td>\n      <td>0.0</td>\n      <td>0.0</td>\n      <td>0.0</td>\n      <td>1.0</td>\n      <td>Sunday Paper</td>\n      <td>132.88</td>\n    </tr>\n    <tr>\n      <th>60427</th>\n      <td>Specialty</td>\n      <td>Carousel</td>\n      <td>Non-Consumable</td>\n      <td>9.20</td>\n      <td>4.2320</td>\n      <td>4.0</td>\n      <td>Super Duper Savers</td>\n      <td>Canada</td>\n      <td>S</td>\n      <td>F</td>\n      <td>...</td>\n      <td>27463.0</td>\n      <td>4193.0</td>\n      <td>2795.0</td>\n      <td>1.0</td>\n      <td>0.0</td>\n      <td>0.0</td>\n      <td>0.0</td>\n      <td>1.0</td>\n      <td>Daily Paper, Radio</td>\n      <td>87.76</td>\n    </tr>\n  </tbody>\n</table>\n<p>60428 rows × 40 columns</p>\n</div>",
       "datasetInfos": [],
       "metadata": {},
       "removedWidgets": [],
       "textData": null,
       "type": "htmlSandbox"
      }
     },
     "output_type": "display_data"
    }
   ],
   "source": [
    "df_raw"
   ]
  },
  {
   "cell_type": "code",
   "execution_count": 0,
   "metadata": {
    "application/vnd.databricks.v1+cell": {
     "cellMetadata": {
      "byteLimit": 2048000,
      "rowLimit": 10000
     },
     "inputWidgets": {},
     "nuid": "4c746942-7dfe-4284-8a00-9966796293f8",
     "showTitle": false,
     "title": ""
    }
   },
   "outputs": [
    {
     "output_type": "stream",
     "name": "stdout",
     "output_type": "stream",
     "text": [
      "Requirement already satisfied: requests in /databricks/python3/lib/python3.9/site-packages (2.26.0)\r\nRequirement already satisfied: idna<4,>=2.5 in /databricks/python3/lib/python3.9/site-packages (from requests) (3.2)\r\nRequirement already satisfied: charset-normalizer~=2.0.0 in /databricks/python3/lib/python3.9/site-packages (from requests) (2.0.4)\r\nRequirement already satisfied: urllib3<1.27,>=1.21.1 in /databricks/python3/lib/python3.9/site-packages (from requests) (1.26.7)\r\nRequirement already satisfied: certifi>=2017.4.17 in /databricks/python3/lib/python3.9/site-packages (from requests) (2021.10.8)\r\n\u001B[33mWARNING: You are using pip version 21.2.4; however, version 23.1.2 is available.\r\nYou should consider upgrading via the '/local_disk0/.ephemeral_nfs/envs/pythonEnv-c4a43444-0770-4344-a691-cf0c4c645aea/bin/python -m pip install --upgrade pip' command.\u001B[0m\r\nRequirement already satisfied: tabulate in /local_disk0/.ephemeral_nfs/cluster_libraries/python/lib/python3.9/site-packages (0.9.0)\r\n\u001B[33mWARNING: You are using pip version 21.2.4; however, version 23.1.2 is available.\r\nYou should consider upgrading via the '/local_disk0/.ephemeral_nfs/envs/pythonEnv-c4a43444-0770-4344-a691-cf0c4c645aea/bin/python -m pip install --upgrade pip' command.\u001B[0m\r\n/bin/bash: -c: line 0: unexpected EOF while looking for matching `\"'\r\n/bin/bash: -c: line 1: syntax error: unexpected end of file\r\nCollecting future\r\n  Downloading future-0.18.3.tar.gz (840 kB)\r\n\u001B[?25l\r\u001B[K     |▍                               | 10 kB 26.3 MB/s eta 0:00:01\r\u001B[K     |▉                               | 20 kB 34.6 MB/s eta 0:00:01\r\u001B[K     |█▏                              | 30 kB 45.0 MB/s eta 0:00:01\r\u001B[K     |█▋                              | 40 kB 23.2 MB/s eta 0:00:01\r\u001B[K     |██                              | 51 kB 27.0 MB/s eta 0:00:01\r\u001B[K     |██▍                             | 61 kB 31.1 MB/s eta 0:00:01\r\u001B[K     |██▊                             | 71 kB 24.7 MB/s eta 0:00:01\r\u001B[K     |███▏                            | 81 kB 27.3 MB/s eta 0:00:01\r\u001B[K     |███▌                            | 92 kB 29.8 MB/s eta 0:00:01\r\u001B[K     |████                            | 102 kB 30.2 MB/s eta 0:00:01\r\u001B[K     |████▎                           | 112 kB 30.2 MB/s eta 0:00:01\r\u001B[K     |████▊                           | 122 kB 30.2 MB/s eta 0:00:01\r\u001B[K     |█████                           | 133 kB 30.2 MB/s eta 0:00:01\r\u001B[K     |█████▌                          | 143 kB 30.2 MB/s eta 0:00:01\r\u001B[K     |█████▉                          | 153 kB 30.2 MB/s eta 0:00:01\r\u001B[K     |██████▎                         | 163 kB 30.2 MB/s eta 0:00:01\r\u001B[K     |██████▋                         | 174 kB 30.2 MB/s eta 0:00:01\r\u001B[K     |███████                         | 184 kB 30.2 MB/s eta 0:00:01\r\u001B[K     |███████▍                        | 194 kB 30.2 MB/s eta 0:00:01\r\u001B[K     |███████▉                        | 204 kB 30.2 MB/s eta 0:00:01\r\u001B[K     |████████▏                       | 215 kB 30.2 MB/s eta 0:00:01\r\u001B[K     |████████▋                       | 225 kB 30.2 MB/s eta 0:00:01\r\u001B[K     |█████████                       | 235 kB 30.2 MB/s eta 0:00:01\r\u001B[K     |█████████▍                      | 245 kB 30.2 MB/s eta 0:00:01\r\u001B[K     |█████████▊                      | 256 kB 30.2 MB/s eta 0:00:01\r\u001B[K     |██████████▏                     | 266 kB 30.2 MB/s eta 0:00:01\r\u001B[K     |██████████▌                     | 276 kB 30.2 MB/s eta 0:00:01\r\u001B[K     |███████████                     | 286 kB 30.2 MB/s eta 0:00:01\r\u001B[K     |███████████▎                    | 296 kB 30.2 MB/s eta 0:00:01\r\u001B[K     |███████████▊                    | 307 kB 30.2 MB/s eta 0:00:01\r\u001B[K     |████████████                    | 317 kB 30.2 MB/s eta 0:00:01\r\u001B[K     |████████████▌                   | 327 kB 30.2 MB/s eta 0:00:01\r\u001B[K     |████████████▉                   | 337 kB 30.2 MB/s eta 0:00:01\r\u001B[K     |█████████████▎                  | 348 kB 30.2 MB/s eta 0:00:01\r\u001B[K     |█████████████▋                  | 358 kB 30.2 MB/s eta 0:00:01\r\u001B[K     |██████████████                  | 368 kB 30.2 MB/s eta 0:00:01\r\u001B[K     |██████████████▍                 | 378 kB 30.2 MB/s eta 0:00:01\r\u001B[K     |██████████████▉                 | 389 kB 30.2 MB/s eta 0:00:01\r\u001B[K     |███████████████▏                | 399 kB 30.2 MB/s eta 0:00:01\r\u001B[K     |███████████████▋                | 409 kB 30.2 MB/s eta 0:00:01\r\u001B[K     |████████████████                | 419 kB 30.2 MB/s eta 0:00:01\r\u001B[K     |████████████████▍               | 430 kB 30.2 MB/s eta 0:00:01\r\u001B[K     |████████████████▊               | 440 kB 30.2 MB/s eta 0:00:01\r\u001B[K     |█████████████████▏              | 450 kB 30.2 MB/s eta 0:00:01\r\u001B[K     |█████████████████▌              | 460 kB 30.2 MB/s eta 0:00:01\r\u001B[K     |██████████████████              | 471 kB 30.2 MB/s eta 0:00:01\r\u001B[K     |██████████████████▎             | 481 kB 30.2 MB/s eta 0:00:01\r\u001B[K     |██████████████████▊             | 491 kB 30.2 MB/s eta 0:00:01\r\u001B[K     |███████████████████             | 501 kB 30.2 MB/s eta 0:00:01\r\u001B[K     |███████████████████▌            | 512 kB 30.2 MB/s eta 0:00:01\r\u001B[K     |███████████████████▉            | 522 kB 30.2 MB/s eta 0:00:01\r\u001B[K     |████████████████████▎           | 532 kB 30.2 MB/s eta 0:00:01\r\u001B[K     |████████████████████▋           | 542 kB 30.2 MB/s eta 0:00:01\r\u001B[K     |█████████████████████           | 552 kB 30.2 MB/s eta 0:00:01\r\u001B[K     |█████████████████████▍          | 563 kB 30.2 MB/s eta 0:00:01\r\u001B[K     |█████████████████████▉          | 573 kB 30.2 MB/s eta 0:00:01\r\u001B[K     |██████████████████████▏         | 583 kB 30.2 MB/s eta 0:00:01\r\u001B[K     |██████████████████████▋         | 593 kB 30.2 MB/s eta 0:00:01\r\u001B[K     |███████████████████████         | 604 kB 30.2 MB/s eta 0:00:01\r\u001B[K     |███████████████████████▍        | 614 kB 30.2 MB/s eta 0:00:01\r\u001B[K     |███████████████████████▊        | 624 kB 30.2 MB/s eta 0:00:01\r\u001B[K     |████████████████████████▏       | 634 kB 30.2 MB/s eta 0:00:01\r\u001B[K     |████████████████████████▌       | 645 kB 30.2 MB/s eta 0:00:01\r\u001B[K     |█████████████████████████       | 655 kB 30.2 MB/s eta 0:00:01\r\u001B[K     |█████████████████████████▎      | 665 kB 30.2 MB/s eta 0:00:01\r\u001B[K     |█████████████████████████▊      | 675 kB 30.2 MB/s eta 0:00:01\r\u001B[K     |██████████████████████████      | 686 kB 30.2 MB/s eta 0:00:01\r\u001B[K     |██████████████████████████▌     | 696 kB 30.2 MB/s eta 0:00:01\r\u001B[K     |██████████████████████████▉     | 706 kB 30.2 MB/s eta 0:00:01\r\u001B[K     |███████████████████████████▎    | 716 kB 30.2 MB/s eta 0:00:01\r\u001B[K     |███████████████████████████▊    | 727 kB 30.2 MB/s eta 0:00:01\r\u001B[K     |████████████████████████████    | 737 kB 30.2 MB/s eta 0:00:01\r\u001B[K     |████████████████████████████▌   | 747 kB 30.2 MB/s eta 0:00:01\r\u001B[K     |████████████████████████████▉   | 757 kB 30.2 MB/s eta 0:00:01\r\u001B[K     |█████████████████████████████▎  | 768 kB 30.2 MB/s eta 0:00:01\r\u001B[K     |█████████████████████████████▋  | 778 kB 30.2 MB/s eta 0:00:01\r\u001B[K     |██████████████████████████████  | 788 kB 30.2 MB/s eta 0:00:01\r\u001B[K     |██████████████████████████████▍ | 798 kB 30.2 MB/s eta 0:00:01\r\u001B[K     |██████████████████████████████▉ | 808 kB 30.2 MB/s eta 0:00:01\r\u001B[K     |███████████████████████████████▏| 819 kB 30.2 MB/s eta 0:00:01\r\u001B[K     |███████████████████████████████▋| 829 kB 30.2 MB/s eta 0:00:01\r\u001B[K     |████████████████████████████████| 839 kB 30.2 MB/s eta 0:00:01\r\u001B[K     |████████████████████████████████| 840 kB 30.2 MB/s \r\n\u001B[?25hBuilding wheels for collected packages: future\r\n  Building wheel for future (setup.py) ... \u001B[?25l-\b \b\\\b \b|\b \bdone\r\n\u001B[?25h  Created wheel for future: filename=future-0.18.3-py3-none-any.whl size=492036 sha256=afda1222b3fc66df8daacff233f12d003970fed22b18cbd8fc9e4a7f24ad2e78\r\n  Stored in directory: /root/.cache/pip/wheels/bf/5d/6a/2e53874f7ec4e2bede522385439531fafec8fafe005b5c3d1b\r\nSuccessfully built future\r\nInstalling collected packages: future\r\nSuccessfully installed future-0.18.3\r\n\u001B[33mWARNING: You are using pip version 21.2.4; however, version 23.1.2 is available.\r\nYou should consider upgrading via the '/local_disk0/.ephemeral_nfs/envs/pythonEnv-c4a43444-0770-4344-a691-cf0c4c645aea/bin/python -m pip install --upgrade pip' command.\u001B[0m\r\nLooking in links: http://h2o-release.s3.amazonaws.com/h2o/latest_stable_Py.html\r\n\u001B[33mWARNING: The repository located at h2o-release.s3.amazonaws.com is not a trusted or secure host and is being ignored. If this repository is available via HTTPS we recommend you use HTTPS instead, otherwise you may silence this warning and allow it anyway with '--trusted-host h2o-release.s3.amazonaws.com'.\u001B[0m\r\nCollecting h2o\r\n  Downloading h2o-3.40.0.3.tar.gz (177.6 MB)\r\n\u001B[?25l\r\u001B[K     |                                | 10 kB 35.5 MB/s eta 0:00:06\r\u001B[K     |                                | 20 kB 36.4 MB/s eta 0:00:05\r\u001B[K     |                                | 30 kB 44.7 MB/s eta 0:00:04\r\u001B[K     |                                | 40 kB 21.5 MB/s eta 0:00:09\r\u001B[K     |                                | 51 kB 20.1 MB/s eta 0:00:09\r\u001B[K     |                                | 61 kB 23.1 MB/s eta 0:00:08\r\u001B[K     |                                | 71 kB 24.2 MB/s eta 0:00:08\r\u001B[K     |                                | 81 kB 26.8 MB/s eta 0:00:07\r\u001B[K     |                                | 92 kB 27.2 MB/s eta 0:00:07\r\u001B[K     |                                | 102 kB 28.2 MB/s eta 0:00:07\r\u001B[K     |                                | 112 kB 28.2 MB/s eta 0:00:07\r\u001B[K     |                                | 122 kB 28.2 MB/s eta 0:00:07\r\u001B[K     |                                | 133 kB 28.2 MB/s eta 0:00:07\r\u001B[K     |                                | 143 kB 28.2 MB/s eta 0:00:07\r\u001B[K     |                                | 153 kB 28.2 MB/s eta 0:00:07\r\u001B[K     |                                | 163 kB 28.2 MB/s eta 0:00:07\r\u001B[K     |                                | 174 kB 28.2 MB/s eta 0:00:07\r\u001B[K     |                                | 184 kB 28.2 MB/s eta 0:00:07\r\u001B[K     |                                | 194 kB 28.2 MB/s eta 0:00:07\r\u001B[K     |                                | 204 kB 28.2 MB/s eta 0:00:07\r\u001B[K     |                                | 215 kB 28.2 MB/s eta 0:00:07\r\u001B[K     |                                | 225 kB 28.2 MB/s eta 0:00:07\r\u001B[K     |                                | 235 kB 28.2 MB/s eta 0:00:07\r\u001B[K     |                                | 245 kB 28.2 MB/s eta 0:00:07\r\u001B[K     |                                | 256 kB 28.2 MB/s eta 0:00:07\r\u001B[K     |                                | 266 kB 28.2 MB/s eta 0:00:07\r\u001B[K     |                                | 276 kB 28.2 MB/s eta 0:00:07\r\u001B[K     |                                | 286 kB 28.2 MB/s eta 0:00:07\r\u001B[K     |                                | 296 kB 28.2 MB/s eta 0:00:07\r\u001B[K     |                                | 307 kB 28.2 MB/s eta 0:00:07\r\u001B[K     |                                | 317 kB 28.2 MB/s eta 0:00:07\r\u001B[K     |                                | 327 kB 28.2 MB/s eta 0:00:07\r\u001B[K     |                                | 337 kB 28.2 MB/s eta 0:00:07\r\u001B[K     |                                | 348 kB 28.2 MB/s eta 0:00:07\r\u001B[K     |                                | 358 kB 28.2 MB/s eta 0:00:07\r\u001B[K     |                                | 368 kB 28.2 MB/s eta 0:00:07\r\u001B[K     |                                | 378 kB 28.2 MB/s eta 0:00:07\r\u001B[K     |                                | 389 kB 28.2 MB/s eta 0:00:07\r\u001B[K     |                                | 399 kB 28.2 MB/s eta 0:00:07\r\u001B[K     |                                | 409 kB 28.2 MB/s eta 0:00:07\r\u001B[K     |                                | 419 kB 28.2 MB/s eta 0:00:07\r\u001B[K     |                                | 430 kB 28.2 MB/s eta 0:00:07\r\u001B[K     |                                | 440 kB 28.2 MB/s eta 0:00:07\r\u001B[K     |                                | 450 kB 28.2 MB/s eta 0:00:07\r\u001B[K     |                                | 460 kB 28.2 MB/s eta 0:00:07\r\u001B[K     |                                | 471 kB 28.2 MB/s eta 0:00:07\r\u001B[K     |                                | 481 kB 28.2 MB/s eta 0:00:07\r\u001B[K     |                                | 491 kB 28.2 MB/s eta 0:00:07\r\u001B[K     |                                | 501 kB 28.2 MB/s eta 0:00:07\r\u001B[K     |                                | 512 kB 28.2 MB/s eta 0:00:07\r\u001B[K     |                                | 522 kB 28.2 MB/s eta 0:00:07\r\u001B[K     |                                | 532 kB 28.2 MB/s eta 0:00:07\r\u001B[K     |                                | 542 kB 28.2 MB/s eta 0:00:07\r\u001B[K     |                                | 552 kB 28.2 MB/s eta 0:00:07\r\u001B[K     |                                | 563 kB 28.2 MB/s eta 0:00:07\r\u001B[K     |                                | 573 kB 28.2 MB/s eta 0:00:07\r\u001B[K     |                                | 583 kB 28.2 MB/s eta 0:00:07\r\u001B[K     |                                | 593 kB 28.2 MB/s eta 0:00:07\r\u001B[K     |                                | 604 kB 28.2 MB/s eta 0:00:07\r\u001B[K     |                                | 614 kB 28.2 MB/s eta 0:00:07\r\u001B[K     |▏                               | 624 kB 28.2 MB/s eta 0:00:07\r\u001B[K     |▏                               | 634 kB 28.2 MB/s eta 0:00:07\r\u001B[K     |▏                               | 645 kB 28.2 MB/s eta 0:00:07\r\u001B[K     |▏                               | 655 kB 28.2 MB/s eta 0:00:07\r\u001B[K     |▏                               | 665 kB 28.2 MB/s eta 0:00:07\r\u001B[K     |▏                               | 675 kB 28.2 MB/s eta 0:00:07\r\u001B[K     |▏                               | 686 kB 28.2 MB/s eta 0:00:07\r\u001B[K     |▏                               | 696 kB 28.2 MB/s eta 0:00:07\r\u001B[K     |▏                               | 706 kB 28.2 MB/s eta 0:00:07\r\u001B[K     |▏                               | 716 kB 28.2 MB/s eta 0:00:07\r\u001B[K     |▏                               | 727 kB 28.2 MB/s eta 0:00:07\r\u001B[K     |▏                               | 737 kB 28.2 MB/s eta 0:00:07\r\u001B[K     |▏                               | 747 kB 28.2 MB/s eta 0:00:07\r\u001B[K     |▏                               | 757 kB 28.2 MB/s eta 0:00:07\r\u001B[K     |▏                               | 768 kB 28.2 MB/s eta 0:00:07\r\u001B[K     |▏                               | 778 kB 28.2 MB/s eta 0:00:07\r\u001B[K     |▏                               | 788 kB 28.2 MB/s eta 0:00:07\r\u001B[K     |▏                               | 798 kB 28.2 MB/s eta 0:00:07\r\u001B[K     |▏                               | 808 kB 28.2 MB/s eta 0:00:07\r\u001B[K     |▏                               | 819 kB 28.2 MB/s eta 0:00:07\r\u001B[K     |▏                               | 829 kB 28.2 MB/s eta 0:00:07\r\u001B[K     |▏                               | 839 kB 28.2 MB/s eta 0:00:07\r\u001B[K     |▏                               | 849 kB 28.2 MB/s eta 0:00:07\r\u001B[K     |▏                               | 860 kB 28.2 MB/s eta 0:00:07\r\u001B[K     |▏                               | 870 kB 28.2 MB/s eta 0:00:07\r\u001B[K     |▏                               | 880 kB 28.2 MB/s eta 0:00:07\r\u001B[K     |▏                               | 890 kB 28.2 MB/s eta 0:00:07\r\u001B[K     |▏                               | 901 kB 28.2 MB/s eta 0:00:07\r\u001B[K     |▏                               | 911 kB 28.2 MB/s eta 0:00:07\r\u001B[K     |▏                               | 921 kB 28.2 MB/s eta 0:00:07\r\u001B[K     |▏                               | 931 kB 28.2 MB/s eta 0:00:07\r\u001B[K     |▏                               | 942 kB 28.2 MB/s eta 0:00:07\r\u001B[K     |▏                               | 952 kB 28.2 MB/s eta 0:00:07\r\u001B[K     |▏                               | 962 kB 28.2 MB/s eta 0:00:07\r\u001B[K     |▏                               | 972 kB 28.2 MB/s eta 0:00:07\r\u001B[K     |▏                               | 983 kB 28.2 MB/s eta 0:00:07\r\u001B[K     |▏                               | 993 kB 28.2 MB/s eta 0:00:07\r\u001B[K     |▏                               | 1.0 MB 28.2 MB/s eta 0:00:07\r\u001B[K     |▏                               | 1.0 MB 28.2 MB/s eta 0:00:07\r\u001B[K     |▏                               | 1.0 MB 28.2 MB/s eta 0:00:07\r\u001B[K     |▏                               | 1.0 MB 28.2 MB/s eta 0:00:07\r\u001B[K     |▏                               | 1.0 MB 28.2 MB/s eta 0:00:07\r\u001B[K     |▏                               | 1.1 MB 28.2 MB/s eta 0:00:07\r\u001B[K     |▏                               | 1.1 MB 28.2 MB/s eta 0:00:07\r\u001B[K     |▏                               | 1.1 MB 28.2 MB/s eta 0:00:07\r\u001B[K     |▏                               | 1.1 MB 28.2 MB/s eta 0:00:07\r\u001B[K     |▏                               | 1.1 MB 28.2 MB/s eta 0:00:07\r\u001B[K     |▏                               | 1.1 MB 28.2 MB/s eta 0:00:07\r\u001B[K     |▏                               | 1.1 MB 28.2 MB/s eta 0:00:07\r\u001B[K     |▏                               | 1.1 MB 28.2 MB/s eta 0:00:07\r\u001B[K     |▏                               | 1.1 MB 28.2 MB/s eta 0:00:07\r\u001B[K     |▏                               | 1.1 MB 28.2 MB/s eta 0:00:07\r\u001B[K     |▏                               | 1.2 MB 28.2 MB/s eta 0:00:07\r\u001B[K     |▏                               | 1.2 MB 28.2 MB/s eta 0:00:07\r\u001B[K     |▏                               | 1.2 MB 28.2 MB/s eta 0:00:07\r\u001B[K     |▏                               | 1.2 MB 28.2 MB/s eta 0:00:07\r\u001B[K     |▏                               | 1.2 MB 28.2 MB/s eta 0:00:07\r\u001B[K     |▏                               | 1.2 MB 28.2 MB/s eta 0:00:07\r\u001B[K     |▏                               | 1.2 MB 28.2 MB/s eta 0:00:07\r\u001B[K     |▏                               | 1.2 MB 28.2 MB/s eta 0:00:07\r\u001B[K     |▎                               | 1.2 MB 28.2 MB/s eta 0:00:07\r\u001B[K     |▎                               | 1.2 MB 28.2 MB/s eta 0:00:07\r\u001B[K     |▎                               | 1.3 MB 28.2 MB/s eta 0:00:07\r\u001B[K     |▎                               | 1.3 MB 28.2 MB/s eta 0:00:07\r\u001B[K     |▎                               | 1.3 MB 28.2 MB/s eta 0:00:07\r\u001B[K     |▎                               | 1.3 MB 28.2 MB/s eta 0:00:07\r\u001B[K     |▎                               | 1.3 MB 28.2 MB/s eta 0:00:07\r\u001B[K     |▎                               | 1.3 MB 28.2 MB/s eta 0:00:07\r\u001B[K     |▎                               | 1.3 MB 28.2 MB/s eta 0:00:07\r\u001B[K     |▎                               | 1.3 MB 28.2 MB/s eta 0:00:07\r\u001B[K     |▎                               | 1.3 MB 28.2 MB/s eta 0:00:07\r\u001B[K     |▎                               | 1.4 MB 28.2 MB/s eta 0:00:07\r\u001B[K     |▎                               | 1.4 MB 28.2 MB/s eta 0:00:07\r\u001B[K     |▎                               | 1.4 MB 28.2 MB/s eta 0:00:07\r\u001B[K     |▎                               | 1.4 MB 28.2 MB/s eta 0:00:07\r\u001B[K     |▎                               | 1.4 MB 28.2 MB/s eta 0:00:07\r\u001B[K     |▎                               | 1.4 MB 28.2 MB/s eta 0:00:07\r\u001B[K     |▎                               | 1.4 MB 28.2 MB/s eta 0:00:07\r\u001B[K     |▎                               | 1.4 MB 28.2 MB/s eta 0:00:07\r\u001B[K     |▎                               | 1.4 MB 28.2 MB/s eta 0:00:07\r\u001B[K     |▎                               | 1.4 MB 28.2 MB/s eta 0:00:07\r\u001B[K     |▎                               | 1.5 MB 28.2 MB/s eta 0:00:07\r\u001B[K     |▎                               | 1.5 MB 28.2 MB/s eta 0:00:07\r\u001B[K     |▎                               | 1.5 MB 28.2 MB/s eta 0:00:07\r\u001B[K     |▎                               | 1.5 MB 28.2 MB/s eta 0:00:07\r\u001B[K     |▎                               | 1.5 MB 28.2 MB/s eta 0:00:07\r\u001B[K     |▎                               | 1.5 MB 28.2 MB/s eta 0:00:07\r\u001B[K     |▎                               | 1.5 MB 28.2 MB/s eta 0:00:07\r\u001B[K     |▎                               | 1.5 MB 28.2 MB/s eta 0:00:07\r\u001B[K     |▎                               | 1.5 MB 28.2 MB/s eta 0:00:07\r\u001B[K     |▎                               | 1.5 MB 28.2 MB/s eta 0:00:07\r\u001B[K     |▎                               | 1.6 MB 28.2 MB/s eta 0:00:07\r\u001B[K     |▎                               | 1.6 MB 28.2 MB/s eta 0:00:07\r\u001B[K     |▎                               | 1.6 MB 28.2 MB/s eta 0:00:07\r\u001B[K     |▎                               | 1.6 MB 28.2 MB/s eta 0:00:07\r\u001B[K     |▎                               | 1.6 MB 28.2 MB/s eta 0:00:07\r\u001B[K     |▎                               | 1.6 MB 28.2 MB/s eta 0:00:07\r\u001B[K     |▎                               | 1.6 MB 28.2 MB/s eta 0:00:07\r\u001B[K     |▎                               | 1.6 MB 28.2 MB/s eta 0:00:07\r\u001B[K     |▎                               | 1.6 MB 28.2 MB/s eta 0:00:07\r\u001B[K     |▎                               | 1.6 MB 28.2 MB/s eta 0:00:07\r\u001B[K     |▎                               | 1.7 MB 28.2 MB/s eta 0:00:07\r\u001B[K     |▎                               | 1.7 MB 28.2 MB/s eta 0:00:07\r\u001B[K     |▎                               | 1.7 MB 28.2 MB/s eta 0:00:07\r\u001B[K     |▎                               | 1.7 MB 28.2 MB/s eta 0:00:07\r\u001B[K     |▎                               | 1.7 MB 28.2 MB/s eta 0:00:07\r\u001B[K     |▎                               | 1.7 MB 28.2 MB/s eta 0:00:07\r\u001B[K     |▎                               | 1.7 MB 28.2 MB/s eta 0:00:07\r\u001B[K     |▎                               | 1.7 MB 28.2 MB/s eta 0:00:07\r\u001B[K     |▎                               | 1.7 MB 28.2 MB/s eta 0:00:07\r\u001B[K     |▎                               | 1.8 MB 28.2 MB/s eta 0:00:07\r\u001B[K     |▎                               | 1.8 MB 28.2 MB/s eta 0:00:07\r\u001B[K     |▎                               | 1.8 MB 28.2 MB/s eta 0:00:07\r\u001B[K     |▎                               | 1.8 MB 28.2 MB/s eta 0:00:07\r\u001B[K     |▎                               | 1.8 MB 28.2 MB/s eta 0:00:07\r\u001B[K     |▎                               | 1.8 MB 28.2 MB/s eta 0:00:07\r\u001B[K     |▎                               | 1.8 MB 28.2 MB/s eta 0:00:07\r\u001B[K     |▎                               | 1.8 MB 28.2 MB/s eta 0:00:07\r\u001B[K     |▎                               | 1.8 MB 28.2 MB/s eta 0:00:07\r\u001B[K     |▎                               | 1.8 MB 28.2 MB/s eta 0:00:07\r\u001B[K     |▍                               | 1.9 MB 28.2 MB/s eta 0:00:07\r\u001B[K     |▍                               | 1.9 MB 28.2 MB/s eta 0:00:07\r\u001B[K     |▍                               | 1.9 MB 28.2 MB/s eta 0:00:07\r\u001B[K     |▍                               | 1.9 MB 28.2 MB/s eta 0:00:07\r\u001B[K     |▍                               | 1.9 MB 28.2 MB/s eta 0:00:07\r\u001B[K     |▍                               | 1.9 MB 28.2 MB/s eta 0:00:07\r\u001B[K     |▍                               | 1.9 MB 28.2 MB/s eta 0:00:07\r\u001B[K     |▍                               | 1.9 MB 28.2 MB/s eta 0:00:07\r\u001B[K     |▍                               | 1.9 MB 28.2 MB/s eta 0:00:07\r\u001B[K     |▍                               | 1.9 MB 28.2 MB/s eta 0:00:07\r\u001B[K     |▍                               | 2.0 MB 28.2 MB/s eta 0:00:07\r\u001B[K     |▍                               | 2.0 MB 28.2 MB/s eta 0:00:07\r\u001B[K     |▍                               | 2.0 MB 28.2 MB/s eta 0:00:07\r\u001B[K     |▍                               | 2.0 MB 28.2 MB/s eta 0:00:07\r\u001B[K     |▍                               | 2.0 MB 28.2 MB/s eta 0:00:07\r\u001B[K     |▍                               | 2.0 MB 28.2 MB/s eta 0:00:07\r\u001B[K     |▍                               | 2.0 MB 28.2 MB/s eta 0:00:07\r\u001B[K     |▍                               | 2.0 MB 28.2 MB/s eta 0:00:07\r\u001B[K     |▍                               | 2.0 MB 28.2 MB/s eta 0:00:07\r\u001B[K     |▍                               | 2.0 MB 28.2 MB/s eta 0:00:07\r\u001B[K     |▍                               | 2.1 MB 28.2 MB/s eta 0:00:07\r\u001B[K     |▍                               | 2.1 MB 28.2 MB/s eta 0:00:07\r\u001B[K     |▍                               | 2.1 MB 28.2 MB/s eta 0:00:07\r\u001B[K     |▍                               | 2.1 MB 28.2 MB/s eta 0:00:07\r\u001B[K     |▍                               | 2.1 MB 28.2 MB/s eta 0:00:07\r\u001B[K     |▍                               | 2.1 MB 28.2 MB/s eta 0:00:07\r\u001B[K     |▍                               | 2.1 MB 28.2 MB/s eta 0:00:07\r\u001B[K     |▍                               | 2.1 MB 28.2 MB/s eta 0:00:07\r\u001B[K     |▍                               | 2.1 MB 28.2 MB/s eta 0:00:07\r\u001B[K     |▍                               | 2.2 MB 28.2 MB/s eta 0:00:07\r\u001B[K     |▍                               | 2.2 MB 28.2 MB/s eta 0:00:07\r\u001B[K     |▍                               | 2.2 MB 28.2 MB/s eta 0:00:07\r\u001B[K     |▍                               | 2.2 MB 28.2 MB/s eta 0:00:07\r\u001B[K     |▍                               | 2.2 MB 28.2 MB/s eta 0:00:07\r\u001B[K     |▍                               | 2.2 MB 28.2 MB/s eta 0:00:07\r\u001B[K     |▍                               | 2.2 MB 28.2 MB/s eta 0:00:07\r\u001B[K     |▍                               | 2.2 MB 28.2 MB/s eta 0:00:07\r\u001B[K     |▍                               | 2.2 MB 28.2 MB/s eta 0:00:07\r\u001B[K     |▍                               | 2.2 MB 28.2 MB/s eta 0:00:07\r\u001B[K     |▍                               | 2.3 MB 28.2 MB/s eta 0:00:07\r\u001B[K     |▍                               | 2.3 MB 28.2 MB/s eta 0:00:07\r\u001B[K     |▍                               | 2.3 MB 28.2 MB/s eta 0:00:07\r\u001B[K     |▍                               | 2.3 MB 28.2 MB/s eta 0:00:07\r\u001B[K     |▍                               | 2.3 MB 28.2 MB/s eta 0:00:07\r\u001B[K     |▍                               | 2.3 MB 28.2 MB/s eta 0:00:07\r\u001B[K     |▍                               | 2.3 MB 28.2 MB/s eta 0:00:07\r\u001B[K     |▍                               | 2.3 MB 28.2 MB/s eta 0:00:07\r\u001B[K     |▍         \n\n*** WARNING: max output size exceeded, skipping output. ***\n\n████████████████▍| 174.4 MB 135.2 MB/s eta 0:00:01\r\u001B[K     |███████████████████████████████▍| 174.4 MB 135.2 MB/s eta 0:00:01\r\u001B[K     |███████████████████████████████▍| 174.5 MB 135.2 MB/s eta 0:00:01\r\u001B[K     |███████████████████████████████▍| 174.5 MB 135.2 MB/s eta 0:00:01\r\u001B[K     |███████████████████████████████▍| 174.5 MB 135.2 MB/s eta 0:00:01\r\u001B[K     |███████████████████████████████▍| 174.5 MB 135.2 MB/s eta 0:00:01\r\u001B[K     |███████████████████████████████▍| 174.5 MB 135.2 MB/s eta 0:00:01\r\u001B[K     |███████████████████████████████▍| 174.5 MB 135.2 MB/s eta 0:00:01\r\u001B[K     |███████████████████████████████▍| 174.5 MB 135.2 MB/s eta 0:00:01\r\u001B[K     |███████████████████████████████▌| 174.5 MB 135.2 MB/s eta 0:00:01\r\u001B[K     |███████████████████████████████▌| 174.5 MB 135.2 MB/s eta 0:00:01\r\u001B[K     |███████████████████████████████▌| 174.6 MB 135.2 MB/s eta 0:00:01\r\u001B[K     |███████████████████████████████▌| 174.6 MB 135.2 MB/s eta 0:00:01\r\u001B[K     |███████████████████████████████▌| 174.6 MB 135.2 MB/s eta 0:00:01\r\u001B[K     |███████████████████████████████▌| 174.6 MB 135.2 MB/s eta 0:00:01\r\u001B[K     |███████████████████████████████▌| 174.6 MB 135.2 MB/s eta 0:00:01\r\u001B[K     |███████████████████████████████▌| 174.6 MB 135.2 MB/s eta 0:00:01\r\u001B[K     |███████████████████████████████▌| 174.6 MB 135.2 MB/s eta 0:00:01\r\u001B[K     |███████████████████████████████▌| 174.6 MB 135.2 MB/s eta 0:00:01\r\u001B[K     |███████████████████████████████▌| 174.6 MB 135.2 MB/s eta 0:00:01\r\u001B[K     |███████████████████████████████▌| 174.6 MB 135.2 MB/s eta 0:00:01\r\u001B[K     |███████████████████████████████▌| 174.7 MB 135.2 MB/s eta 0:00:01\r\u001B[K     |███████████████████████████████▌| 174.7 MB 135.2 MB/s eta 0:00:01\r\u001B[K     |███████████████████████████████▌| 174.7 MB 135.2 MB/s eta 0:00:01\r\u001B[K     |███████████████████████████████▌| 174.7 MB 135.2 MB/s eta 0:00:01\r\u001B[K     |███████████████████████████████▌| 174.7 MB 135.2 MB/s eta 0:00:01\r\u001B[K     |███████████████████████████████▌| 174.7 MB 135.2 MB/s eta 0:00:01\r\u001B[K     |███████████████████████████████▌| 174.7 MB 135.2 MB/s eta 0:00:01\r\u001B[K     |███████████████████████████████▌| 174.7 MB 135.2 MB/s eta 0:00:01\r\u001B[K     |███████████████████████████████▌| 174.7 MB 135.2 MB/s eta 0:00:01\r\u001B[K     |███████████████████████████████▌| 174.7 MB 135.2 MB/s eta 0:00:01\r\u001B[K     |███████████████████████████████▌| 174.8 MB 135.2 MB/s eta 0:00:01\r\u001B[K     |███████████████████████████████▌| 174.8 MB 135.2 MB/s eta 0:00:01\r\u001B[K     |███████████████████████████████▌| 174.8 MB 135.2 MB/s eta 0:00:01\r\u001B[K     |███████████████████████████████▌| 174.8 MB 135.2 MB/s eta 0:00:01\r\u001B[K     |███████████████████████████████▌| 174.8 MB 135.2 MB/s eta 0:00:01\r\u001B[K     |███████████████████████████████▌| 174.8 MB 135.2 MB/s eta 0:00:01\r\u001B[K     |███████████████████████████████▌| 174.8 MB 135.2 MB/s eta 0:00:01\r\u001B[K     |███████████████████████████████▌| 174.8 MB 135.2 MB/s eta 0:00:01\r\u001B[K     |███████████████████████████████▌| 174.8 MB 135.2 MB/s eta 0:00:01\r\u001B[K     |███████████████████████████████▌| 174.8 MB 135.2 MB/s eta 0:00:01\r\u001B[K     |███████████████████████████████▌| 174.9 MB 135.2 MB/s eta 0:00:01\r\u001B[K     |███████████████████████████████▌| 174.9 MB 135.2 MB/s eta 0:00:01\r\u001B[K     |███████████████████████████████▌| 174.9 MB 135.2 MB/s eta 0:00:01\r\u001B[K     |███████████████████████████████▌| 174.9 MB 135.2 MB/s eta 0:00:01\r\u001B[K     |███████████████████████████████▌| 174.9 MB 135.2 MB/s eta 0:00:01\r\u001B[K     |███████████████████████████████▌| 174.9 MB 135.2 MB/s eta 0:00:01\r\u001B[K     |███████████████████████████████▌| 174.9 MB 135.2 MB/s eta 0:00:01\r\u001B[K     |███████████████████████████████▌| 174.9 MB 135.2 MB/s eta 0:00:01\r\u001B[K     |███████████████████████████████▌| 174.9 MB 135.2 MB/s eta 0:00:01\r\u001B[K     |███████████████████████████████▌| 175.0 MB 135.2 MB/s eta 0:00:01\r\u001B[K     |███████████████████████████████▌| 175.0 MB 135.2 MB/s eta 0:00:01\r\u001B[K     |███████████████████████████████▌| 175.0 MB 135.2 MB/s eta 0:00:01\r\u001B[K     |███████████████████████████████▌| 175.0 MB 135.2 MB/s eta 0:00:01\r\u001B[K     |███████████████████████████████▌| 175.0 MB 135.2 MB/s eta 0:00:01\r\u001B[K     |███████████████████████████████▌| 175.0 MB 135.2 MB/s eta 0:00:01\r\u001B[K     |███████████████████████████████▌| 175.0 MB 135.2 MB/s eta 0:00:01\r\u001B[K     |███████████████████████████████▌| 175.0 MB 135.2 MB/s eta 0:00:01\r\u001B[K     |███████████████████████████████▌| 175.0 MB 135.2 MB/s eta 0:00:01\r\u001B[K     |███████████████████████████████▌| 175.0 MB 135.2 MB/s eta 0:00:01\r\u001B[K     |███████████████████████████████▌| 175.1 MB 135.2 MB/s eta 0:00:01\r\u001B[K     |███████████████████████████████▌| 175.1 MB 135.2 MB/s eta 0:00:01\r\u001B[K     |███████████████████████████████▌| 175.1 MB 135.2 MB/s eta 0:00:01\r\u001B[K     |███████████████████████████████▌| 175.1 MB 135.2 MB/s eta 0:00:01\r\u001B[K     |███████████████████████████████▌| 175.1 MB 135.2 MB/s eta 0:00:01\r\u001B[K     |███████████████████████████████▌| 175.1 MB 135.2 MB/s eta 0:00:01\r\u001B[K     |███████████████████████████████▌| 175.1 MB 135.2 MB/s eta 0:00:01\r\u001B[K     |███████████████████████████████▌| 175.1 MB 135.2 MB/s eta 0:00:01\r\u001B[K     |███████████████████████████████▌| 175.1 MB 135.2 MB/s eta 0:00:01\r\u001B[K     |███████████████████████████████▋| 175.1 MB 135.2 MB/s eta 0:00:01\r\u001B[K     |███████████████████████████████▋| 175.2 MB 135.2 MB/s eta 0:00:01\r\u001B[K     |███████████████████████████████▋| 175.2 MB 135.2 MB/s eta 0:00:01\r\u001B[K     |███████████████████████████████▋| 175.2 MB 135.2 MB/s eta 0:00:01\r\u001B[K     |███████████████████████████████▋| 175.2 MB 135.2 MB/s eta 0:00:01\r\u001B[K     |███████████████████████████████▋| 175.2 MB 135.2 MB/s eta 0:00:01\r\u001B[K     |███████████████████████████████▋| 175.2 MB 135.2 MB/s eta 0:00:01\r\u001B[K     |███████████████████████████████▋| 175.2 MB 135.2 MB/s eta 0:00:01\r\u001B[K     |███████████████████████████████▋| 175.2 MB 135.2 MB/s eta 0:00:01\r\u001B[K     |███████████████████████████████▋| 175.2 MB 135.2 MB/s eta 0:00:01\r\u001B[K     |███████████████████████████████▋| 175.2 MB 135.2 MB/s eta 0:00:01\r\u001B[K     |███████████████████████████████▋| 175.3 MB 135.2 MB/s eta 0:00:01\r\u001B[K     |███████████████████████████████▋| 175.3 MB 135.2 MB/s eta 0:00:01\r\u001B[K     |███████████████████████████████▋| 175.3 MB 135.2 MB/s eta 0:00:01\r\u001B[K     |███████████████████████████████▋| 175.3 MB 135.2 MB/s eta 0:00:01\r\u001B[K     |███████████████████████████████▋| 175.3 MB 135.2 MB/s eta 0:00:01\r\u001B[K     |███████████████████████████████▋| 175.3 MB 135.2 MB/s eta 0:00:01\r\u001B[K     |███████████████████████████████▋| 175.3 MB 135.2 MB/s eta 0:00:01\r\u001B[K     |███████████████████████████████▋| 175.3 MB 135.2 MB/s eta 0:00:01\r\u001B[K     |███████████████████████████████▋| 175.3 MB 135.2 MB/s eta 0:00:01\r\u001B[K     |███████████████████████████████▋| 175.3 MB 135.2 MB/s eta 0:00:01\r\u001B[K     |███████████████████████████████▋| 175.4 MB 135.2 MB/s eta 0:00:01\r\u001B[K     |███████████████████████████████▋| 175.4 MB 135.2 MB/s eta 0:00:01\r\u001B[K     |███████████████████████████████▋| 175.4 MB 135.2 MB/s eta 0:00:01\r\u001B[K     |███████████████████████████████▋| 175.4 MB 135.2 MB/s eta 0:00:01\r\u001B[K     |███████████████████████████████▋| 175.4 MB 135.2 MB/s eta 0:00:01\r\u001B[K     |███████████████████████████████▋| 175.4 MB 135.2 MB/s eta 0:00:01\r\u001B[K     |███████████████████████████████▋| 175.4 MB 135.2 MB/s eta 0:00:01\r\u001B[K     |███████████████████████████████▋| 175.4 MB 135.2 MB/s eta 0:00:01\r\u001B[K     |███████████████████████████████▋| 175.4 MB 135.2 MB/s eta 0:00:01\r\u001B[K     |███████████████████████████████▋| 175.5 MB 135.2 MB/s eta 0:00:01\r\u001B[K     |███████████████████████████████▋| 175.5 MB 135.2 MB/s eta 0:00:01\r\u001B[K     |███████████████████████████████▋| 175.5 MB 135.2 MB/s eta 0:00:01\r\u001B[K     |███████████████████████████████▋| 175.5 MB 135.2 MB/s eta 0:00:01\r\u001B[K     |███████████████████████████████▋| 175.5 MB 135.2 MB/s eta 0:00:01\r\u001B[K     |███████████████████████████████▋| 175.5 MB 135.2 MB/s eta 0:00:01\r\u001B[K     |███████████████████████████████▋| 175.5 MB 135.2 MB/s eta 0:00:01\r\u001B[K     |███████████████████████████████▋| 175.5 MB 135.2 MB/s eta 0:00:01\r\u001B[K     |███████████████████████████████▋| 175.5 MB 135.2 MB/s eta 0:00:01\r\u001B[K     |███████████████████████████████▋| 175.5 MB 135.2 MB/s eta 0:00:01\r\u001B[K     |███████████████████████████████▋| 175.6 MB 135.2 MB/s eta 0:00:01\r\u001B[K     |███████████████████████████████▋| 175.6 MB 135.2 MB/s eta 0:00:01\r\u001B[K     |███████████████████████████████▋| 175.6 MB 135.2 MB/s eta 0:00:01\r\u001B[K     |███████████████████████████████▋| 175.6 MB 135.2 MB/s eta 0:00:01\r\u001B[K     |███████████████████████████████▋| 175.6 MB 135.2 MB/s eta 0:00:01\r\u001B[K     |███████████████████████████████▋| 175.6 MB 135.2 MB/s eta 0:00:01\r\u001B[K     |███████████████████████████████▋| 175.6 MB 135.2 MB/s eta 0:00:01\r\u001B[K     |███████████████████████████████▋| 175.6 MB 135.2 MB/s eta 0:00:01\r\u001B[K     |███████████████████████████████▋| 175.6 MB 135.2 MB/s eta 0:00:01\r\u001B[K     |███████████████████████████████▋| 175.6 MB 135.2 MB/s eta 0:00:01\r\u001B[K     |███████████████████████████████▋| 175.7 MB 135.2 MB/s eta 0:00:01\r\u001B[K     |███████████████████████████████▋| 175.7 MB 135.2 MB/s eta 0:00:01\r\u001B[K     |███████████████████████████████▋| 175.7 MB 135.2 MB/s eta 0:00:01\r\u001B[K     |███████████████████████████████▋| 175.7 MB 135.2 MB/s eta 0:00:01\r\u001B[K     |███████████████████████████████▋| 175.7 MB 135.2 MB/s eta 0:00:01\r\u001B[K     |███████████████████████████████▋| 175.7 MB 135.2 MB/s eta 0:00:01\r\u001B[K     |███████████████████████████████▋| 175.7 MB 135.2 MB/s eta 0:00:01\r\u001B[K     |███████████████████████████████▋| 175.7 MB 135.2 MB/s eta 0:00:01\r\u001B[K     |███████████████████████████████▋| 175.7 MB 135.2 MB/s eta 0:00:01\r\u001B[K     |███████████████████████████████▋| 175.7 MB 135.2 MB/s eta 0:00:01\r\u001B[K     |███████████████████████████████▊| 175.8 MB 135.2 MB/s eta 0:00:01\r\u001B[K     |███████████████████████████████▊| 175.8 MB 135.2 MB/s eta 0:00:01\r\u001B[K     |███████████████████████████████▊| 175.8 MB 135.2 MB/s eta 0:00:01\r\u001B[K     |███████████████████████████████▊| 175.8 MB 135.2 MB/s eta 0:00:01\r\u001B[K     |███████████████████████████████▊| 175.8 MB 135.2 MB/s eta 0:00:01\r\u001B[K     |███████████████████████████████▊| 175.8 MB 135.2 MB/s eta 0:00:01\r\u001B[K     |███████████████████████████████▊| 175.8 MB 135.2 MB/s eta 0:00:01\r\u001B[K     |███████████████████████████████▊| 175.8 MB 135.2 MB/s eta 0:00:01\r\u001B[K     |███████████████████████████████▊| 175.8 MB 135.2 MB/s eta 0:00:01\r\u001B[K     |███████████████████████████████▊| 175.9 MB 135.2 MB/s eta 0:00:01\r\u001B[K     |███████████████████████████████▊| 175.9 MB 135.2 MB/s eta 0:00:01\r\u001B[K     |███████████████████████████████▊| 175.9 MB 135.2 MB/s eta 0:00:01\r\u001B[K     |███████████████████████████████▊| 175.9 MB 135.2 MB/s eta 0:00:01\r\u001B[K     |███████████████████████████████▊| 175.9 MB 135.2 MB/s eta 0:00:01\r\u001B[K     |███████████████████████████████▊| 175.9 MB 135.2 MB/s eta 0:00:01\r\u001B[K     |███████████████████████████████▊| 175.9 MB 135.2 MB/s eta 0:00:01\r\u001B[K     |███████████████████████████████▊| 175.9 MB 135.2 MB/s eta 0:00:01\r\u001B[K     |███████████████████████████████▊| 175.9 MB 135.2 MB/s eta 0:00:01\r\u001B[K     |███████████████████████████████▊| 175.9 MB 135.2 MB/s eta 0:00:01\r\u001B[K     |███████████████████████████████▊| 176.0 MB 135.2 MB/s eta 0:00:01\r\u001B[K     |███████████████████████████████▊| 176.0 MB 135.2 MB/s eta 0:00:01\r\u001B[K     |███████████████████████████████▊| 176.0 MB 135.2 MB/s eta 0:00:01\r\u001B[K     |███████████████████████████████▊| 176.0 MB 135.2 MB/s eta 0:00:01\r\u001B[K     |███████████████████████████████▊| 176.0 MB 135.2 MB/s eta 0:00:01\r\u001B[K     |███████████████████████████████▊| 176.0 MB 135.2 MB/s eta 0:00:01\r\u001B[K     |███████████████████████████████▊| 176.0 MB 135.2 MB/s eta 0:00:01\r\u001B[K     |███████████████████████████████▊| 176.0 MB 135.2 MB/s eta 0:00:01\r\u001B[K     |███████████████████████████████▊| 176.0 MB 135.2 MB/s eta 0:00:01\r\u001B[K     |███████████████████████████████▊| 176.0 MB 135.2 MB/s eta 0:00:01\r\u001B[K     |███████████████████████████████▊| 176.1 MB 135.2 MB/s eta 0:00:01\r\u001B[K     |███████████████████████████████▊| 176.1 MB 135.2 MB/s eta 0:00:01\r\u001B[K     |███████████████████████████████▊| 176.1 MB 135.2 MB/s eta 0:00:01\r\u001B[K     |███████████████████████████████▊| 176.1 MB 135.2 MB/s eta 0:00:01\r\u001B[K     |███████████████████████████████▊| 176.1 MB 135.2 MB/s eta 0:00:01\r\u001B[K     |███████████████████████████████▊| 176.1 MB 135.2 MB/s eta 0:00:01\r\u001B[K     |███████████████████████████████▊| 176.1 MB 135.2 MB/s eta 0:00:01\r\u001B[K     |███████████████████████████████▊| 176.1 MB 135.2 MB/s eta 0:00:01\r\u001B[K     |███████████████████████████████▊| 176.1 MB 135.2 MB/s eta 0:00:01\r\u001B[K     |███████████████████████████████▊| 176.1 MB 135.2 MB/s eta 0:00:01\r\u001B[K     |███████████████████████████████▊| 176.2 MB 135.2 MB/s eta 0:00:01\r\u001B[K     |███████████████████████████████▊| 176.2 MB 135.2 MB/s eta 0:00:01\r\u001B[K     |███████████████████████████████▊| 176.2 MB 135.2 MB/s eta 0:00:01\r\u001B[K     |███████████████████████████████▊| 176.2 MB 135.2 MB/s eta 0:00:01\r\u001B[K     |███████████████████████████████▊| 176.2 MB 135.2 MB/s eta 0:00:01\r\u001B[K     |███████████████████████████████▊| 176.2 MB 135.2 MB/s eta 0:00:01\r\u001B[K     |███████████████████████████████▊| 176.2 MB 135.2 MB/s eta 0:00:01\r\u001B[K     |███████████████████████████████▊| 176.2 MB 135.2 MB/s eta 0:00:01\r\u001B[K     |███████████████████████████████▊| 176.2 MB 135.2 MB/s eta 0:00:01\r\u001B[K     |███████████████████████████████▊| 176.3 MB 135.2 MB/s eta 0:00:01\r\u001B[K     |███████████████████████████████▊| 176.3 MB 135.2 MB/s eta 0:00:01\r\u001B[K     |███████████████████████████████▊| 176.3 MB 135.2 MB/s eta 0:00:01\r\u001B[K     |███████████████████████████████▊| 176.3 MB 135.2 MB/s eta 0:00:01\r\u001B[K     |███████████████████████████████▊| 176.3 MB 135.2 MB/s eta 0:00:01\r\u001B[K     |███████████████████████████████▊| 176.3 MB 135.2 MB/s eta 0:00:01\r\u001B[K     |███████████████████████████████▊| 176.3 MB 135.2 MB/s eta 0:00:01\r\u001B[K     |███████████████████████████████▊| 176.3 MB 135.2 MB/s eta 0:00:01\r\u001B[K     |███████████████████████████████▊| 176.3 MB 135.2 MB/s eta 0:00:01\r\u001B[K     |███████████████████████████████▊| 176.3 MB 135.2 MB/s eta 0:00:01\r\u001B[K     |███████████████████████████████▊| 176.4 MB 135.2 MB/s eta 0:00:01\r\u001B[K     |███████████████████████████████▊| 176.4 MB 135.2 MB/s eta 0:00:01\r\u001B[K     |███████████████████████████████▉| 176.4 MB 135.2 MB/s eta 0:00:01\r\u001B[K     |███████████████████████████████▉| 176.4 MB 135.2 MB/s eta 0:00:01\r\u001B[K     |███████████████████████████████▉| 176.4 MB 135.2 MB/s eta 0:00:01\r\u001B[K     |███████████████████████████████▉| 176.4 MB 135.2 MB/s eta 0:00:01\r\u001B[K     |███████████████████████████████▉| 176.4 MB 135.2 MB/s eta 0:00:01\r\u001B[K     |███████████████████████████████▉| 176.4 MB 135.2 MB/s eta 0:00:01\r\u001B[K     |███████████████████████████████▉| 176.4 MB 135.2 MB/s eta 0:00:01\r\u001B[K     |███████████████████████████████▉| 176.4 MB 135.2 MB/s eta 0:00:01\r\u001B[K     |███████████████████████████████▉| 176.5 MB 135.2 MB/s eta 0:00:01\r\u001B[K     |███████████████████████████████▉| 176.5 MB 135.2 MB/s eta 0:00:01\r\u001B[K     |███████████████████████████████▉| 176.5 MB 135.2 MB/s eta 0:00:01\r\u001B[K     |███████████████████████████████▉| 176.5 MB 135.2 MB/s eta 0:00:01\r\u001B[K     |███████████████████████████████▉| 176.5 MB 135.2 MB/s eta 0:00:01\r\u001B[K     |███████████████████████████████▉| 176.5 MB 135.2 MB/s eta 0:00:01\r\u001B[K     |███████████████████████████████▉| 176.5 MB 135.2 MB/s eta 0:00:01\r\u001B[K     |███████████████████████████████▉| 176.5 MB 135.2 MB/s eta 0:00:01\r\u001B[K     |███████████████████████████████▉| 176.5 MB 135.2 MB/s eta 0:00:01\r\u001B[K     |███████████████████████████████▉| 176.5 MB 135.2 MB/s eta 0:00:01\r\u001B[K     |███████████████████████████████▉| 176.6 MB 135.2 MB/s eta 0:00:01\r\u001B[K     |███████████████████████████████▉| 176.6 MB 135.2 MB/s eta 0:00:01\r\u001B[K     |███████████████████████████████▉| 176.6 MB 135.2 MB/s eta 0:00:01\r\u001B[K     |███████████████████████████████▉| 176.6 MB 135.2 MB/s eta 0:00:01\r\u001B[K     |███████████████████████████████▉| 176.6 MB 135.2 MB/s eta 0:00:01\r\u001B[K     |███████████████████████████████▉| 176.6 MB 135.2 MB/s eta 0:00:01\r\u001B[K     |███████████████████████████████▉| 176.6 MB 135.2 MB/s eta 0:00:01\r\u001B[K     |███████████████████████████████▉| 176.6 MB 135.2 MB/s eta 0:00:01\r\u001B[K     |███████████████████████████████▉| 176.6 MB 135.2 MB/s eta 0:00:01\r\u001B[K     |███████████████████████████████▉| 176.7 MB 135.2 MB/s eta 0:00:01\r\u001B[K     |███████████████████████████████▉| 176.7 MB 135.2 MB/s eta 0:00:01\r\u001B[K     |███████████████████████████████▉| 176.7 MB 135.2 MB/s eta 0:00:01\r\u001B[K     |███████████████████████████████▉| 176.7 MB 135.2 MB/s eta 0:00:01\r\u001B[K     |███████████████████████████████▉| 176.7 MB 135.2 MB/s eta 0:00:01\r\u001B[K     |███████████████████████████████▉| 176.7 MB 135.2 MB/s eta 0:00:01\r\u001B[K     |███████████████████████████████▉| 176.7 MB 135.2 MB/s eta 0:00:01\r\u001B[K     |███████████████████████████████▉| 176.7 MB 135.2 MB/s eta 0:00:01\r\u001B[K     |███████████████████████████████▉| 176.7 MB 135.2 MB/s eta 0:00:01\r\u001B[K     |███████████████████████████████▉| 176.7 MB 135.2 MB/s eta 0:00:01\r\u001B[K     |███████████████████████████████▉| 176.8 MB 135.2 MB/s eta 0:00:01\r\u001B[K     |███████████████████████████████▉| 176.8 MB 135.2 MB/s eta 0:00:01\r\u001B[K     |███████████████████████████████▉| 176.8 MB 135.2 MB/s eta 0:00:01\r\u001B[K     |███████████████████████████████▉| 176.8 MB 135.2 MB/s eta 0:00:01\r\u001B[K     |███████████████████████████████▉| 176.8 MB 135.2 MB/s eta 0:00:01\r\u001B[K     |███████████████████████████████▉| 176.8 MB 135.2 MB/s eta 0:00:01\r\u001B[K     |███████████████████████████████▉| 176.8 MB 135.2 MB/s eta 0:00:01\r\u001B[K     |███████████████████████████████▉| 176.8 MB 135.2 MB/s eta 0:00:01\r\u001B[K     |███████████████████████████████▉| 176.8 MB 135.2 MB/s eta 0:00:01\r\u001B[K     |███████████████████████████████▉| 176.8 MB 135.2 MB/s eta 0:00:01\r\u001B[K     |███████████████████████████████▉| 176.9 MB 135.2 MB/s eta 0:00:01\r\u001B[K     |███████████████████████████████▉| 176.9 MB 135.2 MB/s eta 0:00:01\r\u001B[K     |███████████████████████████████▉| 176.9 MB 135.2 MB/s eta 0:00:01\r\u001B[K     |███████████████████████████████▉| 176.9 MB 135.2 MB/s eta 0:00:01\r\u001B[K     |███████████████████████████████▉| 176.9 MB 135.2 MB/s eta 0:00:01\r\u001B[K     |███████████████████████████████▉| 176.9 MB 135.2 MB/s eta 0:00:01\r\u001B[K     |███████████████████████████████▉| 176.9 MB 135.2 MB/s eta 0:00:01\r\u001B[K     |███████████████████████████████▉| 176.9 MB 135.2 MB/s eta 0:00:01\r\u001B[K     |███████████████████████████████▉| 176.9 MB 135.2 MB/s eta 0:00:01\r\u001B[K     |███████████████████████████████▉| 176.9 MB 135.2 MB/s eta 0:00:01\r\u001B[K     |███████████████████████████████▉| 177.0 MB 135.2 MB/s eta 0:00:01\r\u001B[K     |███████████████████████████████▉| 177.0 MB 135.2 MB/s eta 0:00:01\r\u001B[K     |███████████████████████████████▉| 177.0 MB 135.2 MB/s eta 0:00:01\r\u001B[K     |███████████████████████████████▉| 177.0 MB 135.2 MB/s eta 0:00:01\r\u001B[K     |████████████████████████████████| 177.0 MB 135.2 MB/s eta 0:00:01\r\u001B[K     |████████████████████████████████| 177.0 MB 135.2 MB/s eta 0:00:01\r\u001B[K     |████████████████████████████████| 177.0 MB 135.2 MB/s eta 0:00:01\r\u001B[K     |████████████████████████████████| 177.0 MB 135.2 MB/s eta 0:00:01\r\u001B[K     |████████████████████████████████| 177.0 MB 135.2 MB/s eta 0:00:01\r\u001B[K     |████████████████████████████████| 177.0 MB 135.2 MB/s eta 0:00:01\r\u001B[K     |████████████████████████████████| 177.1 MB 135.2 MB/s eta 0:00:01\r\u001B[K     |████████████████████████████████| 177.1 MB 135.2 MB/s eta 0:00:01\r\u001B[K     |████████████████████████████████| 177.1 MB 135.2 MB/s eta 0:00:01\r\u001B[K     |████████████████████████████████| 177.1 MB 135.2 MB/s eta 0:00:01\r\u001B[K     |████████████████████████████████| 177.1 MB 135.2 MB/s eta 0:00:01\r\u001B[K     |████████████████████████████████| 177.1 MB 135.2 MB/s eta 0:00:01\r\u001B[K     |████████████████████████████████| 177.1 MB 135.2 MB/s eta 0:00:01\r\u001B[K     |████████████████████████████████| 177.1 MB 135.2 MB/s eta 0:00:01\r\u001B[K     |████████████████████████████████| 177.1 MB 135.2 MB/s eta 0:00:01\r\u001B[K     |████████████████████████████████| 177.2 MB 135.2 MB/s eta 0:00:01\r\u001B[K     |████████████████████████████████| 177.2 MB 135.2 MB/s eta 0:00:01\r\u001B[K     |████████████████████████████████| 177.2 MB 135.2 MB/s eta 0:00:01\r\u001B[K     |████████████████████████████████| 177.2 MB 135.2 MB/s eta 0:00:01\r\u001B[K     |████████████████████████████████| 177.2 MB 135.2 MB/s eta 0:00:01\r\u001B[K     |████████████████████████████████| 177.2 MB 135.2 MB/s eta 0:00:01\r\u001B[K     |████████████████████████████████| 177.2 MB 135.2 MB/s eta 0:00:01\r\u001B[K     |████████████████████████████████| 177.2 MB 135.2 MB/s eta 0:00:01\r\u001B[K     |████████████████████████████████| 177.2 MB 135.2 MB/s eta 0:00:01\r\u001B[K     |████████████████████████████████| 177.2 MB 135.2 MB/s eta 0:00:01\r\u001B[K     |████████████████████████████████| 177.3 MB 135.2 MB/s eta 0:00:01\r\u001B[K     |████████████████████████████████| 177.3 MB 135.2 MB/s eta 0:00:01\r\u001B[K     |████████████████████████████████| 177.3 MB 135.2 MB/s eta 0:00:01\r\u001B[K     |████████████████████████████████| 177.3 MB 135.2 MB/s eta 0:00:01\r\u001B[K     |████████████████████████████████| 177.3 MB 135.2 MB/s eta 0:00:01\r\u001B[K     |████████████████████████████████| 177.3 MB 135.2 MB/s eta 0:00:01\r\u001B[K     |████████████████████████████████| 177.3 MB 135.2 MB/s eta 0:00:01\r\u001B[K     |████████████████████████████████| 177.3 MB 135.2 MB/s eta 0:00:01\r\u001B[K     |████████████████████████████████| 177.3 MB 135.2 MB/s eta 0:00:01\r\u001B[K     |████████████████████████████████| 177.3 MB 135.2 MB/s eta 0:00:01\r\u001B[K     |████████████████████████████████| 177.4 MB 135.2 MB/s eta 0:00:01\r\u001B[K     |████████████████████████████████| 177.4 MB 135.2 MB/s eta 0:00:01\r\u001B[K     |████████████████████████████████| 177.4 MB 135.2 MB/s eta 0:00:01\r\u001B[K     |████████████████████████████████| 177.4 MB 135.2 MB/s eta 0:00:01\r\u001B[K     |████████████████████████████████| 177.4 MB 135.2 MB/s eta 0:00:01\r\u001B[K     |████████████████████████████████| 177.4 MB 135.2 MB/s eta 0:00:01\r\u001B[K     |████████████████████████████████| 177.4 MB 135.2 MB/s eta 0:00:01\r\u001B[K     |████████████████████████████████| 177.4 MB 135.2 MB/s eta 0:00:01\r\u001B[K     |████████████████████████████████| 177.4 MB 135.2 MB/s eta 0:00:01\r\u001B[K     |████████████████████████████████| 177.4 MB 135.2 MB/s eta 0:00:01\r\u001B[K     |████████████████████████████████| 177.5 MB 135.2 MB/s eta 0:00:01\r\u001B[K     |████████████████████████████████| 177.5 MB 135.2 MB/s eta 0:00:01\r\u001B[K     |████████████████████████████████| 177.5 MB 135.2 MB/s eta 0:00:01\r\u001B[K     |████████████████████████████████| 177.5 MB 135.2 MB/s eta 0:00:01\r\u001B[K     |████████████████████████████████| 177.5 MB 135.2 MB/s eta 0:00:01\r\u001B[K     |████████████████████████████████| 177.5 MB 135.2 MB/s eta 0:00:01\r\u001B[K     |████████████████████████████████| 177.5 MB 135.2 MB/s eta 0:00:01\r\u001B[K     |████████████████████████████████| 177.5 MB 135.2 MB/s eta 0:00:01\r\u001B[K     |████████████████████████████████| 177.5 MB 135.2 MB/s eta 0:00:01\r\u001B[K     |████████████████████████████████| 177.6 MB 135.2 MB/s eta 0:00:01\r\u001B[K     |████████████████████████████████| 177.6 MB 135.2 MB/s eta 0:00:01\r\u001B[K     |████████████████████████████████| 177.6 MB 135.2 MB/s eta 0:00:01\r\u001B[K     |████████████████████████████████| 177.6 MB 135.2 MB/s eta 0:00:01\r\u001B[K     |████████████████████████████████| 177.6 MB 135.2 MB/s eta 0:00:01\r\u001B[K     |████████████████████████████████| 177.6 MB 135.2 MB/s eta 0:00:01\r\u001B[K     |████████████████████████████████| 177.6 MB 27 kB/s \r\n\u001B[?25hRequirement already satisfied: requests in /databricks/python3/lib/python3.9/site-packages (from h2o) (2.26.0)\r\nRequirement already satisfied: tabulate in /local_disk0/.ephemeral_nfs/cluster_libraries/python/lib/python3.9/site-packages (from h2o) (0.9.0)\r\nRequirement already satisfied: future in /local_disk0/.ephemeral_nfs/envs/pythonEnv-c4a43444-0770-4344-a691-cf0c4c645aea/lib/python3.9/site-packages (from h2o) (0.18.3)\r\nRequirement already satisfied: idna<4,>=2.5 in /databricks/python3/lib/python3.9/site-packages (from requests->h2o) (3.2)\r\nRequirement already satisfied: charset-normalizer~=2.0.0 in /databricks/python3/lib/python3.9/site-packages (from requests->h2o) (2.0.4)\r\nRequirement already satisfied: urllib3<1.27,>=1.21.1 in /databricks/python3/lib/python3.9/site-packages (from requests->h2o) (1.26.7)\r\nRequirement already satisfied: certifi>=2017.4.17 in /databricks/python3/lib/python3.9/site-packages (from requests->h2o) (2021.10.8)\r\nBuilding wheels for collected packages: h2o\r\n  Building wheel for h2o (setup.py) ... \u001B[?25l-\b \b\\\b \b|\b \b/\b \b-\b \b\\\b \bdone\r\n\u001B[?25h  Created wheel for h2o: filename=h2o-3.40.0.3-py2.py3-none-any.whl size=177694729 sha256=9549dd9931f71a173bad82358bd6bc8456e20d9c58b3beda2d638988d77ff06d\r\n  Stored in directory: /root/.cache/pip/wheels/9a/54/b6/c9ab3e71309ef0000bbe39e715020dc151bbfc557784b7f4c9\r\nSuccessfully built h2o\r\nInstalling collected packages: h2o\r\nSuccessfully installed h2o-3.40.0.3\r\n\u001B[33mWARNING: You are using pip version 21.2.4; however, version 23.1.2 is available.\r\nYou should consider upgrading via the '/local_disk0/.ephemeral_nfs/envs/pythonEnv-c4a43444-0770-4344-a691-cf0c4c645aea/bin/python -m pip install --upgrade pip' command.\u001B[0m\r\n"
     ]
    }
   ],
   "source": [
    "!pip install requests\n",
    "!pip install tabulate\n",
    "!pip install \"colorama!\"0.3.8\"\n",
    "!pip install future\n",
    "!pip install -f http://h2o-release.s3.amazonaws.com/h2o/latest_stable_Py.html h2o"
   ]
  },
  {
   "cell_type": "code",
   "execution_count": 0,
   "metadata": {
    "application/vnd.databricks.v1+cell": {
     "cellMetadata": {
      "byteLimit": 2048000,
      "rowLimit": 10000
     },
     "inputWidgets": {},
     "nuid": "4ca3ff67-419c-4cd2-ae7f-1212d8fa5f86",
     "showTitle": false,
     "title": ""
    }
   },
   "outputs": [],
   "source": [
    "import h2o\n",
    "from h2o.automl import H2OAutoML"
   ]
  },
  {
   "cell_type": "code",
   "execution_count": 0,
   "metadata": {
    "application/vnd.databricks.v1+cell": {
     "cellMetadata": {
      "byteLimit": 2048000,
      "rowLimit": 10000
     },
     "inputWidgets": {},
     "nuid": "14a1f302-6f6c-49c8-a9a0-23dd3b185381",
     "showTitle": false,
     "title": ""
    }
   },
   "outputs": [
    {
     "output_type": "stream",
     "name": "stdout",
     "output_type": "stream",
     "text": [
      "Checking whether there is an H2O instance running at http://localhost:54444..... not found.\nAttempting to start a local H2O server...\n  Java Version: openjdk version \"1.8.0_345\"; OpenJDK Runtime Environment (Zulu 8.64.0.19-CA-linux64) (build 1.8.0_345-b01); OpenJDK 64-Bit Server VM (Zulu 8.64.0.19-CA-linux64) (build 25.345-b01, mixed mode)\n  Starting server from /local_disk0/.ephemeral_nfs/envs/pythonEnv-c4a43444-0770-4344-a691-cf0c4c645aea/lib/python3.9/site-packages/h2o/backend/bin/h2o.jar\n  Ice root: /tmp/tmpq8m4n9x7\n  JVM stdout: /tmp/tmpq8m4n9x7/h2o_root_started_from_python.out\n  JVM stderr: /tmp/tmpq8m4n9x7/h2o_root_started_from_python.err\n  Server is running at http://127.0.0.1:54444\nConnecting to H2O server at http://127.0.0.1:54444 ... successful.\n"
     ]
    },
    {
     "output_type": "display_data",
     "data": {
      "text/html": [
       "\n",
       "<style>\n",
       "\n",
       "#h2o-table-1.h2o-container {\n",
       "  overflow-x: auto;\n",
       "}\n",
       "#h2o-table-1 .h2o-table {\n",
       "  /* width: 100%; */\n",
       "  margin-top: 1em;\n",
       "  margin-bottom: 1em;\n",
       "}\n",
       "#h2o-table-1 .h2o-table caption {\n",
       "  white-space: nowrap;\n",
       "  caption-side: top;\n",
       "  text-align: left;\n",
       "  /* margin-left: 1em; */\n",
       "  margin: 0;\n",
       "  font-size: larger;\n",
       "}\n",
       "#h2o-table-1 .h2o-table thead {\n",
       "  white-space: nowrap; \n",
       "  position: sticky;\n",
       "  top: 0;\n",
       "  box-shadow: 0 -1px inset;\n",
       "}\n",
       "#h2o-table-1 .h2o-table tbody {\n",
       "  overflow: auto;\n",
       "}\n",
       "#h2o-table-1 .h2o-table th,\n",
       "#h2o-table-1 .h2o-table td {\n",
       "  text-align: right;\n",
       "  /* border: 1px solid; */\n",
       "}\n",
       "#h2o-table-1 .h2o-table tr:nth-child(even) {\n",
       "  /* background: #F5F5F5 */\n",
       "}\n",
       "\n",
       "</style>      \n",
       "<div id=\"h2o-table-1\" class=\"h2o-container\">\n",
       "  <table class=\"h2o-table\">\n",
       "    <caption></caption>\n",
       "    <thead></thead>\n",
       "    <tbody><tr><td>H2O_cluster_uptime:</td>\n",
       "<td>01 secs</td></tr>\n",
       "<tr><td>H2O_cluster_timezone:</td>\n",
       "<td>Etc/UTC</td></tr>\n",
       "<tr><td>H2O_data_parsing_timezone:</td>\n",
       "<td>UTC</td></tr>\n",
       "<tr><td>H2O_cluster_version:</td>\n",
       "<td>3.40.0.3</td></tr>\n",
       "<tr><td>H2O_cluster_version_age:</td>\n",
       "<td>23 days</td></tr>\n",
       "<tr><td>H2O_cluster_name:</td>\n",
       "<td>H2O_from_python_root_mrkdwf</td></tr>\n",
       "<tr><td>H2O_cluster_total_nodes:</td>\n",
       "<td>1</td></tr>\n",
       "<tr><td>H2O_cluster_free_memory:</td>\n",
       "<td>1.971 Gb</td></tr>\n",
       "<tr><td>H2O_cluster_total_cores:</td>\n",
       "<td>3</td></tr>\n",
       "<tr><td>H2O_cluster_allowed_cores:</td>\n",
       "<td>3</td></tr>\n",
       "<tr><td>H2O_cluster_status:</td>\n",
       "<td>locked, healthy</td></tr>\n",
       "<tr><td>H2O_connection_url:</td>\n",
       "<td>http://127.0.0.1:54444</td></tr>\n",
       "<tr><td>H2O_connection_proxy:</td>\n",
       "<td>{\"http\": null, \"https\": null}</td></tr>\n",
       "<tr><td>H2O_internal_security:</td>\n",
       "<td>False</td></tr>\n",
       "<tr><td>Python_version:</td>\n",
       "<td>3.9.5 final</td></tr></tbody>\n",
       "  </table>\n",
       "</div>\n"
      ]
     },
     "metadata": {
      "application/vnd.databricks.v1+output": {
       "addedWidgets": {},
       "arguments": {},
       "data": "\n<style>\n\n#h2o-table-1.h2o-container {\n  overflow-x: auto;\n}\n#h2o-table-1 .h2o-table {\n  /* width: 100%; */\n  margin-top: 1em;\n  margin-bottom: 1em;\n}\n#h2o-table-1 .h2o-table caption {\n  white-space: nowrap;\n  caption-side: top;\n  text-align: left;\n  /* margin-left: 1em; */\n  margin: 0;\n  font-size: larger;\n}\n#h2o-table-1 .h2o-table thead {\n  white-space: nowrap; \n  position: sticky;\n  top: 0;\n  box-shadow: 0 -1px inset;\n}\n#h2o-table-1 .h2o-table tbody {\n  overflow: auto;\n}\n#h2o-table-1 .h2o-table th,\n#h2o-table-1 .h2o-table td {\n  text-align: right;\n  /* border: 1px solid; */\n}\n#h2o-table-1 .h2o-table tr:nth-child(even) {\n  /* background: #F5F5F5 */\n}\n\n</style>      \n<div id=\"h2o-table-1\" class=\"h2o-container\">\n  <table class=\"h2o-table\">\n    <caption></caption>\n    <thead></thead>\n    <tbody><tr><td>H2O_cluster_uptime:</td>\n<td>01 secs</td></tr>\n<tr><td>H2O_cluster_timezone:</td>\n<td>Etc/UTC</td></tr>\n<tr><td>H2O_data_parsing_timezone:</td>\n<td>UTC</td></tr>\n<tr><td>H2O_cluster_version:</td>\n<td>3.40.0.3</td></tr>\n<tr><td>H2O_cluster_version_age:</td>\n<td>23 days</td></tr>\n<tr><td>H2O_cluster_name:</td>\n<td>H2O_from_python_root_mrkdwf</td></tr>\n<tr><td>H2O_cluster_total_nodes:</td>\n<td>1</td></tr>\n<tr><td>H2O_cluster_free_memory:</td>\n<td>1.971 Gb</td></tr>\n<tr><td>H2O_cluster_total_cores:</td>\n<td>3</td></tr>\n<tr><td>H2O_cluster_allowed_cores:</td>\n<td>3</td></tr>\n<tr><td>H2O_cluster_status:</td>\n<td>locked, healthy</td></tr>\n<tr><td>H2O_connection_url:</td>\n<td>http://127.0.0.1:54444</td></tr>\n<tr><td>H2O_connection_proxy:</td>\n<td>{\"http\": null, \"https\": null}</td></tr>\n<tr><td>H2O_internal_security:</td>\n<td>False</td></tr>\n<tr><td>Python_version:</td>\n<td>3.9.5 final</td></tr></tbody>\n  </table>\n</div>\n",
       "datasetInfos": [],
       "metadata": {},
       "removedWidgets": [],
       "textData": null,
       "type": "htmlSandbox"
      }
     },
     "output_type": "display_data"
    }
   ],
   "source": [
    "# initialize the h2o session\n",
    "h2o.init(ip=\"localhost\", port=54444)"
   ]
  },
  {
   "cell_type": "code",
   "execution_count": 0,
   "metadata": {
    "application/vnd.databricks.v1+cell": {
     "cellMetadata": {
      "byteLimit": 2048000,
      "rowLimit": 10000
     },
     "inputWidgets": {},
     "nuid": "f09bb86c-16d1-467e-9eae-ef5221d9bb19",
     "showTitle": false,
     "title": ""
    }
   },
   "outputs": [
    {
     "output_type": "stream",
     "name": "stdout",
     "output_type": "stream",
     "text": [
      "Parse progress: |████████████████████████████████████████████████████████████████| (done) 100%\nAutoML progress: |███████████████████████████████████████████████████████████████| (done) 100%\nmodel_id                                                     rmse         mse        mae       rmsle    mean_residual_deviance\nStackedEnsemble_AllModels_1_AutoML_1_20230427_140917      0.97787    0.956231   0.190005  0.00795499                  0.956231\nXGBoost_2_AutoML_1_20230427_140917                        1.04409    1.09012    0.208261  0.00874006                  1.09012\nStackedEnsemble_BestOfFamily_1_AutoML_1_20230427_140917   1.05433    1.11161    0.224369  0.0087193                   1.11161\nXGBoost_3_AutoML_1_20230427_140917                        1.05653    1.11625    0.280588  0.0088739                   1.11625\nXGBoost_1_AutoML_1_20230427_140917                        1.16888    1.36627    0.27742   0.0102081                   1.36627\nGBM_2_AutoML_1_20230427_140917                            1.48116    2.19383    0.455116  0.0127198                   2.19383\nGBM_3_AutoML_1_20230427_140917                            1.56277    2.44224    0.575012  0.0141362                   2.44224\nGBM_4_AutoML_1_20230427_140917                            1.56827    2.45949    0.506475  0.0138387                   2.45949\nGBM_1_AutoML_1_20230427_140917                            1.81492    3.29393    0.837028  0.0171213                   3.29393\nDRF_1_AutoML_1_20230427_140917                            1.95507    3.8223     0.88501   0.0194632                   3.8223\nXRT_1_AutoML_1_20230427_140917                           11.3409   128.615      9.01653   0.117285                  128.615\nGLM_1_AutoML_1_20230427_140917                           24.1891   585.113     19.8692    0.26185                   585.113\n[12 rows x 6 columns]\n\nOut[9]: '/databricks/driver/path/to/mojo.zip'"
     ]
    }
   ],
   "source": [
    "# convert pandas dataframe to h2o frame\n",
    "hf = h2o.H2OFrame(df_raw)\n",
    "target = \"cost\"\n",
    "x = hf.columns\n",
    "x.remove(target) # remove the target\n",
    "aml = H2OAutoML(max_models=10, seed=1)\n",
    "aml.train(x=x, y=target,  training_frame=hf)\n",
    "lb = aml.leaderboard # Leader board\n",
    "print(lb.head(rows=lb.nrows)) # print leader board\n",
    "aml.leader.download_mojo(path=\"path/to/mojo.zip\")"
   ]
  },
  {
   "cell_type": "code",
   "execution_count": 0,
   "metadata": {
    "application/vnd.databricks.v1+cell": {
     "cellMetadata": {
      "byteLimit": 2048000,
      "rowLimit": 10000
     },
     "inputWidgets": {},
     "nuid": "f7d253a3-5573-4288-989f-15e867f5836d",
     "showTitle": false,
     "title": ""
    }
   },
   "outputs": [
    {
     "output_type": "stream",
     "name": "stdout",
     "output_type": "stream",
     "text": [
      "Requirement already satisfied: mlflow in /local_disk0/.ephemeral_nfs/cluster_libraries/python/lib/python3.9/site-packages (2.3.0)\r\nRequirement already satisfied: gunicorn<21 in /local_disk0/.ephemeral_nfs/cluster_libraries/python/lib/python3.9/site-packages (from mlflow) (20.1.0)\r\nRequirement already satisfied: docker<7,>=4.0.0 in /local_disk0/.ephemeral_nfs/cluster_libraries/python/lib/python3.9/site-packages (from mlflow) (6.0.1)\r\nRequirement already satisfied: pytz<2024 in /databricks/python3/lib/python3.9/site-packages (from mlflow) (2021.3)\r\nRequirement already satisfied: pyyaml<7,>=5.1 in /local_disk0/.ephemeral_nfs/cluster_libraries/python/lib/python3.9/site-packages (from mlflow) (6.0)\r\nRequirement already satisfied: pyarrow<12,>=4.0.0 in /databricks/python3/lib/python3.9/site-packages (from mlflow) (7.0.0)\r\nRequirement already satisfied: gitpython<4,>=2.1.0 in /local_disk0/.ephemeral_nfs/cluster_libraries/python/lib/python3.9/site-packages (from mlflow) (3.1.31)\r\nRequirement already satisfied: cloudpickle<3 in /local_disk0/.ephemeral_nfs/cluster_libraries/python/lib/python3.9/site-packages (from mlflow) (2.2.1)\r\nRequirement already satisfied: protobuf<5,>=3.12.0 in /databricks/python3/lib/python3.9/site-packages (from mlflow) (4.21.5)\r\nRequirement already satisfied: requests<3,>=2.17.3 in /databricks/python3/lib/python3.9/site-packages (from mlflow) (2.26.0)\r\nRequirement already satisfied: numpy<2 in /databricks/python3/lib/python3.9/site-packages (from mlflow) (1.20.3)\r\nRequirement already satisfied: alembic!=1.10.0,<2 in /local_disk0/.ephemeral_nfs/cluster_libraries/python/lib/python3.9/site-packages (from mlflow) (1.10.4)\r\nRequirement already satisfied: Jinja2<4,>=2.11 in /local_disk0/.ephemeral_nfs/cluster_libraries/python/lib/python3.9/site-packages (from mlflow) (3.1.2)\r\nRequirement already satisfied: scipy<2 in /databricks/python3/lib/python3.9/site-packages (from mlflow) (1.7.1)\r\nRequirement already satisfied: Flask<3 in /local_disk0/.ephemeral_nfs/cluster_libraries/python/lib/python3.9/site-packages (from mlflow) (2.3.1)\r\nRequirement already satisfied: matplotlib<4 in /databricks/python3/lib/python3.9/site-packages (from mlflow) (3.4.3)\r\nRequirement already satisfied: scikit-learn<2 in /databricks/python3/lib/python3.9/site-packages (from mlflow) (0.24.2)\r\nRequirement already satisfied: entrypoints<1 in /databricks/python3/lib/python3.9/site-packages (from mlflow) (0.3)\r\nRequirement already satisfied: markdown<4,>=3.3 in /local_disk0/.ephemeral_nfs/cluster_libraries/python/lib/python3.9/site-packages (from mlflow) (3.4.3)\r\nRequirement already satisfied: pandas<3 in /databricks/python3/lib/python3.9/site-packages (from mlflow) (1.3.4)\r\nRequirement already satisfied: querystring-parser<2 in /local_disk0/.ephemeral_nfs/cluster_libraries/python/lib/python3.9/site-packages (from mlflow) (1.2.4)\r\nRequirement already satisfied: importlib-metadata!=4.7.0,<7,>=3.7.0 in /local_disk0/.ephemeral_nfs/cluster_libraries/python/lib/python3.9/site-packages (from mlflow) (6.6.0)\r\nRequirement already satisfied: sqlalchemy<3,>=1.4.0 in /local_disk0/.ephemeral_nfs/cluster_libraries/python/lib/python3.9/site-packages (from mlflow) (2.0.11)\r\nRequirement already satisfied: packaging<24 in /databricks/python3/lib/python3.9/site-packages (from mlflow) (21.0)\r\nRequirement already satisfied: sqlparse<1,>=0.4.0 in /local_disk0/.ephemeral_nfs/cluster_libraries/python/lib/python3.9/site-packages (from mlflow) (0.4.4)\r\nRequirement already satisfied: databricks-cli<1,>=0.8.7 in /local_disk0/.ephemeral_nfs/cluster_libraries/python/lib/python3.9/site-packages (from mlflow) (0.17.6)\r\nRequirement already satisfied: click<9,>=7.0 in /local_disk0/.ephemeral_nfs/cluster_libraries/python/lib/python3.9/site-packages (from mlflow) (8.1.3)\r\nRequirement already satisfied: Mako in /local_disk0/.ephemeral_nfs/cluster_libraries/python/lib/python3.9/site-packages (from alembic!=1.10.0,<2->mlflow) (1.2.4)\r\nRequirement already satisfied: typing-extensions>=4 in /local_disk0/.ephemeral_nfs/cluster_libraries/python/lib/python3.9/site-packages (from alembic!=1.10.0,<2->mlflow) (4.5.0)\r\nRequirement already satisfied: tabulate>=0.7.7 in /local_disk0/.ephemeral_nfs/cluster_libraries/python/lib/python3.9/site-packages (from databricks-cli<1,>=0.8.7->mlflow) (0.9.0)\r\nRequirement already satisfied: six>=1.10.0 in /databricks/python3/lib/python3.9/site-packages (from databricks-cli<1,>=0.8.7->mlflow) (1.16.0)\r\nRequirement already satisfied: oauthlib>=3.1.0 in /local_disk0/.ephemeral_nfs/cluster_libraries/python/lib/python3.9/site-packages (from databricks-cli<1,>=0.8.7->mlflow) (3.2.2)\r\nRequirement already satisfied: pyjwt>=1.7.0 in /local_disk0/.ephemeral_nfs/cluster_libraries/python/lib/python3.9/site-packages (from databricks-cli<1,>=0.8.7->mlflow) (2.6.0)\r\nRequirement already satisfied: urllib3>=1.26.0 in /databricks/python3/lib/python3.9/site-packages (from docker<7,>=4.0.0->mlflow) (1.26.7)\r\nRequirement already satisfied: websocket-client>=0.32.0 in /local_disk0/.ephemeral_nfs/cluster_libraries/python/lib/python3.9/site-packages (from docker<7,>=4.0.0->mlflow) (1.5.1)\r\nRequirement already satisfied: itsdangerous>=2.1.2 in /local_disk0/.ephemeral_nfs/cluster_libraries/python/lib/python3.9/site-packages (from Flask<3->mlflow) (2.1.2)\r\nRequirement already satisfied: blinker>=1.6.2 in /local_disk0/.ephemeral_nfs/cluster_libraries/python/lib/python3.9/site-packages (from Flask<3->mlflow) (1.6.2)\r\nRequirement already satisfied: Werkzeug>=2.3.0 in /local_disk0/.ephemeral_nfs/cluster_libraries/python/lib/python3.9/site-packages (from Flask<3->mlflow) (2.3.1)\r\nRequirement already satisfied: gitdb<5,>=4.0.1 in /local_disk0/.ephemeral_nfs/cluster_libraries/python/lib/python3.9/site-packages (from gitpython<4,>=2.1.0->mlflow) (4.0.10)\r\nRequirement already satisfied: smmap<6,>=3.0.1 in /local_disk0/.ephemeral_nfs/cluster_libraries/python/lib/python3.9/site-packages (from gitdb<5,>=4.0.1->gitpython<4,>=2.1.0->mlflow) (5.0.0)\r\nRequirement already satisfied: setuptools>=3.0 in /usr/local/lib/python3.9/dist-packages (from gunicorn<21->mlflow) (58.0.4)\r\nRequirement already satisfied: zipp>=0.5 in /local_disk0/.ephemeral_nfs/cluster_libraries/python/lib/python3.9/site-packages (from importlib-metadata!=4.7.0,<7,>=3.7.0->mlflow) (3.15.0)\r\nRequirement already satisfied: MarkupSafe>=2.0 in /local_disk0/.ephemeral_nfs/cluster_libraries/python/lib/python3.9/site-packages (from Jinja2<4,>=2.11->mlflow) (2.1.2)\r\nRequirement already satisfied: python-dateutil>=2.7 in /databricks/python3/lib/python3.9/site-packages (from matplotlib<4->mlflow) (2.8.2)\r\nRequirement already satisfied: kiwisolver>=1.0.1 in /databricks/python3/lib/python3.9/site-packages (from matplotlib<4->mlflow) (1.3.1)\r\nRequirement already satisfied: pyparsing>=2.2.1 in /databricks/python3/lib/python3.9/site-packages (from matplotlib<4->mlflow) (3.0.4)\r\nRequirement already satisfied: cycler>=0.10 in /databricks/python3/lib/python3.9/site-packages (from matplotlib<4->mlflow) (0.10.0)\r\nRequirement already satisfied: pillow>=6.2.0 in /databricks/python3/lib/python3.9/site-packages (from matplotlib<4->mlflow) (8.4.0)\r\nRequirement already satisfied: idna<4,>=2.5 in /databricks/python3/lib/python3.9/site-packages (from requests<3,>=2.17.3->mlflow) (3.2)\r\nRequirement already satisfied: charset-normalizer~=2.0.0 in /databricks/python3/lib/python3.9/site-packages (from requests<3,>=2.17.3->mlflow) (2.0.4)\r\nRequirement already satisfied: certifi>=2017.4.17 in /databricks/python3/lib/python3.9/site-packages (from requests<3,>=2.17.3->mlflow) (2021.10.8)\r\nRequirement already satisfied: threadpoolctl>=2.0.0 in /databricks/python3/lib/python3.9/site-packages (from scikit-learn<2->mlflow) (2.2.0)\r\nRequirement already satisfied: joblib>=0.11 in /databricks/python3/lib/python3.9/site-packages (from scikit-learn<2->mlflow) (1.0.1)\r\nRequirement already satisfied: greenlet!=0.4.17 in /local_disk0/.ephemeral_nfs/cluster_libraries/python/lib/python3.9/site-packages (from sqlalchemy<3,>=1.4.0->mlflow) (2.0.2)\r\n\u001B[33mWARNING: You are using pip version 21.2.4; however, version 23.1.2 is available.\r\nYou should consider upgrading via the '/local_disk0/.ephemeral_nfs/envs/pythonEnv-c4a43444-0770-4344-a691-cf0c4c645aea/bin/python -m pip install --upgrade pip' command.\u001B[0m\r\n"
     ]
    }
   ],
   "source": [
    "!pip install --upgrade mlflow"
   ]
  },
  {
   "cell_type": "code",
   "execution_count": 0,
   "metadata": {
    "application/vnd.databricks.v1+cell": {
     "cellMetadata": {
      "byteLimit": 2048000,
      "rowLimit": 10000
     },
     "inputWidgets": {},
     "nuid": "af1a5816-32a9-432b-b4ca-e80dabbb8869",
     "showTitle": false,
     "title": ""
    }
   },
   "outputs": [
    {
     "output_type": "stream",
     "name": "stdout",
     "output_type": "stream",
     "text": [
      "Parse progress: |████████████████████████████████████████████████████████████████| (done) 100%\n"
     ]
    },
    {
     "output_type": "display_data",
     "data": {
      "text/plain": [
       "\u001B[0;31m---------------------------------------------------------------------------\u001B[0m\n",
       "\u001B[0;31mTypeError\u001B[0m                                 Traceback (most recent call last)\n",
       "\u001B[0;32m<command-2417040963743886>\u001B[0m in \u001B[0;36m<cell line: 22>\u001B[0;34m()\u001B[0m\n",
       "\u001B[1;32m     20\u001B[0m \u001B[0;31m# Use GridSearch to search over hyperparameter space\u001B[0m\u001B[0;34m\u001B[0m\u001B[0;34m\u001B[0m\u001B[0;34m\u001B[0m\u001B[0m\n",
       "\u001B[1;32m     21\u001B[0m \u001B[0maml\u001B[0m \u001B[0;34m=\u001B[0m \u001B[0mH2OAutoML\u001B[0m\u001B[0;34m(\u001B[0m\u001B[0mmax_models\u001B[0m\u001B[0;34m=\u001B[0m\u001B[0;36m10\u001B[0m\u001B[0;34m,\u001B[0m \u001B[0mseed\u001B[0m\u001B[0;34m=\u001B[0m\u001B[0;36m1\u001B[0m\u001B[0;34m)\u001B[0m\u001B[0;34m\u001B[0m\u001B[0;34m\u001B[0m\u001B[0m\n",
       "\u001B[0;32m---> 22\u001B[0;31m \u001B[0mgrid\u001B[0m \u001B[0;34m=\u001B[0m \u001B[0mH2OGridSearch\u001B[0m\u001B[0;34m(\u001B[0m\u001B[0maml\u001B[0m\u001B[0;34m,\u001B[0m \u001B[0mhyper_params\u001B[0m\u001B[0;34m)\u001B[0m\u001B[0;34m\u001B[0m\u001B[0;34m\u001B[0m\u001B[0m\n",
       "\u001B[0m\u001B[1;32m     23\u001B[0m \u001B[0mgrid\u001B[0m\u001B[0;34m.\u001B[0m\u001B[0mtrain\u001B[0m\u001B[0;34m(\u001B[0m\u001B[0mx\u001B[0m\u001B[0;34m=\u001B[0m\u001B[0mx\u001B[0m\u001B[0;34m,\u001B[0m \u001B[0my\u001B[0m\u001B[0;34m=\u001B[0m\u001B[0mtarget\u001B[0m\u001B[0;34m,\u001B[0m \u001B[0mtraining_frame\u001B[0m\u001B[0;34m=\u001B[0m\u001B[0mhf\u001B[0m\u001B[0;34m)\u001B[0m\u001B[0;34m\u001B[0m\u001B[0;34m\u001B[0m\u001B[0m\n",
       "\u001B[1;32m     24\u001B[0m \u001B[0;34m\u001B[0m\u001B[0m\n",
       "\n",
       "\u001B[0;32m/local_disk0/.ephemeral_nfs/envs/pythonEnv-c4a43444-0770-4344-a691-cf0c4c645aea/lib/python3.9/site-packages/h2o/utils/metaclass.py\u001B[0m in \u001B[0;36m__init__\u001B[0;34m(self, *args, **kwargs)\u001B[0m\n",
       "\u001B[1;32m    332\u001B[0m         \u001B[0;34m@\u001B[0m\u001B[0mwraps\u001B[0m\u001B[0;34m(\u001B[0m\u001B[0mclz\u001B[0m\u001B[0;34m.\u001B[0m\u001B[0m__init__\u001B[0m\u001B[0;34m)\u001B[0m\u001B[0;34m\u001B[0m\u001B[0;34m\u001B[0m\u001B[0m\n",
       "\u001B[1;32m    333\u001B[0m         \u001B[0;32mdef\u001B[0m \u001B[0m__init__\u001B[0m\u001B[0;34m(\u001B[0m\u001B[0mself\u001B[0m\u001B[0;34m,\u001B[0m \u001B[0;34m*\u001B[0m\u001B[0margs\u001B[0m\u001B[0;34m,\u001B[0m \u001B[0;34m**\u001B[0m\u001B[0mkwargs\u001B[0m\u001B[0;34m)\u001B[0m\u001B[0;34m:\u001B[0m\u001B[0;34m\u001B[0m\u001B[0;34m\u001B[0m\u001B[0m\n",
       "\u001B[0;32m--> 334\u001B[0;31m             \u001B[0msuper\u001B[0m\u001B[0;34m(\u001B[0m\u001B[0mnew_clz\u001B[0m\u001B[0;34m,\u001B[0m \u001B[0mself\u001B[0m\u001B[0;34m)\u001B[0m\u001B[0;34m.\u001B[0m\u001B[0m__init__\u001B[0m\u001B[0;34m(\u001B[0m\u001B[0;34m*\u001B[0m\u001B[0margs\u001B[0m\u001B[0;34m,\u001B[0m \u001B[0;34m**\u001B[0m\u001B[0mkwargs\u001B[0m\u001B[0;34m)\u001B[0m\u001B[0;34m\u001B[0m\u001B[0;34m\u001B[0m\u001B[0m\n",
       "\u001B[0m\u001B[1;32m    335\u001B[0m             \u001B[0mself\u001B[0m\u001B[0;34m.\u001B[0m\u001B[0m_bci\u001B[0m \u001B[0;34m=\u001B[0m \u001B[0;34m{\u001B[0m\u001B[0mname\u001B[0m\u001B[0;34m:\u001B[0m \u001B[0mval\u001B[0m\u001B[0;34m.\u001B[0m\u001B[0m__get__\u001B[0m\u001B[0;34m(\u001B[0m\u001B[0mself\u001B[0m\u001B[0;34m,\u001B[0m \u001B[0mnew_clz\u001B[0m\u001B[0;34m)\u001B[0m \u001B[0;32mif\u001B[0m \u001B[0mcallable\u001B[0m\u001B[0;34m(\u001B[0m\u001B[0mval\u001B[0m\u001B[0;34m)\u001B[0m \u001B[0;32melse\u001B[0m \u001B[0mval\u001B[0m \u001B[0;32mfor\u001B[0m \u001B[0mname\u001B[0m\u001B[0;34m,\u001B[0m \u001B[0mval\u001B[0m \u001B[0;32min\u001B[0m \u001B[0mclz\u001B[0m\u001B[0;34m.\u001B[0m\u001B[0m_bc\u001B[0m\u001B[0;34m.\u001B[0m\u001B[0m_instance_attrs\u001B[0m\u001B[0;34m.\u001B[0m\u001B[0mitems\u001B[0m\u001B[0;34m(\u001B[0m\u001B[0;34m)\u001B[0m\u001B[0;34m}\u001B[0m\u001B[0;34m\u001B[0m\u001B[0;34m\u001B[0m\u001B[0m\n",
       "\u001B[1;32m    336\u001B[0m \u001B[0;34m\u001B[0m\u001B[0m\n",
       "\n",
       "\u001B[0;32m/local_disk0/.ephemeral_nfs/envs/pythonEnv-c4a43444-0770-4344-a691-cf0c4c645aea/lib/python3.9/site-packages/h2o/grid/grid_search.py\u001B[0m in \u001B[0;36m__init__\u001B[0;34m(self, model, hyper_params, grid_id, search_criteria, export_checkpoints_dir, recovery_dir, parallelism)\u001B[0m\n",
       "\u001B[1;32m     86\u001B[0m         ...             \"stopping_tolerance\": 0.00001}\n",
       "\u001B[1;32m     87\u001B[0m         \"\"\"\n",
       "\u001B[0;32m---> 88\u001B[0;31m         \u001B[0massert_is_type\u001B[0m\u001B[0;34m(\u001B[0m\u001B[0mmodel\u001B[0m\u001B[0;34m,\u001B[0m \u001B[0;32mNone\u001B[0m\u001B[0;34m,\u001B[0m \u001B[0mH2OEstimator\u001B[0m\u001B[0;34m,\u001B[0m \u001B[0;32mlambda\u001B[0m \u001B[0mmdl\u001B[0m\u001B[0;34m:\u001B[0m \u001B[0missubclass\u001B[0m\u001B[0;34m(\u001B[0m\u001B[0mmdl\u001B[0m\u001B[0;34m,\u001B[0m \u001B[0mH2OEstimator\u001B[0m\u001B[0;34m)\u001B[0m\u001B[0;34m)\u001B[0m\u001B[0;34m\u001B[0m\u001B[0;34m\u001B[0m\u001B[0m\n",
       "\u001B[0m\u001B[1;32m     89\u001B[0m         \u001B[0massert_is_type\u001B[0m\u001B[0;34m(\u001B[0m\u001B[0mhyper_params\u001B[0m\u001B[0;34m,\u001B[0m \u001B[0mdict\u001B[0m\u001B[0;34m)\u001B[0m\u001B[0;34m\u001B[0m\u001B[0;34m\u001B[0m\u001B[0m\n",
       "\u001B[1;32m     90\u001B[0m         \u001B[0massert_is_type\u001B[0m\u001B[0;34m(\u001B[0m\u001B[0mgrid_id\u001B[0m\u001B[0;34m,\u001B[0m \u001B[0;32mNone\u001B[0m\u001B[0;34m,\u001B[0m \u001B[0mstr\u001B[0m\u001B[0;34m)\u001B[0m\u001B[0;34m\u001B[0m\u001B[0;34m\u001B[0m\u001B[0m\n",
       "\n",
       "\u001B[0;32m/local_disk0/.ephemeral_nfs/envs/pythonEnv-c4a43444-0770-4344-a691-cf0c4c645aea/lib/python3.9/site-packages/h2o/utils/typechecks.py\u001B[0m in \u001B[0;36massert_is_type\u001B[0;34m(var, *types, **kwargs)\u001B[0m\n",
       "\u001B[1;32m    441\u001B[0m     \u001B[0;32massert\u001B[0m \u001B[0mtypes\u001B[0m\u001B[0;34m,\u001B[0m \u001B[0;34m\"The list of expected types was not provided\"\u001B[0m\u001B[0;34m\u001B[0m\u001B[0;34m\u001B[0m\u001B[0m\n",
       "\u001B[1;32m    442\u001B[0m     \u001B[0mexpected_type\u001B[0m \u001B[0;34m=\u001B[0m \u001B[0mtypes\u001B[0m\u001B[0;34m[\u001B[0m\u001B[0;36m0\u001B[0m\u001B[0;34m]\u001B[0m \u001B[0;32mif\u001B[0m \u001B[0mlen\u001B[0m\u001B[0;34m(\u001B[0m\u001B[0mtypes\u001B[0m\u001B[0;34m)\u001B[0m \u001B[0;34m==\u001B[0m \u001B[0;36m1\u001B[0m \u001B[0;32melse\u001B[0m \u001B[0mU\u001B[0m\u001B[0;34m(\u001B[0m\u001B[0;34m*\u001B[0m\u001B[0mtypes\u001B[0m\u001B[0;34m)\u001B[0m\u001B[0;34m\u001B[0m\u001B[0;34m\u001B[0m\u001B[0m\n",
       "\u001B[0;32m--> 443\u001B[0;31m     \u001B[0;32mif\u001B[0m \u001B[0m_check_type\u001B[0m\u001B[0;34m(\u001B[0m\u001B[0mvar\u001B[0m\u001B[0;34m,\u001B[0m \u001B[0mexpected_type\u001B[0m\u001B[0;34m)\u001B[0m\u001B[0;34m:\u001B[0m \u001B[0;32mreturn\u001B[0m\u001B[0;34m\u001B[0m\u001B[0;34m\u001B[0m\u001B[0m\n",
       "\u001B[0m\u001B[1;32m    444\u001B[0m \u001B[0;34m\u001B[0m\u001B[0m\n",
       "\u001B[1;32m    445\u001B[0m     \u001B[0;31m# Type check failed => Create a nice error message\u001B[0m\u001B[0;34m\u001B[0m\u001B[0;34m\u001B[0m\u001B[0;34m\u001B[0m\u001B[0m\n",
       "\n",
       "\u001B[0;32m/local_disk0/.ephemeral_nfs/envs/pythonEnv-c4a43444-0770-4344-a691-cf0c4c645aea/lib/python3.9/site-packages/h2o/utils/typechecks.py\u001B[0m in \u001B[0;36m_check_type\u001B[0;34m(var, vtype)\u001B[0m\n",
       "\u001B[1;32m    576\u001B[0m         \u001B[0;32mreturn\u001B[0m \u001B[0misinstance\u001B[0m\u001B[0;34m(\u001B[0m\u001B[0mvar\u001B[0m\u001B[0;34m,\u001B[0m \u001B[0m_num_type\u001B[0m\u001B[0;34m)\u001B[0m\u001B[0;34m\u001B[0m\u001B[0;34m\u001B[0m\u001B[0m\n",
       "\u001B[1;32m    577\u001B[0m     \u001B[0;32mif\u001B[0m \u001B[0misinstance\u001B[0m\u001B[0;34m(\u001B[0m\u001B[0mvtype\u001B[0m\u001B[0;34m,\u001B[0m \u001B[0mMagicType\u001B[0m\u001B[0;34m)\u001B[0m\u001B[0;34m:\u001B[0m\u001B[0;34m\u001B[0m\u001B[0;34m\u001B[0m\u001B[0m\n",
       "\u001B[0;32m--> 578\u001B[0;31m         \u001B[0;32mreturn\u001B[0m \u001B[0mvtype\u001B[0m\u001B[0;34m.\u001B[0m\u001B[0mcheck\u001B[0m\u001B[0;34m(\u001B[0m\u001B[0mvar\u001B[0m\u001B[0;34m)\u001B[0m\u001B[0;34m\u001B[0m\u001B[0;34m\u001B[0m\u001B[0m\n",
       "\u001B[0m\u001B[1;32m    579\u001B[0m     \u001B[0;32mif\u001B[0m \u001B[0misinstance\u001B[0m\u001B[0;34m(\u001B[0m\u001B[0mvtype\u001B[0m\u001B[0;34m,\u001B[0m \u001B[0mtype\u001B[0m\u001B[0;34m)\u001B[0m\u001B[0;34m:\u001B[0m\u001B[0;34m\u001B[0m\u001B[0;34m\u001B[0m\u001B[0m\n",
       "\u001B[1;32m    580\u001B[0m         \u001B[0;31m# ``vtype`` is a name of the class, or a built-in type such as \"list\", \"tuple\", etc\u001B[0m\u001B[0;34m\u001B[0m\u001B[0;34m\u001B[0m\u001B[0;34m\u001B[0m\u001B[0m\n",
       "\n",
       "\u001B[0;32m/local_disk0/.ephemeral_nfs/envs/pythonEnv-c4a43444-0770-4344-a691-cf0c4c645aea/lib/python3.9/site-packages/h2o/utils/typechecks.py\u001B[0m in \u001B[0;36mcheck\u001B[0;34m(self, var)\u001B[0m\n",
       "\u001B[1;32m    174\u001B[0m     \u001B[0;32mdef\u001B[0m \u001B[0mcheck\u001B[0m\u001B[0;34m(\u001B[0m\u001B[0mself\u001B[0m\u001B[0;34m,\u001B[0m \u001B[0mvar\u001B[0m\u001B[0;34m)\u001B[0m\u001B[0;34m:\u001B[0m\u001B[0;34m\u001B[0m\u001B[0;34m\u001B[0m\u001B[0m\n",
       "\u001B[1;32m    175\u001B[0m         \u001B[0;34m\"\"\"Return True if the variable matches this type, and False otherwise.\"\"\"\u001B[0m\u001B[0;34m\u001B[0m\u001B[0;34m\u001B[0m\u001B[0m\n",
       "\u001B[0;32m--> 176\u001B[0;31m         \u001B[0;32mreturn\u001B[0m \u001B[0many\u001B[0m\u001B[0;34m(\u001B[0m\u001B[0m_check_type\u001B[0m\u001B[0;34m(\u001B[0m\u001B[0mvar\u001B[0m\u001B[0;34m,\u001B[0m \u001B[0mtt\u001B[0m\u001B[0;34m)\u001B[0m \u001B[0;32mfor\u001B[0m \u001B[0mtt\u001B[0m \u001B[0;32min\u001B[0m \u001B[0mself\u001B[0m\u001B[0;34m.\u001B[0m\u001B[0m_types\u001B[0m\u001B[0;34m)\u001B[0m\u001B[0;34m\u001B[0m\u001B[0;34m\u001B[0m\u001B[0m\n",
       "\u001B[0m\u001B[1;32m    177\u001B[0m \u001B[0;34m\u001B[0m\u001B[0m\n",
       "\u001B[1;32m    178\u001B[0m     \u001B[0;32mdef\u001B[0m \u001B[0mname\u001B[0m\u001B[0;34m(\u001B[0m\u001B[0mself\u001B[0m\u001B[0;34m,\u001B[0m \u001B[0msrc\u001B[0m\u001B[0;34m=\u001B[0m\u001B[0;32mNone\u001B[0m\u001B[0;34m)\u001B[0m\u001B[0;34m:\u001B[0m\u001B[0;34m\u001B[0m\u001B[0;34m\u001B[0m\u001B[0m\n",
       "\n",
       "\u001B[0;32m/local_disk0/.ephemeral_nfs/envs/pythonEnv-c4a43444-0770-4344-a691-cf0c4c645aea/lib/python3.9/site-packages/h2o/utils/typechecks.py\u001B[0m in \u001B[0;36m<genexpr>\u001B[0;34m(.0)\u001B[0m\n",
       "\u001B[1;32m    174\u001B[0m     \u001B[0;32mdef\u001B[0m \u001B[0mcheck\u001B[0m\u001B[0;34m(\u001B[0m\u001B[0mself\u001B[0m\u001B[0;34m,\u001B[0m \u001B[0mvar\u001B[0m\u001B[0;34m)\u001B[0m\u001B[0;34m:\u001B[0m\u001B[0;34m\u001B[0m\u001B[0;34m\u001B[0m\u001B[0m\n",
       "\u001B[1;32m    175\u001B[0m         \u001B[0;34m\"\"\"Return True if the variable matches this type, and False otherwise.\"\"\"\u001B[0m\u001B[0;34m\u001B[0m\u001B[0;34m\u001B[0m\u001B[0m\n",
       "\u001B[0;32m--> 176\u001B[0;31m         \u001B[0;32mreturn\u001B[0m \u001B[0many\u001B[0m\u001B[0;34m(\u001B[0m\u001B[0m_check_type\u001B[0m\u001B[0;34m(\u001B[0m\u001B[0mvar\u001B[0m\u001B[0;34m,\u001B[0m \u001B[0mtt\u001B[0m\u001B[0;34m)\u001B[0m \u001B[0;32mfor\u001B[0m \u001B[0mtt\u001B[0m \u001B[0;32min\u001B[0m \u001B[0mself\u001B[0m\u001B[0;34m.\u001B[0m\u001B[0m_types\u001B[0m\u001B[0;34m)\u001B[0m\u001B[0;34m\u001B[0m\u001B[0;34m\u001B[0m\u001B[0m\n",
       "\u001B[0m\u001B[1;32m    177\u001B[0m \u001B[0;34m\u001B[0m\u001B[0m\n",
       "\u001B[1;32m    178\u001B[0m     \u001B[0;32mdef\u001B[0m \u001B[0mname\u001B[0m\u001B[0;34m(\u001B[0m\u001B[0mself\u001B[0m\u001B[0;34m,\u001B[0m \u001B[0msrc\u001B[0m\u001B[0;34m=\u001B[0m\u001B[0;32mNone\u001B[0m\u001B[0;34m)\u001B[0m\u001B[0;34m:\u001B[0m\u001B[0;34m\u001B[0m\u001B[0;34m\u001B[0m\u001B[0m\n",
       "\n",
       "\u001B[0;32m/local_disk0/.ephemeral_nfs/envs/pythonEnv-c4a43444-0770-4344-a691-cf0c4c645aea/lib/python3.9/site-packages/h2o/utils/typechecks.py\u001B[0m in \u001B[0;36m_check_type\u001B[0;34m(var, vtype)\u001B[0m\n",
       "\u001B[1;32m    597\u001B[0m         \u001B[0;32mreturn\u001B[0m \u001B[0misinstance\u001B[0m\u001B[0;34m(\u001B[0m\u001B[0mvar\u001B[0m\u001B[0;34m,\u001B[0m \u001B[0mdict\u001B[0m\u001B[0;34m)\u001B[0m \u001B[0;32mand\u001B[0m \u001B[0mall\u001B[0m\u001B[0;34m(\u001B[0m\u001B[0m_check_type\u001B[0m\u001B[0;34m(\u001B[0m\u001B[0mkv\u001B[0m\u001B[0;34m,\u001B[0m \u001B[0mttkv\u001B[0m\u001B[0;34m)\u001B[0m \u001B[0;32mfor\u001B[0m \u001B[0mkv\u001B[0m \u001B[0;32min\u001B[0m \u001B[0mviewitems\u001B[0m\u001B[0;34m(\u001B[0m\u001B[0mvar\u001B[0m\u001B[0;34m)\u001B[0m\u001B[0;34m)\u001B[0m\u001B[0;34m\u001B[0m\u001B[0;34m\u001B[0m\u001B[0m\n",
       "\u001B[1;32m    598\u001B[0m     \u001B[0;32mif\u001B[0m \u001B[0misinstance\u001B[0m\u001B[0;34m(\u001B[0m\u001B[0mvtype\u001B[0m\u001B[0;34m,\u001B[0m \u001B[0;34m(\u001B[0m\u001B[0mFunctionType\u001B[0m\u001B[0;34m,\u001B[0m \u001B[0mBuiltinFunctionType\u001B[0m\u001B[0;34m)\u001B[0m\u001B[0;34m)\u001B[0m\u001B[0;34m:\u001B[0m\u001B[0;34m\u001B[0m\u001B[0;34m\u001B[0m\u001B[0m\n",
       "\u001B[0;32m--> 599\u001B[0;31m         \u001B[0;32mreturn\u001B[0m \u001B[0mvtype\u001B[0m\u001B[0;34m(\u001B[0m\u001B[0mvar\u001B[0m\u001B[0;34m)\u001B[0m\u001B[0;34m\u001B[0m\u001B[0;34m\u001B[0m\u001B[0m\n",
       "\u001B[0m\u001B[1;32m    600\u001B[0m     \u001B[0;32mraise\u001B[0m \u001B[0mRuntimeError\u001B[0m\u001B[0;34m(\u001B[0m\u001B[0;34m\"Ivalid type %r in _check_type()\"\u001B[0m \u001B[0;34m%\u001B[0m \u001B[0mvtype\u001B[0m\u001B[0;34m)\u001B[0m\u001B[0;34m\u001B[0m\u001B[0;34m\u001B[0m\u001B[0m\n",
       "\u001B[1;32m    601\u001B[0m \u001B[0;34m\u001B[0m\u001B[0m\n",
       "\n",
       "\u001B[0;32m/local_disk0/.ephemeral_nfs/envs/pythonEnv-c4a43444-0770-4344-a691-cf0c4c645aea/lib/python3.9/site-packages/h2o/grid/grid_search.py\u001B[0m in \u001B[0;36m<lambda>\u001B[0;34m(mdl)\u001B[0m\n",
       "\u001B[1;32m     86\u001B[0m         ...             \"stopping_tolerance\": 0.00001}\n",
       "\u001B[1;32m     87\u001B[0m         \"\"\"\n",
       "\u001B[0;32m---> 88\u001B[0;31m         \u001B[0massert_is_type\u001B[0m\u001B[0;34m(\u001B[0m\u001B[0mmodel\u001B[0m\u001B[0;34m,\u001B[0m \u001B[0;32mNone\u001B[0m\u001B[0;34m,\u001B[0m \u001B[0mH2OEstimator\u001B[0m\u001B[0;34m,\u001B[0m \u001B[0;32mlambda\u001B[0m \u001B[0mmdl\u001B[0m\u001B[0;34m:\u001B[0m \u001B[0missubclass\u001B[0m\u001B[0;34m(\u001B[0m\u001B[0mmdl\u001B[0m\u001B[0;34m,\u001B[0m \u001B[0mH2OEstimator\u001B[0m\u001B[0;34m)\u001B[0m\u001B[0;34m)\u001B[0m\u001B[0;34m\u001B[0m\u001B[0;34m\u001B[0m\u001B[0m\n",
       "\u001B[0m\u001B[1;32m     89\u001B[0m         \u001B[0massert_is_type\u001B[0m\u001B[0;34m(\u001B[0m\u001B[0mhyper_params\u001B[0m\u001B[0;34m,\u001B[0m \u001B[0mdict\u001B[0m\u001B[0;34m)\u001B[0m\u001B[0;34m\u001B[0m\u001B[0;34m\u001B[0m\u001B[0m\n",
       "\u001B[1;32m     90\u001B[0m         \u001B[0massert_is_type\u001B[0m\u001B[0;34m(\u001B[0m\u001B[0mgrid_id\u001B[0m\u001B[0;34m,\u001B[0m \u001B[0;32mNone\u001B[0m\u001B[0;34m,\u001B[0m \u001B[0mstr\u001B[0m\u001B[0;34m)\u001B[0m\u001B[0;34m\u001B[0m\u001B[0;34m\u001B[0m\u001B[0m\n",
       "\n",
       "\u001B[0;31mTypeError\u001B[0m: issubclass() arg 1 must be a class"
      ]
     },
     "metadata": {
      "application/vnd.databricks.v1+output": {
       "arguments": {},
       "data": "\u001B[0;31m---------------------------------------------------------------------------\u001B[0m\n\u001B[0;31mTypeError\u001B[0m                                 Traceback (most recent call last)\n\u001B[0;32m<command-2417040963743886>\u001B[0m in \u001B[0;36m<cell line: 22>\u001B[0;34m()\u001B[0m\n\u001B[1;32m     20\u001B[0m \u001B[0;31m# Use GridSearch to search over hyperparameter space\u001B[0m\u001B[0;34m\u001B[0m\u001B[0;34m\u001B[0m\u001B[0;34m\u001B[0m\u001B[0m\n\u001B[1;32m     21\u001B[0m \u001B[0maml\u001B[0m \u001B[0;34m=\u001B[0m \u001B[0mH2OAutoML\u001B[0m\u001B[0;34m(\u001B[0m\u001B[0mmax_models\u001B[0m\u001B[0;34m=\u001B[0m\u001B[0;36m10\u001B[0m\u001B[0;34m,\u001B[0m \u001B[0mseed\u001B[0m\u001B[0;34m=\u001B[0m\u001B[0;36m1\u001B[0m\u001B[0;34m)\u001B[0m\u001B[0;34m\u001B[0m\u001B[0;34m\u001B[0m\u001B[0m\n\u001B[0;32m---> 22\u001B[0;31m \u001B[0mgrid\u001B[0m \u001B[0;34m=\u001B[0m \u001B[0mH2OGridSearch\u001B[0m\u001B[0;34m(\u001B[0m\u001B[0maml\u001B[0m\u001B[0;34m,\u001B[0m \u001B[0mhyper_params\u001B[0m\u001B[0;34m)\u001B[0m\u001B[0;34m\u001B[0m\u001B[0;34m\u001B[0m\u001B[0m\n\u001B[0m\u001B[1;32m     23\u001B[0m \u001B[0mgrid\u001B[0m\u001B[0;34m.\u001B[0m\u001B[0mtrain\u001B[0m\u001B[0;34m(\u001B[0m\u001B[0mx\u001B[0m\u001B[0;34m=\u001B[0m\u001B[0mx\u001B[0m\u001B[0;34m,\u001B[0m \u001B[0my\u001B[0m\u001B[0;34m=\u001B[0m\u001B[0mtarget\u001B[0m\u001B[0;34m,\u001B[0m \u001B[0mtraining_frame\u001B[0m\u001B[0;34m=\u001B[0m\u001B[0mhf\u001B[0m\u001B[0;34m)\u001B[0m\u001B[0;34m\u001B[0m\u001B[0;34m\u001B[0m\u001B[0m\n\u001B[1;32m     24\u001B[0m \u001B[0;34m\u001B[0m\u001B[0m\n\n\u001B[0;32m/local_disk0/.ephemeral_nfs/envs/pythonEnv-c4a43444-0770-4344-a691-cf0c4c645aea/lib/python3.9/site-packages/h2o/utils/metaclass.py\u001B[0m in \u001B[0;36m__init__\u001B[0;34m(self, *args, **kwargs)\u001B[0m\n\u001B[1;32m    332\u001B[0m         \u001B[0;34m@\u001B[0m\u001B[0mwraps\u001B[0m\u001B[0;34m(\u001B[0m\u001B[0mclz\u001B[0m\u001B[0;34m.\u001B[0m\u001B[0m__init__\u001B[0m\u001B[0;34m)\u001B[0m\u001B[0;34m\u001B[0m\u001B[0;34m\u001B[0m\u001B[0m\n\u001B[1;32m    333\u001B[0m         \u001B[0;32mdef\u001B[0m \u001B[0m__init__\u001B[0m\u001B[0;34m(\u001B[0m\u001B[0mself\u001B[0m\u001B[0;34m,\u001B[0m \u001B[0;34m*\u001B[0m\u001B[0margs\u001B[0m\u001B[0;34m,\u001B[0m \u001B[0;34m**\u001B[0m\u001B[0mkwargs\u001B[0m\u001B[0;34m)\u001B[0m\u001B[0;34m:\u001B[0m\u001B[0;34m\u001B[0m\u001B[0;34m\u001B[0m\u001B[0m\n\u001B[0;32m--> 334\u001B[0;31m             \u001B[0msuper\u001B[0m\u001B[0;34m(\u001B[0m\u001B[0mnew_clz\u001B[0m\u001B[0;34m,\u001B[0m \u001B[0mself\u001B[0m\u001B[0;34m)\u001B[0m\u001B[0;34m.\u001B[0m\u001B[0m__init__\u001B[0m\u001B[0;34m(\u001B[0m\u001B[0;34m*\u001B[0m\u001B[0margs\u001B[0m\u001B[0;34m,\u001B[0m \u001B[0;34m**\u001B[0m\u001B[0mkwargs\u001B[0m\u001B[0;34m)\u001B[0m\u001B[0;34m\u001B[0m\u001B[0;34m\u001B[0m\u001B[0m\n\u001B[0m\u001B[1;32m    335\u001B[0m             \u001B[0mself\u001B[0m\u001B[0;34m.\u001B[0m\u001B[0m_bci\u001B[0m \u001B[0;34m=\u001B[0m \u001B[0;34m{\u001B[0m\u001B[0mname\u001B[0m\u001B[0;34m:\u001B[0m \u001B[0mval\u001B[0m\u001B[0;34m.\u001B[0m\u001B[0m__get__\u001B[0m\u001B[0;34m(\u001B[0m\u001B[0mself\u001B[0m\u001B[0;34m,\u001B[0m \u001B[0mnew_clz\u001B[0m\u001B[0;34m)\u001B[0m \u001B[0;32mif\u001B[0m \u001B[0mcallable\u001B[0m\u001B[0;34m(\u001B[0m\u001B[0mval\u001B[0m\u001B[0;34m)\u001B[0m \u001B[0;32melse\u001B[0m \u001B[0mval\u001B[0m \u001B[0;32mfor\u001B[0m \u001B[0mname\u001B[0m\u001B[0;34m,\u001B[0m \u001B[0mval\u001B[0m \u001B[0;32min\u001B[0m \u001B[0mclz\u001B[0m\u001B[0;34m.\u001B[0m\u001B[0m_bc\u001B[0m\u001B[0;34m.\u001B[0m\u001B[0m_instance_attrs\u001B[0m\u001B[0;34m.\u001B[0m\u001B[0mitems\u001B[0m\u001B[0;34m(\u001B[0m\u001B[0;34m)\u001B[0m\u001B[0;34m}\u001B[0m\u001B[0;34m\u001B[0m\u001B[0;34m\u001B[0m\u001B[0m\n\u001B[1;32m    336\u001B[0m \u001B[0;34m\u001B[0m\u001B[0m\n\n\u001B[0;32m/local_disk0/.ephemeral_nfs/envs/pythonEnv-c4a43444-0770-4344-a691-cf0c4c645aea/lib/python3.9/site-packages/h2o/grid/grid_search.py\u001B[0m in \u001B[0;36m__init__\u001B[0;34m(self, model, hyper_params, grid_id, search_criteria, export_checkpoints_dir, recovery_dir, parallelism)\u001B[0m\n\u001B[1;32m     86\u001B[0m         ...             \"stopping_tolerance\": 0.00001}\n\u001B[1;32m     87\u001B[0m         \"\"\"\n\u001B[0;32m---> 88\u001B[0;31m         \u001B[0massert_is_type\u001B[0m\u001B[0;34m(\u001B[0m\u001B[0mmodel\u001B[0m\u001B[0;34m,\u001B[0m \u001B[0;32mNone\u001B[0m\u001B[0;34m,\u001B[0m \u001B[0mH2OEstimator\u001B[0m\u001B[0;34m,\u001B[0m \u001B[0;32mlambda\u001B[0m \u001B[0mmdl\u001B[0m\u001B[0;34m:\u001B[0m \u001B[0missubclass\u001B[0m\u001B[0;34m(\u001B[0m\u001B[0mmdl\u001B[0m\u001B[0;34m,\u001B[0m \u001B[0mH2OEstimator\u001B[0m\u001B[0;34m)\u001B[0m\u001B[0;34m)\u001B[0m\u001B[0;34m\u001B[0m\u001B[0;34m\u001B[0m\u001B[0m\n\u001B[0m\u001B[1;32m     89\u001B[0m         \u001B[0massert_is_type\u001B[0m\u001B[0;34m(\u001B[0m\u001B[0mhyper_params\u001B[0m\u001B[0;34m,\u001B[0m \u001B[0mdict\u001B[0m\u001B[0;34m)\u001B[0m\u001B[0;34m\u001B[0m\u001B[0;34m\u001B[0m\u001B[0m\n\u001B[1;32m     90\u001B[0m         \u001B[0massert_is_type\u001B[0m\u001B[0;34m(\u001B[0m\u001B[0mgrid_id\u001B[0m\u001B[0;34m,\u001B[0m \u001B[0;32mNone\u001B[0m\u001B[0;34m,\u001B[0m \u001B[0mstr\u001B[0m\u001B[0;34m)\u001B[0m\u001B[0;34m\u001B[0m\u001B[0;34m\u001B[0m\u001B[0m\n\n\u001B[0;32m/local_disk0/.ephemeral_nfs/envs/pythonEnv-c4a43444-0770-4344-a691-cf0c4c645aea/lib/python3.9/site-packages/h2o/utils/typechecks.py\u001B[0m in \u001B[0;36massert_is_type\u001B[0;34m(var, *types, **kwargs)\u001B[0m\n\u001B[1;32m    441\u001B[0m     \u001B[0;32massert\u001B[0m \u001B[0mtypes\u001B[0m\u001B[0;34m,\u001B[0m \u001B[0;34m\"The list of expected types was not provided\"\u001B[0m\u001B[0;34m\u001B[0m\u001B[0;34m\u001B[0m\u001B[0m\n\u001B[1;32m    442\u001B[0m     \u001B[0mexpected_type\u001B[0m \u001B[0;34m=\u001B[0m \u001B[0mtypes\u001B[0m\u001B[0;34m[\u001B[0m\u001B[0;36m0\u001B[0m\u001B[0;34m]\u001B[0m \u001B[0;32mif\u001B[0m \u001B[0mlen\u001B[0m\u001B[0;34m(\u001B[0m\u001B[0mtypes\u001B[0m\u001B[0;34m)\u001B[0m \u001B[0;34m==\u001B[0m \u001B[0;36m1\u001B[0m \u001B[0;32melse\u001B[0m \u001B[0mU\u001B[0m\u001B[0;34m(\u001B[0m\u001B[0;34m*\u001B[0m\u001B[0mtypes\u001B[0m\u001B[0;34m)\u001B[0m\u001B[0;34m\u001B[0m\u001B[0;34m\u001B[0m\u001B[0m\n\u001B[0;32m--> 443\u001B[0;31m     \u001B[0;32mif\u001B[0m \u001B[0m_check_type\u001B[0m\u001B[0;34m(\u001B[0m\u001B[0mvar\u001B[0m\u001B[0;34m,\u001B[0m \u001B[0mexpected_type\u001B[0m\u001B[0;34m)\u001B[0m\u001B[0;34m:\u001B[0m \u001B[0;32mreturn\u001B[0m\u001B[0;34m\u001B[0m\u001B[0;34m\u001B[0m\u001B[0m\n\u001B[0m\u001B[1;32m    444\u001B[0m \u001B[0;34m\u001B[0m\u001B[0m\n\u001B[1;32m    445\u001B[0m     \u001B[0;31m# Type check failed => Create a nice error message\u001B[0m\u001B[0;34m\u001B[0m\u001B[0;34m\u001B[0m\u001B[0;34m\u001B[0m\u001B[0m\n\n\u001B[0;32m/local_disk0/.ephemeral_nfs/envs/pythonEnv-c4a43444-0770-4344-a691-cf0c4c645aea/lib/python3.9/site-packages/h2o/utils/typechecks.py\u001B[0m in \u001B[0;36m_check_type\u001B[0;34m(var, vtype)\u001B[0m\n\u001B[1;32m    576\u001B[0m         \u001B[0;32mreturn\u001B[0m \u001B[0misinstance\u001B[0m\u001B[0;34m(\u001B[0m\u001B[0mvar\u001B[0m\u001B[0;34m,\u001B[0m \u001B[0m_num_type\u001B[0m\u001B[0;34m)\u001B[0m\u001B[0;34m\u001B[0m\u001B[0;34m\u001B[0m\u001B[0m\n\u001B[1;32m    577\u001B[0m     \u001B[0;32mif\u001B[0m \u001B[0misinstance\u001B[0m\u001B[0;34m(\u001B[0m\u001B[0mvtype\u001B[0m\u001B[0;34m,\u001B[0m \u001B[0mMagicType\u001B[0m\u001B[0;34m)\u001B[0m\u001B[0;34m:\u001B[0m\u001B[0;34m\u001B[0m\u001B[0;34m\u001B[0m\u001B[0m\n\u001B[0;32m--> 578\u001B[0;31m         \u001B[0;32mreturn\u001B[0m \u001B[0mvtype\u001B[0m\u001B[0;34m.\u001B[0m\u001B[0mcheck\u001B[0m\u001B[0;34m(\u001B[0m\u001B[0mvar\u001B[0m\u001B[0;34m)\u001B[0m\u001B[0;34m\u001B[0m\u001B[0;34m\u001B[0m\u001B[0m\n\u001B[0m\u001B[1;32m    579\u001B[0m     \u001B[0;32mif\u001B[0m \u001B[0misinstance\u001B[0m\u001B[0;34m(\u001B[0m\u001B[0mvtype\u001B[0m\u001B[0;34m,\u001B[0m \u001B[0mtype\u001B[0m\u001B[0;34m)\u001B[0m\u001B[0;34m:\u001B[0m\u001B[0;34m\u001B[0m\u001B[0;34m\u001B[0m\u001B[0m\n\u001B[1;32m    580\u001B[0m         \u001B[0;31m# ``vtype`` is a name of the class, or a built-in type such as \"list\", \"tuple\", etc\u001B[0m\u001B[0;34m\u001B[0m\u001B[0;34m\u001B[0m\u001B[0;34m\u001B[0m\u001B[0m\n\n\u001B[0;32m/local_disk0/.ephemeral_nfs/envs/pythonEnv-c4a43444-0770-4344-a691-cf0c4c645aea/lib/python3.9/site-packages/h2o/utils/typechecks.py\u001B[0m in \u001B[0;36mcheck\u001B[0;34m(self, var)\u001B[0m\n\u001B[1;32m    174\u001B[0m     \u001B[0;32mdef\u001B[0m \u001B[0mcheck\u001B[0m\u001B[0;34m(\u001B[0m\u001B[0mself\u001B[0m\u001B[0;34m,\u001B[0m \u001B[0mvar\u001B[0m\u001B[0;34m)\u001B[0m\u001B[0;34m:\u001B[0m\u001B[0;34m\u001B[0m\u001B[0;34m\u001B[0m\u001B[0m\n\u001B[1;32m    175\u001B[0m         \u001B[0;34m\"\"\"Return True if the variable matches this type, and False otherwise.\"\"\"\u001B[0m\u001B[0;34m\u001B[0m\u001B[0;34m\u001B[0m\u001B[0m\n\u001B[0;32m--> 176\u001B[0;31m         \u001B[0;32mreturn\u001B[0m \u001B[0many\u001B[0m\u001B[0;34m(\u001B[0m\u001B[0m_check_type\u001B[0m\u001B[0;34m(\u001B[0m\u001B[0mvar\u001B[0m\u001B[0;34m,\u001B[0m \u001B[0mtt\u001B[0m\u001B[0;34m)\u001B[0m \u001B[0;32mfor\u001B[0m \u001B[0mtt\u001B[0m \u001B[0;32min\u001B[0m \u001B[0mself\u001B[0m\u001B[0;34m.\u001B[0m\u001B[0m_types\u001B[0m\u001B[0;34m)\u001B[0m\u001B[0;34m\u001B[0m\u001B[0;34m\u001B[0m\u001B[0m\n\u001B[0m\u001B[1;32m    177\u001B[0m \u001B[0;34m\u001B[0m\u001B[0m\n\u001B[1;32m    178\u001B[0m     \u001B[0;32mdef\u001B[0m \u001B[0mname\u001B[0m\u001B[0;34m(\u001B[0m\u001B[0mself\u001B[0m\u001B[0;34m,\u001B[0m \u001B[0msrc\u001B[0m\u001B[0;34m=\u001B[0m\u001B[0;32mNone\u001B[0m\u001B[0;34m)\u001B[0m\u001B[0;34m:\u001B[0m\u001B[0;34m\u001B[0m\u001B[0;34m\u001B[0m\u001B[0m\n\n\u001B[0;32m/local_disk0/.ephemeral_nfs/envs/pythonEnv-c4a43444-0770-4344-a691-cf0c4c645aea/lib/python3.9/site-packages/h2o/utils/typechecks.py\u001B[0m in \u001B[0;36m<genexpr>\u001B[0;34m(.0)\u001B[0m\n\u001B[1;32m    174\u001B[0m     \u001B[0;32mdef\u001B[0m \u001B[0mcheck\u001B[0m\u001B[0;34m(\u001B[0m\u001B[0mself\u001B[0m\u001B[0;34m,\u001B[0m \u001B[0mvar\u001B[0m\u001B[0;34m)\u001B[0m\u001B[0;34m:\u001B[0m\u001B[0;34m\u001B[0m\u001B[0;34m\u001B[0m\u001B[0m\n\u001B[1;32m    175\u001B[0m         \u001B[0;34m\"\"\"Return True if the variable matches this type, and False otherwise.\"\"\"\u001B[0m\u001B[0;34m\u001B[0m\u001B[0;34m\u001B[0m\u001B[0m\n\u001B[0;32m--> 176\u001B[0;31m         \u001B[0;32mreturn\u001B[0m \u001B[0many\u001B[0m\u001B[0;34m(\u001B[0m\u001B[0m_check_type\u001B[0m\u001B[0;34m(\u001B[0m\u001B[0mvar\u001B[0m\u001B[0;34m,\u001B[0m \u001B[0mtt\u001B[0m\u001B[0;34m)\u001B[0m \u001B[0;32mfor\u001B[0m \u001B[0mtt\u001B[0m \u001B[0;32min\u001B[0m \u001B[0mself\u001B[0m\u001B[0;34m.\u001B[0m\u001B[0m_types\u001B[0m\u001B[0;34m)\u001B[0m\u001B[0;34m\u001B[0m\u001B[0;34m\u001B[0m\u001B[0m\n\u001B[0m\u001B[1;32m    177\u001B[0m \u001B[0;34m\u001B[0m\u001B[0m\n\u001B[1;32m    178\u001B[0m     \u001B[0;32mdef\u001B[0m \u001B[0mname\u001B[0m\u001B[0;34m(\u001B[0m\u001B[0mself\u001B[0m\u001B[0;34m,\u001B[0m \u001B[0msrc\u001B[0m\u001B[0;34m=\u001B[0m\u001B[0;32mNone\u001B[0m\u001B[0;34m)\u001B[0m\u001B[0;34m:\u001B[0m\u001B[0;34m\u001B[0m\u001B[0;34m\u001B[0m\u001B[0m\n\n\u001B[0;32m/local_disk0/.ephemeral_nfs/envs/pythonEnv-c4a43444-0770-4344-a691-cf0c4c645aea/lib/python3.9/site-packages/h2o/utils/typechecks.py\u001B[0m in \u001B[0;36m_check_type\u001B[0;34m(var, vtype)\u001B[0m\n\u001B[1;32m    597\u001B[0m         \u001B[0;32mreturn\u001B[0m \u001B[0misinstance\u001B[0m\u001B[0;34m(\u001B[0m\u001B[0mvar\u001B[0m\u001B[0;34m,\u001B[0m \u001B[0mdict\u001B[0m\u001B[0;34m)\u001B[0m \u001B[0;32mand\u001B[0m \u001B[0mall\u001B[0m\u001B[0;34m(\u001B[0m\u001B[0m_check_type\u001B[0m\u001B[0;34m(\u001B[0m\u001B[0mkv\u001B[0m\u001B[0;34m,\u001B[0m \u001B[0mttkv\u001B[0m\u001B[0;34m)\u001B[0m \u001B[0;32mfor\u001B[0m \u001B[0mkv\u001B[0m \u001B[0;32min\u001B[0m \u001B[0mviewitems\u001B[0m\u001B[0;34m(\u001B[0m\u001B[0mvar\u001B[0m\u001B[0;34m)\u001B[0m\u001B[0;34m)\u001B[0m\u001B[0;34m\u001B[0m\u001B[0;34m\u001B[0m\u001B[0m\n\u001B[1;32m    598\u001B[0m     \u001B[0;32mif\u001B[0m \u001B[0misinstance\u001B[0m\u001B[0;34m(\u001B[0m\u001B[0mvtype\u001B[0m\u001B[0;34m,\u001B[0m \u001B[0;34m(\u001B[0m\u001B[0mFunctionType\u001B[0m\u001B[0;34m,\u001B[0m \u001B[0mBuiltinFunctionType\u001B[0m\u001B[0;34m)\u001B[0m\u001B[0;34m)\u001B[0m\u001B[0;34m:\u001B[0m\u001B[0;34m\u001B[0m\u001B[0;34m\u001B[0m\u001B[0m\n\u001B[0;32m--> 599\u001B[0;31m         \u001B[0;32mreturn\u001B[0m \u001B[0mvtype\u001B[0m\u001B[0;34m(\u001B[0m\u001B[0mvar\u001B[0m\u001B[0;34m)\u001B[0m\u001B[0;34m\u001B[0m\u001B[0;34m\u001B[0m\u001B[0m\n\u001B[0m\u001B[1;32m    600\u001B[0m     \u001B[0;32mraise\u001B[0m \u001B[0mRuntimeError\u001B[0m\u001B[0;34m(\u001B[0m\u001B[0;34m\"Ivalid type %r in _check_type()\"\u001B[0m \u001B[0;34m%\u001B[0m \u001B[0mvtype\u001B[0m\u001B[0;34m)\u001B[0m\u001B[0;34m\u001B[0m\u001B[0;34m\u001B[0m\u001B[0m\n\u001B[1;32m    601\u001B[0m \u001B[0;34m\u001B[0m\u001B[0m\n\n\u001B[0;32m/local_disk0/.ephemeral_nfs/envs/pythonEnv-c4a43444-0770-4344-a691-cf0c4c645aea/lib/python3.9/site-packages/h2o/grid/grid_search.py\u001B[0m in \u001B[0;36m<lambda>\u001B[0;34m(mdl)\u001B[0m\n\u001B[1;32m     86\u001B[0m         ...             \"stopping_tolerance\": 0.00001}\n\u001B[1;32m     87\u001B[0m         \"\"\"\n\u001B[0;32m---> 88\u001B[0;31m         \u001B[0massert_is_type\u001B[0m\u001B[0;34m(\u001B[0m\u001B[0mmodel\u001B[0m\u001B[0;34m,\u001B[0m \u001B[0;32mNone\u001B[0m\u001B[0;34m,\u001B[0m \u001B[0mH2OEstimator\u001B[0m\u001B[0;34m,\u001B[0m \u001B[0;32mlambda\u001B[0m \u001B[0mmdl\u001B[0m\u001B[0;34m:\u001B[0m \u001B[0missubclass\u001B[0m\u001B[0;34m(\u001B[0m\u001B[0mmdl\u001B[0m\u001B[0;34m,\u001B[0m \u001B[0mH2OEstimator\u001B[0m\u001B[0;34m)\u001B[0m\u001B[0;34m)\u001B[0m\u001B[0;34m\u001B[0m\u001B[0;34m\u001B[0m\u001B[0m\n\u001B[0m\u001B[1;32m     89\u001B[0m         \u001B[0massert_is_type\u001B[0m\u001B[0;34m(\u001B[0m\u001B[0mhyper_params\u001B[0m\u001B[0;34m,\u001B[0m \u001B[0mdict\u001B[0m\u001B[0;34m)\u001B[0m\u001B[0;34m\u001B[0m\u001B[0;34m\u001B[0m\u001B[0m\n\u001B[1;32m     90\u001B[0m         \u001B[0massert_is_type\u001B[0m\u001B[0;34m(\u001B[0m\u001B[0mgrid_id\u001B[0m\u001B[0;34m,\u001B[0m \u001B[0;32mNone\u001B[0m\u001B[0;34m,\u001B[0m \u001B[0mstr\u001B[0m\u001B[0;34m)\u001B[0m\u001B[0;34m\u001B[0m\u001B[0;34m\u001B[0m\u001B[0m\n\n\u001B[0;31mTypeError\u001B[0m: issubclass() arg 1 must be a class",
       "errorSummary": "<span class='ansi-red-fg'>TypeError</span>: issubclass() arg 1 must be a class",
       "errorTraceType": "ansi",
       "metadata": {},
       "type": "ipynbError"
      }
     },
     "output_type": "display_data"
    }
   ],
   "source": [
    "import mlflow.h2o\n",
    "import h2o\n",
    "from h2o.automl import H2OAutoML\n",
    "from h2o.grid.grid_search import H2OGridSearch\n",
    "\n",
    "# Load data into H2OFrame\n",
    "hf = h2o.H2OFrame(df_raw)\n",
    "\n",
    "# Define target and predictor variables\n",
    "target = \"cost\"\n",
    "x = hf.columns\n",
    "x.remove(target)\n",
    "\n",
    "# Define hyperparameters to search over\n",
    "hyper_params = {\n",
    "    'max_models': [5, 10, 15],\n",
    "    'max_runtime_secs': [30, 60, 120]\n",
    "}\n",
    "\n",
    "# Use GridSearch to search over hyperparameter space\n",
    "aml = H2OAutoML(max_models=10, seed=1)\n",
    "grid = H2OGridSearch(aml, hyper_params)\n",
    "grid.train(x=x, y=target, training_frame=hf)\n",
    "\n",
    "# Get the best model from the grid search\n",
    "best_model = grid.get_grid()[0]\n",
    "\n",
    "# Log the best model as an MLflow model\n",
    "with mlflow.start_run(experiment_id = experiment_id):\n",
    "    mlflow.log_param(\"max_models\", best_model.params['max_models'])\n",
    "    mlflow.log_param(\"max_runtime_secs\", best_model.params['max_runtime_secs'])\n",
    "    mlflow.log_metric(\"rmse\", best_model.rmse())\n",
    "    mlflow.h2o.log_model(best_model, \"my_model\")\n"
   ]
  },
  {
   "cell_type": "code",
   "execution_count": 0,
   "metadata": {
    "application/vnd.databricks.v1+cell": {
     "cellMetadata": {
      "byteLimit": 2048000,
      "rowLimit": 10000
     },
     "inputWidgets": {},
     "nuid": "a835856d-0d59-455e-8b81-1711943c4f94",
     "showTitle": false,
     "title": ""
    }
   },
   "outputs": [
    {
     "output_type": "stream",
     "name": "stdout",
     "output_type": "stream",
     "text": [
      "2023/04/27 14:21:18 WARNING mlflow.utils.environment: Encountered an unexpected error while inferring pip requirements (model URI: /tmp/tmpbx9d39ob/model/model.pkl, flavor: sklearn), fall back to return ['scikit-learn==0.24.2', 'cloudpickle==2.2.1']. Set logging level to DEBUG to see the full traceback.\n"
     ]
    },
    {
     "output_type": "display_data",
     "data": {
      "text/plain": [
       "\u001B[0;31m---------------------------------------------------------------------------\u001B[0m\n",
       "\u001B[0;31mTypeError\u001B[0m                                 Traceback (most recent call last)\n",
       "\u001B[0;32m<command-4410962850347337>\u001B[0m in \u001B[0;36m<cell line: 47>\u001B[0;34m()\u001B[0m\n",
       "\u001B[1;32m     50\u001B[0m     \u001B[0mmodel_uri\u001B[0m \u001B[0;34m=\u001B[0m \u001B[0mmlflow\u001B[0m\u001B[0;34m.\u001B[0m\u001B[0mget_artifact_uri\u001B[0m\u001B[0;34m(\u001B[0m\u001B[0;34m\"model\"\u001B[0m\u001B[0;34m)\u001B[0m\u001B[0;34m\u001B[0m\u001B[0;34m\u001B[0m\u001B[0m\n",
       "\u001B[1;32m     51\u001B[0m \u001B[0;34m\u001B[0m\u001B[0m\n",
       "\u001B[0;32m---> 52\u001B[0;31m     result = mlflow.evaluate(\n",
       "\u001B[0m\u001B[1;32m     53\u001B[0m         \u001B[0mmodel\u001B[0m\u001B[0;34m=\u001B[0m\u001B[0mmodel_uri\u001B[0m\u001B[0;34m,\u001B[0m\u001B[0;34m\u001B[0m\u001B[0;34m\u001B[0m\u001B[0m\n",
       "\u001B[1;32m     54\u001B[0m         \u001B[0mdata\u001B[0m\u001B[0;34m=\u001B[0m\u001B[0meval_data\u001B[0m\u001B[0;34m,\u001B[0m\u001B[0;34m\u001B[0m\u001B[0;34m\u001B[0m\u001B[0m\n",
       "\n",
       "\u001B[0;32m/local_disk0/.ephemeral_nfs/cluster_libraries/python/lib/python3.9/site-packages/mlflow/models/evaluation/base.py\u001B[0m in \u001B[0;36mevaluate\u001B[0;34m(model, data, targets, model_type, dataset_path, feature_names, evaluators, evaluator_config, custom_metrics, custom_artifacts, validation_thresholds, baseline_model, env_manager)\u001B[0m\n",
       "\u001B[1;32m   1284\u001B[0m \u001B[0;34m\u001B[0m\u001B[0m\n",
       "\u001B[1;32m   1285\u001B[0m     \u001B[0;32mif\u001B[0m \u001B[0misinstance\u001B[0m\u001B[0;34m(\u001B[0m\u001B[0mmodel\u001B[0m\u001B[0;34m,\u001B[0m \u001B[0mstr\u001B[0m\u001B[0;34m)\u001B[0m\u001B[0;34m:\u001B[0m\u001B[0;34m\u001B[0m\u001B[0;34m\u001B[0m\u001B[0m\n",
       "\u001B[0;32m-> 1286\u001B[0;31m         \u001B[0mmodel\u001B[0m \u001B[0;34m=\u001B[0m \u001B[0m_load_model_or_server\u001B[0m\u001B[0;34m(\u001B[0m\u001B[0mmodel\u001B[0m\u001B[0;34m,\u001B[0m \u001B[0menv_manager\u001B[0m\u001B[0;34m)\u001B[0m\u001B[0;34m\u001B[0m\u001B[0;34m\u001B[0m\u001B[0m\n",
       "\u001B[0m\u001B[1;32m   1287\u001B[0m     \u001B[0;32melif\u001B[0m \u001B[0menv_manager\u001B[0m \u001B[0;34m!=\u001B[0m \u001B[0m_EnvManager\u001B[0m\u001B[0;34m.\u001B[0m\u001B[0mLOCAL\u001B[0m\u001B[0;34m:\u001B[0m\u001B[0;34m\u001B[0m\u001B[0;34m\u001B[0m\u001B[0m\n",
       "\u001B[1;32m   1288\u001B[0m         raise MlflowException(\n",
       "\n",
       "\u001B[0;32m/local_disk0/.ephemeral_nfs/cluster_libraries/python/lib/python3.9/site-packages/mlflow/pyfunc/__init__.py\u001B[0m in \u001B[0;36m_load_model_or_server\u001B[0;34m(model_uri, env_manager)\u001B[0m\n",
       "\u001B[1;32m    633\u001B[0m \u001B[0;34m\u001B[0m\u001B[0m\n",
       "\u001B[1;32m    634\u001B[0m     \u001B[0;32mif\u001B[0m \u001B[0menv_manager\u001B[0m \u001B[0;34m==\u001B[0m \u001B[0m_EnvManager\u001B[0m\u001B[0;34m.\u001B[0m\u001B[0mLOCAL\u001B[0m\u001B[0;34m:\u001B[0m\u001B[0;34m\u001B[0m\u001B[0;34m\u001B[0m\u001B[0m\n",
       "\u001B[0;32m--> 635\u001B[0;31m         \u001B[0;32mreturn\u001B[0m \u001B[0mload_model\u001B[0m\u001B[0;34m(\u001B[0m\u001B[0mmodel_uri\u001B[0m\u001B[0;34m)\u001B[0m\u001B[0;34m\u001B[0m\u001B[0;34m\u001B[0m\u001B[0m\n",
       "\u001B[0m\u001B[1;32m    636\u001B[0m \u001B[0;34m\u001B[0m\u001B[0m\n",
       "\u001B[1;32m    637\u001B[0m     \u001B[0m_logger\u001B[0m\u001B[0;34m.\u001B[0m\u001B[0minfo\u001B[0m\u001B[0;34m(\u001B[0m\u001B[0;34m\"Starting model server for model environment restoration.\"\u001B[0m\u001B[0;34m)\u001B[0m\u001B[0;34m\u001B[0m\u001B[0;34m\u001B[0m\u001B[0m\n",
       "\n",
       "\u001B[0;32m/local_disk0/.ephemeral_nfs/cluster_libraries/python/lib/python3.9/site-packages/mlflow/pyfunc/__init__.py\u001B[0m in \u001B[0;36mload_model\u001B[0;34m(model_uri, suppress_warnings, dst_path)\u001B[0m\n",
       "\u001B[1;32m    594\u001B[0m     \u001B[0m_add_code_from_conf_to_system_path\u001B[0m\u001B[0;34m(\u001B[0m\u001B[0mlocal_path\u001B[0m\u001B[0;34m,\u001B[0m \u001B[0mconf\u001B[0m\u001B[0;34m,\u001B[0m \u001B[0mcode_key\u001B[0m\u001B[0;34m=\u001B[0m\u001B[0mCODE\u001B[0m\u001B[0;34m)\u001B[0m\u001B[0;34m\u001B[0m\u001B[0;34m\u001B[0m\u001B[0m\n",
       "\u001B[1;32m    595\u001B[0m     \u001B[0mdata_path\u001B[0m \u001B[0;34m=\u001B[0m \u001B[0mos\u001B[0m\u001B[0;34m.\u001B[0m\u001B[0mpath\u001B[0m\u001B[0;34m.\u001B[0m\u001B[0mjoin\u001B[0m\u001B[0;34m(\u001B[0m\u001B[0mlocal_path\u001B[0m\u001B[0;34m,\u001B[0m \u001B[0mconf\u001B[0m\u001B[0;34m[\u001B[0m\u001B[0mDATA\u001B[0m\u001B[0;34m]\u001B[0m\u001B[0;34m)\u001B[0m \u001B[0;32mif\u001B[0m \u001B[0;34m(\u001B[0m\u001B[0mDATA\u001B[0m \u001B[0;32min\u001B[0m \u001B[0mconf\u001B[0m\u001B[0;34m)\u001B[0m \u001B[0;32melse\u001B[0m \u001B[0mlocal_path\u001B[0m\u001B[0;34m\u001B[0m\u001B[0;34m\u001B[0m\u001B[0m\n",
       "\u001B[0;32m--> 596\u001B[0;31m     \u001B[0mmodel_impl\u001B[0m \u001B[0;34m=\u001B[0m \u001B[0mimportlib\u001B[0m\u001B[0;34m.\u001B[0m\u001B[0mimport_module\u001B[0m\u001B[0;34m(\u001B[0m\u001B[0mconf\u001B[0m\u001B[0;34m[\u001B[0m\u001B[0mMAIN\u001B[0m\u001B[0;34m]\u001B[0m\u001B[0;34m)\u001B[0m\u001B[0;34m.\u001B[0m\u001B[0m_load_pyfunc\u001B[0m\u001B[0;34m(\u001B[0m\u001B[0mdata_path\u001B[0m\u001B[0;34m)\u001B[0m\u001B[0;34m\u001B[0m\u001B[0;34m\u001B[0m\u001B[0m\n",
       "\u001B[0m\u001B[1;32m    597\u001B[0m     \u001B[0mpredict_fn\u001B[0m \u001B[0;34m=\u001B[0m \u001B[0mconf\u001B[0m\u001B[0;34m.\u001B[0m\u001B[0mget\u001B[0m\u001B[0;34m(\u001B[0m\u001B[0;34m\"predict_fn\"\u001B[0m\u001B[0;34m,\u001B[0m \u001B[0;34m\"predict\"\u001B[0m\u001B[0;34m)\u001B[0m\u001B[0;34m\u001B[0m\u001B[0;34m\u001B[0m\u001B[0m\n",
       "\u001B[1;32m    598\u001B[0m     \u001B[0;32mreturn\u001B[0m \u001B[0mPyFuncModel\u001B[0m\u001B[0;34m(\u001B[0m\u001B[0mmodel_meta\u001B[0m\u001B[0;34m=\u001B[0m\u001B[0mmodel_meta\u001B[0m\u001B[0;34m,\u001B[0m \u001B[0mmodel_impl\u001B[0m\u001B[0;34m=\u001B[0m\u001B[0mmodel_impl\u001B[0m\u001B[0;34m,\u001B[0m \u001B[0mpredict_fn\u001B[0m\u001B[0;34m=\u001B[0m\u001B[0mpredict_fn\u001B[0m\u001B[0;34m)\u001B[0m\u001B[0;34m\u001B[0m\u001B[0;34m\u001B[0m\u001B[0m\n",
       "\n",
       "\u001B[0;32m/local_disk0/.ephemeral_nfs/cluster_libraries/python/lib/python3.9/site-packages/mlflow/sklearn/__init__.py\u001B[0m in \u001B[0;36m_load_pyfunc\u001B[0;34m(path)\u001B[0m\n",
       "\u001B[1;32m    507\u001B[0m         \u001B[0mpath\u001B[0m \u001B[0;34m=\u001B[0m \u001B[0mos\u001B[0m\u001B[0;34m.\u001B[0m\u001B[0mpath\u001B[0m\u001B[0;34m.\u001B[0m\u001B[0mjoin\u001B[0m\u001B[0;34m(\u001B[0m\u001B[0mpath\u001B[0m\u001B[0;34m,\u001B[0m \u001B[0mpyfunc_flavor_conf\u001B[0m\u001B[0;34m[\u001B[0m\u001B[0;34m\"model_path\"\u001B[0m\u001B[0;34m]\u001B[0m\u001B[0;34m)\u001B[0m\u001B[0;34m\u001B[0m\u001B[0;34m\u001B[0m\u001B[0m\n",
       "\u001B[1;32m    508\u001B[0m \u001B[0;34m\u001B[0m\u001B[0m\n",
       "\u001B[0;32m--> 509\u001B[0;31m     \u001B[0;32mreturn\u001B[0m \u001B[0m_load_model_from_local_file\u001B[0m\u001B[0;34m(\u001B[0m\u001B[0mpath\u001B[0m\u001B[0;34m=\u001B[0m\u001B[0mpath\u001B[0m\u001B[0;34m,\u001B[0m \u001B[0mserialization_format\u001B[0m\u001B[0;34m=\u001B[0m\u001B[0mserialization_format\u001B[0m\u001B[0;34m)\u001B[0m\u001B[0;34m\u001B[0m\u001B[0;34m\u001B[0m\u001B[0m\n",
       "\u001B[0m\u001B[1;32m    510\u001B[0m \u001B[0;34m\u001B[0m\u001B[0m\n",
       "\u001B[1;32m    511\u001B[0m \u001B[0;34m\u001B[0m\u001B[0m\n",
       "\n",
       "\u001B[0;32m/local_disk0/.ephemeral_nfs/cluster_libraries/python/lib/python3.9/site-packages/mlflow/sklearn/__init__.py\u001B[0m in \u001B[0;36m_load_model_from_local_file\u001B[0;34m(path, serialization_format)\u001B[0m\n",
       "\u001B[1;32m    465\u001B[0m             \u001B[0;32mimport\u001B[0m \u001B[0mcloudpickle\u001B[0m\u001B[0;34m\u001B[0m\u001B[0;34m\u001B[0m\u001B[0m\n",
       "\u001B[1;32m    466\u001B[0m \u001B[0;34m\u001B[0m\u001B[0m\n",
       "\u001B[0;32m--> 467\u001B[0;31m             \u001B[0;32mreturn\u001B[0m \u001B[0mcloudpickle\u001B[0m\u001B[0;34m.\u001B[0m\u001B[0mload\u001B[0m\u001B[0;34m(\u001B[0m\u001B[0mf\u001B[0m\u001B[0;34m)\u001B[0m\u001B[0;34m\u001B[0m\u001B[0;34m\u001B[0m\u001B[0m\n",
       "\u001B[0m\u001B[1;32m    468\u001B[0m \u001B[0;34m\u001B[0m\u001B[0m\n",
       "\u001B[1;32m    469\u001B[0m \u001B[0;34m\u001B[0m\u001B[0m\n",
       "\n",
       "\u001B[0;31mTypeError\u001B[0m: __new__() missing 1 required positional argument: 'keyvals'"
      ]
     },
     "metadata": {
      "application/vnd.databricks.v1+output": {
       "arguments": {},
       "data": "\u001B[0;31m---------------------------------------------------------------------------\u001B[0m\n\u001B[0;31mTypeError\u001B[0m                                 Traceback (most recent call last)\n\u001B[0;32m<command-4410962850347337>\u001B[0m in \u001B[0;36m<cell line: 47>\u001B[0;34m()\u001B[0m\n\u001B[1;32m     50\u001B[0m     \u001B[0mmodel_uri\u001B[0m \u001B[0;34m=\u001B[0m \u001B[0mmlflow\u001B[0m\u001B[0;34m.\u001B[0m\u001B[0mget_artifact_uri\u001B[0m\u001B[0;34m(\u001B[0m\u001B[0;34m\"model\"\u001B[0m\u001B[0;34m)\u001B[0m\u001B[0;34m\u001B[0m\u001B[0;34m\u001B[0m\u001B[0m\n\u001B[1;32m     51\u001B[0m \u001B[0;34m\u001B[0m\u001B[0m\n\u001B[0;32m---> 52\u001B[0;31m     result = mlflow.evaluate(\n\u001B[0m\u001B[1;32m     53\u001B[0m         \u001B[0mmodel\u001B[0m\u001B[0;34m=\u001B[0m\u001B[0mmodel_uri\u001B[0m\u001B[0;34m,\u001B[0m\u001B[0;34m\u001B[0m\u001B[0;34m\u001B[0m\u001B[0m\n\u001B[1;32m     54\u001B[0m         \u001B[0mdata\u001B[0m\u001B[0;34m=\u001B[0m\u001B[0meval_data\u001B[0m\u001B[0;34m,\u001B[0m\u001B[0;34m\u001B[0m\u001B[0;34m\u001B[0m\u001B[0m\n\n\u001B[0;32m/local_disk0/.ephemeral_nfs/cluster_libraries/python/lib/python3.9/site-packages/mlflow/models/evaluation/base.py\u001B[0m in \u001B[0;36mevaluate\u001B[0;34m(model, data, targets, model_type, dataset_path, feature_names, evaluators, evaluator_config, custom_metrics, custom_artifacts, validation_thresholds, baseline_model, env_manager)\u001B[0m\n\u001B[1;32m   1284\u001B[0m \u001B[0;34m\u001B[0m\u001B[0m\n\u001B[1;32m   1285\u001B[0m     \u001B[0;32mif\u001B[0m \u001B[0misinstance\u001B[0m\u001B[0;34m(\u001B[0m\u001B[0mmodel\u001B[0m\u001B[0;34m,\u001B[0m \u001B[0mstr\u001B[0m\u001B[0;34m)\u001B[0m\u001B[0;34m:\u001B[0m\u001B[0;34m\u001B[0m\u001B[0;34m\u001B[0m\u001B[0m\n\u001B[0;32m-> 1286\u001B[0;31m         \u001B[0mmodel\u001B[0m \u001B[0;34m=\u001B[0m \u001B[0m_load_model_or_server\u001B[0m\u001B[0;34m(\u001B[0m\u001B[0mmodel\u001B[0m\u001B[0;34m,\u001B[0m \u001B[0menv_manager\u001B[0m\u001B[0;34m)\u001B[0m\u001B[0;34m\u001B[0m\u001B[0;34m\u001B[0m\u001B[0m\n\u001B[0m\u001B[1;32m   1287\u001B[0m     \u001B[0;32melif\u001B[0m \u001B[0menv_manager\u001B[0m \u001B[0;34m!=\u001B[0m \u001B[0m_EnvManager\u001B[0m\u001B[0;34m.\u001B[0m\u001B[0mLOCAL\u001B[0m\u001B[0;34m:\u001B[0m\u001B[0;34m\u001B[0m\u001B[0;34m\u001B[0m\u001B[0m\n\u001B[1;32m   1288\u001B[0m         raise MlflowException(\n\n\u001B[0;32m/local_disk0/.ephemeral_nfs/cluster_libraries/python/lib/python3.9/site-packages/mlflow/pyfunc/__init__.py\u001B[0m in \u001B[0;36m_load_model_or_server\u001B[0;34m(model_uri, env_manager)\u001B[0m\n\u001B[1;32m    633\u001B[0m \u001B[0;34m\u001B[0m\u001B[0m\n\u001B[1;32m    634\u001B[0m     \u001B[0;32mif\u001B[0m \u001B[0menv_manager\u001B[0m \u001B[0;34m==\u001B[0m \u001B[0m_EnvManager\u001B[0m\u001B[0;34m.\u001B[0m\u001B[0mLOCAL\u001B[0m\u001B[0;34m:\u001B[0m\u001B[0;34m\u001B[0m\u001B[0;34m\u001B[0m\u001B[0m\n\u001B[0;32m--> 635\u001B[0;31m         \u001B[0;32mreturn\u001B[0m \u001B[0mload_model\u001B[0m\u001B[0;34m(\u001B[0m\u001B[0mmodel_uri\u001B[0m\u001B[0;34m)\u001B[0m\u001B[0;34m\u001B[0m\u001B[0;34m\u001B[0m\u001B[0m\n\u001B[0m\u001B[1;32m    636\u001B[0m \u001B[0;34m\u001B[0m\u001B[0m\n\u001B[1;32m    637\u001B[0m     \u001B[0m_logger\u001B[0m\u001B[0;34m.\u001B[0m\u001B[0minfo\u001B[0m\u001B[0;34m(\u001B[0m\u001B[0;34m\"Starting model server for model environment restoration.\"\u001B[0m\u001B[0;34m)\u001B[0m\u001B[0;34m\u001B[0m\u001B[0;34m\u001B[0m\u001B[0m\n\n\u001B[0;32m/local_disk0/.ephemeral_nfs/cluster_libraries/python/lib/python3.9/site-packages/mlflow/pyfunc/__init__.py\u001B[0m in \u001B[0;36mload_model\u001B[0;34m(model_uri, suppress_warnings, dst_path)\u001B[0m\n\u001B[1;32m    594\u001B[0m     \u001B[0m_add_code_from_conf_to_system_path\u001B[0m\u001B[0;34m(\u001B[0m\u001B[0mlocal_path\u001B[0m\u001B[0;34m,\u001B[0m \u001B[0mconf\u001B[0m\u001B[0;34m,\u001B[0m \u001B[0mcode_key\u001B[0m\u001B[0;34m=\u001B[0m\u001B[0mCODE\u001B[0m\u001B[0;34m)\u001B[0m\u001B[0;34m\u001B[0m\u001B[0;34m\u001B[0m\u001B[0m\n\u001B[1;32m    595\u001B[0m     \u001B[0mdata_path\u001B[0m \u001B[0;34m=\u001B[0m \u001B[0mos\u001B[0m\u001B[0;34m.\u001B[0m\u001B[0mpath\u001B[0m\u001B[0;34m.\u001B[0m\u001B[0mjoin\u001B[0m\u001B[0;34m(\u001B[0m\u001B[0mlocal_path\u001B[0m\u001B[0;34m,\u001B[0m \u001B[0mconf\u001B[0m\u001B[0;34m[\u001B[0m\u001B[0mDATA\u001B[0m\u001B[0;34m]\u001B[0m\u001B[0;34m)\u001B[0m \u001B[0;32mif\u001B[0m \u001B[0;34m(\u001B[0m\u001B[0mDATA\u001B[0m \u001B[0;32min\u001B[0m \u001B[0mconf\u001B[0m\u001B[0;34m)\u001B[0m \u001B[0;32melse\u001B[0m \u001B[0mlocal_path\u001B[0m\u001B[0;34m\u001B[0m\u001B[0;34m\u001B[0m\u001B[0m\n\u001B[0;32m--> 596\u001B[0;31m     \u001B[0mmodel_impl\u001B[0m \u001B[0;34m=\u001B[0m \u001B[0mimportlib\u001B[0m\u001B[0;34m.\u001B[0m\u001B[0mimport_module\u001B[0m\u001B[0;34m(\u001B[0m\u001B[0mconf\u001B[0m\u001B[0;34m[\u001B[0m\u001B[0mMAIN\u001B[0m\u001B[0;34m]\u001B[0m\u001B[0;34m)\u001B[0m\u001B[0;34m.\u001B[0m\u001B[0m_load_pyfunc\u001B[0m\u001B[0;34m(\u001B[0m\u001B[0mdata_path\u001B[0m\u001B[0;34m)\u001B[0m\u001B[0;34m\u001B[0m\u001B[0;34m\u001B[0m\u001B[0m\n\u001B[0m\u001B[1;32m    597\u001B[0m     \u001B[0mpredict_fn\u001B[0m \u001B[0;34m=\u001B[0m \u001B[0mconf\u001B[0m\u001B[0;34m.\u001B[0m\u001B[0mget\u001B[0m\u001B[0;34m(\u001B[0m\u001B[0;34m\"predict_fn\"\u001B[0m\u001B[0;34m,\u001B[0m \u001B[0;34m\"predict\"\u001B[0m\u001B[0;34m)\u001B[0m\u001B[0;34m\u001B[0m\u001B[0;34m\u001B[0m\u001B[0m\n\u001B[1;32m    598\u001B[0m     \u001B[0;32mreturn\u001B[0m \u001B[0mPyFuncModel\u001B[0m\u001B[0;34m(\u001B[0m\u001B[0mmodel_meta\u001B[0m\u001B[0;34m=\u001B[0m\u001B[0mmodel_meta\u001B[0m\u001B[0;34m,\u001B[0m \u001B[0mmodel_impl\u001B[0m\u001B[0;34m=\u001B[0m\u001B[0mmodel_impl\u001B[0m\u001B[0;34m,\u001B[0m \u001B[0mpredict_fn\u001B[0m\u001B[0;34m=\u001B[0m\u001B[0mpredict_fn\u001B[0m\u001B[0;34m)\u001B[0m\u001B[0;34m\u001B[0m\u001B[0;34m\u001B[0m\u001B[0m\n\n\u001B[0;32m/local_disk0/.ephemeral_nfs/cluster_libraries/python/lib/python3.9/site-packages/mlflow/sklearn/__init__.py\u001B[0m in \u001B[0;36m_load_pyfunc\u001B[0;34m(path)\u001B[0m\n\u001B[1;32m    507\u001B[0m         \u001B[0mpath\u001B[0m \u001B[0;34m=\u001B[0m \u001B[0mos\u001B[0m\u001B[0;34m.\u001B[0m\u001B[0mpath\u001B[0m\u001B[0;34m.\u001B[0m\u001B[0mjoin\u001B[0m\u001B[0;34m(\u001B[0m\u001B[0mpath\u001B[0m\u001B[0;34m,\u001B[0m \u001B[0mpyfunc_flavor_conf\u001B[0m\u001B[0;34m[\u001B[0m\u001B[0;34m\"model_path\"\u001B[0m\u001B[0;34m]\u001B[0m\u001B[0;34m)\u001B[0m\u001B[0;34m\u001B[0m\u001B[0;34m\u001B[0m\u001B[0m\n\u001B[1;32m    508\u001B[0m \u001B[0;34m\u001B[0m\u001B[0m\n\u001B[0;32m--> 509\u001B[0;31m     \u001B[0;32mreturn\u001B[0m \u001B[0m_load_model_from_local_file\u001B[0m\u001B[0;34m(\u001B[0m\u001B[0mpath\u001B[0m\u001B[0;34m=\u001B[0m\u001B[0mpath\u001B[0m\u001B[0;34m,\u001B[0m \u001B[0mserialization_format\u001B[0m\u001B[0;34m=\u001B[0m\u001B[0mserialization_format\u001B[0m\u001B[0;34m)\u001B[0m\u001B[0;34m\u001B[0m\u001B[0;34m\u001B[0m\u001B[0m\n\u001B[0m\u001B[1;32m    510\u001B[0m \u001B[0;34m\u001B[0m\u001B[0m\n\u001B[1;32m    511\u001B[0m \u001B[0;34m\u001B[0m\u001B[0m\n\n\u001B[0;32m/local_disk0/.ephemeral_nfs/cluster_libraries/python/lib/python3.9/site-packages/mlflow/sklearn/__init__.py\u001B[0m in \u001B[0;36m_load_model_from_local_file\u001B[0;34m(path, serialization_format)\u001B[0m\n\u001B[1;32m    465\u001B[0m             \u001B[0;32mimport\u001B[0m \u001B[0mcloudpickle\u001B[0m\u001B[0;34m\u001B[0m\u001B[0;34m\u001B[0m\u001B[0m\n\u001B[1;32m    466\u001B[0m \u001B[0;34m\u001B[0m\u001B[0m\n\u001B[0;32m--> 467\u001B[0;31m             \u001B[0;32mreturn\u001B[0m \u001B[0mcloudpickle\u001B[0m\u001B[0;34m.\u001B[0m\u001B[0mload\u001B[0m\u001B[0;34m(\u001B[0m\u001B[0mf\u001B[0m\u001B[0;34m)\u001B[0m\u001B[0;34m\u001B[0m\u001B[0;34m\u001B[0m\u001B[0m\n\u001B[0m\u001B[1;32m    468\u001B[0m \u001B[0;34m\u001B[0m\u001B[0m\n\u001B[1;32m    469\u001B[0m \u001B[0;34m\u001B[0m\u001B[0m\n\n\u001B[0;31mTypeError\u001B[0m: __new__() missing 1 required positional argument: 'keyvals'",
       "errorSummary": "<span class='ansi-red-fg'>TypeError</span>: __new__() missing 1 required positional argument: 'keyvals'",
       "errorTraceType": "ansi",
       "metadata": {},
       "type": "ipynbError"
      }
     },
     "output_type": "display_data"
    }
   ],
   "source": [
    "# MLflow connection\n",
    "import os\n",
    "import numpy as np\n",
    "import matplotlib.pyplot as plt\n",
    "import mlflow\n",
    "from mlflow.models import make_metric\n",
    " \n",
    "# creating the evaluation dataframe\n",
    "eval_data = df_raw.copy()\n",
    "eval_data[\"target\"] = df_raw[target]\n",
    " \n",
    " \n",
    "def squared_diff_plus_one(eval_df, _builtin_metrics):\n",
    "    \"\"\"\n",
    "    This example custom metric function creates a metric based on the ``prediction`` and\n",
    "    ``target`` columns in ``eval_df``.\n",
    "    \"\"\"\n",
    "    return np.sum(np.abs(eval_df[\"prediction\"] - eval_df[\"target\"] + 1) ** 2)\n",
    " \n",
    " \n",
    "def sum_on_target_divided_by_two(_eval_df, builtin_metrics):\n",
    "    \"\"\"\n",
    "    This example custom metric function creates a metric derived from existing metrics in\n",
    "    ``builtin_metrics``.\n",
    "    \"\"\"\n",
    "    return builtin_metrics[\"sum_on_target\"] / 2\n",
    " \n",
    " \n",
    "def prediction_target_scatter(eval_df, _builtin_metrics, artifacts_dir):\n",
    "    \"\"\"\n",
    "    This example custom artifact generates and saves a scatter plot to ``artifacts_dir`` that\n",
    "    visualizes the relationship between the predictions and targets for the given model to a\n",
    "    file as an image artifact.\n",
    "    \"\"\"\n",
    "    plt.clf()\n",
    "    plt.scatter(eval_df[\"prediction\"], eval_df[\"target\"])\n",
    "    plt.xlabel(\"Targets\")\n",
    "    plt.ylabel(\"Predictions\")\n",
    "    plt.title(\"Targets vs. Predictions\")\n",
    "    plot_path = os.path.join(artifacts_dir, \"example_scatter_plot.png\")\n",
    "    plt.savefig(plot_path)\n",
    "    plt.close()\n",
    "    return {\"example_scatter_plot_artifact\": plot_path}\n",
    " \n",
    "experiment_id = \"4410962850347306\"\n",
    " \n",
    "with mlflow.start_run(experiment_id=experiment_id) as run:\n",
    "    mlflow.sklearn.log_model(aml, \"model\")\n",
    " \n",
    "    model_uri = mlflow.get_artifact_uri(\"model\")\n",
    "    \n",
    "    result = mlflow.evaluate(\n",
    "        model=model_uri,\n",
    "        data=eval_data,\n",
    "        targets=\"target\",\n",
    "        model_type=\"regressor\",\n",
    "        evaluators=[\"default\"],\n",
    "        custom_metrics=[\n",
    "            make_metric(\n",
    "                eval_fn=squared_diff_plus_one,\n",
    "                greater_is_better=False,\n",
    "            ),\n",
    "            make_metric(\n",
    "                eval_fn=sum_on_target_divided_by_two,\n",
    "                greater_is_better=True,\n",
    "            ),\n",
    "        ],\n",
    "        custom_artifacts=[prediction_target_scatter],\n",
    "    )\n"
   ]
  },
  {
   "cell_type": "code",
   "execution_count": 0,
   "metadata": {
    "application/vnd.databricks.v1+cell": {
     "cellMetadata": {
      "byteLimit": 2048000,
      "rowLimit": 10000
     },
     "inputWidgets": {},
     "nuid": "7b5c616d-2580-42e8-b81e-a066bc5bb0e2",
     "showTitle": false,
     "title": ""
    }
   },
   "outputs": [],
   "source": []
  }
 ],
 "metadata": {
  "application/vnd.databricks.v1+notebook": {
   "dashboards": [],
   "language": "python",
   "notebookMetadata": {
    "pythonIndentUnit": 4
   },
   "notebookName": "Auto_ML_V2",
   "notebookOrigID": 4410962850347328,
   "widgets": {}
  },
  "kernelspec": {
   "display_name": "Python 3 (ipykernel)",
   "language": "python",
   "name": "python3"
  },
  "language_info": {
   "codemirror_mode": {
    "name": "ipython",
    "version": 3
   },
   "file_extension": ".py",
   "mimetype": "text/x-python",
   "name": "python",
   "nbconvert_exporter": "python",
   "pygments_lexer": "ipython3",
   "version": "3.9.13"
  }
 },
 "nbformat": 4,
 "nbformat_minor": 0
}
