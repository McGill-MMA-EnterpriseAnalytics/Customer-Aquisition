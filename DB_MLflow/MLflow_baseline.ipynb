{
 "cells": [
  {
   "cell_type": "code",
   "execution_count": 0,
   "metadata": {
    "application/vnd.databricks.v1+cell": {
     "cellMetadata": {},
     "inputWidgets": {},
     "nuid": "4fdf8f6d-133f-4888-974a-f47f274ebf58",
     "showTitle": false,
     "title": ""
    }
   },
   "outputs": [],
   "source": [
    "# mlflow.set_experiment(\"/MLflow//Regression\")\n",
    "\n",
    "experiment_id = \"experiment_id\"\n",
    "\n",
    "with mlflow.start_run(experiment_id = experiment_id) as run:\n",
    "    mlflow.sklearn.log_model(model, \"model\")\n",
    "    model_uri = mlflow.get_artifact_uri(\"model\")\n",
    "    result = mlflow.evaluate(\n",
    "        model=model_uri,\n",
    "        data=eval_data,\n",
    "        targets=\"target\",\n",
    "        model_type=\"regressor\",\n",
    "        evaluators=[\"default\"],\n",
    "        custom_metrics=[\n",
    "            make_metric(\n",
    "                eval_fn=squared_diff_plus_one,\n",
    "                greater_is_better=False,\n",
    "            ),\n",
    "            make_metric(\n",
    "                eval_fn=sum_on_target_divided_by_two,\n",
    "                greater_is_better=True,\n",
    "            ),\n",
    "        ],\n",
    "        custom_artifacts=[prediction_target_scatter],\n",
    "    )\n",
    "\n",
    "print(f\"metrics:\\n{result.metrics}\")\n",
    "print(f\"artifacts:\\n{result.artifacts}\")"
   ]
  }
 ],
 "metadata": {
  "application/vnd.databricks.v1+notebook": {
   "dashboards": [],
   "language": "python",
   "notebookMetadata": {
    "pythonIndentUnit": 4
   },
   "notebookName": "MLflow",
   "notebookOrigID": 2417040963743883,
   "widgets": {}
  }
 },
 "nbformat": 4,
 "nbformat_minor": 0
}
