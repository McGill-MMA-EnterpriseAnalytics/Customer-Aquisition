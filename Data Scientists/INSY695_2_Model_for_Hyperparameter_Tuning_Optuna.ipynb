{
 "cells": [
  {
   "cell_type": "code",
   "execution_count": 1,
   "metadata": {
    "id": "GJ7SaA1wfveg"
   },
   "outputs": [],
   "source": [
    "import pandas as pd\n",
    "import numpy as np\n",
    "\n",
    "from sklearn.preprocessing import MinMaxScaler, StandardScaler\n",
    "from sklearn.ensemble import IsolationForest"
   ]
  },
  {
   "cell_type": "code",
   "execution_count": 2,
   "metadata": {
    "id": "CkbdW2Jtf-KT"
   },
   "outputs": [],
   "source": [
    "df_raw = pd.read_csv(\"/Users/mikemurphy/Desktop/Mcgill_Winter_2023/W2_Adv_Info_systems_prod/Group Project/media prediction and its cost.csv\")"
   ]
  },
  {
   "cell_type": "code",
   "execution_count": 3,
   "metadata": {},
   "outputs": [
    {
     "data": {
      "text/html": [
       "<div>\n",
       "<style scoped>\n",
       "    .dataframe tbody tr th:only-of-type {\n",
       "        vertical-align: middle;\n",
       "    }\n",
       "\n",
       "    .dataframe tbody tr th {\n",
       "        vertical-align: top;\n",
       "    }\n",
       "\n",
       "    .dataframe thead th {\n",
       "        text-align: right;\n",
       "    }\n",
       "</style>\n",
       "<table border=\"1\" class=\"dataframe\">\n",
       "  <thead>\n",
       "    <tr style=\"text-align: right;\">\n",
       "      <th></th>\n",
       "      <th>food_category</th>\n",
       "      <th>food_department</th>\n",
       "      <th>food_family</th>\n",
       "      <th>store_sales(in millions)</th>\n",
       "      <th>store_cost(in millions)</th>\n",
       "      <th>unit_sales(in millions)</th>\n",
       "      <th>promotion_name</th>\n",
       "      <th>sales_country</th>\n",
       "      <th>marital_status</th>\n",
       "      <th>gender</th>\n",
       "      <th>...</th>\n",
       "      <th>grocery_sqft</th>\n",
       "      <th>frozen_sqft</th>\n",
       "      <th>meat_sqft</th>\n",
       "      <th>coffee_bar</th>\n",
       "      <th>video_store</th>\n",
       "      <th>salad_bar</th>\n",
       "      <th>prepared_food</th>\n",
       "      <th>florist</th>\n",
       "      <th>media_type</th>\n",
       "      <th>cost</th>\n",
       "    </tr>\n",
       "  </thead>\n",
       "  <tbody>\n",
       "    <tr>\n",
       "      <th>0</th>\n",
       "      <td>Breakfast Foods</td>\n",
       "      <td>Frozen Foods</td>\n",
       "      <td>Food</td>\n",
       "      <td>7.36</td>\n",
       "      <td>2.7232</td>\n",
       "      <td>4.0</td>\n",
       "      <td>Bag Stuffers</td>\n",
       "      <td>USA</td>\n",
       "      <td>M</td>\n",
       "      <td>F</td>\n",
       "      <td>...</td>\n",
       "      <td>18670.0</td>\n",
       "      <td>5415.0</td>\n",
       "      <td>3610.0</td>\n",
       "      <td>1.0</td>\n",
       "      <td>1.0</td>\n",
       "      <td>1.0</td>\n",
       "      <td>1.0</td>\n",
       "      <td>1.0</td>\n",
       "      <td>Daily Paper, Radio</td>\n",
       "      <td>126.62</td>\n",
       "    </tr>\n",
       "    <tr>\n",
       "      <th>1</th>\n",
       "      <td>Breakfast Foods</td>\n",
       "      <td>Frozen Foods</td>\n",
       "      <td>Food</td>\n",
       "      <td>5.52</td>\n",
       "      <td>2.5944</td>\n",
       "      <td>3.0</td>\n",
       "      <td>Cash Register Lottery</td>\n",
       "      <td>USA</td>\n",
       "      <td>M</td>\n",
       "      <td>M</td>\n",
       "      <td>...</td>\n",
       "      <td>18670.0</td>\n",
       "      <td>5415.0</td>\n",
       "      <td>3610.0</td>\n",
       "      <td>1.0</td>\n",
       "      <td>1.0</td>\n",
       "      <td>1.0</td>\n",
       "      <td>1.0</td>\n",
       "      <td>1.0</td>\n",
       "      <td>Daily Paper, Radio</td>\n",
       "      <td>59.86</td>\n",
       "    </tr>\n",
       "    <tr>\n",
       "      <th>2</th>\n",
       "      <td>Breakfast Foods</td>\n",
       "      <td>Frozen Foods</td>\n",
       "      <td>Food</td>\n",
       "      <td>3.68</td>\n",
       "      <td>1.3616</td>\n",
       "      <td>2.0</td>\n",
       "      <td>High Roller Savings</td>\n",
       "      <td>USA</td>\n",
       "      <td>S</td>\n",
       "      <td>F</td>\n",
       "      <td>...</td>\n",
       "      <td>18670.0</td>\n",
       "      <td>5415.0</td>\n",
       "      <td>3610.0</td>\n",
       "      <td>1.0</td>\n",
       "      <td>1.0</td>\n",
       "      <td>1.0</td>\n",
       "      <td>1.0</td>\n",
       "      <td>1.0</td>\n",
       "      <td>Daily Paper, Radio</td>\n",
       "      <td>84.16</td>\n",
       "    </tr>\n",
       "    <tr>\n",
       "      <th>3</th>\n",
       "      <td>Breakfast Foods</td>\n",
       "      <td>Frozen Foods</td>\n",
       "      <td>Food</td>\n",
       "      <td>3.68</td>\n",
       "      <td>1.1776</td>\n",
       "      <td>2.0</td>\n",
       "      <td>Cash Register Lottery</td>\n",
       "      <td>USA</td>\n",
       "      <td>M</td>\n",
       "      <td>F</td>\n",
       "      <td>...</td>\n",
       "      <td>18670.0</td>\n",
       "      <td>5415.0</td>\n",
       "      <td>3610.0</td>\n",
       "      <td>1.0</td>\n",
       "      <td>1.0</td>\n",
       "      <td>1.0</td>\n",
       "      <td>1.0</td>\n",
       "      <td>1.0</td>\n",
       "      <td>In-Store Coupon</td>\n",
       "      <td>95.78</td>\n",
       "    </tr>\n",
       "    <tr>\n",
       "      <th>4</th>\n",
       "      <td>Breakfast Foods</td>\n",
       "      <td>Frozen Foods</td>\n",
       "      <td>Food</td>\n",
       "      <td>4.08</td>\n",
       "      <td>1.4280</td>\n",
       "      <td>3.0</td>\n",
       "      <td>Double Down Sale</td>\n",
       "      <td>USA</td>\n",
       "      <td>M</td>\n",
       "      <td>M</td>\n",
       "      <td>...</td>\n",
       "      <td>18670.0</td>\n",
       "      <td>5415.0</td>\n",
       "      <td>3610.0</td>\n",
       "      <td>1.0</td>\n",
       "      <td>1.0</td>\n",
       "      <td>1.0</td>\n",
       "      <td>1.0</td>\n",
       "      <td>1.0</td>\n",
       "      <td>Radio</td>\n",
       "      <td>50.79</td>\n",
       "    </tr>\n",
       "    <tr>\n",
       "      <th>...</th>\n",
       "      <td>...</td>\n",
       "      <td>...</td>\n",
       "      <td>...</td>\n",
       "      <td>...</td>\n",
       "      <td>...</td>\n",
       "      <td>...</td>\n",
       "      <td>...</td>\n",
       "      <td>...</td>\n",
       "      <td>...</td>\n",
       "      <td>...</td>\n",
       "      <td>...</td>\n",
       "      <td>...</td>\n",
       "      <td>...</td>\n",
       "      <td>...</td>\n",
       "      <td>...</td>\n",
       "      <td>...</td>\n",
       "      <td>...</td>\n",
       "      <td>...</td>\n",
       "      <td>...</td>\n",
       "      <td>...</td>\n",
       "      <td>...</td>\n",
       "    </tr>\n",
       "    <tr>\n",
       "      <th>60423</th>\n",
       "      <td>Specialty</td>\n",
       "      <td>Carousel</td>\n",
       "      <td>Non-Consumable</td>\n",
       "      <td>2.76</td>\n",
       "      <td>1.3248</td>\n",
       "      <td>1.0</td>\n",
       "      <td>You Save Days</td>\n",
       "      <td>USA</td>\n",
       "      <td>M</td>\n",
       "      <td>F</td>\n",
       "      <td>...</td>\n",
       "      <td>15321.0</td>\n",
       "      <td>4294.0</td>\n",
       "      <td>2863.0</td>\n",
       "      <td>1.0</td>\n",
       "      <td>0.0</td>\n",
       "      <td>0.0</td>\n",
       "      <td>0.0</td>\n",
       "      <td>0.0</td>\n",
       "      <td>In-Store Coupon</td>\n",
       "      <td>95.25</td>\n",
       "    </tr>\n",
       "    <tr>\n",
       "      <th>60424</th>\n",
       "      <td>Specialty</td>\n",
       "      <td>Carousel</td>\n",
       "      <td>Non-Consumable</td>\n",
       "      <td>1.60</td>\n",
       "      <td>0.4960</td>\n",
       "      <td>1.0</td>\n",
       "      <td>Price Cutters</td>\n",
       "      <td>USA</td>\n",
       "      <td>S</td>\n",
       "      <td>F</td>\n",
       "      <td>...</td>\n",
       "      <td>15321.0</td>\n",
       "      <td>4294.0</td>\n",
       "      <td>2863.0</td>\n",
       "      <td>1.0</td>\n",
       "      <td>0.0</td>\n",
       "      <td>0.0</td>\n",
       "      <td>0.0</td>\n",
       "      <td>0.0</td>\n",
       "      <td>Sunday Paper</td>\n",
       "      <td>69.42</td>\n",
       "    </tr>\n",
       "    <tr>\n",
       "      <th>60425</th>\n",
       "      <td>Specialty</td>\n",
       "      <td>Carousel</td>\n",
       "      <td>Non-Consumable</td>\n",
       "      <td>5.52</td>\n",
       "      <td>2.5392</td>\n",
       "      <td>2.0</td>\n",
       "      <td>Weekend Markdown</td>\n",
       "      <td>USA</td>\n",
       "      <td>M</td>\n",
       "      <td>M</td>\n",
       "      <td>...</td>\n",
       "      <td>15321.0</td>\n",
       "      <td>4294.0</td>\n",
       "      <td>2863.0</td>\n",
       "      <td>1.0</td>\n",
       "      <td>0.0</td>\n",
       "      <td>0.0</td>\n",
       "      <td>0.0</td>\n",
       "      <td>0.0</td>\n",
       "      <td>Sunday Paper, Radio, TV</td>\n",
       "      <td>67.51</td>\n",
       "    </tr>\n",
       "    <tr>\n",
       "      <th>60426</th>\n",
       "      <td>Specialty</td>\n",
       "      <td>Carousel</td>\n",
       "      <td>Non-Consumable</td>\n",
       "      <td>8.28</td>\n",
       "      <td>2.5668</td>\n",
       "      <td>3.0</td>\n",
       "      <td>Sales Days</td>\n",
       "      <td>Canada</td>\n",
       "      <td>S</td>\n",
       "      <td>M</td>\n",
       "      <td>...</td>\n",
       "      <td>27463.0</td>\n",
       "      <td>4193.0</td>\n",
       "      <td>2795.0</td>\n",
       "      <td>1.0</td>\n",
       "      <td>0.0</td>\n",
       "      <td>0.0</td>\n",
       "      <td>0.0</td>\n",
       "      <td>1.0</td>\n",
       "      <td>Sunday Paper</td>\n",
       "      <td>132.88</td>\n",
       "    </tr>\n",
       "    <tr>\n",
       "      <th>60427</th>\n",
       "      <td>Specialty</td>\n",
       "      <td>Carousel</td>\n",
       "      <td>Non-Consumable</td>\n",
       "      <td>9.20</td>\n",
       "      <td>4.2320</td>\n",
       "      <td>4.0</td>\n",
       "      <td>Super Duper Savers</td>\n",
       "      <td>Canada</td>\n",
       "      <td>S</td>\n",
       "      <td>F</td>\n",
       "      <td>...</td>\n",
       "      <td>27463.0</td>\n",
       "      <td>4193.0</td>\n",
       "      <td>2795.0</td>\n",
       "      <td>1.0</td>\n",
       "      <td>0.0</td>\n",
       "      <td>0.0</td>\n",
       "      <td>0.0</td>\n",
       "      <td>1.0</td>\n",
       "      <td>Daily Paper, Radio</td>\n",
       "      <td>87.76</td>\n",
       "    </tr>\n",
       "  </tbody>\n",
       "</table>\n",
       "<p>60428 rows × 40 columns</p>\n",
       "</div>"
      ],
      "text/plain": [
       "         food_category food_department     food_family  \\\n",
       "0      Breakfast Foods    Frozen Foods            Food   \n",
       "1      Breakfast Foods    Frozen Foods            Food   \n",
       "2      Breakfast Foods    Frozen Foods            Food   \n",
       "3      Breakfast Foods    Frozen Foods            Food   \n",
       "4      Breakfast Foods    Frozen Foods            Food   \n",
       "...                ...             ...             ...   \n",
       "60423        Specialty        Carousel  Non-Consumable   \n",
       "60424        Specialty        Carousel  Non-Consumable   \n",
       "60425        Specialty        Carousel  Non-Consumable   \n",
       "60426        Specialty        Carousel  Non-Consumable   \n",
       "60427        Specialty        Carousel  Non-Consumable   \n",
       "\n",
       "       store_sales(in millions)  store_cost(in millions)  \\\n",
       "0                          7.36                   2.7232   \n",
       "1                          5.52                   2.5944   \n",
       "2                          3.68                   1.3616   \n",
       "3                          3.68                   1.1776   \n",
       "4                          4.08                   1.4280   \n",
       "...                         ...                      ...   \n",
       "60423                      2.76                   1.3248   \n",
       "60424                      1.60                   0.4960   \n",
       "60425                      5.52                   2.5392   \n",
       "60426                      8.28                   2.5668   \n",
       "60427                      9.20                   4.2320   \n",
       "\n",
       "       unit_sales(in millions)         promotion_name sales_country  \\\n",
       "0                          4.0           Bag Stuffers           USA   \n",
       "1                          3.0  Cash Register Lottery           USA   \n",
       "2                          2.0    High Roller Savings           USA   \n",
       "3                          2.0  Cash Register Lottery           USA   \n",
       "4                          3.0       Double Down Sale           USA   \n",
       "...                        ...                    ...           ...   \n",
       "60423                      1.0          You Save Days           USA   \n",
       "60424                      1.0          Price Cutters           USA   \n",
       "60425                      2.0       Weekend Markdown           USA   \n",
       "60426                      3.0             Sales Days        Canada   \n",
       "60427                      4.0     Super Duper Savers        Canada   \n",
       "\n",
       "      marital_status gender  ...  grocery_sqft frozen_sqft meat_sqft  \\\n",
       "0                  M      F  ...       18670.0      5415.0    3610.0   \n",
       "1                  M      M  ...       18670.0      5415.0    3610.0   \n",
       "2                  S      F  ...       18670.0      5415.0    3610.0   \n",
       "3                  M      F  ...       18670.0      5415.0    3610.0   \n",
       "4                  M      M  ...       18670.0      5415.0    3610.0   \n",
       "...              ...    ...  ...           ...         ...       ...   \n",
       "60423              M      F  ...       15321.0      4294.0    2863.0   \n",
       "60424              S      F  ...       15321.0      4294.0    2863.0   \n",
       "60425              M      M  ...       15321.0      4294.0    2863.0   \n",
       "60426              S      M  ...       27463.0      4193.0    2795.0   \n",
       "60427              S      F  ...       27463.0      4193.0    2795.0   \n",
       "\n",
       "      coffee_bar video_store  salad_bar prepared_food  florist  \\\n",
       "0            1.0         1.0        1.0           1.0      1.0   \n",
       "1            1.0         1.0        1.0           1.0      1.0   \n",
       "2            1.0         1.0        1.0           1.0      1.0   \n",
       "3            1.0         1.0        1.0           1.0      1.0   \n",
       "4            1.0         1.0        1.0           1.0      1.0   \n",
       "...          ...         ...        ...           ...      ...   \n",
       "60423        1.0         0.0        0.0           0.0      0.0   \n",
       "60424        1.0         0.0        0.0           0.0      0.0   \n",
       "60425        1.0         0.0        0.0           0.0      0.0   \n",
       "60426        1.0         0.0        0.0           0.0      1.0   \n",
       "60427        1.0         0.0        0.0           0.0      1.0   \n",
       "\n",
       "                    media_type    cost  \n",
       "0           Daily Paper, Radio  126.62  \n",
       "1           Daily Paper, Radio   59.86  \n",
       "2           Daily Paper, Radio   84.16  \n",
       "3              In-Store Coupon   95.78  \n",
       "4                        Radio   50.79  \n",
       "...                        ...     ...  \n",
       "60423          In-Store Coupon   95.25  \n",
       "60424             Sunday Paper   69.42  \n",
       "60425  Sunday Paper, Radio, TV   67.51  \n",
       "60426             Sunday Paper  132.88  \n",
       "60427       Daily Paper, Radio   87.76  \n",
       "\n",
       "[60428 rows x 40 columns]"
      ]
     },
     "execution_count": 3,
     "metadata": {},
     "output_type": "execute_result"
    }
   ],
   "source": [
    "df_raw"
   ]
  },
  {
   "cell_type": "code",
   "execution_count": 4,
   "metadata": {
    "colab": {
     "base_uri": "https://localhost:8080/"
    },
    "id": "JEYK5C4sgbJ_",
    "outputId": "4c52b817-8611-4f03-99bf-40ba346156e4"
   },
   "outputs": [
    {
     "name": "stdout",
     "output_type": "stream",
     "text": [
      "Number of unique values: 6 \t Datatype: float64 \t Column name: unit_sales(in millions)\n",
      "Number of unique values: 6 \t Datatype: float64 \t Column name: total_children\n",
      "Number of unique values: 5 \t Datatype: float64 \t Column name: avg_cars_at home(approx)\n",
      "Number of unique values: 6 \t Datatype: float64 \t Column name: num_children_at_home\n",
      "Number of unique values: 5 \t Datatype: float64 \t Column name: avg_cars_at home(approx).1\n"
     ]
    }
   ],
   "source": [
    "num_cols, cate_cols, pre_dum_cols = [], [], []\n",
    "for c in df_raw.columns:\n",
    "    uni_len = len(set(df_raw[c]))\n",
    "    dtype = df_raw[c].dtypes\n",
    "\n",
    "    if dtype == object:\n",
    "        cate_cols.append(c)\n",
    "    else: # dtype == float\n",
    "        if uni_len == 2:\n",
    "            pre_dum_cols.append(c)\n",
    "        elif uni_len < 10:\n",
    "            num_cols.append(c)\n",
    "            print(\"Number of unique values: %d \\t Datatype: %s \\t Column name: %s\" %(uni_len, dtype, c))\n",
    "        else:\n",
    "            num_cols.append(c)"
   ]
  },
  {
   "cell_type": "code",
   "execution_count": 5,
   "metadata": {
    "colab": {
     "base_uri": "https://localhost:8080/",
     "height": 1000
    },
    "id": "VyV6lSbOgRL4",
    "outputId": "f2dd8b8c-315e-49b3-d68c-46efa1d1dfd2"
   },
   "outputs": [
    {
     "name": "stderr",
     "output_type": "stream",
     "text": [
      "/Users/mikemurphy/opt/anaconda3/lib/python3.8/site-packages/sklearn/base.py:450: UserWarning: X does not have valid feature names, but IsolationForest was fitted with feature names\n",
      "  warnings.warn(\n",
      "/Users/mikemurphy/opt/anaconda3/lib/python3.8/site-packages/sklearn/base.py:450: UserWarning: X does not have valid feature names, but IsolationForest was fitted with feature names\n",
      "  warnings.warn(\n",
      "/Users/mikemurphy/opt/anaconda3/lib/python3.8/site-packages/sklearn/base.py:450: UserWarning: X does not have valid feature names, but IsolationForest was fitted with feature names\n",
      "  warnings.warn(\n",
      "/Users/mikemurphy/opt/anaconda3/lib/python3.8/site-packages/sklearn/base.py:450: UserWarning: X does not have valid feature names, but IsolationForest was fitted with feature names\n",
      "  warnings.warn(\n",
      "/Users/mikemurphy/opt/anaconda3/lib/python3.8/site-packages/sklearn/base.py:450: UserWarning: X does not have valid feature names, but IsolationForest was fitted with feature names\n",
      "  warnings.warn(\n",
      "/Users/mikemurphy/opt/anaconda3/lib/python3.8/site-packages/sklearn/base.py:450: UserWarning: X does not have valid feature names, but IsolationForest was fitted with feature names\n",
      "  warnings.warn(\n",
      "/Users/mikemurphy/opt/anaconda3/lib/python3.8/site-packages/sklearn/base.py:450: UserWarning: X does not have valid feature names, but IsolationForest was fitted with feature names\n",
      "  warnings.warn(\n",
      "/Users/mikemurphy/opt/anaconda3/lib/python3.8/site-packages/sklearn/base.py:450: UserWarning: X does not have valid feature names, but IsolationForest was fitted with feature names\n",
      "  warnings.warn(\n",
      "/Users/mikemurphy/opt/anaconda3/lib/python3.8/site-packages/sklearn/base.py:450: UserWarning: X does not have valid feature names, but IsolationForest was fitted with feature names\n",
      "  warnings.warn(\n",
      "/Users/mikemurphy/opt/anaconda3/lib/python3.8/site-packages/sklearn/base.py:450: UserWarning: X does not have valid feature names, but IsolationForest was fitted with feature names\n",
      "  warnings.warn(\n",
      "/Users/mikemurphy/opt/anaconda3/lib/python3.8/site-packages/sklearn/base.py:450: UserWarning: X does not have valid feature names, but IsolationForest was fitted with feature names\n",
      "  warnings.warn(\n",
      "/Users/mikemurphy/opt/anaconda3/lib/python3.8/site-packages/sklearn/base.py:450: UserWarning: X does not have valid feature names, but IsolationForest was fitted with feature names\n",
      "  warnings.warn(\n",
      "/Users/mikemurphy/opt/anaconda3/lib/python3.8/site-packages/sklearn/base.py:450: UserWarning: X does not have valid feature names, but IsolationForest was fitted with feature names\n",
      "  warnings.warn(\n",
      "/Users/mikemurphy/opt/anaconda3/lib/python3.8/site-packages/sklearn/base.py:450: UserWarning: X does not have valid feature names, but IsolationForest was fitted with feature names\n",
      "  warnings.warn(\n",
      "/Users/mikemurphy/opt/anaconda3/lib/python3.8/site-packages/sklearn/base.py:450: UserWarning: X does not have valid feature names, but IsolationForest was fitted with feature names\n",
      "  warnings.warn(\n",
      "/Users/mikemurphy/opt/anaconda3/lib/python3.8/site-packages/sklearn/base.py:450: UserWarning: X does not have valid feature names, but IsolationForest was fitted with feature names\n",
      "  warnings.warn(\n"
     ]
    },
    {
     "data": {
      "text/html": [
       "<div>\n",
       "<style scoped>\n",
       "    .dataframe tbody tr th:only-of-type {\n",
       "        vertical-align: middle;\n",
       "    }\n",
       "\n",
       "    .dataframe tbody tr th {\n",
       "        vertical-align: top;\n",
       "    }\n",
       "\n",
       "    .dataframe thead th {\n",
       "        text-align: right;\n",
       "    }\n",
       "</style>\n",
       "<table border=\"1\" class=\"dataframe\">\n",
       "  <thead>\n",
       "    <tr style=\"text-align: right;\">\n",
       "      <th></th>\n",
       "      <th>store_sales(in millions)</th>\n",
       "      <th>store_cost(in millions)</th>\n",
       "      <th>unit_sales(in millions)</th>\n",
       "      <th>total_children</th>\n",
       "      <th>avg_cars_at home(approx)</th>\n",
       "      <th>num_children_at_home</th>\n",
       "      <th>avg_cars_at home(approx).1</th>\n",
       "      <th>SRP</th>\n",
       "      <th>gross_weight</th>\n",
       "      <th>net_weight</th>\n",
       "      <th>units_per_case</th>\n",
       "      <th>store_sqft</th>\n",
       "      <th>grocery_sqft</th>\n",
       "      <th>frozen_sqft</th>\n",
       "      <th>meat_sqft</th>\n",
       "      <th>cost</th>\n",
       "    </tr>\n",
       "  </thead>\n",
       "  <tbody>\n",
       "    <tr>\n",
       "      <th>0</th>\n",
       "      <td>1</td>\n",
       "      <td>1</td>\n",
       "      <td>1</td>\n",
       "      <td>1</td>\n",
       "      <td>1</td>\n",
       "      <td>1</td>\n",
       "      <td>1</td>\n",
       "      <td>1</td>\n",
       "      <td>1</td>\n",
       "      <td>1</td>\n",
       "      <td>1</td>\n",
       "      <td>1</td>\n",
       "      <td>1</td>\n",
       "      <td>1</td>\n",
       "      <td>1</td>\n",
       "      <td>1</td>\n",
       "    </tr>\n",
       "    <tr>\n",
       "      <th>1</th>\n",
       "      <td>1</td>\n",
       "      <td>1</td>\n",
       "      <td>1</td>\n",
       "      <td>1</td>\n",
       "      <td>1</td>\n",
       "      <td>1</td>\n",
       "      <td>1</td>\n",
       "      <td>1</td>\n",
       "      <td>1</td>\n",
       "      <td>1</td>\n",
       "      <td>1</td>\n",
       "      <td>1</td>\n",
       "      <td>1</td>\n",
       "      <td>1</td>\n",
       "      <td>1</td>\n",
       "      <td>1</td>\n",
       "    </tr>\n",
       "    <tr>\n",
       "      <th>2</th>\n",
       "      <td>1</td>\n",
       "      <td>1</td>\n",
       "      <td>1</td>\n",
       "      <td>1</td>\n",
       "      <td>1</td>\n",
       "      <td>1</td>\n",
       "      <td>1</td>\n",
       "      <td>1</td>\n",
       "      <td>1</td>\n",
       "      <td>1</td>\n",
       "      <td>1</td>\n",
       "      <td>1</td>\n",
       "      <td>1</td>\n",
       "      <td>1</td>\n",
       "      <td>1</td>\n",
       "      <td>1</td>\n",
       "    </tr>\n",
       "    <tr>\n",
       "      <th>3</th>\n",
       "      <td>1</td>\n",
       "      <td>1</td>\n",
       "      <td>1</td>\n",
       "      <td>1</td>\n",
       "      <td>1</td>\n",
       "      <td>1</td>\n",
       "      <td>1</td>\n",
       "      <td>1</td>\n",
       "      <td>1</td>\n",
       "      <td>1</td>\n",
       "      <td>1</td>\n",
       "      <td>1</td>\n",
       "      <td>1</td>\n",
       "      <td>1</td>\n",
       "      <td>1</td>\n",
       "      <td>1</td>\n",
       "    </tr>\n",
       "    <tr>\n",
       "      <th>4</th>\n",
       "      <td>1</td>\n",
       "      <td>1</td>\n",
       "      <td>1</td>\n",
       "      <td>1</td>\n",
       "      <td>1</td>\n",
       "      <td>1</td>\n",
       "      <td>1</td>\n",
       "      <td>1</td>\n",
       "      <td>1</td>\n",
       "      <td>1</td>\n",
       "      <td>1</td>\n",
       "      <td>1</td>\n",
       "      <td>1</td>\n",
       "      <td>1</td>\n",
       "      <td>1</td>\n",
       "      <td>-1</td>\n",
       "    </tr>\n",
       "    <tr>\n",
       "      <th>...</th>\n",
       "      <td>...</td>\n",
       "      <td>...</td>\n",
       "      <td>...</td>\n",
       "      <td>...</td>\n",
       "      <td>...</td>\n",
       "      <td>...</td>\n",
       "      <td>...</td>\n",
       "      <td>...</td>\n",
       "      <td>...</td>\n",
       "      <td>...</td>\n",
       "      <td>...</td>\n",
       "      <td>...</td>\n",
       "      <td>...</td>\n",
       "      <td>...</td>\n",
       "      <td>...</td>\n",
       "      <td>...</td>\n",
       "    </tr>\n",
       "    <tr>\n",
       "      <th>60423</th>\n",
       "      <td>1</td>\n",
       "      <td>1</td>\n",
       "      <td>-1</td>\n",
       "      <td>1</td>\n",
       "      <td>1</td>\n",
       "      <td>1</td>\n",
       "      <td>1</td>\n",
       "      <td>1</td>\n",
       "      <td>1</td>\n",
       "      <td>1</td>\n",
       "      <td>1</td>\n",
       "      <td>1</td>\n",
       "      <td>1</td>\n",
       "      <td>1</td>\n",
       "      <td>1</td>\n",
       "      <td>1</td>\n",
       "    </tr>\n",
       "    <tr>\n",
       "      <th>60424</th>\n",
       "      <td>1</td>\n",
       "      <td>-1</td>\n",
       "      <td>-1</td>\n",
       "      <td>1</td>\n",
       "      <td>1</td>\n",
       "      <td>1</td>\n",
       "      <td>1</td>\n",
       "      <td>1</td>\n",
       "      <td>1</td>\n",
       "      <td>1</td>\n",
       "      <td>-1</td>\n",
       "      <td>1</td>\n",
       "      <td>1</td>\n",
       "      <td>1</td>\n",
       "      <td>1</td>\n",
       "      <td>1</td>\n",
       "    </tr>\n",
       "    <tr>\n",
       "      <th>60425</th>\n",
       "      <td>1</td>\n",
       "      <td>1</td>\n",
       "      <td>1</td>\n",
       "      <td>1</td>\n",
       "      <td>1</td>\n",
       "      <td>1</td>\n",
       "      <td>1</td>\n",
       "      <td>1</td>\n",
       "      <td>1</td>\n",
       "      <td>1</td>\n",
       "      <td>1</td>\n",
       "      <td>1</td>\n",
       "      <td>1</td>\n",
       "      <td>1</td>\n",
       "      <td>1</td>\n",
       "      <td>1</td>\n",
       "    </tr>\n",
       "    <tr>\n",
       "      <th>60426</th>\n",
       "      <td>1</td>\n",
       "      <td>1</td>\n",
       "      <td>1</td>\n",
       "      <td>1</td>\n",
       "      <td>1</td>\n",
       "      <td>1</td>\n",
       "      <td>1</td>\n",
       "      <td>1</td>\n",
       "      <td>1</td>\n",
       "      <td>1</td>\n",
       "      <td>1</td>\n",
       "      <td>1</td>\n",
       "      <td>-1</td>\n",
       "      <td>1</td>\n",
       "      <td>1</td>\n",
       "      <td>1</td>\n",
       "    </tr>\n",
       "    <tr>\n",
       "      <th>60427</th>\n",
       "      <td>1</td>\n",
       "      <td>1</td>\n",
       "      <td>1</td>\n",
       "      <td>1</td>\n",
       "      <td>1</td>\n",
       "      <td>1</td>\n",
       "      <td>1</td>\n",
       "      <td>1</td>\n",
       "      <td>1</td>\n",
       "      <td>1</td>\n",
       "      <td>1</td>\n",
       "      <td>1</td>\n",
       "      <td>-1</td>\n",
       "      <td>1</td>\n",
       "      <td>1</td>\n",
       "      <td>1</td>\n",
       "    </tr>\n",
       "  </tbody>\n",
       "</table>\n",
       "<p>60428 rows × 16 columns</p>\n",
       "</div>"
      ],
      "text/plain": [
       "       store_sales(in millions)  store_cost(in millions)  \\\n",
       "0                             1                        1   \n",
       "1                             1                        1   \n",
       "2                             1                        1   \n",
       "3                             1                        1   \n",
       "4                             1                        1   \n",
       "...                         ...                      ...   \n",
       "60423                         1                        1   \n",
       "60424                         1                       -1   \n",
       "60425                         1                        1   \n",
       "60426                         1                        1   \n",
       "60427                         1                        1   \n",
       "\n",
       "       unit_sales(in millions)  total_children  avg_cars_at home(approx)  \\\n",
       "0                            1               1                         1   \n",
       "1                            1               1                         1   \n",
       "2                            1               1                         1   \n",
       "3                            1               1                         1   \n",
       "4                            1               1                         1   \n",
       "...                        ...             ...                       ...   \n",
       "60423                       -1               1                         1   \n",
       "60424                       -1               1                         1   \n",
       "60425                        1               1                         1   \n",
       "60426                        1               1                         1   \n",
       "60427                        1               1                         1   \n",
       "\n",
       "       num_children_at_home  avg_cars_at home(approx).1  SRP  gross_weight  \\\n",
       "0                         1                           1    1             1   \n",
       "1                         1                           1    1             1   \n",
       "2                         1                           1    1             1   \n",
       "3                         1                           1    1             1   \n",
       "4                         1                           1    1             1   \n",
       "...                     ...                         ...  ...           ...   \n",
       "60423                     1                           1    1             1   \n",
       "60424                     1                           1    1             1   \n",
       "60425                     1                           1    1             1   \n",
       "60426                     1                           1    1             1   \n",
       "60427                     1                           1    1             1   \n",
       "\n",
       "       net_weight  units_per_case  store_sqft  grocery_sqft  frozen_sqft  \\\n",
       "0               1               1           1             1            1   \n",
       "1               1               1           1             1            1   \n",
       "2               1               1           1             1            1   \n",
       "3               1               1           1             1            1   \n",
       "4               1               1           1             1            1   \n",
       "...           ...             ...         ...           ...          ...   \n",
       "60423           1               1           1             1            1   \n",
       "60424           1              -1           1             1            1   \n",
       "60425           1               1           1             1            1   \n",
       "60426           1               1           1            -1            1   \n",
       "60427           1               1           1            -1            1   \n",
       "\n",
       "       meat_sqft  cost  \n",
       "0              1     1  \n",
       "1              1     1  \n",
       "2              1     1  \n",
       "3              1     1  \n",
       "4              1    -1  \n",
       "...          ...   ...  \n",
       "60423          1     1  \n",
       "60424          1     1  \n",
       "60425          1     1  \n",
       "60426          1     1  \n",
       "60427          1     1  \n",
       "\n",
       "[60428 rows x 16 columns]"
      ]
     },
     "execution_count": 5,
     "metadata": {},
     "output_type": "execute_result"
    }
   ],
   "source": [
    "isolation_forest = IsolationForest(contamination = 0.05, max_samples = 100, random_state = 0)\n",
    "\n",
    "# DataFrame to store the outlier predictions\n",
    "outlier_preds = pd.DataFrame()\n",
    "\n",
    "# Iterate all numerical columns\n",
    "for col in num_cols:\n",
    "    # Fit the Isolation Forest to the current column\n",
    "    isolation_forest.fit(df_raw[[col]])\n",
    "    \n",
    "    # Get the outlier predictions for the current column\n",
    "    outlier_pred = isolation_forest.predict(df_raw[[col]])\n",
    "    \n",
    "    # Add the outlier predictions as a new column in the outlier_preds DataFrame\n",
    "    outlier_preds[col] = outlier_pred\n",
    "\n",
    "outlier_preds"
   ]
  },
  {
   "cell_type": "code",
   "execution_count": 6,
   "metadata": {
    "colab": {
     "base_uri": "https://localhost:8080/",
     "height": 696
    },
    "id": "6fWcpPnwgspv",
    "outputId": "d1e030f5-4181-4f42-cbd0-697bbce323ea"
   },
   "outputs": [
    {
     "data": {
      "text/html": [
       "<div>\n",
       "<style scoped>\n",
       "    .dataframe tbody tr th:only-of-type {\n",
       "        vertical-align: middle;\n",
       "    }\n",
       "\n",
       "    .dataframe tbody tr th {\n",
       "        vertical-align: top;\n",
       "    }\n",
       "\n",
       "    .dataframe thead th {\n",
       "        text-align: right;\n",
       "    }\n",
       "</style>\n",
       "<table border=\"1\" class=\"dataframe\">\n",
       "  <thead>\n",
       "    <tr style=\"text-align: right;\">\n",
       "      <th></th>\n",
       "      <th>food_category</th>\n",
       "      <th>food_department</th>\n",
       "      <th>food_family</th>\n",
       "      <th>store_sales(in millions)</th>\n",
       "      <th>store_cost(in millions)</th>\n",
       "      <th>unit_sales(in millions)</th>\n",
       "      <th>promotion_name</th>\n",
       "      <th>sales_country</th>\n",
       "      <th>marital_status</th>\n",
       "      <th>gender</th>\n",
       "      <th>...</th>\n",
       "      <th>grocery_sqft</th>\n",
       "      <th>frozen_sqft</th>\n",
       "      <th>meat_sqft</th>\n",
       "      <th>coffee_bar</th>\n",
       "      <th>video_store</th>\n",
       "      <th>salad_bar</th>\n",
       "      <th>prepared_food</th>\n",
       "      <th>florist</th>\n",
       "      <th>media_type</th>\n",
       "      <th>cost</th>\n",
       "    </tr>\n",
       "  </thead>\n",
       "  <tbody>\n",
       "    <tr>\n",
       "      <th>0</th>\n",
       "      <td>Breakfast Foods</td>\n",
       "      <td>Frozen Foods</td>\n",
       "      <td>Food</td>\n",
       "      <td>7.36</td>\n",
       "      <td>2.7232</td>\n",
       "      <td>4.0</td>\n",
       "      <td>Bag Stuffers</td>\n",
       "      <td>USA</td>\n",
       "      <td>M</td>\n",
       "      <td>F</td>\n",
       "      <td>...</td>\n",
       "      <td>18670.0</td>\n",
       "      <td>5415.0</td>\n",
       "      <td>3610.0</td>\n",
       "      <td>1.0</td>\n",
       "      <td>1.0</td>\n",
       "      <td>1.0</td>\n",
       "      <td>1.0</td>\n",
       "      <td>1.0</td>\n",
       "      <td>Daily Paper, Radio</td>\n",
       "      <td>126.62</td>\n",
       "    </tr>\n",
       "    <tr>\n",
       "      <th>1</th>\n",
       "      <td>Breakfast Foods</td>\n",
       "      <td>Frozen Foods</td>\n",
       "      <td>Food</td>\n",
       "      <td>5.52</td>\n",
       "      <td>2.5944</td>\n",
       "      <td>3.0</td>\n",
       "      <td>Cash Register Lottery</td>\n",
       "      <td>USA</td>\n",
       "      <td>M</td>\n",
       "      <td>M</td>\n",
       "      <td>...</td>\n",
       "      <td>18670.0</td>\n",
       "      <td>5415.0</td>\n",
       "      <td>3610.0</td>\n",
       "      <td>1.0</td>\n",
       "      <td>1.0</td>\n",
       "      <td>1.0</td>\n",
       "      <td>1.0</td>\n",
       "      <td>1.0</td>\n",
       "      <td>Daily Paper, Radio</td>\n",
       "      <td>59.86</td>\n",
       "    </tr>\n",
       "    <tr>\n",
       "      <th>2</th>\n",
       "      <td>Breakfast Foods</td>\n",
       "      <td>Frozen Foods</td>\n",
       "      <td>Food</td>\n",
       "      <td>3.68</td>\n",
       "      <td>1.3616</td>\n",
       "      <td>2.0</td>\n",
       "      <td>High Roller Savings</td>\n",
       "      <td>USA</td>\n",
       "      <td>S</td>\n",
       "      <td>F</td>\n",
       "      <td>...</td>\n",
       "      <td>18670.0</td>\n",
       "      <td>5415.0</td>\n",
       "      <td>3610.0</td>\n",
       "      <td>1.0</td>\n",
       "      <td>1.0</td>\n",
       "      <td>1.0</td>\n",
       "      <td>1.0</td>\n",
       "      <td>1.0</td>\n",
       "      <td>Daily Paper, Radio</td>\n",
       "      <td>84.16</td>\n",
       "    </tr>\n",
       "    <tr>\n",
       "      <th>3</th>\n",
       "      <td>Breakfast Foods</td>\n",
       "      <td>Frozen Foods</td>\n",
       "      <td>Food</td>\n",
       "      <td>3.68</td>\n",
       "      <td>1.1776</td>\n",
       "      <td>2.0</td>\n",
       "      <td>Cash Register Lottery</td>\n",
       "      <td>USA</td>\n",
       "      <td>M</td>\n",
       "      <td>F</td>\n",
       "      <td>...</td>\n",
       "      <td>18670.0</td>\n",
       "      <td>5415.0</td>\n",
       "      <td>3610.0</td>\n",
       "      <td>1.0</td>\n",
       "      <td>1.0</td>\n",
       "      <td>1.0</td>\n",
       "      <td>1.0</td>\n",
       "      <td>1.0</td>\n",
       "      <td>In-Store Coupon</td>\n",
       "      <td>95.78</td>\n",
       "    </tr>\n",
       "    <tr>\n",
       "      <th>6</th>\n",
       "      <td>Breakfast Foods</td>\n",
       "      <td>Frozen Foods</td>\n",
       "      <td>Food</td>\n",
       "      <td>5.44</td>\n",
       "      <td>2.5568</td>\n",
       "      <td>4.0</td>\n",
       "      <td>Cash Register Lottery</td>\n",
       "      <td>USA</td>\n",
       "      <td>S</td>\n",
       "      <td>F</td>\n",
       "      <td>...</td>\n",
       "      <td>18670.0</td>\n",
       "      <td>5415.0</td>\n",
       "      <td>3610.0</td>\n",
       "      <td>1.0</td>\n",
       "      <td>1.0</td>\n",
       "      <td>1.0</td>\n",
       "      <td>1.0</td>\n",
       "      <td>1.0</td>\n",
       "      <td>In-Store Coupon</td>\n",
       "      <td>95.78</td>\n",
       "    </tr>\n",
       "    <tr>\n",
       "      <th>...</th>\n",
       "      <td>...</td>\n",
       "      <td>...</td>\n",
       "      <td>...</td>\n",
       "      <td>...</td>\n",
       "      <td>...</td>\n",
       "      <td>...</td>\n",
       "      <td>...</td>\n",
       "      <td>...</td>\n",
       "      <td>...</td>\n",
       "      <td>...</td>\n",
       "      <td>...</td>\n",
       "      <td>...</td>\n",
       "      <td>...</td>\n",
       "      <td>...</td>\n",
       "      <td>...</td>\n",
       "      <td>...</td>\n",
       "      <td>...</td>\n",
       "      <td>...</td>\n",
       "      <td>...</td>\n",
       "      <td>...</td>\n",
       "      <td>...</td>\n",
       "    </tr>\n",
       "    <tr>\n",
       "      <th>60423</th>\n",
       "      <td>Specialty</td>\n",
       "      <td>Carousel</td>\n",
       "      <td>Non-Consumable</td>\n",
       "      <td>2.76</td>\n",
       "      <td>1.3248</td>\n",
       "      <td>1.0</td>\n",
       "      <td>You Save Days</td>\n",
       "      <td>USA</td>\n",
       "      <td>M</td>\n",
       "      <td>F</td>\n",
       "      <td>...</td>\n",
       "      <td>15321.0</td>\n",
       "      <td>4294.0</td>\n",
       "      <td>2863.0</td>\n",
       "      <td>1.0</td>\n",
       "      <td>0.0</td>\n",
       "      <td>0.0</td>\n",
       "      <td>0.0</td>\n",
       "      <td>0.0</td>\n",
       "      <td>In-Store Coupon</td>\n",
       "      <td>95.25</td>\n",
       "    </tr>\n",
       "    <tr>\n",
       "      <th>60424</th>\n",
       "      <td>Specialty</td>\n",
       "      <td>Carousel</td>\n",
       "      <td>Non-Consumable</td>\n",
       "      <td>1.60</td>\n",
       "      <td>0.4960</td>\n",
       "      <td>1.0</td>\n",
       "      <td>Price Cutters</td>\n",
       "      <td>USA</td>\n",
       "      <td>S</td>\n",
       "      <td>F</td>\n",
       "      <td>...</td>\n",
       "      <td>15321.0</td>\n",
       "      <td>4294.0</td>\n",
       "      <td>2863.0</td>\n",
       "      <td>1.0</td>\n",
       "      <td>0.0</td>\n",
       "      <td>0.0</td>\n",
       "      <td>0.0</td>\n",
       "      <td>0.0</td>\n",
       "      <td>Sunday Paper</td>\n",
       "      <td>69.42</td>\n",
       "    </tr>\n",
       "    <tr>\n",
       "      <th>60425</th>\n",
       "      <td>Specialty</td>\n",
       "      <td>Carousel</td>\n",
       "      <td>Non-Consumable</td>\n",
       "      <td>5.52</td>\n",
       "      <td>2.5392</td>\n",
       "      <td>2.0</td>\n",
       "      <td>Weekend Markdown</td>\n",
       "      <td>USA</td>\n",
       "      <td>M</td>\n",
       "      <td>M</td>\n",
       "      <td>...</td>\n",
       "      <td>15321.0</td>\n",
       "      <td>4294.0</td>\n",
       "      <td>2863.0</td>\n",
       "      <td>1.0</td>\n",
       "      <td>0.0</td>\n",
       "      <td>0.0</td>\n",
       "      <td>0.0</td>\n",
       "      <td>0.0</td>\n",
       "      <td>Sunday Paper, Radio, TV</td>\n",
       "      <td>67.51</td>\n",
       "    </tr>\n",
       "    <tr>\n",
       "      <th>60426</th>\n",
       "      <td>Specialty</td>\n",
       "      <td>Carousel</td>\n",
       "      <td>Non-Consumable</td>\n",
       "      <td>8.28</td>\n",
       "      <td>2.5668</td>\n",
       "      <td>3.0</td>\n",
       "      <td>Sales Days</td>\n",
       "      <td>Canada</td>\n",
       "      <td>S</td>\n",
       "      <td>M</td>\n",
       "      <td>...</td>\n",
       "      <td>27463.0</td>\n",
       "      <td>4193.0</td>\n",
       "      <td>2795.0</td>\n",
       "      <td>1.0</td>\n",
       "      <td>0.0</td>\n",
       "      <td>0.0</td>\n",
       "      <td>0.0</td>\n",
       "      <td>1.0</td>\n",
       "      <td>Sunday Paper</td>\n",
       "      <td>132.88</td>\n",
       "    </tr>\n",
       "    <tr>\n",
       "      <th>60427</th>\n",
       "      <td>Specialty</td>\n",
       "      <td>Carousel</td>\n",
       "      <td>Non-Consumable</td>\n",
       "      <td>9.20</td>\n",
       "      <td>4.2320</td>\n",
       "      <td>4.0</td>\n",
       "      <td>Super Duper Savers</td>\n",
       "      <td>Canada</td>\n",
       "      <td>S</td>\n",
       "      <td>F</td>\n",
       "      <td>...</td>\n",
       "      <td>27463.0</td>\n",
       "      <td>4193.0</td>\n",
       "      <td>2795.0</td>\n",
       "      <td>1.0</td>\n",
       "      <td>0.0</td>\n",
       "      <td>0.0</td>\n",
       "      <td>0.0</td>\n",
       "      <td>1.0</td>\n",
       "      <td>Daily Paper, Radio</td>\n",
       "      <td>87.76</td>\n",
       "    </tr>\n",
       "  </tbody>\n",
       "</table>\n",
       "<p>57423 rows × 40 columns</p>\n",
       "</div>"
      ],
      "text/plain": [
       "         food_category food_department     food_family  \\\n",
       "0      Breakfast Foods    Frozen Foods            Food   \n",
       "1      Breakfast Foods    Frozen Foods            Food   \n",
       "2      Breakfast Foods    Frozen Foods            Food   \n",
       "3      Breakfast Foods    Frozen Foods            Food   \n",
       "6      Breakfast Foods    Frozen Foods            Food   \n",
       "...                ...             ...             ...   \n",
       "60423        Specialty        Carousel  Non-Consumable   \n",
       "60424        Specialty        Carousel  Non-Consumable   \n",
       "60425        Specialty        Carousel  Non-Consumable   \n",
       "60426        Specialty        Carousel  Non-Consumable   \n",
       "60427        Specialty        Carousel  Non-Consumable   \n",
       "\n",
       "       store_sales(in millions)  store_cost(in millions)  \\\n",
       "0                          7.36                   2.7232   \n",
       "1                          5.52                   2.5944   \n",
       "2                          3.68                   1.3616   \n",
       "3                          3.68                   1.1776   \n",
       "6                          5.44                   2.5568   \n",
       "...                         ...                      ...   \n",
       "60423                      2.76                   1.3248   \n",
       "60424                      1.60                   0.4960   \n",
       "60425                      5.52                   2.5392   \n",
       "60426                      8.28                   2.5668   \n",
       "60427                      9.20                   4.2320   \n",
       "\n",
       "       unit_sales(in millions)         promotion_name sales_country  \\\n",
       "0                          4.0           Bag Stuffers           USA   \n",
       "1                          3.0  Cash Register Lottery           USA   \n",
       "2                          2.0    High Roller Savings           USA   \n",
       "3                          2.0  Cash Register Lottery           USA   \n",
       "6                          4.0  Cash Register Lottery           USA   \n",
       "...                        ...                    ...           ...   \n",
       "60423                      1.0          You Save Days           USA   \n",
       "60424                      1.0          Price Cutters           USA   \n",
       "60425                      2.0       Weekend Markdown           USA   \n",
       "60426                      3.0             Sales Days        Canada   \n",
       "60427                      4.0     Super Duper Savers        Canada   \n",
       "\n",
       "      marital_status gender  ...  grocery_sqft frozen_sqft meat_sqft  \\\n",
       "0                  M      F  ...       18670.0      5415.0    3610.0   \n",
       "1                  M      M  ...       18670.0      5415.0    3610.0   \n",
       "2                  S      F  ...       18670.0      5415.0    3610.0   \n",
       "3                  M      F  ...       18670.0      5415.0    3610.0   \n",
       "6                  S      F  ...       18670.0      5415.0    3610.0   \n",
       "...              ...    ...  ...           ...         ...       ...   \n",
       "60423              M      F  ...       15321.0      4294.0    2863.0   \n",
       "60424              S      F  ...       15321.0      4294.0    2863.0   \n",
       "60425              M      M  ...       15321.0      4294.0    2863.0   \n",
       "60426              S      M  ...       27463.0      4193.0    2795.0   \n",
       "60427              S      F  ...       27463.0      4193.0    2795.0   \n",
       "\n",
       "      coffee_bar video_store  salad_bar prepared_food  florist  \\\n",
       "0            1.0         1.0        1.0           1.0      1.0   \n",
       "1            1.0         1.0        1.0           1.0      1.0   \n",
       "2            1.0         1.0        1.0           1.0      1.0   \n",
       "3            1.0         1.0        1.0           1.0      1.0   \n",
       "6            1.0         1.0        1.0           1.0      1.0   \n",
       "...          ...         ...        ...           ...      ...   \n",
       "60423        1.0         0.0        0.0           0.0      0.0   \n",
       "60424        1.0         0.0        0.0           0.0      0.0   \n",
       "60425        1.0         0.0        0.0           0.0      0.0   \n",
       "60426        1.0         0.0        0.0           0.0      1.0   \n",
       "60427        1.0         0.0        0.0           0.0      1.0   \n",
       "\n",
       "                    media_type    cost  \n",
       "0           Daily Paper, Radio  126.62  \n",
       "1           Daily Paper, Radio   59.86  \n",
       "2           Daily Paper, Radio   84.16  \n",
       "3              In-Store Coupon   95.78  \n",
       "6              In-Store Coupon   95.78  \n",
       "...                        ...     ...  \n",
       "60423          In-Store Coupon   95.25  \n",
       "60424             Sunday Paper   69.42  \n",
       "60425  Sunday Paper, Radio, TV   67.51  \n",
       "60426             Sunday Paper  132.88  \n",
       "60427       Daily Paper, Radio   87.76  \n",
       "\n",
       "[57423 rows x 40 columns]"
      ]
     },
     "execution_count": 6,
     "metadata": {},
     "output_type": "execute_result"
    }
   ],
   "source": [
    "df_woOut = df_raw.iloc[outlier_pred == 1]\n",
    "df_woOut"
   ]
  },
  {
   "cell_type": "code",
   "execution_count": 7,
   "metadata": {
    "colab": {
     "base_uri": "https://localhost:8080/",
     "height": 1000
    },
    "id": "C1WD7nxYgyVB",
    "outputId": "0e9dcf28-aaa9-4ebc-87e8-db4c5eafd548"
   },
   "outputs": [
    {
     "data": {
      "text/plain": [
       "Text(0.5, 1.0, 'Correlation Matrix')"
      ]
     },
     "execution_count": 7,
     "metadata": {},
     "output_type": "execute_result"
    },
    {
     "data": {
      "image/png": "[encoded data removed]",
      "text/plain": [
       "<Figure size 936x720 with 2 Axes>"
      ]
     },
     "metadata": {
      "needs_background": "light"
     },
     "output_type": "display_data"
    }
   ],
   "source": [
    "import matplotlib.pyplot as plt\n",
    "import seaborn as sns\n",
    "\n",
    "plt.figure(figsize = (13, 10))\n",
    "\n",
    "sns.heatmap(df_woOut[num_cols].corr(), annot = True, cmap = 'coolwarm', annot_kws = {'size' : 7})\n",
    "plt.title(\"Correlation Matrix\", fontsize = 20, fontweight = 'bold')"
   ]
  },
  {
   "cell_type": "markdown",
   "metadata": {
    "id": "VVt7Fwi57dhA"
   },
   "source": [
    "# Feature Engineering"
   ]
  },
  {
   "cell_type": "markdown",
   "metadata": {
    "id": "4RR-lNjMmnf0"
   },
   "source": [
    "According to the correlation matrix, we will do feature engineering to preserve as much data as possible at this stage while not facing multicollinearity."
   ]
  },
  {
   "cell_type": "code",
   "execution_count": 8,
   "metadata": {
    "colab": {
     "base_uri": "https://localhost:8080/"
    },
    "id": "MC-N0Uyom6t1",
    "outputId": "0449727a-89f8-4dd5-d64a-a846684b7605"
   },
   "outputs": [
    {
     "name": "stderr",
     "output_type": "stream",
     "text": [
      "<ipython-input-8-dd7f76fe2813>:1: SettingWithCopyWarning: \n",
      "A value is trying to be set on a copy of a slice from a DataFrame.\n",
      "Try using .loc[row_indexer,col_indexer] = value instead\n",
      "\n",
      "See the caveats in the documentation: https://pandas.pydata.org/pandas-docs/stable/user_guide/indexing.html#returning-a-view-versus-a-copy\n",
      "  df_woOut['sales_to_cost_ratio'] = df_woOut['store_sales(in millions)'] / df_woOut['store_cost(in millions)']\n",
      "<ipython-input-8-dd7f76fe2813>:2: SettingWithCopyWarning: \n",
      "A value is trying to be set on a copy of a slice from a DataFrame.\n",
      "Try using .loc[row_indexer,col_indexer] = value instead\n",
      "\n",
      "See the caveats in the documentation: https://pandas.pydata.org/pandas-docs/stable/user_guide/indexing.html#returning-a-view-versus-a-copy\n",
      "  df_woOut['frozen_to_meat_ratio'] = df_woOut['frozen_sqft'] / df_woOut['meat_sqft']\n",
      "<ipython-input-8-dd7f76fe2813>:3: SettingWithCopyWarning: \n",
      "A value is trying to be set on a copy of a slice from a DataFrame.\n",
      "Try using .loc[row_indexer,col_indexer] = value instead\n",
      "\n",
      "See the caveats in the documentation: https://pandas.pydata.org/pandas-docs/stable/user_guide/indexing.html#returning-a-view-versus-a-copy\n",
      "  df_woOut['meat_to_total_ratio'] = df_woOut['meat_sqft'] / df_woOut['store_sqft']\n"
     ]
    }
   ],
   "source": [
    "df_woOut['sales_to_cost_ratio'] = df_woOut['store_sales(in millions)'] / df_woOut['store_cost(in millions)']\n",
    "df_woOut['frozen_to_meat_ratio'] = df_woOut['frozen_sqft'] / df_woOut['meat_sqft']\n",
    "df_woOut['meat_to_total_ratio'] = df_woOut['meat_sqft'] / df_woOut['store_sqft']"
   ]
  },
  {
   "cell_type": "code",
   "execution_count": 9,
   "metadata": {
    "id": "00tz4H6rpb4I"
   },
   "outputs": [],
   "source": [
    "df_woOut = df_woOut.drop(['store_sales(in millions)', 'store_cost(in millions)', 'frozen_sqft', 'meat_sqft', 'grocery_sqft', 'store_sqft',\n",
    "                          'gross_weight', 'avg_cars_at home(approx).1', 'grocery_sqft'], axis = 1)"
   ]
  },
  {
   "cell_type": "code",
   "execution_count": 10,
   "metadata": {
    "colab": {
     "base_uri": "https://localhost:8080/"
    },
    "id": "tA_rjHUtqXXK",
    "outputId": "9fc231f7-2409-41b2-d80b-7c50f5498cc7"
   },
   "outputs": [
    {
     "name": "stdout",
     "output_type": "stream",
     "text": [
      "Number of unique values: 6 \t Datatype: float64 \t Column name: unit_sales(in millions)\n",
      "Number of unique values: 6 \t Datatype: float64 \t Column name: total_children\n",
      "Number of unique values: 5 \t Datatype: float64 \t Column name: avg_cars_at home(approx)\n",
      "Number of unique values: 6 \t Datatype: float64 \t Column name: num_children_at_home\n"
     ]
    }
   ],
   "source": [
    "num_cols, cate_cols, pre_dum_cols = [], [], []\n",
    "for c in df_woOut.columns:\n",
    "    uni_len = len(set(df_woOut[c]))\n",
    "    dtype = df_woOut[c].dtypes\n",
    "\n",
    "    if dtype == object:\n",
    "        cate_cols.append(c)\n",
    "    else: # dtype == float\n",
    "        if uni_len == 2:\n",
    "            pre_dum_cols.append(c)\n",
    "        elif uni_len < 10:\n",
    "            num_cols.append(c)\n",
    "            print(\"Number of unique values: %d \\t Datatype: %s \\t Column name: %s\" %(uni_len, dtype, c))\n",
    "        else:\n",
    "            num_cols.append(c)"
   ]
  },
  {
   "cell_type": "code",
   "execution_count": 11,
   "metadata": {
    "colab": {
     "base_uri": "https://localhost:8080/",
     "height": 1000
    },
    "id": "vz7sMeI4qjn5",
    "outputId": "a923bf20-fc23-4d3c-8c60-45ae0241d460"
   },
   "outputs": [
    {
     "data": {
      "text/plain": [
       "Text(0.5, 1.0, 'Correlation Matrix')"
      ]
     },
     "execution_count": 11,
     "metadata": {},
     "output_type": "execute_result"
    },
    {
     "data": {
      "image/png": "[encoded data removed]",
      "text/plain": [
       "<Figure size 936x720 with 2 Axes>"
      ]
     },
     "metadata": {
      "needs_background": "light"
     },
     "output_type": "display_data"
    }
   ],
   "source": [
    "import matplotlib.pyplot as plt\n",
    "import seaborn as sns\n",
    "\n",
    "plt.figure(figsize = (13, 10))\n",
    "\n",
    "sns.heatmap(df_woOut[num_cols].corr(), annot = True, cmap = 'coolwarm', annot_kws = {'size' : 7})\n",
    "plt.title(\"Correlation Matrix\", fontsize = 20, fontweight = 'bold')"
   ]
  },
  {
   "cell_type": "code",
   "execution_count": 12,
   "metadata": {
    "colab": {
     "base_uri": "https://localhost:8080/"
    },
    "id": "xP2BxSRFA_5P",
    "outputId": "ab7f508b-217b-45fe-f761-77b08fcd3d7b"
   },
   "outputs": [
    {
     "data": {
      "text/plain": [
       "array([[ 0.2       , -0.6       , -0.5       , ...,  0.05405405,\n",
       "         0.11000332,  0.26845737],\n",
       "       [-0.2       , -1.        ,  1.        , ..., -0.80851064,\n",
       "         0.11000332,  0.26845737],\n",
       "       [-0.6       ,  0.6       , -0.5       , ...,  0.05405405,\n",
       "         0.11000332,  0.26845737],\n",
       "       ...,\n",
       "       [-0.6       , -0.6       ,  0.5       , ..., -0.73913043,\n",
       "        -0.4091355 ,  0.19257961],\n",
       "       [-0.2       , -0.2       ,  1.        , ...,  0.83870968,\n",
       "         0.64177236, -0.98319777],\n",
       "       [ 0.2       ,  0.2       , -0.5       , ..., -0.73913043,\n",
       "         0.64177236, -0.98319777]])"
      ]
     },
     "execution_count": 12,
     "metadata": {},
     "output_type": "execute_result"
    }
   ],
   "source": [
    "cols = [c for c in num_cols if c != 'cost'] # exclude target\n",
    "\n",
    "min_max_scaler = MinMaxScaler(feature_range=(-1, 1))\n",
    "MinMax_scaled = min_max_scaler.fit_transform(df_woOut[cols])\n",
    "\n",
    "MinMax_scaled"
   ]
  },
  {
   "cell_type": "code",
   "execution_count": 13,
   "metadata": {
    "colab": {
     "base_uri": "https://localhost:8080/"
    },
    "id": "gyA2MCIVBBF_",
    "outputId": "014bb72f-31ad-4b81-e7f3-7c8bd1b733b7"
   },
   "outputs": [
    {
     "data": {
      "text/plain": [
       "array([[ 1.09602519, -1.03128914, -1.08330242, ...,  0.39259738,\n",
       "        -0.01604716,  0.18363349],\n",
       "       [-0.11019699, -1.70201487,  1.61780374, ..., -1.11761199,\n",
       "        -0.01604716,  0.18363349],\n",
       "       [-1.31641916,  0.98088805, -1.08330242, ...,  0.39259738,\n",
       "        -0.01604716,  0.18363349],\n",
       "       ...,\n",
       "       [-1.31641916, -1.03128914,  0.71743502, ..., -0.99613863,\n",
       "        -0.97003583,  0.05803928],\n",
       "       [-0.11019699, -0.36056341,  1.61780374, ...,  1.76640074,\n",
       "         0.96115125, -1.88812817],\n",
       "       [ 1.09602519,  0.31016232, -1.08330242, ..., -0.99613863,\n",
       "         0.96115125, -1.88812817]])"
      ]
     },
     "execution_count": 13,
     "metadata": {},
     "output_type": "execute_result"
    }
   ],
   "source": [
    "cols = [c for c in num_cols if c != 'cost'] # exclude target\n",
    "\n",
    "std_scaler = StandardScaler()\n",
    "std_scaled = std_scaler.fit_transform(df_woOut[cols])\n",
    "std_scaled"
   ]
  },
  {
   "cell_type": "code",
   "execution_count": 14,
   "metadata": {
    "id": "3Mwpet-lBBQf"
   },
   "outputs": [],
   "source": [
    "#df = pd.DataFrame(std_scaled, columns = [c for c in num_cols if c != 'cost'])\n",
    "df = pd.DataFrame(MinMax_scaled, columns = [c for c in num_cols if c != 'cost'])\n",
    "\n",
    "# Concatenate standardized/normalized numerical columns with the others\n",
    "df = pd.concat([df.reset_index(drop=True), \n",
    "                df_woOut[cate_cols + pre_dum_cols].reset_index(drop=True)], axis=1)"
   ]
  },
  {
   "cell_type": "markdown",
   "metadata": {
    "id": "sH4zirUNF8y7"
   },
   "source": [
    "### Dropping irrelevant attributes"
   ]
  },
  {
   "cell_type": "markdown",
   "metadata": {
    "id": "2JlDapYsGB6d"
   },
   "source": [
    "We will drop irrelevant attributes or attributes that have too many variables to avoid over-complicating our model."
   ]
  },
  {
   "cell_type": "code",
   "execution_count": 15,
   "metadata": {
    "id": "HbbFqCTuGG5N"
   },
   "outputs": [],
   "source": [
    "df = df.drop(['food_category', 'food_department', 'brand_name', 'store_city', 'promotion_name'], axis = 1)"
   ]
  },
  {
   "cell_type": "markdown",
   "metadata": {
    "id": "VqAHhXiT7Ghq"
   },
   "source": [
    "### Dummifying categorical variables\n",
    "\n"
   ]
  },
  {
   "cell_type": "markdown",
   "metadata": {
    "id": "uAgE_eWA8HHy"
   },
   "source": [
    "Since 'media_type' will be our treatment for the causal inference, we encode it differently not to add too many features/predictors to our model."
   ]
  },
  {
   "cell_type": "code",
   "execution_count": 16,
   "metadata": {
    "id": "Z_obMaE17Pr-"
   },
   "outputs": [],
   "source": [
    "from sklearn import preprocessing \n",
    "\n",
    "label_encoder = preprocessing.LabelEncoder() \n",
    "label_encoder.fit_transform(df['media_type'].tolist())\n",
    "\n",
    "# to decode values \n",
    "# label_encoder.inverse_transform([1, 1, 0])\n",
    "\n",
    "df['media_type_labeled'] = label_encoder.fit_transform(df['media_type'].tolist())"
   ]
  },
  {
   "cell_type": "code",
   "execution_count": 17,
   "metadata": {
    "id": "EGFEjIPo8F9U"
   },
   "outputs": [],
   "source": [
    "# Dummify categorical variables except for 'media type'\n",
    "df = pd.get_dummies(df[[c for c in df.columns if c != 'media_type']], drop_first = True)"
   ]
  },
  {
   "cell_type": "code",
   "execution_count": 18,
   "metadata": {
    "colab": {
     "base_uri": "https://localhost:8080/",
     "height": 505
    },
    "id": "-CgIAFpG8U_P",
    "outputId": "e8ef4957-e194-4873-a80b-3d360a76c8f0"
   },
   "outputs": [
    {
     "data": {
      "text/html": [
       "<div>\n",
       "<style scoped>\n",
       "    .dataframe tbody tr th:only-of-type {\n",
       "        vertical-align: middle;\n",
       "    }\n",
       "\n",
       "    .dataframe tbody tr th {\n",
       "        vertical-align: top;\n",
       "    }\n",
       "\n",
       "    .dataframe thead th {\n",
       "        text-align: right;\n",
       "    }\n",
       "</style>\n",
       "<table border=\"1\" class=\"dataframe\">\n",
       "  <thead>\n",
       "    <tr style=\"text-align: right;\">\n",
       "      <th></th>\n",
       "      <th>unit_sales(in millions)</th>\n",
       "      <th>total_children</th>\n",
       "      <th>avg_cars_at home(approx)</th>\n",
       "      <th>num_children_at_home</th>\n",
       "      <th>SRP</th>\n",
       "      <th>net_weight</th>\n",
       "      <th>units_per_case</th>\n",
       "      <th>sales_to_cost_ratio</th>\n",
       "      <th>frozen_to_meat_ratio</th>\n",
       "      <th>meat_to_total_ratio</th>\n",
       "      <th>...</th>\n",
       "      <th>store_type_Supermarket</th>\n",
       "      <th>store_state_CA</th>\n",
       "      <th>store_state_DF</th>\n",
       "      <th>store_state_Guerrero</th>\n",
       "      <th>store_state_Jalisco</th>\n",
       "      <th>store_state_OR</th>\n",
       "      <th>store_state_Veracruz</th>\n",
       "      <th>store_state_WA</th>\n",
       "      <th>store_state_Yucatan</th>\n",
       "      <th>store_state_Zacatecas</th>\n",
       "    </tr>\n",
       "  </thead>\n",
       "  <tbody>\n",
       "    <tr>\n",
       "      <th>0</th>\n",
       "      <td>0.2</td>\n",
       "      <td>-0.6</td>\n",
       "      <td>-0.5</td>\n",
       "      <td>-0.6</td>\n",
       "      <td>-0.229885</td>\n",
       "      <td>0.650704</td>\n",
       "      <td>-0.085714</td>\n",
       "      <td>0.054054</td>\n",
       "      <td>0.110003</td>\n",
       "      <td>0.268457</td>\n",
       "      <td>...</td>\n",
       "      <td>0</td>\n",
       "      <td>0</td>\n",
       "      <td>0</td>\n",
       "      <td>0</td>\n",
       "      <td>0</td>\n",
       "      <td>1</td>\n",
       "      <td>0</td>\n",
       "      <td>0</td>\n",
       "      <td>0</td>\n",
       "      <td>0</td>\n",
       "    </tr>\n",
       "    <tr>\n",
       "      <th>1</th>\n",
       "      <td>-0.2</td>\n",
       "      <td>-1.0</td>\n",
       "      <td>1.0</td>\n",
       "      <td>-1.0</td>\n",
       "      <td>-0.229885</td>\n",
       "      <td>0.650704</td>\n",
       "      <td>-0.085714</td>\n",
       "      <td>-0.808511</td>\n",
       "      <td>0.110003</td>\n",
       "      <td>0.268457</td>\n",
       "      <td>...</td>\n",
       "      <td>0</td>\n",
       "      <td>0</td>\n",
       "      <td>0</td>\n",
       "      <td>0</td>\n",
       "      <td>0</td>\n",
       "      <td>1</td>\n",
       "      <td>0</td>\n",
       "      <td>0</td>\n",
       "      <td>0</td>\n",
       "      <td>0</td>\n",
       "    </tr>\n",
       "    <tr>\n",
       "      <th>2</th>\n",
       "      <td>-0.6</td>\n",
       "      <td>0.6</td>\n",
       "      <td>-0.5</td>\n",
       "      <td>-1.0</td>\n",
       "      <td>-0.229885</td>\n",
       "      <td>0.650704</td>\n",
       "      <td>-0.085714</td>\n",
       "      <td>0.054054</td>\n",
       "      <td>0.110003</td>\n",
       "      <td>0.268457</td>\n",
       "      <td>...</td>\n",
       "      <td>0</td>\n",
       "      <td>0</td>\n",
       "      <td>0</td>\n",
       "      <td>0</td>\n",
       "      <td>0</td>\n",
       "      <td>1</td>\n",
       "      <td>0</td>\n",
       "      <td>0</td>\n",
       "      <td>0</td>\n",
       "      <td>0</td>\n",
       "    </tr>\n",
       "    <tr>\n",
       "      <th>3</th>\n",
       "      <td>-0.6</td>\n",
       "      <td>-0.2</td>\n",
       "      <td>0.0</td>\n",
       "      <td>-0.2</td>\n",
       "      <td>-0.229885</td>\n",
       "      <td>0.650704</td>\n",
       "      <td>-0.085714</td>\n",
       "      <td>0.687500</td>\n",
       "      <td>0.110003</td>\n",
       "      <td>0.268457</td>\n",
       "      <td>...</td>\n",
       "      <td>0</td>\n",
       "      <td>0</td>\n",
       "      <td>0</td>\n",
       "      <td>0</td>\n",
       "      <td>0</td>\n",
       "      <td>1</td>\n",
       "      <td>0</td>\n",
       "      <td>0</td>\n",
       "      <td>0</td>\n",
       "      <td>0</td>\n",
       "    </tr>\n",
       "    <tr>\n",
       "      <th>4</th>\n",
       "      <td>0.2</td>\n",
       "      <td>0.6</td>\n",
       "      <td>0.0</td>\n",
       "      <td>-1.0</td>\n",
       "      <td>-0.505747</td>\n",
       "      <td>-0.767887</td>\n",
       "      <td>0.600000</td>\n",
       "      <td>-0.808511</td>\n",
       "      <td>0.110003</td>\n",
       "      <td>0.268457</td>\n",
       "      <td>...</td>\n",
       "      <td>0</td>\n",
       "      <td>0</td>\n",
       "      <td>0</td>\n",
       "      <td>0</td>\n",
       "      <td>0</td>\n",
       "      <td>1</td>\n",
       "      <td>0</td>\n",
       "      <td>0</td>\n",
       "      <td>0</td>\n",
       "      <td>0</td>\n",
       "    </tr>\n",
       "    <tr>\n",
       "      <th>...</th>\n",
       "      <td>...</td>\n",
       "      <td>...</td>\n",
       "      <td>...</td>\n",
       "      <td>...</td>\n",
       "      <td>...</td>\n",
       "      <td>...</td>\n",
       "      <td>...</td>\n",
       "      <td>...</td>\n",
       "      <td>...</td>\n",
       "      <td>...</td>\n",
       "      <td>...</td>\n",
       "      <td>...</td>\n",
       "      <td>...</td>\n",
       "      <td>...</td>\n",
       "      <td>...</td>\n",
       "      <td>...</td>\n",
       "      <td>...</td>\n",
       "      <td>...</td>\n",
       "      <td>...</td>\n",
       "      <td>...</td>\n",
       "      <td>...</td>\n",
       "    </tr>\n",
       "    <tr>\n",
       "      <th>57418</th>\n",
       "      <td>-1.0</td>\n",
       "      <td>-0.6</td>\n",
       "      <td>-0.5</td>\n",
       "      <td>-0.6</td>\n",
       "      <td>0.298851</td>\n",
       "      <td>0.752113</td>\n",
       "      <td>0.428571</td>\n",
       "      <td>-0.875000</td>\n",
       "      <td>-0.409135</td>\n",
       "      <td>0.192580</td>\n",
       "      <td>...</td>\n",
       "      <td>0</td>\n",
       "      <td>1</td>\n",
       "      <td>0</td>\n",
       "      <td>0</td>\n",
       "      <td>0</td>\n",
       "      <td>0</td>\n",
       "      <td>0</td>\n",
       "      <td>0</td>\n",
       "      <td>0</td>\n",
       "      <td>0</td>\n",
       "    </tr>\n",
       "    <tr>\n",
       "      <th>57419</th>\n",
       "      <td>-1.0</td>\n",
       "      <td>-0.2</td>\n",
       "      <td>0.0</td>\n",
       "      <td>-1.0</td>\n",
       "      <td>-0.367816</td>\n",
       "      <td>0.380282</td>\n",
       "      <td>1.000000</td>\n",
       "      <td>0.838710</td>\n",
       "      <td>-0.409135</td>\n",
       "      <td>0.192580</td>\n",
       "      <td>...</td>\n",
       "      <td>0</td>\n",
       "      <td>1</td>\n",
       "      <td>0</td>\n",
       "      <td>0</td>\n",
       "      <td>0</td>\n",
       "      <td>0</td>\n",
       "      <td>0</td>\n",
       "      <td>0</td>\n",
       "      <td>0</td>\n",
       "      <td>0</td>\n",
       "    </tr>\n",
       "    <tr>\n",
       "      <th>57420</th>\n",
       "      <td>-0.6</td>\n",
       "      <td>-0.6</td>\n",
       "      <td>0.5</td>\n",
       "      <td>-1.0</td>\n",
       "      <td>0.298851</td>\n",
       "      <td>0.752113</td>\n",
       "      <td>0.428571</td>\n",
       "      <td>-0.739130</td>\n",
       "      <td>-0.409135</td>\n",
       "      <td>0.192580</td>\n",
       "      <td>...</td>\n",
       "      <td>0</td>\n",
       "      <td>1</td>\n",
       "      <td>0</td>\n",
       "      <td>0</td>\n",
       "      <td>0</td>\n",
       "      <td>0</td>\n",
       "      <td>0</td>\n",
       "      <td>0</td>\n",
       "      <td>0</td>\n",
       "      <td>0</td>\n",
       "    </tr>\n",
       "    <tr>\n",
       "      <th>57421</th>\n",
       "      <td>-0.2</td>\n",
       "      <td>-0.2</td>\n",
       "      <td>1.0</td>\n",
       "      <td>-1.0</td>\n",
       "      <td>0.298851</td>\n",
       "      <td>0.752113</td>\n",
       "      <td>0.428571</td>\n",
       "      <td>0.838710</td>\n",
       "      <td>0.641772</td>\n",
       "      <td>-0.983198</td>\n",
       "      <td>...</td>\n",
       "      <td>0</td>\n",
       "      <td>0</td>\n",
       "      <td>0</td>\n",
       "      <td>0</td>\n",
       "      <td>0</td>\n",
       "      <td>0</td>\n",
       "      <td>0</td>\n",
       "      <td>0</td>\n",
       "      <td>0</td>\n",
       "      <td>0</td>\n",
       "    </tr>\n",
       "    <tr>\n",
       "      <th>57422</th>\n",
       "      <td>0.2</td>\n",
       "      <td>0.2</td>\n",
       "      <td>-0.5</td>\n",
       "      <td>-1.0</td>\n",
       "      <td>0.034483</td>\n",
       "      <td>0.853521</td>\n",
       "      <td>0.600000</td>\n",
       "      <td>-0.739130</td>\n",
       "      <td>0.641772</td>\n",
       "      <td>-0.983198</td>\n",
       "      <td>...</td>\n",
       "      <td>0</td>\n",
       "      <td>0</td>\n",
       "      <td>0</td>\n",
       "      <td>0</td>\n",
       "      <td>0</td>\n",
       "      <td>0</td>\n",
       "      <td>0</td>\n",
       "      <td>0</td>\n",
       "      <td>0</td>\n",
       "      <td>0</td>\n",
       "    </tr>\n",
       "  </tbody>\n",
       "</table>\n",
       "<p>57423 rows × 56 columns</p>\n",
       "</div>"
      ],
      "text/plain": [
       "       unit_sales(in millions)  total_children  avg_cars_at home(approx)  \\\n",
       "0                          0.2            -0.6                      -0.5   \n",
       "1                         -0.2            -1.0                       1.0   \n",
       "2                         -0.6             0.6                      -0.5   \n",
       "3                         -0.6            -0.2                       0.0   \n",
       "4                          0.2             0.6                       0.0   \n",
       "...                        ...             ...                       ...   \n",
       "57418                     -1.0            -0.6                      -0.5   \n",
       "57419                     -1.0            -0.2                       0.0   \n",
       "57420                     -0.6            -0.6                       0.5   \n",
       "57421                     -0.2            -0.2                       1.0   \n",
       "57422                      0.2             0.2                      -0.5   \n",
       "\n",
       "       num_children_at_home       SRP  net_weight  units_per_case  \\\n",
       "0                      -0.6 -0.229885    0.650704       -0.085714   \n",
       "1                      -1.0 -0.229885    0.650704       -0.085714   \n",
       "2                      -1.0 -0.229885    0.650704       -0.085714   \n",
       "3                      -0.2 -0.229885    0.650704       -0.085714   \n",
       "4                      -1.0 -0.505747   -0.767887        0.600000   \n",
       "...                     ...       ...         ...             ...   \n",
       "57418                  -0.6  0.298851    0.752113        0.428571   \n",
       "57419                  -1.0 -0.367816    0.380282        1.000000   \n",
       "57420                  -1.0  0.298851    0.752113        0.428571   \n",
       "57421                  -1.0  0.298851    0.752113        0.428571   \n",
       "57422                  -1.0  0.034483    0.853521        0.600000   \n",
       "\n",
       "       sales_to_cost_ratio  frozen_to_meat_ratio  meat_to_total_ratio  ...  \\\n",
       "0                 0.054054              0.110003             0.268457  ...   \n",
       "1                -0.808511              0.110003             0.268457  ...   \n",
       "2                 0.054054              0.110003             0.268457  ...   \n",
       "3                 0.687500              0.110003             0.268457  ...   \n",
       "4                -0.808511              0.110003             0.268457  ...   \n",
       "...                    ...                   ...                  ...  ...   \n",
       "57418            -0.875000             -0.409135             0.192580  ...   \n",
       "57419             0.838710             -0.409135             0.192580  ...   \n",
       "57420            -0.739130             -0.409135             0.192580  ...   \n",
       "57421             0.838710              0.641772            -0.983198  ...   \n",
       "57422            -0.739130              0.641772            -0.983198  ...   \n",
       "\n",
       "       store_type_Supermarket  store_state_CA  store_state_DF  \\\n",
       "0                           0               0               0   \n",
       "1                           0               0               0   \n",
       "2                           0               0               0   \n",
       "3                           0               0               0   \n",
       "4                           0               0               0   \n",
       "...                       ...             ...             ...   \n",
       "57418                       0               1               0   \n",
       "57419                       0               1               0   \n",
       "57420                       0               1               0   \n",
       "57421                       0               0               0   \n",
       "57422                       0               0               0   \n",
       "\n",
       "       store_state_Guerrero  store_state_Jalisco  store_state_OR  \\\n",
       "0                         0                    0               1   \n",
       "1                         0                    0               1   \n",
       "2                         0                    0               1   \n",
       "3                         0                    0               1   \n",
       "4                         0                    0               1   \n",
       "...                     ...                  ...             ...   \n",
       "57418                     0                    0               0   \n",
       "57419                     0                    0               0   \n",
       "57420                     0                    0               0   \n",
       "57421                     0                    0               0   \n",
       "57422                     0                    0               0   \n",
       "\n",
       "       store_state_Veracruz  store_state_WA  store_state_Yucatan  \\\n",
       "0                         0               0                    0   \n",
       "1                         0               0                    0   \n",
       "2                         0               0                    0   \n",
       "3                         0               0                    0   \n",
       "4                         0               0                    0   \n",
       "...                     ...             ...                  ...   \n",
       "57418                     0               0                    0   \n",
       "57419                     0               0                    0   \n",
       "57420                     0               0                    0   \n",
       "57421                     0               0                    0   \n",
       "57422                     0               0                    0   \n",
       "\n",
       "       store_state_Zacatecas  \n",
       "0                          0  \n",
       "1                          0  \n",
       "2                          0  \n",
       "3                          0  \n",
       "4                          0  \n",
       "...                      ...  \n",
       "57418                      0  \n",
       "57419                      0  \n",
       "57420                      0  \n",
       "57421                      0  \n",
       "57422                      0  \n",
       "\n",
       "[57423 rows x 56 columns]"
      ]
     },
     "execution_count": 18,
     "metadata": {},
     "output_type": "execute_result"
    }
   ],
   "source": [
    "df"
   ]
  },
  {
   "cell_type": "markdown",
   "metadata": {
    "id": "3QrA_FcS8rFY"
   },
   "source": [
    "# Feature Selection"
   ]
  },
  {
   "cell_type": "markdown",
   "metadata": {
    "id": "fHV6_moF8ddg"
   },
   "source": [
    "For feature selection, we will run Random Forest and select predictors for our model based on the feature importances."
   ]
  },
  {
   "cell_type": "code",
   "execution_count": 19,
   "metadata": {
    "id": "4poT2WSq9JNL"
   },
   "outputs": [],
   "source": [
    "y = df_woOut['cost']"
   ]
  },
  {
   "cell_type": "markdown",
   "metadata": {
    "id": "wVp5_kYMBjGN"
   },
   "source": [
    "First, we will only use numerical variables as our predictors to identify significant numeric predictors."
   ]
  },
  {
   "cell_type": "code",
   "execution_count": 20,
   "metadata": {
    "id": "95lEtMR__pqq"
   },
   "outputs": [],
   "source": [
    "X = df[['unit_sales(in millions)', 'total_children', 'avg_cars_at home(approx)', 'num_children_at_home', 'SRP', 'net_weight', 'units_per_case', 'sales_to_cost_ratio', 'frozen_to_meat_ratio', 'meat_to_total_ratio']]"
   ]
  },
  {
   "cell_type": "code",
   "execution_count": 21,
   "metadata": {
    "id": "WjmdVYzz8mT5"
   },
   "outputs": [],
   "source": [
    "# Splitting the data into train and test sets\n",
    "from sklearn.model_selection import train_test_split\n",
    "X_train, X_test, y_train, y_test = train_test_split(X, y, test_size = 0.3, random_state = 0)"
   ]
  },
  {
   "cell_type": "code",
   "execution_count": 22,
   "metadata": {
    "id": "_6-nEXTP_u2a"
   },
   "outputs": [],
   "source": [
    "# Building the random forest model\n",
    "from sklearn.ensemble import RandomForestRegressor\n",
    "\n",
    "randomforest = RandomForestRegressor(random_state = 0, max_features = 5, n_estimators = 500)\n",
    "model_rf = randomforest.fit(X_train, y_train)\n",
    "y_test_pred = model_rf.predict(X_test)"
   ]
  },
  {
   "cell_type": "code",
   "execution_count": 23,
   "metadata": {
    "colab": {
     "base_uri": "https://localhost:8080/"
    },
    "id": "X9J2sO0-DV5U",
    "outputId": "b079094c-6857-4b8b-d51d-a0b1b1db8455"
   },
   "outputs": [
    {
     "data": {
      "text/plain": [
       "array([0.05501653, 0.07617655, 0.05785772, 0.04931913, 0.19441004,\n",
       "       0.18880543, 0.14660092, 0.14078352, 0.03680591, 0.05422424])"
      ]
     },
     "execution_count": 23,
     "metadata": {},
     "output_type": "execute_result"
    }
   ],
   "source": [
    "model_rf.feature_importances_"
   ]
  },
  {
   "cell_type": "code",
   "execution_count": 24,
   "metadata": {
    "colab": {
     "base_uri": "https://localhost:8080/",
     "height": 711
    },
    "id": "FeCPSpKZA9Ro",
    "outputId": "f469ed04-10a0-4eef-e54f-dc9e0d1fc506"
   },
   "outputs": [
    {
     "data": {
      "text/plain": [
       "<AxesSubplot:>"
      ]
     },
     "execution_count": 24,
     "metadata": {},
     "output_type": "execute_result"
    },
    {
     "data": {
      "image/png": "[encoded data removed]",
      "text/plain": [
       "<Figure size 1008x432 with 1 Axes>"
      ]
     },
     "metadata": {
      "needs_background": "light"
     },
     "output_type": "display_data"
    }
   ],
   "source": [
    "pd.Series(model_rf.feature_importances_,index = X.columns).sort_values(ascending = False).plot(kind = 'bar', figsize = (14,6))"
   ]
  },
  {
   "cell_type": "markdown",
   "metadata": {
    "id": "ajQWdZbfDjw7"
   },
   "source": [
    "Setting a threshold of approximately 5 percent for relative feature importances, we will not include frozen_to_meat_ratio as a predictor in our models."
   ]
  },
  {
   "cell_type": "markdown",
   "metadata": {
    "id": "aRez8ZeiKZn9"
   },
   "source": [
    "We will now experiment with all the remaining attributes."
   ]
  },
  {
   "cell_type": "code",
   "execution_count": 25,
   "metadata": {
    "id": "fWZllXGRDxum"
   },
   "outputs": [],
   "source": [
    "X_new = df.drop(['frozen_to_meat_ratio'], axis = 1)"
   ]
  },
  {
   "cell_type": "code",
   "execution_count": 26,
   "metadata": {
    "id": "OmYNmXeYKrac"
   },
   "outputs": [],
   "source": [
    "from sklearn.model_selection import train_test_split\n",
    "X_train_new, X_test_new, y_train, y_test = train_test_split(X_new, y, test_size = 0.3, random_state = 0)"
   ]
  },
  {
   "cell_type": "code",
   "execution_count": 27,
   "metadata": {
    "id": "xvTiq7c0Kyi5"
   },
   "outputs": [],
   "source": [
    "from sklearn.ensemble import RandomForestRegressor\n",
    "\n",
    "randomforest = RandomForestRegressor(random_state = 0, max_features = 10, n_estimators = 1000)\n",
    "model_rf_new = randomforest.fit(X_train_new, y_train)\n",
    "y_test_pred_new = model_rf_new.predict(X_test_new)"
   ]
  },
  {
   "cell_type": "code",
   "execution_count": 28,
   "metadata": {
    "colab": {
     "base_uri": "https://localhost:8080/"
    },
    "id": "diG3IbHKLGmZ",
    "outputId": "bf3f3b9b-086b-4a05-a68d-736e06075297"
   },
   "outputs": [
    {
     "data": {
      "text/plain": [
       "array([0.02448912, 0.04219158, 0.03491439, 0.02567854, 0.06993244,\n",
       "       0.06877169, 0.05954323, 0.0554463 , 0.03285098, 0.01297446,\n",
       "       0.01177668, 0.00819187, 0.00772582, 0.00540881, 0.00551133,\n",
       "       0.00659327, 0.25864574, 0.00978413, 0.0083107 , 0.00700185,\n",
       "       0.00521318, 0.01292645, 0.0157621 , 0.00524986, 0.01066574,\n",
       "       0.00703044, 0.00997289, 0.00808442, 0.00874649, 0.008034  ,\n",
       "       0.00853476, 0.01031682, 0.0097085 , 0.01032932, 0.01548842,\n",
       "       0.00494233, 0.00508242, 0.00328691, 0.00990897, 0.00936781,\n",
       "       0.00763849, 0.00470091, 0.00376851, 0.00310051, 0.0016931 ,\n",
       "       0.00522392, 0.00553312, 0.00210863, 0.00190067, 0.00041761,\n",
       "       0.01102914, 0.00157258, 0.00613602, 0.00421885, 0.00656317])"
      ]
     },
     "execution_count": 28,
     "metadata": {},
     "output_type": "execute_result"
    }
   ],
   "source": [
    "model_rf_new.feature_importances_"
   ]
  },
  {
   "cell_type": "code",
   "execution_count": 29,
   "metadata": {
    "colab": {
     "base_uri": "https://localhost:8080/"
    },
    "id": "N-kZzqhnLjx8",
    "outputId": "566a600d-bbb2-4205-a8c6-8022d85fda80"
   },
   "outputs": [
    {
     "data": {
      "text/plain": [
       "array(['unit_sales(in millions)', 'total_children',\n",
       "       'avg_cars_at home(approx)', 'num_children_at_home', 'SRP',\n",
       "       'net_weight', 'units_per_case', 'sales_to_cost_ratio',\n",
       "       'meat_to_total_ratio', 'recyclable_package', 'low_fat',\n",
       "       'coffee_bar', 'video_store', 'salad_bar', 'prepared_food',\n",
       "       'florist', 'media_type_labeled', 'food_family_Food',\n",
       "       'food_family_Non-Consumable', 'sales_country_Mexico',\n",
       "       'sales_country_USA', 'marital_status_S', 'gender_M',\n",
       "       'education_Graduate Degree', 'education_High School Degree',\n",
       "       'education_Partial College', 'education_Partial High School',\n",
       "       'member_card_Golden', 'member_card_Normal', 'member_card_Silver',\n",
       "       'occupation_Management', 'occupation_Manual',\n",
       "       'occupation_Professional', 'occupation_Skilled Manual',\n",
       "       'houseowner_Y', 'avg. yearly_income_$110K - $130K',\n",
       "       'avg. yearly_income_$130K - $150K', 'avg. yearly_income_$150K +',\n",
       "       'avg. yearly_income_$30K - $50K', 'avg. yearly_income_$50K - $70K',\n",
       "       'avg. yearly_income_$70K - $90K',\n",
       "       'avg. yearly_income_$90K - $110K',\n",
       "       'store_type_Gourmet Supermarket', 'store_type_Mid-Size Grocery',\n",
       "       'store_type_Small Grocery', 'store_type_Supermarket',\n",
       "       'store_state_CA', 'store_state_DF', 'store_state_Guerrero',\n",
       "       'store_state_Jalisco', 'store_state_OR', 'store_state_Veracruz',\n",
       "       'store_state_WA', 'store_state_Yucatan', 'store_state_Zacatecas'],\n",
       "      dtype=object)"
      ]
     },
     "execution_count": 29,
     "metadata": {},
     "output_type": "execute_result"
    }
   ],
   "source": [
    "X_new.columns.to_numpy()"
   ]
  },
  {
   "cell_type": "code",
   "execution_count": 30,
   "metadata": {
    "colab": {
     "base_uri": "https://localhost:8080/",
     "height": 1000
    },
    "id": "cvHE43OvMDiW",
    "outputId": "5bf295bc-ac38-45e5-e5e0-326f5dc664ea"
   },
   "outputs": [
    {
     "data": {
      "text/html": [
       "<div>\n",
       "<style scoped>\n",
       "    .dataframe tbody tr th:only-of-type {\n",
       "        vertical-align: middle;\n",
       "    }\n",
       "\n",
       "    .dataframe tbody tr th {\n",
       "        vertical-align: top;\n",
       "    }\n",
       "\n",
       "    .dataframe thead th {\n",
       "        text-align: right;\n",
       "    }\n",
       "</style>\n",
       "<table border=\"1\" class=\"dataframe\">\n",
       "  <thead>\n",
       "    <tr style=\"text-align: right;\">\n",
       "      <th></th>\n",
       "      <th>feature significance</th>\n",
       "    </tr>\n",
       "  </thead>\n",
       "  <tbody>\n",
       "    <tr>\n",
       "      <th>media_type_labeled</th>\n",
       "      <td>0.258646</td>\n",
       "    </tr>\n",
       "    <tr>\n",
       "      <th>SRP</th>\n",
       "      <td>0.069932</td>\n",
       "    </tr>\n",
       "    <tr>\n",
       "      <th>net_weight</th>\n",
       "      <td>0.068772</td>\n",
       "    </tr>\n",
       "    <tr>\n",
       "      <th>units_per_case</th>\n",
       "      <td>0.059543</td>\n",
       "    </tr>\n",
       "    <tr>\n",
       "      <th>sales_to_cost_ratio</th>\n",
       "      <td>0.055446</td>\n",
       "    </tr>\n",
       "    <tr>\n",
       "      <th>total_children</th>\n",
       "      <td>0.042192</td>\n",
       "    </tr>\n",
       "    <tr>\n",
       "      <th>avg_cars_at home(approx)</th>\n",
       "      <td>0.034914</td>\n",
       "    </tr>\n",
       "    <tr>\n",
       "      <th>meat_to_total_ratio</th>\n",
       "      <td>0.032851</td>\n",
       "    </tr>\n",
       "    <tr>\n",
       "      <th>num_children_at_home</th>\n",
       "      <td>0.025679</td>\n",
       "    </tr>\n",
       "    <tr>\n",
       "      <th>unit_sales(in millions)</th>\n",
       "      <td>0.024489</td>\n",
       "    </tr>\n",
       "    <tr>\n",
       "      <th>gender_M</th>\n",
       "      <td>0.015762</td>\n",
       "    </tr>\n",
       "    <tr>\n",
       "      <th>houseowner_Y</th>\n",
       "      <td>0.015488</td>\n",
       "    </tr>\n",
       "    <tr>\n",
       "      <th>recyclable_package</th>\n",
       "      <td>0.012974</td>\n",
       "    </tr>\n",
       "    <tr>\n",
       "      <th>marital_status_S</th>\n",
       "      <td>0.012926</td>\n",
       "    </tr>\n",
       "    <tr>\n",
       "      <th>low_fat</th>\n",
       "      <td>0.011777</td>\n",
       "    </tr>\n",
       "    <tr>\n",
       "      <th>store_state_OR</th>\n",
       "      <td>0.011029</td>\n",
       "    </tr>\n",
       "    <tr>\n",
       "      <th>education_High School Degree</th>\n",
       "      <td>0.010666</td>\n",
       "    </tr>\n",
       "    <tr>\n",
       "      <th>occupation_Skilled Manual</th>\n",
       "      <td>0.010329</td>\n",
       "    </tr>\n",
       "    <tr>\n",
       "      <th>occupation_Manual</th>\n",
       "      <td>0.010317</td>\n",
       "    </tr>\n",
       "    <tr>\n",
       "      <th>education_Partial High School</th>\n",
       "      <td>0.009973</td>\n",
       "    </tr>\n",
       "    <tr>\n",
       "      <th>avg. yearly_income_$30K - $50K</th>\n",
       "      <td>0.009909</td>\n",
       "    </tr>\n",
       "    <tr>\n",
       "      <th>food_family_Food</th>\n",
       "      <td>0.009784</td>\n",
       "    </tr>\n",
       "    <tr>\n",
       "      <th>occupation_Professional</th>\n",
       "      <td>0.009708</td>\n",
       "    </tr>\n",
       "    <tr>\n",
       "      <th>avg. yearly_income_$50K - $70K</th>\n",
       "      <td>0.009368</td>\n",
       "    </tr>\n",
       "    <tr>\n",
       "      <th>member_card_Normal</th>\n",
       "      <td>0.008746</td>\n",
       "    </tr>\n",
       "    <tr>\n",
       "      <th>occupation_Management</th>\n",
       "      <td>0.008535</td>\n",
       "    </tr>\n",
       "    <tr>\n",
       "      <th>food_family_Non-Consumable</th>\n",
       "      <td>0.008311</td>\n",
       "    </tr>\n",
       "    <tr>\n",
       "      <th>coffee_bar</th>\n",
       "      <td>0.008192</td>\n",
       "    </tr>\n",
       "    <tr>\n",
       "      <th>member_card_Golden</th>\n",
       "      <td>0.008084</td>\n",
       "    </tr>\n",
       "    <tr>\n",
       "      <th>member_card_Silver</th>\n",
       "      <td>0.008034</td>\n",
       "    </tr>\n",
       "    <tr>\n",
       "      <th>video_store</th>\n",
       "      <td>0.007726</td>\n",
       "    </tr>\n",
       "    <tr>\n",
       "      <th>avg. yearly_income_$70K - $90K</th>\n",
       "      <td>0.007638</td>\n",
       "    </tr>\n",
       "    <tr>\n",
       "      <th>education_Partial College</th>\n",
       "      <td>0.007030</td>\n",
       "    </tr>\n",
       "    <tr>\n",
       "      <th>sales_country_Mexico</th>\n",
       "      <td>0.007002</td>\n",
       "    </tr>\n",
       "    <tr>\n",
       "      <th>florist</th>\n",
       "      <td>0.006593</td>\n",
       "    </tr>\n",
       "    <tr>\n",
       "      <th>store_state_Zacatecas</th>\n",
       "      <td>0.006563</td>\n",
       "    </tr>\n",
       "    <tr>\n",
       "      <th>store_state_WA</th>\n",
       "      <td>0.006136</td>\n",
       "    </tr>\n",
       "    <tr>\n",
       "      <th>store_state_CA</th>\n",
       "      <td>0.005533</td>\n",
       "    </tr>\n",
       "    <tr>\n",
       "      <th>prepared_food</th>\n",
       "      <td>0.005511</td>\n",
       "    </tr>\n",
       "    <tr>\n",
       "      <th>salad_bar</th>\n",
       "      <td>0.005409</td>\n",
       "    </tr>\n",
       "    <tr>\n",
       "      <th>education_Graduate Degree</th>\n",
       "      <td>0.005250</td>\n",
       "    </tr>\n",
       "    <tr>\n",
       "      <th>store_type_Supermarket</th>\n",
       "      <td>0.005224</td>\n",
       "    </tr>\n",
       "    <tr>\n",
       "      <th>sales_country_USA</th>\n",
       "      <td>0.005213</td>\n",
       "    </tr>\n",
       "    <tr>\n",
       "      <th>avg. yearly_income_$130K - $150K</th>\n",
       "      <td>0.005082</td>\n",
       "    </tr>\n",
       "    <tr>\n",
       "      <th>avg. yearly_income_$110K - $130K</th>\n",
       "      <td>0.004942</td>\n",
       "    </tr>\n",
       "    <tr>\n",
       "      <th>avg. yearly_income_$90K - $110K</th>\n",
       "      <td>0.004701</td>\n",
       "    </tr>\n",
       "    <tr>\n",
       "      <th>store_state_Yucatan</th>\n",
       "      <td>0.004219</td>\n",
       "    </tr>\n",
       "    <tr>\n",
       "      <th>store_type_Gourmet Supermarket</th>\n",
       "      <td>0.003769</td>\n",
       "    </tr>\n",
       "    <tr>\n",
       "      <th>avg. yearly_income_$150K +</th>\n",
       "      <td>0.003287</td>\n",
       "    </tr>\n",
       "    <tr>\n",
       "      <th>store_type_Mid-Size Grocery</th>\n",
       "      <td>0.003101</td>\n",
       "    </tr>\n",
       "    <tr>\n",
       "      <th>store_state_DF</th>\n",
       "      <td>0.002109</td>\n",
       "    </tr>\n",
       "    <tr>\n",
       "      <th>store_state_Guerrero</th>\n",
       "      <td>0.001901</td>\n",
       "    </tr>\n",
       "    <tr>\n",
       "      <th>store_type_Small Grocery</th>\n",
       "      <td>0.001693</td>\n",
       "    </tr>\n",
       "    <tr>\n",
       "      <th>store_state_Veracruz</th>\n",
       "      <td>0.001573</td>\n",
       "    </tr>\n",
       "    <tr>\n",
       "      <th>store_state_Jalisco</th>\n",
       "      <td>0.000418</td>\n",
       "    </tr>\n",
       "  </tbody>\n",
       "</table>\n",
       "</div>"
      ],
      "text/plain": [
       "                                  feature significance\n",
       "media_type_labeled                            0.258646\n",
       "SRP                                           0.069932\n",
       "net_weight                                    0.068772\n",
       "units_per_case                                0.059543\n",
       "sales_to_cost_ratio                           0.055446\n",
       "total_children                                0.042192\n",
       "avg_cars_at home(approx)                      0.034914\n",
       "meat_to_total_ratio                           0.032851\n",
       "num_children_at_home                          0.025679\n",
       "unit_sales(in millions)                       0.024489\n",
       "gender_M                                      0.015762\n",
       "houseowner_Y                                  0.015488\n",
       "recyclable_package                            0.012974\n",
       "marital_status_S                              0.012926\n",
       "low_fat                                       0.011777\n",
       "store_state_OR                                0.011029\n",
       "education_High School Degree                  0.010666\n",
       "occupation_Skilled Manual                     0.010329\n",
       "occupation_Manual                             0.010317\n",
       "education_Partial High School                 0.009973\n",
       "avg. yearly_income_$30K - $50K                0.009909\n",
       "food_family_Food                              0.009784\n",
       "occupation_Professional                       0.009708\n",
       "avg. yearly_income_$50K - $70K                0.009368\n",
       "member_card_Normal                            0.008746\n",
       "occupation_Management                         0.008535\n",
       "food_family_Non-Consumable                    0.008311\n",
       "coffee_bar                                    0.008192\n",
       "member_card_Golden                            0.008084\n",
       "member_card_Silver                            0.008034\n",
       "video_store                                   0.007726\n",
       "avg. yearly_income_$70K - $90K                0.007638\n",
       "education_Partial College                     0.007030\n",
       "sales_country_Mexico                          0.007002\n",
       "florist                                       0.006593\n",
       "store_state_Zacatecas                         0.006563\n",
       "store_state_WA                                0.006136\n",
       "store_state_CA                                0.005533\n",
       "prepared_food                                 0.005511\n",
       "salad_bar                                     0.005409\n",
       "education_Graduate Degree                     0.005250\n",
       "store_type_Supermarket                        0.005224\n",
       "sales_country_USA                             0.005213\n",
       "avg. yearly_income_$130K - $150K              0.005082\n",
       "avg. yearly_income_$110K - $130K              0.004942\n",
       "avg. yearly_income_$90K - $110K               0.004701\n",
       "store_state_Yucatan                           0.004219\n",
       "store_type_Gourmet Supermarket                0.003769\n",
       "avg. yearly_income_$150K +                    0.003287\n",
       "store_type_Mid-Size Grocery                   0.003101\n",
       "store_state_DF                                0.002109\n",
       "store_state_Guerrero                          0.001901\n",
       "store_type_Small Grocery                      0.001693\n",
       "store_state_Veracruz                          0.001573\n",
       "store_state_Jalisco                           0.000418"
      ]
     },
     "execution_count": 30,
     "metadata": {},
     "output_type": "execute_result"
    }
   ],
   "source": [
    "feature_significances = pd.DataFrame(data = model_rf_new.feature_importances_, index = X_new.columns.to_numpy(), columns = ['feature significance'])\n",
    "feature_significances.sort_values('feature significance', ascending = False)"
   ]
  },
  {
   "cell_type": "code",
   "execution_count": 31,
   "metadata": {
    "colab": {
     "base_uri": "https://localhost:8080/"
    },
    "id": "MdKtmQhfD8-2",
    "outputId": "c319bdc5-9861-4ce2-9f96-ce1bb1a183ef"
   },
   "outputs": [
    {
     "data": {
      "text/plain": [
       "18.213818022170365"
      ]
     },
     "execution_count": 31,
     "metadata": {},
     "output_type": "execute_result"
    }
   ],
   "source": [
    "from sklearn.metrics import mean_squared_error\n",
    "forest_all_mse = mean_squared_error(y_test, y_test_pred_new, squared=False)\n",
    "forest_all_mse"
   ]
  },
  {
   "cell_type": "markdown",
   "metadata": {
    "id": "Yw5C96T-PstP"
   },
   "source": [
    "Therefore, we will select variables with a feature importance of greater than or equal to 0.015 as our predictors."
   ]
  },
  {
   "cell_type": "code",
   "execution_count": 32,
   "metadata": {
    "id": "xAbWKnY0QQZ4"
   },
   "outputs": [],
   "source": [
    "X_final = df[['media_type_labeled', 'SRP', 'net_weight', 'units_per_case', 'sales_to_cost_ratio', 'total_children', 'avg_cars_at home(approx)', 'meat_to_total_ratio',\n",
    "              'num_children_at_home', 'unit_sales(in millions)', 'gender_M', 'houseowner_Y']]"
   ]
  },
  {
   "cell_type": "markdown",
   "metadata": {
    "id": "4HOZ5MTIP3Lz"
   },
   "source": [
    "# Model Development"
   ]
  },
  {
   "cell_type": "code",
   "execution_count": 33,
   "metadata": {
    "id": "1GRLE-HnX2Dt"
   },
   "outputs": [],
   "source": [
    "X_train_final, X_test_final, y_train, y_test = train_test_split(X_final, y, test_size = 0.3, random_state = 0)"
   ]
  },
  {
   "cell_type": "code",
   "execution_count": 34,
   "metadata": {
    "id": "QMi3lO79w6_N"
   },
   "outputs": [],
   "source": [
    "X_test_final, X_val_final, y_test, y_val = train_test_split(X_test_final, y_test, test_size = 0.5, random_state = 0)"
   ]
  },
  {
   "cell_type": "markdown",
   "metadata": {
    "id": "ZxQD09MsXob0"
   },
   "source": [
    "## Baseline Model"
   ]
  },
  {
   "cell_type": "code",
   "execution_count": 35,
   "metadata": {
    "id": "YYi8toNEXnfm"
   },
   "outputs": [],
   "source": [
    "from sklearn.dummy import DummyRegressor\n",
    "dr = DummyRegressor()\n",
    "base_model = dr.fit(X_train_final, y_train)\n",
    "y_test_pred_base = base_model.predict(X_test_final)"
   ]
  },
  {
   "cell_type": "code",
   "execution_count": 36,
   "metadata": {
    "colab": {
     "base_uri": "https://localhost:8080/"
    },
    "id": "Z_q2PMSXX_mL",
    "outputId": "3abf9ddc-c507-468a-9aa7-42f0f11dc788"
   },
   "outputs": [
    {
     "data": {
      "text/plain": [
       "28.78270510107593"
      ]
     },
     "execution_count": 36,
     "metadata": {},
     "output_type": "execute_result"
    }
   ],
   "source": [
    "base_mse = mean_squared_error(y_test, y_test_pred_base, squared=False)\n",
    "base_mse"
   ]
  },
  {
   "cell_type": "markdown",
   "metadata": {
    "id": "s5P51nYJoNEn"
   },
   "source": [
    "## Decision Tree"
   ]
  },
  {
   "cell_type": "code",
   "execution_count": 37,
   "metadata": {
    "id": "Z79ZyWmdoPLg"
   },
   "outputs": [],
   "source": [
    "from sklearn.tree import DecisionTreeRegressor\n",
    "dt = DecisionTreeRegressor(random_state = 0, max_features = 10, max_depth = 5)\n",
    "model_dt_final = dt.fit(X_train_final, y_train)\n",
    "y_test_pred_final = model_dt_final.predict(X_test_final)"
   ]
  },
  {
   "cell_type": "code",
   "execution_count": 38,
   "metadata": {
    "colab": {
     "base_uri": "https://localhost:8080/"
    },
    "id": "ZqCB361Eojbg",
    "outputId": "3fd3d552-f6d9-4d3f-f712-cb15d9f05b79"
   },
   "outputs": [
    {
     "data": {
      "text/plain": [
       "26.6621484277199"
      ]
     },
     "execution_count": 38,
     "metadata": {},
     "output_type": "execute_result"
    }
   ],
   "source": [
    "decisiontree_pred_mse = mean_squared_error(y_test, y_test_pred_final, squared=False)\n",
    "decisiontree_pred_mse"
   ]
  },
  {
   "cell_type": "markdown",
   "metadata": {
    "id": "xnM47GLHP8A7"
   },
   "source": [
    "## Random Forest"
   ]
  },
  {
   "cell_type": "code",
   "execution_count": 39,
   "metadata": {
    "id": "3d17lBAuFQtt"
   },
   "outputs": [],
   "source": [
    "randomforest = RandomForestRegressor(random_state = 0)\n",
    "model_rf_final = randomforest.fit(X_train_final, y_train)\n",
    "y_test_pred_final = model_rf_final.predict(X_test_final)"
   ]
  },
  {
   "cell_type": "code",
   "execution_count": 40,
   "metadata": {
    "colab": {
     "base_uri": "https://localhost:8080/"
    },
    "id": "2SaJIIPRFg9r",
    "outputId": "4b5fd13b-a27d-4d91-f203-7768265d6253"
   },
   "outputs": [
    {
     "data": {
      "text/plain": [
       "18.093379115761447"
      ]
     },
     "execution_count": 40,
     "metadata": {},
     "output_type": "execute_result"
    }
   ],
   "source": [
    "randomforest_pred_mse = mean_squared_error(y_test, y_test_pred_final, squared=False)\n",
    "randomforest_pred_mse"
   ]
  },
  {
   "cell_type": "markdown",
   "metadata": {
    "id": "0L0hpiXWhr1k"
   },
   "source": [
    "## Extra Tree"
   ]
  },
  {
   "cell_type": "code",
   "execution_count": 41,
   "metadata": {
    "id": "5w7tkO3bhuJq"
   },
   "outputs": [],
   "source": [
    "from sklearn.ensemble import ExtraTreesRegressor\n",
    "extratree = ExtraTreesRegressor(random_state = 0)\n",
    "model_et_final = extratree.fit(X_train_final, y_train)\n",
    "y_test_pred_final = model_et_final.predict(X_test_final)"
   ]
  },
  {
   "cell_type": "code",
   "execution_count": 42,
   "metadata": {
    "colab": {
     "base_uri": "https://localhost:8080/"
    },
    "id": "d1YV9TCNigvi",
    "outputId": "73bfc760-f529-439d-b03b-c51addaa79be"
   },
   "outputs": [
    {
     "data": {
      "text/plain": [
       "15.502542539014698"
      ]
     },
     "execution_count": 42,
     "metadata": {},
     "output_type": "execute_result"
    }
   ],
   "source": [
    "extratree_pred_mse = mean_squared_error(y_test, y_test_pred_final, squared=False)\n",
    "extratree_pred_mse"
   ]
  },
  {
   "cell_type": "markdown",
   "metadata": {
    "id": "CzLf6VTzj16M"
   },
   "source": [
    "## AdaBoost"
   ]
  },
  {
   "cell_type": "code",
   "execution_count": 43,
   "metadata": {
    "colab": {
     "base_uri": "https://localhost:8080/"
    },
    "id": "54Mws9_mj4Fo",
    "outputId": "dd70da82-6b02-4be3-a7f2-11d31744d511"
   },
   "outputs": [],
   "source": [
    "from sklearn.ensemble import AdaBoostRegressor\n",
    "adaboost = AdaBoostRegressor(base_estimator=DecisionTreeRegressor(), random_state = 0, n_estimators = 1000)\n",
    "model_ab_final = adaboost.fit(X_train_final, y_train)\n",
    "y_test_pred_final = model_ab_final.predict(X_test_final)"
   ]
  },
  {
   "cell_type": "code",
   "execution_count": 44,
   "metadata": {
    "colab": {
     "base_uri": "https://localhost:8080/"
    },
    "id": "uW4VtlOYkGHr",
    "outputId": "4b457bc4-9dc4-44a3-a045-8bcbecb0eb9d"
   },
   "outputs": [
    {
     "data": {
      "text/plain": [
       "20.645442307874493"
      ]
     },
     "execution_count": 44,
     "metadata": {},
     "output_type": "execute_result"
    }
   ],
   "source": [
    "adaboost_pred_mse = mean_squared_error(y_test, y_test_pred_final, squared=False)\n",
    "adaboost_pred_mse"
   ]
  },
  {
   "cell_type": "markdown",
   "metadata": {
    "id": "_iZaE4KIlTpc"
   },
   "source": [
    "## Gradient Boosting"
   ]
  },
  {
   "cell_type": "code",
   "execution_count": 45,
   "metadata": {
    "id": "9aF4TjOUlWlg"
   },
   "outputs": [],
   "source": [
    "from sklearn.ensemble import GradientBoostingRegressor\n",
    "gb = GradientBoostingRegressor(random_state = 0)\n",
    "model_gb_final = gb.fit(X_train_final, y_train)\n",
    "y_test_pred_final = model_gb_final.predict(X_test_final)"
   ]
  },
  {
   "cell_type": "code",
   "execution_count": 46,
   "metadata": {
    "colab": {
     "base_uri": "https://localhost:8080/"
    },
    "id": "ogxS0fkVmBS-",
    "outputId": "d760d922-91e7-4e0e-ba5a-128817beb05b"
   },
   "outputs": [
    {
     "data": {
      "text/plain": [
       "24.65856043263424"
      ]
     },
     "execution_count": 46,
     "metadata": {},
     "output_type": "execute_result"
    }
   ],
   "source": [
    "gb_pred_mse = mean_squared_error(y_test, y_test_pred_final, squared=False)\n",
    "gb_pred_mse"
   ]
  },
  {
   "cell_type": "markdown",
   "metadata": {
    "id": "rP4PH_O-zmIl"
   },
   "source": [
    "# LightGBM"
   ]
  },
  {
   "cell_type": "code",
   "execution_count": 48,
   "metadata": {},
   "outputs": [
    {
     "name": "stdout",
     "output_type": "stream",
     "text": [
      "Requirement already satisfied: lightgbm in /Users/mikemurphy/opt/anaconda3/lib/python3.8/site-packages (3.3.5)\n",
      "Requirement already satisfied: scikit-learn!=0.22.0 in /Users/mikemurphy/opt/anaconda3/lib/python3.8/site-packages (from lightgbm) (1.0.2)\n",
      "Requirement already satisfied: numpy in /Users/mikemurphy/opt/anaconda3/lib/python3.8/site-packages (from lightgbm) (1.20.1)\n",
      "Requirement already satisfied: scipy in /Users/mikemurphy/opt/anaconda3/lib/python3.8/site-packages (from lightgbm) (1.10.0)\n",
      "Requirement already satisfied: wheel in /Users/mikemurphy/opt/anaconda3/lib/python3.8/site-packages (from lightgbm) (0.36.2)\n",
      "Requirement already satisfied: joblib>=0.11 in /Users/mikemurphy/opt/anaconda3/lib/python3.8/site-packages (from scikit-learn!=0.22.0->lightgbm) (1.0.1)\n",
      "Requirement already satisfied: threadpoolctl>=2.0.0 in /Users/mikemurphy/opt/anaconda3/lib/python3.8/site-packages (from scikit-learn!=0.22.0->lightgbm) (2.1.0)\n",
      "Note: you may need to restart the kernel to use updated packages.\n"
     ]
    }
   ],
   "source": [
    "pip install lightgbm"
   ]
  },
  {
   "cell_type": "code",
   "execution_count": 52,
   "metadata": {},
   "outputs": [
    {
     "name": "stdout",
     "output_type": "stream",
     "text": [
      "\u001b[31mERROR: Could not find a version that satisfies the requirement libomp.dylib\u001b[0m\n",
      "\u001b[31mERROR: No matching distribution found for libomp.dylib\u001b[0m\n",
      "Note: you may need to restart the kernel to use updated packages.\n"
     ]
    }
   ],
   "source": [
    "pip install libomp.dylib"
   ]
  },
  {
   "cell_type": "code",
   "execution_count": 49,
   "metadata": {
    "id": "hhw7nEF2zqtN"
   },
   "outputs": [
    {
     "ename": "OSError",
     "evalue": "dlopen(/Users/mikemurphy/opt/anaconda3/lib/python3.8/site-packages/lightgbm/lib_lightgbm.so, 0x0006): Library not loaded: /usr/local/opt/libomp/lib/libomp.dylib\n  Referenced from: /Users/mikemurphy/opt/anaconda3/lib/python3.8/site-packages/lightgbm/lib_lightgbm.so\n  Reason: tried: '/usr/local/opt/libomp/lib/libomp.dylib' (no such file), '/usr/local/lib/libomp.dylib' (no such file), '/usr/lib/libomp.dylib' (no such file)",
     "output_type": "error",
     "traceback": [
      "\u001b[0;31m---------------------------------------------------------------------------\u001b[0m",
      "\u001b[0;31mOSError\u001b[0m                                   Traceback (most recent call last)",
      "\u001b[0;32m<ipython-input-49-af8470ab8ca6>\u001b[0m in \u001b[0;36m<module>\u001b[0;34m\u001b[0m\n\u001b[0;32m----> 1\u001b[0;31m \u001b[0;32mimport\u001b[0m \u001b[0mlightgbm\u001b[0m \u001b[0;32mas\u001b[0m \u001b[0mltb\u001b[0m\u001b[0;34m\u001b[0m\u001b[0;34m\u001b[0m\u001b[0m\n\u001b[0m\u001b[1;32m      2\u001b[0m \u001b[0mlgbm\u001b[0m \u001b[0;34m=\u001b[0m \u001b[0mltb\u001b[0m\u001b[0;34m.\u001b[0m\u001b[0mLGBMRegressor\u001b[0m\u001b[0;34m(\u001b[0m\u001b[0mrandom_state\u001b[0m \u001b[0;34m=\u001b[0m \u001b[0;36m0\u001b[0m\u001b[0;34m)\u001b[0m\u001b[0;34m\u001b[0m\u001b[0;34m\u001b[0m\u001b[0m\n\u001b[1;32m      3\u001b[0m \u001b[0mmodel_lgbm_final\u001b[0m \u001b[0;34m=\u001b[0m \u001b[0mlgbm\u001b[0m\u001b[0;34m.\u001b[0m\u001b[0mfit\u001b[0m\u001b[0;34m(\u001b[0m\u001b[0mX_train_final\u001b[0m\u001b[0;34m,\u001b[0m\u001b[0my_train\u001b[0m\u001b[0;34m)\u001b[0m\u001b[0;34m\u001b[0m\u001b[0;34m\u001b[0m\u001b[0m\n\u001b[1;32m      4\u001b[0m \u001b[0my_test_pred\u001b[0m \u001b[0;34m=\u001b[0m \u001b[0mmodel_lgbm_final\u001b[0m\u001b[0;34m.\u001b[0m\u001b[0mpredict\u001b[0m\u001b[0;34m(\u001b[0m\u001b[0mX_test_final\u001b[0m\u001b[0;34m)\u001b[0m\u001b[0;34m\u001b[0m\u001b[0;34m\u001b[0m\u001b[0m\n",
      "\u001b[0;32m~/opt/anaconda3/lib/python3.8/site-packages/lightgbm/__init__.py\u001b[0m in \u001b[0;36m<module>\u001b[0;34m\u001b[0m\n\u001b[1;32m      6\u001b[0m \u001b[0;32mfrom\u001b[0m \u001b[0mpathlib\u001b[0m \u001b[0;32mimport\u001b[0m \u001b[0mPath\u001b[0m\u001b[0;34m\u001b[0m\u001b[0;34m\u001b[0m\u001b[0m\n\u001b[1;32m      7\u001b[0m \u001b[0;34m\u001b[0m\u001b[0m\n\u001b[0;32m----> 8\u001b[0;31m \u001b[0;32mfrom\u001b[0m \u001b[0;34m.\u001b[0m\u001b[0mbasic\u001b[0m \u001b[0;32mimport\u001b[0m \u001b[0mBooster\u001b[0m\u001b[0;34m,\u001b[0m \u001b[0mDataset\u001b[0m\u001b[0;34m,\u001b[0m \u001b[0mSequence\u001b[0m\u001b[0;34m,\u001b[0m \u001b[0mregister_logger\u001b[0m\u001b[0;34m\u001b[0m\u001b[0;34m\u001b[0m\u001b[0m\n\u001b[0m\u001b[1;32m      9\u001b[0m \u001b[0;32mfrom\u001b[0m \u001b[0;34m.\u001b[0m\u001b[0mcallback\u001b[0m \u001b[0;32mimport\u001b[0m \u001b[0mearly_stopping\u001b[0m\u001b[0;34m,\u001b[0m \u001b[0mlog_evaluation\u001b[0m\u001b[0;34m,\u001b[0m \u001b[0mprint_evaluation\u001b[0m\u001b[0;34m,\u001b[0m \u001b[0mrecord_evaluation\u001b[0m\u001b[0;34m,\u001b[0m \u001b[0mreset_parameter\u001b[0m\u001b[0;34m\u001b[0m\u001b[0;34m\u001b[0m\u001b[0m\n\u001b[1;32m     10\u001b[0m \u001b[0;32mfrom\u001b[0m \u001b[0;34m.\u001b[0m\u001b[0mengine\u001b[0m \u001b[0;32mimport\u001b[0m \u001b[0mCVBooster\u001b[0m\u001b[0;34m,\u001b[0m \u001b[0mcv\u001b[0m\u001b[0;34m,\u001b[0m \u001b[0mtrain\u001b[0m\u001b[0;34m\u001b[0m\u001b[0;34m\u001b[0m\u001b[0m\n",
      "\u001b[0;32m~/opt/anaconda3/lib/python3.8/site-packages/lightgbm/basic.py\u001b[0m in \u001b[0;36m<module>\u001b[0;34m\u001b[0m\n\u001b[1;32m    108\u001b[0m \u001b[0;34m\u001b[0m\u001b[0m\n\u001b[1;32m    109\u001b[0m \u001b[0;34m\u001b[0m\u001b[0m\n\u001b[0;32m--> 110\u001b[0;31m \u001b[0m_LIB\u001b[0m \u001b[0;34m=\u001b[0m \u001b[0m_load_lib\u001b[0m\u001b[0;34m(\u001b[0m\u001b[0;34m)\u001b[0m\u001b[0;34m\u001b[0m\u001b[0;34m\u001b[0m\u001b[0m\n\u001b[0m\u001b[1;32m    111\u001b[0m \u001b[0;34m\u001b[0m\u001b[0m\n\u001b[1;32m    112\u001b[0m \u001b[0;34m\u001b[0m\u001b[0m\n",
      "\u001b[0;32m~/opt/anaconda3/lib/python3.8/site-packages/lightgbm/basic.py\u001b[0m in \u001b[0;36m_load_lib\u001b[0;34m()\u001b[0m\n\u001b[1;32m     99\u001b[0m     \u001b[0;32mif\u001b[0m \u001b[0mlen\u001b[0m\u001b[0;34m(\u001b[0m\u001b[0mlib_path\u001b[0m\u001b[0;34m)\u001b[0m \u001b[0;34m==\u001b[0m \u001b[0;36m0\u001b[0m\u001b[0;34m:\u001b[0m\u001b[0;34m\u001b[0m\u001b[0;34m\u001b[0m\u001b[0m\n\u001b[1;32m    100\u001b[0m         \u001b[0;32mreturn\u001b[0m \u001b[0;32mNone\u001b[0m\u001b[0;34m\u001b[0m\u001b[0;34m\u001b[0m\u001b[0m\n\u001b[0;32m--> 101\u001b[0;31m     \u001b[0mlib\u001b[0m \u001b[0;34m=\u001b[0m \u001b[0mctypes\u001b[0m\u001b[0;34m.\u001b[0m\u001b[0mcdll\u001b[0m\u001b[0;34m.\u001b[0m\u001b[0mLoadLibrary\u001b[0m\u001b[0;34m(\u001b[0m\u001b[0mlib_path\u001b[0m\u001b[0;34m[\u001b[0m\u001b[0;36m0\u001b[0m\u001b[0;34m]\u001b[0m\u001b[0;34m)\u001b[0m\u001b[0;34m\u001b[0m\u001b[0;34m\u001b[0m\u001b[0m\n\u001b[0m\u001b[1;32m    102\u001b[0m     \u001b[0mlib\u001b[0m\u001b[0;34m.\u001b[0m\u001b[0mLGBM_GetLastError\u001b[0m\u001b[0;34m.\u001b[0m\u001b[0mrestype\u001b[0m \u001b[0;34m=\u001b[0m \u001b[0mctypes\u001b[0m\u001b[0;34m.\u001b[0m\u001b[0mc_char_p\u001b[0m\u001b[0;34m\u001b[0m\u001b[0;34m\u001b[0m\u001b[0m\n\u001b[1;32m    103\u001b[0m     \u001b[0mcallback\u001b[0m \u001b[0;34m=\u001b[0m \u001b[0mctypes\u001b[0m\u001b[0;34m.\u001b[0m\u001b[0mCFUNCTYPE\u001b[0m\u001b[0;34m(\u001b[0m\u001b[0;32mNone\u001b[0m\u001b[0;34m,\u001b[0m \u001b[0mctypes\u001b[0m\u001b[0;34m.\u001b[0m\u001b[0mc_char_p\u001b[0m\u001b[0;34m)\u001b[0m\u001b[0;34m\u001b[0m\u001b[0;34m\u001b[0m\u001b[0m\n",
      "\u001b[0;32m~/opt/anaconda3/lib/python3.8/ctypes/__init__.py\u001b[0m in \u001b[0;36mLoadLibrary\u001b[0;34m(self, name)\u001b[0m\n\u001b[1;32m    457\u001b[0m \u001b[0;34m\u001b[0m\u001b[0m\n\u001b[1;32m    458\u001b[0m     \u001b[0;32mdef\u001b[0m \u001b[0mLoadLibrary\u001b[0m\u001b[0;34m(\u001b[0m\u001b[0mself\u001b[0m\u001b[0;34m,\u001b[0m \u001b[0mname\u001b[0m\u001b[0;34m)\u001b[0m\u001b[0;34m:\u001b[0m\u001b[0;34m\u001b[0m\u001b[0;34m\u001b[0m\u001b[0m\n\u001b[0;32m--> 459\u001b[0;31m         \u001b[0;32mreturn\u001b[0m \u001b[0mself\u001b[0m\u001b[0;34m.\u001b[0m\u001b[0m_dlltype\u001b[0m\u001b[0;34m(\u001b[0m\u001b[0mname\u001b[0m\u001b[0;34m)\u001b[0m\u001b[0;34m\u001b[0m\u001b[0;34m\u001b[0m\u001b[0m\n\u001b[0m\u001b[1;32m    460\u001b[0m \u001b[0;34m\u001b[0m\u001b[0m\n\u001b[1;32m    461\u001b[0m \u001b[0mcdll\u001b[0m \u001b[0;34m=\u001b[0m \u001b[0mLibraryLoader\u001b[0m\u001b[0;34m(\u001b[0m\u001b[0mCDLL\u001b[0m\u001b[0;34m)\u001b[0m\u001b[0;34m\u001b[0m\u001b[0;34m\u001b[0m\u001b[0m\n",
      "\u001b[0;32m~/opt/anaconda3/lib/python3.8/ctypes/__init__.py\u001b[0m in \u001b[0;36m__init__\u001b[0;34m(self, name, mode, handle, use_errno, use_last_error, winmode)\u001b[0m\n\u001b[1;32m    379\u001b[0m \u001b[0;34m\u001b[0m\u001b[0m\n\u001b[1;32m    380\u001b[0m         \u001b[0;32mif\u001b[0m \u001b[0mhandle\u001b[0m \u001b[0;32mis\u001b[0m \u001b[0;32mNone\u001b[0m\u001b[0;34m:\u001b[0m\u001b[0;34m\u001b[0m\u001b[0;34m\u001b[0m\u001b[0m\n\u001b[0;32m--> 381\u001b[0;31m             \u001b[0mself\u001b[0m\u001b[0;34m.\u001b[0m\u001b[0m_handle\u001b[0m \u001b[0;34m=\u001b[0m \u001b[0m_dlopen\u001b[0m\u001b[0;34m(\u001b[0m\u001b[0mself\u001b[0m\u001b[0;34m.\u001b[0m\u001b[0m_name\u001b[0m\u001b[0;34m,\u001b[0m \u001b[0mmode\u001b[0m\u001b[0;34m)\u001b[0m\u001b[0;34m\u001b[0m\u001b[0;34m\u001b[0m\u001b[0m\n\u001b[0m\u001b[1;32m    382\u001b[0m         \u001b[0;32melse\u001b[0m\u001b[0;34m:\u001b[0m\u001b[0;34m\u001b[0m\u001b[0;34m\u001b[0m\u001b[0m\n\u001b[1;32m    383\u001b[0m             \u001b[0mself\u001b[0m\u001b[0;34m.\u001b[0m\u001b[0m_handle\u001b[0m \u001b[0;34m=\u001b[0m \u001b[0mhandle\u001b[0m\u001b[0;34m\u001b[0m\u001b[0;34m\u001b[0m\u001b[0m\n",
      "\u001b[0;31mOSError\u001b[0m: dlopen(/Users/mikemurphy/opt/anaconda3/lib/python3.8/site-packages/lightgbm/lib_lightgbm.so, 0x0006): Library not loaded: /usr/local/opt/libomp/lib/libomp.dylib\n  Referenced from: /Users/mikemurphy/opt/anaconda3/lib/python3.8/site-packages/lightgbm/lib_lightgbm.so\n  Reason: tried: '/usr/local/opt/libomp/lib/libomp.dylib' (no such file), '/usr/local/lib/libomp.dylib' (no such file), '/usr/lib/libomp.dylib' (no such file)"
     ]
    }
   ],
   "source": [
    "import lightgbm as ltb\n",
    "lgbm = ltb.LGBMRegressor(random_state = 0)\n",
    "model_lgbm_final = lgbm.fit(X_train_final,y_train)\n",
    "y_test_pred = model_lgbm_final.predict(X_test_final)"
   ]
  },
  {
   "cell_type": "code",
   "execution_count": 53,
   "metadata": {
    "colab": {
     "base_uri": "https://localhost:8080/"
    },
    "id": "S8CvEJ-yztdA",
    "outputId": "08342f11-e409-4e3c-a7ee-2fd3e9d3af16"
   },
   "outputs": [
    {
     "data": {
      "text/plain": [
       "19.54910989606652"
      ]
     },
     "execution_count": 53,
     "metadata": {},
     "output_type": "execute_result"
    }
   ],
   "source": [
    "lgbm_mse = mean_squared_error(y_test, y_test_pred, squared=False)\n",
    "lgbm_mse"
   ]
  },
  {
   "cell_type": "markdown",
   "metadata": {
    "id": "MLhxljeTzv56"
   },
   "source": [
    "# XGBoost"
   ]
  },
  {
   "cell_type": "code",
   "execution_count": 50,
   "metadata": {
    "id": "zbCMVrhSzzib"
   },
   "outputs": [],
   "source": [
    "import xgboost as xgb\n",
    "xgbr = xgb.XGBRegressor(random_state = 0)\n",
    "model_xgbr_final = xgbr.fit(X_train_final,y_train)\n",
    "y_test_pred = model_xgbr_final.predict(X_test_final)"
   ]
  },
  {
   "cell_type": "code",
   "execution_count": 51,
   "metadata": {
    "colab": {
     "base_uri": "https://localhost:8080/"
    },
    "id": "C4dPSUlc0mGL",
    "outputId": "8092c604-b6ed-465e-d707-56ce52aaa9f3"
   },
   "outputs": [
    {
     "data": {
      "text/plain": [
       "19.54910989606652"
      ]
     },
     "execution_count": 51,
     "metadata": {},
     "output_type": "execute_result"
    }
   ],
   "source": [
    "xgbr_mse = mean_squared_error(y_test, y_test_pred, squared=False)\n",
    "xgbr_mse"
   ]
  },
  {
   "cell_type": "markdown",
   "metadata": {
    "id": "l5Yidz1eYe4z"
   },
   "source": [
    "## Artificial Neural Network"
   ]
  },
  {
   "cell_type": "code",
   "execution_count": 54,
   "metadata": {
    "id": "Beq71mkRH2yX"
   },
   "outputs": [],
   "source": [
    "from sklearn.neural_network import MLPRegressor\n",
    "ann = MLPRegressor(hidden_layer_sizes = (20), max_iter = 2000, random_state = 0)\n",
    "model_ann_final = ann.fit(X_train_final, y_train)\n",
    "y_test_pred_final = model_ann_final.predict(X_test_final)"
   ]
  },
  {
   "cell_type": "code",
   "execution_count": 55,
   "metadata": {
    "colab": {
     "base_uri": "https://localhost:8080/"
    },
    "id": "RMuCC0FHe07x",
    "outputId": "f549ddeb-eab2-4c98-cc31-cdd0ee1a34ea"
   },
   "outputs": [
    {
     "data": {
      "text/plain": [
       "28.333788661188553"
      ]
     },
     "execution_count": 55,
     "metadata": {},
     "output_type": "execute_result"
    }
   ],
   "source": [
    "ann_pred_mse = mean_squared_error(y_test, y_test_pred_final, squared=False)\n",
    "ann_pred_mse"
   ]
  },
  {
   "cell_type": "markdown",
   "metadata": {
    "id": "wr222AIF1SuN"
   },
   "source": [
    "# Model Selection and Cross Validation"
   ]
  },
  {
   "cell_type": "markdown",
   "metadata": {
    "id": "j2DQJEGS1WRF"
   },
   "source": [
    "According to the results, the Extra Tree model performs the best since it has the lowest MSE. Therefore, we will chose it as our final model and do cross-validation.\n",
    "\n"
   ]
  },
  {
   "cell_type": "code",
   "execution_count": 56,
   "metadata": {
    "id": "fP44KEf-1ZpT"
   },
   "outputs": [],
   "source": [
    "final_model = model_et_final"
   ]
  },
  {
   "cell_type": "code",
   "execution_count": 57,
   "metadata": {
    "id": "2BVhN9KM1cd8"
   },
   "outputs": [],
   "source": [
    "# According to the size of our dataset, we will divide it to 10 folds for cross-validation\n",
    "from sklearn.model_selection import cross_val_score\n",
    "final_model.fit(X_train_final, y_train)\n",
    "et_mses = -cross_val_score(final_model, X_test_final, y_test, scoring=\"neg_root_mean_squared_error\", cv=10)"
   ]
  },
  {
   "cell_type": "code",
   "execution_count": 58,
   "metadata": {
    "colab": {
     "base_uri": "https://localhost:8080/"
    },
    "id": "_4BXI5uF1hxw",
    "outputId": "4988383a-18c8-4c79-9f7b-3dc8b1cee4e7"
   },
   "outputs": [
    {
     "data": {
      "text/plain": [
       "count    10.000000\n",
       "mean     19.700841\n",
       "std       0.626449\n",
       "min      18.866365\n",
       "25%      19.336238\n",
       "50%      19.556748\n",
       "75%      20.066659\n",
       "max      20.831160\n",
       "dtype: float64"
      ]
     },
     "execution_count": 58,
     "metadata": {},
     "output_type": "execute_result"
    }
   ],
   "source": [
    "pd.Series(et_mses).describe()"
   ]
  },
  {
   "cell_type": "code",
   "execution_count": 59,
   "metadata": {
    "colab": {
     "base_uri": "https://localhost:8080/"
    },
    "id": "xGfYIrnr1kJ2",
    "outputId": "49a9b9e3-70c1-4787-ec29-6572fe8462b1"
   },
   "outputs": [
    {
     "data": {
      "text/plain": [
       "15.502542539014698"
      ]
     },
     "execution_count": 59,
     "metadata": {},
     "output_type": "execute_result"
    }
   ],
   "source": [
    "final_model.fit(X_train_final, y_train)\n",
    "final_predictions = final_model.predict(X_test_final)\n",
    "final_mse = mean_squared_error(y_test, final_predictions, squared=False)\n",
    "final_mse"
   ]
  },
  {
   "cell_type": "code",
   "execution_count": 60,
   "metadata": {},
   "outputs": [],
   "source": [
    "import pickle \n",
    "\n",
    "with open('final_model.pkl', 'wb') as file:\n",
    "    pickle.dump(final_model, file)"
   ]
  },
  {
   "cell_type": "markdown",
   "metadata": {
    "id": "_IgJ3r7R4Qx1"
   },
   "source": [
    "# Hyperparameter Optimization"
   ]
  },
  {
   "cell_type": "markdown",
   "metadata": {
    "id": "yB-daJHj4Ydj"
   },
   "source": [
    "Having the extra tree model chosen as our final model, we are trying to find optimal hyperparameters for this model. We will modify the number of trees (n_estimators), criterion, the maximum depth of the tree (max_depth), and whether to reuse the solution of the previous call to fit and add more estimators to the ensemble (warm_start). Also, we will consider Grid Search, Randomized Search, and Bayesian Optimization and compare the results."
   ]
  },
  {
   "cell_type": "markdown",
   "metadata": {
    "id": "TrM_89u7iiVC"
   },
   "source": [
    "\n",
    "Randomized Search\n"
   ]
  },
  {
   "cell_type": "code",
   "execution_count": null,
   "metadata": {
    "id": "RvDedRF9ig-D"
   },
   "outputs": [],
   "source": [
    "from sklearn.model_selection import RandomizedSearchCV\n",
    "from scipy.stats import randint as sp_randint\n",
    "\n",
    "param_space = {\n",
    "    'n_estimators': sp_randint(200, 1000),\n",
    "    'criterion': ['squared_error', 'absolute_error', 'friedman_mse', 'poisson'],\n",
    "    'max_depth': range(6, 16),\n",
    "    'warm_start': [False, True]\n",
    "}"
   ]
  },
  {
   "cell_type": "code",
   "execution_count": null,
   "metadata": {
    "id": "5DRjvZip7pS3"
   },
   "outputs": [],
   "source": [
    "rs = RandomizedSearchCV(\n",
    "    estimator=final_model,\n",
    "    param_distributions=param_space,\n",
    "    n_iter=100,\n",
    "    cv=10,\n",
    "    random_state=0,\n",
    "    n_jobs=-1\n",
    ")"
   ]
  },
  {
   "cell_type": "code",
   "execution_count": null,
   "metadata": {
    "id": "MaMbcwB5jflB"
   },
   "outputs": [],
   "source": [
    "rs.fit(X_train_final, y_train)"
   ]
  },
  {
   "cell_type": "code",
   "execution_count": null,
   "metadata": {
    "id": "ianvRE9ujlHg"
   },
   "outputs": [],
   "source": [
    "print(rs.best_params_)"
   ]
  },
  {
   "cell_type": "markdown",
   "metadata": {},
   "source": [
    "## Extra trees train, val, test"
   ]
  },
  {
   "cell_type": "code",
   "execution_count": 82,
   "metadata": {
    "scrolled": true
   },
   "outputs": [
    {
     "name": "stdout",
     "output_type": "stream",
     "text": [
      "Validation RMSE: 28.7217\n",
      "Testing RMSE: 28.7335\n"
     ]
    }
   ],
   "source": [
    "from sklearn.ensemble import ExtraTreesRegressor\n",
    "from sklearn.model_selection import train_test_split\n",
    "import numpy as np\n",
    "\n",
    "# Split data into training, validation, and testing sets\n",
    "X_train, X_test, y_train, y_test = train_test_split(X, y, test_size=0.3, random_state=0)\n",
    "X_train, X_val, y_train, y_val = train_test_split(X_train, y_train, test_size=0.3, random_state=0)\n",
    "\n",
    "# Train an Extra Trees Regressor model on the training set\n",
    "extratree = ExtraTreesRegressor(random_state=0)\n",
    "model_et_final = extratree.fit(X_train, y_train)\n",
    "\n",
    "# Make predictions on the validation set\n",
    "y_val_pred = model_et_final.predict(X_val)\n",
    "\n",
    "# Compute the validation score\n",
    "extratree_val_mse = mean_squared_error(y_val, y_val_pred, squared=False)\n",
    "\n",
    "# Make predictions on the testing set\n",
    "y_test_pred_final = model_et_final.predict(X_test)\n",
    "\n",
    "# Compute the testing score\n",
    "extratree_test_mse = mean_squared_error(y_test, y_test_pred_final, squared=False)\n",
    "\n",
    "# Print the validation and testing scores\n",
    "print(f'Validation RMSE: {extratree_val_mse:.4f}')\n",
    "print(f'Testing RMSE: {extratree_test_mse:.4f}')"
   ]
  },
  {
   "cell_type": "markdown",
   "metadata": {},
   "source": [
    "## Optuna Hyperparameter Tunning"
   ]
  },
  {
   "cell_type": "code",
   "execution_count": 65,
   "metadata": {},
   "outputs": [],
   "source": [
    "from sklearn.ensemble import ExtraTreesRegressor\n",
    "from sklearn.model_selection import train_test_split\n",
    "import numpy as np\n",
    "import optuna\n",
    "\n"
   ]
  },
  {
   "cell_type": "code",
   "execution_count": 92,
   "metadata": {
    "scrolled": true
   },
   "outputs": [
    {
     "name": "stderr",
     "output_type": "stream",
     "text": [
      "\u001b[32m[I 2023-04-20 20:20:53,042]\u001b[0m A new study created in memory with name: no-name-b6321b1a-e3d9-4ab2-8b3c-4a1ca5bfdf4a\u001b[0m\n",
      "\u001b[32m[I 2023-04-20 20:20:54,048]\u001b[0m Trial 0 finished with value: 28.180049268855274 and parameters: {'n_estimators': 279, 'max_depth': 4, 'min_samples_split': 9, 'min_samples_leaf': 5, 'max_features': 'sqrt'}. Best is trial 0 with value: 28.180049268855274.\u001b[0m\n",
      "\u001b[32m[I 2023-04-20 20:20:58,203]\u001b[0m Trial 1 finished with value: 27.752413127666728 and parameters: {'n_estimators': 407, 'max_depth': 6, 'min_samples_split': 6, 'min_samples_leaf': 1, 'max_features': 'auto'}. Best is trial 1 with value: 27.752413127666728.\u001b[0m\n",
      "\u001b[32m[I 2023-04-20 20:20:59,692]\u001b[0m Trial 2 finished with value: 27.976466420089572 and parameters: {'n_estimators': 298, 'max_depth': 7, 'min_samples_split': 5, 'min_samples_leaf': 3, 'max_features': 'sqrt'}. Best is trial 1 with value: 27.752413127666728.\u001b[0m\n",
      "\u001b[32m[I 2023-04-20 20:21:00,396]\u001b[0m Trial 3 finished with value: 28.03471364384334 and parameters: {'n_estimators': 165, 'max_depth': 6, 'min_samples_split': 6, 'min_samples_leaf': 4, 'max_features': 'sqrt'}. Best is trial 1 with value: 27.752413127666728.\u001b[0m\n",
      "\u001b[32m[I 2023-04-20 20:21:00,955]\u001b[0m Trial 4 finished with value: 28.039166784299223 and parameters: {'n_estimators': 132, 'max_depth': 6, 'min_samples_split': 9, 'min_samples_leaf': 3, 'max_features': 'sqrt'}. Best is trial 1 with value: 27.752413127666728.\u001b[0m\n",
      "\u001b[32m[I 2023-04-20 20:21:04,564]\u001b[0m Trial 5 finished with value: 27.61409301864385 and parameters: {'n_estimators': 284, 'max_depth': 8, 'min_samples_split': 7, 'min_samples_leaf': 1, 'max_features': 'auto'}. Best is trial 5 with value: 27.61409301864385.\u001b[0m\n",
      "\u001b[32m[I 2023-04-20 20:21:06,235]\u001b[0m Trial 6 finished with value: 28.019526501342852 and parameters: {'n_estimators': 328, 'max_depth': 3, 'min_samples_split': 5, 'min_samples_leaf': 2, 'max_features': 'auto'}. Best is trial 5 with value: 27.61409301864385.\u001b[0m\n",
      "\u001b[32m[I 2023-04-20 20:21:07,109]\u001b[0m Trial 7 finished with value: 28.105510902095183 and parameters: {'n_estimators': 237, 'max_depth': 5, 'min_samples_split': 2, 'min_samples_leaf': 1, 'max_features': 'sqrt'}. Best is trial 5 with value: 27.61409301864385.\u001b[0m\n",
      "\u001b[32m[I 2023-04-20 20:21:08,782]\u001b[0m Trial 8 finished with value: 28.038794036402553 and parameters: {'n_estimators': 396, 'max_depth': 6, 'min_samples_split': 4, 'min_samples_leaf': 5, 'max_features': 'sqrt'}. Best is trial 5 with value: 27.61409301864385.\u001b[0m\n",
      "\u001b[32m[I 2023-04-20 20:21:10,457]\u001b[0m Trial 9 finished with value: 27.74495564879868 and parameters: {'n_estimators': 174, 'max_depth': 6, 'min_samples_split': 8, 'min_samples_leaf': 4, 'max_features': 'auto'}. Best is trial 5 with value: 27.61409301864385.\u001b[0m\n",
      "\u001b[32m[I 2023-04-20 20:21:18,344]\u001b[0m Trial 10 finished with value: 27.513872635943507 and parameters: {'n_estimators': 482, 'max_depth': 10, 'min_samples_split': 10, 'min_samples_leaf': 2, 'max_features': 'auto'}. Best is trial 10 with value: 27.513872635943507.\u001b[0m\n",
      "\u001b[32m[I 2023-04-20 20:21:26,296]\u001b[0m Trial 11 finished with value: 27.5138442096797 and parameters: {'n_estimators': 498, 'max_depth': 10, 'min_samples_split': 10, 'min_samples_leaf': 2, 'max_features': 'auto'}. Best is trial 11 with value: 27.5138442096797.\u001b[0m\n",
      "\u001b[32m[I 2023-04-20 20:21:34,235]\u001b[0m Trial 12 finished with value: 27.513977369790478 and parameters: {'n_estimators': 500, 'max_depth': 10, 'min_samples_split': 10, 'min_samples_leaf': 2, 'max_features': 'auto'}. Best is trial 11 with value: 27.5138442096797.\u001b[0m\n",
      "\u001b[32m[I 2023-04-20 20:21:41,887]\u001b[0m Trial 13 finished with value: 27.513873593775042 and parameters: {'n_estimators': 484, 'max_depth': 10, 'min_samples_split': 10, 'min_samples_leaf': 2, 'max_features': 'auto'}. Best is trial 11 with value: 27.5138442096797.\u001b[0m\n",
      "\u001b[32m[I 2023-04-20 20:21:48,049]\u001b[0m Trial 14 finished with value: 27.562190067136303 and parameters: {'n_estimators': 433, 'max_depth': 9, 'min_samples_split': 8, 'min_samples_leaf': 2, 'max_features': 'auto'}. Best is trial 11 with value: 27.5138442096797.\u001b[0m\n",
      "\u001b[32m[I 2023-04-20 20:21:54,524]\u001b[0m Trial 15 finished with value: 27.564979442943258 and parameters: {'n_estimators': 450, 'max_depth': 9, 'min_samples_split': 10, 'min_samples_leaf': 3, 'max_features': 'auto'}. Best is trial 11 with value: 27.5138442096797.\u001b[0m\n",
      "\u001b[32m[I 2023-04-20 20:21:58,933]\u001b[0m Trial 16 finished with value: 27.612297745218427 and parameters: {'n_estimators': 344, 'max_depth': 8, 'min_samples_split': 8, 'min_samples_leaf': 2, 'max_features': 'auto'}. Best is trial 11 with value: 27.5138442096797.\u001b[0m\n",
      "\u001b[32m[I 2023-04-20 20:22:04,331]\u001b[0m Trial 17 finished with value: 27.56775126404205 and parameters: {'n_estimators': 376, 'max_depth': 9, 'min_samples_split': 9, 'min_samples_leaf': 4, 'max_features': 'auto'}. Best is trial 11 with value: 27.5138442096797.\u001b[0m\n",
      "\u001b[32m[I 2023-04-20 20:22:11,575]\u001b[0m Trial 18 finished with value: 27.51536958549032 and parameters: {'n_estimators': 447, 'max_depth': 10, 'min_samples_split': 2, 'min_samples_leaf': 1, 'max_features': 'auto'}. Best is trial 11 with value: 27.5138442096797.\u001b[0m\n",
      "\u001b[32m[I 2023-04-20 20:22:17,603]\u001b[0m Trial 19 finished with value: 27.615253854963278 and parameters: {'n_estimators': 474, 'max_depth': 8, 'min_samples_split': 7, 'min_samples_leaf': 2, 'max_features': 'auto'}. Best is trial 11 with value: 27.5138442096797.\u001b[0m\n",
      "\u001b[32m[I 2023-04-20 20:22:20,939]\u001b[0m Trial 20 finished with value: 27.56428365886801 and parameters: {'n_estimators': 231, 'max_depth': 9, 'min_samples_split': 10, 'min_samples_leaf': 3, 'max_features': 'auto'}. Best is trial 11 with value: 27.5138442096797.\u001b[0m\n",
      "\u001b[32m[I 2023-04-20 20:22:28,814]\u001b[0m Trial 21 finished with value: 27.513980195781233 and parameters: {'n_estimators': 497, 'max_depth': 10, 'min_samples_split': 10, 'min_samples_leaf': 2, 'max_features': 'auto'}. Best is trial 11 with value: 27.5138442096797.\u001b[0m\n",
      "\u001b[32m[I 2023-04-20 20:22:36,101]\u001b[0m Trial 22 finished with value: 27.510491658851837 and parameters: {'n_estimators': 459, 'max_depth': 10, 'min_samples_split': 9, 'min_samples_leaf': 2, 'max_features': 'auto'}. Best is trial 22 with value: 27.510491658851837.\u001b[0m\n",
      "\u001b[32m[I 2023-04-20 20:22:42,830]\u001b[0m Trial 23 finished with value: 27.511420329557403 and parameters: {'n_estimators': 425, 'max_depth': 10, 'min_samples_split': 9, 'min_samples_leaf': 3, 'max_features': 'auto'}. Best is trial 22 with value: 27.510491658851837.\u001b[0m\n",
      "\u001b[32m[I 2023-04-20 20:22:48,819]\u001b[0m Trial 24 finished with value: 27.559107955498252 and parameters: {'n_estimators': 421, 'max_depth': 9, 'min_samples_split': 9, 'min_samples_leaf': 3, 'max_features': 'auto'}. Best is trial 22 with value: 27.510491658851837.\u001b[0m\n",
      "\u001b[32m[I 2023-04-20 20:22:53,331]\u001b[0m Trial 25 finished with value: 27.617048589834887 and parameters: {'n_estimators': 356, 'max_depth': 8, 'min_samples_split': 7, 'min_samples_leaf': 3, 'max_features': 'auto'}. Best is trial 22 with value: 27.510491658851837.\u001b[0m\n",
      "\u001b[32m[I 2023-04-20 20:22:58,388]\u001b[0m Trial 26 finished with value: 27.682047775357468 and parameters: {'n_estimators': 455, 'max_depth': 7, 'min_samples_split': 8, 'min_samples_leaf': 4, 'max_features': 'auto'}. Best is trial 22 with value: 27.510491658851837.\u001b[0m\n",
      "\u001b[32m[I 2023-04-20 20:23:04,668]\u001b[0m Trial 27 finished with value: 27.512836416811744 and parameters: {'n_estimators': 392, 'max_depth': 10, 'min_samples_split': 9, 'min_samples_leaf': 3, 'max_features': 'auto'}. Best is trial 22 with value: 27.510491658851837.\u001b[0m\n",
      "\u001b[32m[I 2023-04-20 20:23:10,163]\u001b[0m Trial 28 finished with value: 27.56174536538133 and parameters: {'n_estimators': 383, 'max_depth': 9, 'min_samples_split': 9, 'min_samples_leaf': 3, 'max_features': 'auto'}. Best is trial 22 with value: 27.510491658851837.\u001b[0m\n",
      "\u001b[32m[I 2023-04-20 20:23:13,021]\u001b[0m Trial 29 finished with value: 27.80430684149596 and parameters: {'n_estimators': 367, 'max_depth': 10, 'min_samples_split': 9, 'min_samples_leaf': 5, 'max_features': 'sqrt'}. Best is trial 22 with value: 27.510491658851837.\u001b[0m\n",
      "\u001b[32m[I 2023-04-20 20:23:15,307]\u001b[0m Trial 30 finished with value: 27.913326204462315 and parameters: {'n_estimators': 323, 'max_depth': 4, 'min_samples_split': 7, 'min_samples_leaf': 4, 'max_features': 'auto'}. Best is trial 22 with value: 27.510491658851837.\u001b[0m\n"
     ]
    },
    {
     "name": "stderr",
     "output_type": "stream",
     "text": [
      "\u001b[32m[I 2023-04-20 20:23:21,990]\u001b[0m Trial 31 finished with value: 27.5138579638985 and parameters: {'n_estimators': 417, 'max_depth': 10, 'min_samples_split': 8, 'min_samples_leaf': 3, 'max_features': 'auto'}. Best is trial 22 with value: 27.510491658851837.\u001b[0m\n",
      "\u001b[32m[I 2023-04-20 20:23:28,579]\u001b[0m Trial 32 finished with value: 27.559801168008452 and parameters: {'n_estimators': 461, 'max_depth': 9, 'min_samples_split': 9, 'min_samples_leaf': 1, 'max_features': 'auto'}. Best is trial 22 with value: 27.510491658851837.\u001b[0m\n",
      "\u001b[32m[I 2023-04-20 20:23:35,122]\u001b[0m Trial 33 finished with value: 27.51146049236694 and parameters: {'n_estimators': 409, 'max_depth': 10, 'min_samples_split': 9, 'min_samples_leaf': 2, 'max_features': 'auto'}. Best is trial 22 with value: 27.510491658851837.\u001b[0m\n",
      "\u001b[32m[I 2023-04-20 20:23:39,741]\u001b[0m Trial 34 finished with value: 27.680279096486093 and parameters: {'n_estimators': 402, 'max_depth': 7, 'min_samples_split': 8, 'min_samples_leaf': 3, 'max_features': 'auto'}. Best is trial 22 with value: 27.510491658851837.\u001b[0m\n",
      "\u001b[32m[I 2023-04-20 20:23:42,870]\u001b[0m Trial 35 finished with value: 27.797923532692618 and parameters: {'n_estimators': 435, 'max_depth': 10, 'min_samples_split': 6, 'min_samples_leaf': 3, 'max_features': 'sqrt'}. Best is trial 22 with value: 27.510491658851837.\u001b[0m\n",
      "\u001b[32m[I 2023-04-20 20:23:47,875]\u001b[0m Trial 36 finished with value: 27.615297935517617 and parameters: {'n_estimators': 394, 'max_depth': 8, 'min_samples_split': 9, 'min_samples_leaf': 1, 'max_features': 'auto'}. Best is trial 22 with value: 27.510491658851837.\u001b[0m\n",
      "\u001b[32m[I 2023-04-20 20:23:50,558]\u001b[0m Trial 37 finished with value: 27.846198787592645 and parameters: {'n_estimators': 422, 'max_depth': 9, 'min_samples_split': 4, 'min_samples_leaf': 2, 'max_features': 'sqrt'}. Best is trial 22 with value: 27.510491658851837.\u001b[0m\n",
      "\u001b[32m[I 2023-04-20 20:23:55,650]\u001b[0m Trial 38 finished with value: 27.527621624793802 and parameters: {'n_estimators': 319, 'max_depth': 10, 'min_samples_split': 9, 'min_samples_leaf': 4, 'max_features': 'auto'}. Best is trial 22 with value: 27.510491658851837.\u001b[0m\n",
      "\u001b[32m[I 2023-04-20 20:23:57,064]\u001b[0m Trial 39 finished with value: 28.01644191804915 and parameters: {'n_estimators': 274, 'max_depth': 3, 'min_samples_split': 7, 'min_samples_leaf': 3, 'max_features': 'auto'}. Best is trial 22 with value: 27.510491658851837.\u001b[0m\n",
      "\u001b[32m[I 2023-04-20 20:23:58,327]\u001b[0m Trial 40 finished with value: 28.112752174878086 and parameters: {'n_estimators': 348, 'max_depth': 5, 'min_samples_split': 6, 'min_samples_leaf': 1, 'max_features': 'sqrt'}. Best is trial 22 with value: 27.510491658851837.\u001b[0m\n",
      "\u001b[32m[I 2023-04-20 20:24:05,785]\u001b[0m Trial 41 finished with value: 27.514610647462973 and parameters: {'n_estimators': 471, 'max_depth': 10, 'min_samples_split': 10, 'min_samples_leaf': 2, 'max_features': 'auto'}. Best is trial 22 with value: 27.510491658851837.\u001b[0m\n",
      "\u001b[32m[I 2023-04-20 20:24:12,395]\u001b[0m Trial 42 finished with value: 27.51175395635679 and parameters: {'n_estimators': 408, 'max_depth': 10, 'min_samples_split': 9, 'min_samples_leaf': 2, 'max_features': 'auto'}. Best is trial 22 with value: 27.510491658851837.\u001b[0m\n",
      "\u001b[32m[I 2023-04-20 20:24:18,138]\u001b[0m Trial 43 finished with value: 27.562195054781593 and parameters: {'n_estimators': 392, 'max_depth': 9, 'min_samples_split': 8, 'min_samples_leaf': 2, 'max_features': 'auto'}. Best is trial 22 with value: 27.510491658851837.\u001b[0m\n",
      "\u001b[32m[I 2023-04-20 20:24:25,265]\u001b[0m Trial 44 finished with value: 27.51011047423457 and parameters: {'n_estimators': 437, 'max_depth': 10, 'min_samples_split': 9, 'min_samples_leaf': 2, 'max_features': 'auto'}. Best is trial 44 with value: 27.51011047423457.\u001b[0m\n",
      "\u001b[32m[I 2023-04-20 20:24:32,460]\u001b[0m Trial 45 finished with value: 27.50759660510081 and parameters: {'n_estimators': 436, 'max_depth': 10, 'min_samples_split': 3, 'min_samples_leaf': 2, 'max_features': 'auto'}. Best is trial 45 with value: 27.50759660510081.\u001b[0m\n",
      "\u001b[32m[I 2023-04-20 20:24:39,953]\u001b[0m Trial 46 finished with value: 27.5605839805739 and parameters: {'n_estimators': 434, 'max_depth': 9, 'min_samples_split': 3, 'min_samples_leaf': 1, 'max_features': 'auto'}. Best is trial 45 with value: 27.50759660510081.\u001b[0m\n",
      "\u001b[32m[I 2023-04-20 20:24:47,305]\u001b[0m Trial 47 finished with value: 27.51202549589627 and parameters: {'n_estimators': 442, 'max_depth': 10, 'min_samples_split': 5, 'min_samples_leaf': 2, 'max_features': 'auto'}. Best is trial 45 with value: 27.50759660510081.\u001b[0m\n",
      "\u001b[32m[I 2023-04-20 20:24:50,307]\u001b[0m Trial 48 finished with value: 27.845729532834103 and parameters: {'n_estimators': 468, 'max_depth': 9, 'min_samples_split': 3, 'min_samples_leaf': 2, 'max_features': 'sqrt'}. Best is trial 45 with value: 27.50759660510081.\u001b[0m\n",
      "\u001b[32m[I 2023-04-20 20:24:55,707]\u001b[0m Trial 49 finished with value: 27.6144519602861 and parameters: {'n_estimators': 416, 'max_depth': 8, 'min_samples_split': 4, 'min_samples_leaf': 1, 'max_features': 'auto'}. Best is trial 45 with value: 27.50759660510081.\u001b[0m\n"
     ]
    },
    {
     "name": "stdout",
     "output_type": "stream",
     "text": [
      "Testing RMSE: 27.6915\n",
      "Best Parameters: {'n_estimators': 436, 'max_depth': 10, 'min_samples_split': 3, 'min_samples_leaf': 2, 'max_features': 'auto'}\n"
     ]
    }
   ],
   "source": [
    "def objective(trial):\n",
    "    # Define the range of hyperparameters to be tuned\n",
    "    params = {\n",
    "        'n_estimators': trial.suggest_int('n_estimators', 100, 500),\n",
    "        'max_depth': trial.suggest_int('max_depth', 3, 10),\n",
    "        'min_samples_split': trial.suggest_int('min_samples_split', 2, 10),\n",
    "        'min_samples_leaf': trial.suggest_int('min_samples_leaf', 1, 5),\n",
    "        'max_features': trial.suggest_categorical('max_features', ['auto', 'sqrt']),\n",
    "        'random_state': 0\n",
    "    }\n",
    "    \n",
    "    # Train the ExtraTreesRegressor model with the given hyperparameters on the training set\n",
    "    extratree = ExtraTreesRegressor(**params)\n",
    "    extratree.fit(X_train, y_train)\n",
    "    \n",
    "    # Make predictions on the validation set and calculate the mean squared error\n",
    "    y_val_pred = extratree.predict(X_val)\n",
    "    mse = mean_squared_error(y_val, y_val_pred, squared=False)\n",
    "    \n",
    "    return mse\n",
    "\n",
    "# Load the data and split it into training, validation, and testing sets\n",
    "\n",
    "X_train, X_test, y_train, y_test = train_test_split(X, y, test_size=0.3, random_state=0)\n",
    "X_train, X_val, y_train, y_val = train_test_split(X_train, y_train, test_size=0.3, random_state=0)\n",
    "\n",
    "# Run the Optuna study to search for the best hyperparameters\n",
    "study = optuna.create_study(direction='minimize', pruner=optuna.pruners.MedianPruner())\n",
    "study.optimize(objective, n_trials=50)\n",
    "\n",
    "# Train a new ExtraTreesRegressor model with the best hyperparameters found by Optuna on the full training set\n",
    "best_params = study.best_params\n",
    "extratree = ExtraTreesRegressor(**best_params, random_state=0)\n",
    "extratree.fit(X_train, y_train)\n",
    "\n",
    "# Make predictions on the testing set and calculate the mean squared error\n",
    "y_test_pred_final = extratree.predict(X_test)\n",
    "extratree_test_mse = mean_squared_error(y_test, y_test_pred_final, squared=False)\n",
    "\n",
    "# Print the testing score\n",
    "print(f'Testing RMSE: {extratree_test_mse:.4f}')\n",
    "\n",
    "print(f'Best Parameters: {study.best_params}')\n",
    "\n"
   ]
  },
  {
   "cell_type": "code",
   "execution_count": 93,
   "metadata": {},
   "outputs": [
    {
     "name": "stdout",
     "output_type": "stream",
     "text": [
      "Best RMSE: 27.5076\n",
      "Best Parameters: {'n_estimators': 436, 'max_depth': 10, 'min_samples_split': 3, 'min_samples_leaf': 2, 'max_features': 'auto'}\n"
     ]
    }
   ],
   "source": [
    "best_rmse = study.best_value\n",
    "print(f'Best RMSE: {best_rmse:.4f}')\n",
    "print(f'Best Parameters: {study.best_params}')"
   ]
  }
 ],
 "metadata": {
  "colab": {
   "provenance": []
  },
  "kernelspec": {
   "display_name": "Python 3",
   "language": "python",
   "name": "python3"
  },
  "language_info": {
   "codemirror_mode": {
    "name": "ipython",
    "version": 3
   },
   "file_extension": ".py",
   "mimetype": "text/x-python",
   "name": "python",
   "nbconvert_exporter": "python",
   "pygments_lexer": "ipython3",
   "version": "3.8.8"
  }
 },
 "nbformat": 4,
 "nbformat_minor": 1
}
