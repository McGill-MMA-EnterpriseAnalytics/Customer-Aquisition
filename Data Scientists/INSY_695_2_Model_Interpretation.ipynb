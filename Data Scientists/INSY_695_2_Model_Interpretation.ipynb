{
 "cells": [
  {
   "cell_type": "code",
   "execution_count": 1,
   "metadata": {
    "id": "GJ7SaA1wfveg"
   },
   "outputs": [],
   "source": [
    "import pandas as pd\n",
    "import numpy as np\n",
    "\n",
    "from sklearn.preprocessing import MinMaxScaler, StandardScaler\n",
    "from sklearn.ensemble import IsolationForest"
   ]
  },
  {
   "cell_type": "code",
   "execution_count": 2,
   "metadata": {
    "id": "CkbdW2Jtf-KT"
   },
   "outputs": [],
   "source": [
    "path = 'D:/Study/McGill University - MMA/Courses/INSY 695/Team Project/Data/'\n",
    "df_raw = pd.read_csv(path+\"media prediction and its cost NEW.csv\")"
   ]
  },
  {
   "cell_type": "code",
   "execution_count": 3,
   "metadata": {
    "colab": {
     "base_uri": "https://localhost:8080/"
    },
    "id": "JEYK5C4sgbJ_",
    "outputId": "d31e2f4c-9bcc-4a6e-87ea-40cf880658b2"
   },
   "outputs": [
    {
     "name": "stdout",
     "output_type": "stream",
     "text": [
      "Number of unique values: 6 \t Datatype: int64 \t Column name: unit_sales(in millions)\n",
      "Number of unique values: 6 \t Datatype: int64 \t Column name: total_children\n",
      "Number of unique values: 5 \t Datatype: int64 \t Column name: avg_cars_at home(approx)\n",
      "Number of unique values: 6 \t Datatype: int64 \t Column name: num_children_at_home\n",
      "Number of unique values: 5 \t Datatype: int64 \t Column name: avg_cars_at home(approx).1\n"
     ]
    }
   ],
   "source": [
    "num_cols, cate_cols, pre_dum_cols = [], [], []\n",
    "for c in df_raw.columns:\n",
    "    uni_len = len(set(df_raw[c]))\n",
    "    dtype = df_raw[c].dtypes\n",
    "\n",
    "    if dtype == object:\n",
    "        cate_cols.append(c)\n",
    "    else: # dtype == float\n",
    "        if uni_len == 2:\n",
    "            pre_dum_cols.append(c)\n",
    "        elif uni_len < 10:\n",
    "            num_cols.append(c)\n",
    "            print(\"Number of unique values: %d \\t Datatype: %s \\t Column name: %s\" %(uni_len, dtype, c))\n",
    "        else:\n",
    "            num_cols.append(c)"
   ]
  },
  {
   "cell_type": "code",
   "execution_count": 4,
   "metadata": {},
   "outputs": [
    {
     "data": {
      "text/html": [
       "<div>\n",
       "<style scoped>\n",
       "    .dataframe tbody tr th:only-of-type {\n",
       "        vertical-align: middle;\n",
       "    }\n",
       "\n",
       "    .dataframe tbody tr th {\n",
       "        vertical-align: top;\n",
       "    }\n",
       "\n",
       "    .dataframe thead th {\n",
       "        text-align: right;\n",
       "    }\n",
       "</style>\n",
       "<table border=\"1\" class=\"dataframe\">\n",
       "  <thead>\n",
       "    <tr style=\"text-align: right;\">\n",
       "      <th></th>\n",
       "      <th>food_category</th>\n",
       "      <th>food_department</th>\n",
       "      <th>food_family</th>\n",
       "      <th>store_sales(in millions)</th>\n",
       "      <th>store_cost(in millions)</th>\n",
       "      <th>unit_sales(in millions)</th>\n",
       "      <th>promotion_name</th>\n",
       "      <th>sales_country</th>\n",
       "      <th>marital_status</th>\n",
       "      <th>gender</th>\n",
       "      <th>...</th>\n",
       "      <th>grocery_sqft</th>\n",
       "      <th>frozen_sqft</th>\n",
       "      <th>meat_sqft</th>\n",
       "      <th>coffee_bar</th>\n",
       "      <th>video_store</th>\n",
       "      <th>salad_bar</th>\n",
       "      <th>prepared_food</th>\n",
       "      <th>florist</th>\n",
       "      <th>media_type</th>\n",
       "      <th>cost</th>\n",
       "    </tr>\n",
       "  </thead>\n",
       "  <tbody>\n",
       "    <tr>\n",
       "      <th>0</th>\n",
       "      <td>Breakfast Foods</td>\n",
       "      <td>Frozen Foods</td>\n",
       "      <td>Food</td>\n",
       "      <td>7.36</td>\n",
       "      <td>2.7232</td>\n",
       "      <td>4</td>\n",
       "      <td>Bag Stuffers</td>\n",
       "      <td>USA</td>\n",
       "      <td>M</td>\n",
       "      <td>F</td>\n",
       "      <td>...</td>\n",
       "      <td>8670</td>\n",
       "      <td>5415</td>\n",
       "      <td>13610</td>\n",
       "      <td>1</td>\n",
       "      <td>1</td>\n",
       "      <td>1</td>\n",
       "      <td>1</td>\n",
       "      <td>1</td>\n",
       "      <td>Daily Paper, Radio</td>\n",
       "      <td>126.62</td>\n",
       "    </tr>\n",
       "    <tr>\n",
       "      <th>1</th>\n",
       "      <td>Breakfast Foods</td>\n",
       "      <td>Frozen Foods</td>\n",
       "      <td>Food</td>\n",
       "      <td>7.36</td>\n",
       "      <td>2.7232</td>\n",
       "      <td>4</td>\n",
       "      <td>Bag Stuffers</td>\n",
       "      <td>USA</td>\n",
       "      <td>M</td>\n",
       "      <td>F</td>\n",
       "      <td>...</td>\n",
       "      <td>18670</td>\n",
       "      <td>5415</td>\n",
       "      <td>3610</td>\n",
       "      <td>1</td>\n",
       "      <td>1</td>\n",
       "      <td>1</td>\n",
       "      <td>1</td>\n",
       "      <td>1</td>\n",
       "      <td>Daily Paper, Radio</td>\n",
       "      <td>126.62</td>\n",
       "    </tr>\n",
       "    <tr>\n",
       "      <th>2</th>\n",
       "      <td>Breakfast Foods</td>\n",
       "      <td>Frozen Foods</td>\n",
       "      <td>Food</td>\n",
       "      <td>5.52</td>\n",
       "      <td>2.5944</td>\n",
       "      <td>3</td>\n",
       "      <td>Cash Register Lottery</td>\n",
       "      <td>USA</td>\n",
       "      <td>M</td>\n",
       "      <td>M</td>\n",
       "      <td>...</td>\n",
       "      <td>18670</td>\n",
       "      <td>5415</td>\n",
       "      <td>3610</td>\n",
       "      <td>1</td>\n",
       "      <td>1</td>\n",
       "      <td>1</td>\n",
       "      <td>1</td>\n",
       "      <td>1</td>\n",
       "      <td>Daily Paper, Radio</td>\n",
       "      <td>59.86</td>\n",
       "    </tr>\n",
       "    <tr>\n",
       "      <th>3</th>\n",
       "      <td>Breakfast Foods</td>\n",
       "      <td>Frozen Foods</td>\n",
       "      <td>Food</td>\n",
       "      <td>3.68</td>\n",
       "      <td>1.3616</td>\n",
       "      <td>2</td>\n",
       "      <td>High Roller Savings</td>\n",
       "      <td>USA</td>\n",
       "      <td>S</td>\n",
       "      <td>F</td>\n",
       "      <td>...</td>\n",
       "      <td>18670</td>\n",
       "      <td>5415</td>\n",
       "      <td>3610</td>\n",
       "      <td>1</td>\n",
       "      <td>1</td>\n",
       "      <td>1</td>\n",
       "      <td>1</td>\n",
       "      <td>1</td>\n",
       "      <td>Daily Paper, Radio</td>\n",
       "      <td>84.16</td>\n",
       "    </tr>\n",
       "    <tr>\n",
       "      <th>4</th>\n",
       "      <td>Breakfast Foods</td>\n",
       "      <td>Frozen Foods</td>\n",
       "      <td>Food</td>\n",
       "      <td>3.68</td>\n",
       "      <td>1.1776</td>\n",
       "      <td>2</td>\n",
       "      <td>Cash Register Lottery</td>\n",
       "      <td>USA</td>\n",
       "      <td>M</td>\n",
       "      <td>F</td>\n",
       "      <td>...</td>\n",
       "      <td>18670</td>\n",
       "      <td>5415</td>\n",
       "      <td>3610</td>\n",
       "      <td>1</td>\n",
       "      <td>1</td>\n",
       "      <td>1</td>\n",
       "      <td>1</td>\n",
       "      <td>1</td>\n",
       "      <td>In-Store Coupon</td>\n",
       "      <td>95.78</td>\n",
       "    </tr>\n",
       "  </tbody>\n",
       "</table>\n",
       "<p>5 rows × 40 columns</p>\n",
       "</div>"
      ],
      "text/plain": [
       "     food_category food_department food_family  store_sales(in millions)  \\\n",
       "0  Breakfast Foods    Frozen Foods        Food                      7.36   \n",
       "1  Breakfast Foods    Frozen Foods        Food                      7.36   \n",
       "2  Breakfast Foods    Frozen Foods        Food                      5.52   \n",
       "3  Breakfast Foods    Frozen Foods        Food                      3.68   \n",
       "4  Breakfast Foods    Frozen Foods        Food                      3.68   \n",
       "\n",
       "   store_cost(in millions)  unit_sales(in millions)         promotion_name  \\\n",
       "0                   2.7232                        4           Bag Stuffers   \n",
       "1                   2.7232                        4           Bag Stuffers   \n",
       "2                   2.5944                        3  Cash Register Lottery   \n",
       "3                   1.3616                        2    High Roller Savings   \n",
       "4                   1.1776                        2  Cash Register Lottery   \n",
       "\n",
       "  sales_country marital_status gender  ...  grocery_sqft frozen_sqft  \\\n",
       "0           USA              M      F  ...          8670        5415   \n",
       "1           USA              M      F  ...         18670        5415   \n",
       "2           USA              M      M  ...         18670        5415   \n",
       "3           USA              S      F  ...         18670        5415   \n",
       "4           USA              M      F  ...         18670        5415   \n",
       "\n",
       "  meat_sqft coffee_bar video_store  salad_bar prepared_food  florist  \\\n",
       "0     13610          1           1          1             1        1   \n",
       "1      3610          1           1          1             1        1   \n",
       "2      3610          1           1          1             1        1   \n",
       "3      3610          1           1          1             1        1   \n",
       "4      3610          1           1          1             1        1   \n",
       "\n",
       "           media_type    cost  \n",
       "0  Daily Paper, Radio  126.62  \n",
       "1  Daily Paper, Radio  126.62  \n",
       "2  Daily Paper, Radio   59.86  \n",
       "3  Daily Paper, Radio   84.16  \n",
       "4     In-Store Coupon   95.78  \n",
       "\n",
       "[5 rows x 40 columns]"
      ]
     },
     "execution_count": 4,
     "metadata": {},
     "output_type": "execute_result"
    }
   ],
   "source": [
    "df_raw.head()"
   ]
  },
  {
   "cell_type": "markdown",
   "metadata": {
    "id": "4HOZ5MTIP3Lz"
   },
   "source": [
    "# Model Development"
   ]
  },
  {
   "cell_type": "code",
   "execution_count": 5,
   "metadata": {},
   "outputs": [],
   "source": [
    "y = df_raw['cost']\n",
    "X = df_raw.drop(columns = ['cost'])\n",
    "X = pd.get_dummies(X)"
   ]
  },
  {
   "cell_type": "code",
   "execution_count": 6,
   "metadata": {
    "id": "1GRLE-HnX2Dt"
   },
   "outputs": [],
   "source": [
    "from sklearn.model_selection import train_test_split\n",
    "X_train_final, X_test_final, y_train, y_test = train_test_split(X, y, test_size = 0.3, random_state = 0)"
   ]
  },
  {
   "cell_type": "code",
   "execution_count": 7,
   "metadata": {
    "id": "QMi3lO79w6_N"
   },
   "outputs": [],
   "source": [
    "X_test_final, X_val_final, y_test, y_val = train_test_split(X_test_final, y_test, test_size = 0.5, random_state = 0)"
   ]
  },
  {
   "cell_type": "markdown",
   "metadata": {},
   "source": [
    "Since the model from TPOT yielded the lowest RMSE, we train the model based on parameters derived from TPOT as our final model."
   ]
  },
  {
   "cell_type": "code",
   "execution_count": 8,
   "metadata": {},
   "outputs": [],
   "source": [
    "from sklearn.ensemble import ExtraTreesRegressor\n",
    "extratree_best = ExtraTreesRegressor(random_state = 0, bootstrap=False, max_features=0.25, min_samples_leaf=3, min_samples_split=4, n_estimators=100)\n",
    "final_model_opt = extratree_best.fit(X_train_final, y_train)\n",
    "y_test_pred_final = final_model_opt.predict(X_test_final)"
   ]
  },
  {
   "cell_type": "code",
   "execution_count": 9,
   "metadata": {},
   "outputs": [
    {
     "data": {
      "text/plain": [
       "0.8370493487269288"
      ]
     },
     "execution_count": 9,
     "metadata": {},
     "output_type": "execute_result"
    }
   ],
   "source": [
    "from sklearn.metrics import mean_squared_error\n",
    "final_model_opt_mse = mean_squared_error(y_test, y_test_pred_final, squared=False)\n",
    "final_model_opt_mse"
   ]
  },
  {
   "cell_type": "markdown",
   "metadata": {},
   "source": [
    "# Model Interpretation"
   ]
  },
  {
   "cell_type": "markdown",
   "metadata": {},
   "source": [
    "Feature Importances"
   ]
  },
  {
   "cell_type": "code",
   "execution_count": 10,
   "metadata": {},
   "outputs": [
    {
     "data": {
      "text/html": [
       "<div>\n",
       "<style scoped>\n",
       "    .dataframe tbody tr th:only-of-type {\n",
       "        vertical-align: middle;\n",
       "    }\n",
       "\n",
       "    .dataframe tbody tr th {\n",
       "        vertical-align: top;\n",
       "    }\n",
       "\n",
       "    .dataframe thead th {\n",
       "        text-align: right;\n",
       "    }\n",
       "</style>\n",
       "<table border=\"1\" class=\"dataframe\">\n",
       "  <thead>\n",
       "    <tr style=\"text-align: right;\">\n",
       "      <th></th>\n",
       "      <th>feature significance</th>\n",
       "    </tr>\n",
       "  </thead>\n",
       "  <tbody>\n",
       "    <tr>\n",
       "      <th>promotion_name_Free For All</th>\n",
       "      <td>0.030259</td>\n",
       "    </tr>\n",
       "    <tr>\n",
       "      <th>promotion_name_Super Savers</th>\n",
       "      <td>0.024277</td>\n",
       "    </tr>\n",
       "    <tr>\n",
       "      <th>promotion_name_Price Slashers</th>\n",
       "      <td>0.023900</td>\n",
       "    </tr>\n",
       "    <tr>\n",
       "      <th>promotion_name_Save-It Sale</th>\n",
       "      <td>0.022458</td>\n",
       "    </tr>\n",
       "    <tr>\n",
       "      <th>promotion_name_Weekend Markdown</th>\n",
       "      <td>0.021975</td>\n",
       "    </tr>\n",
       "    <tr>\n",
       "      <th>media_type_Cash Register Handout</th>\n",
       "      <td>0.021568</td>\n",
       "    </tr>\n",
       "    <tr>\n",
       "      <th>promotion_name_Double Down Sale</th>\n",
       "      <td>0.021167</td>\n",
       "    </tr>\n",
       "    <tr>\n",
       "      <th>promotion_name_Money Savers</th>\n",
       "      <td>0.021012</td>\n",
       "    </tr>\n",
       "    <tr>\n",
       "      <th>promotion_name_Big Time Discounts</th>\n",
       "      <td>0.020412</td>\n",
       "    </tr>\n",
       "    <tr>\n",
       "      <th>media_type_Sunday Paper, Radio</th>\n",
       "      <td>0.020342</td>\n",
       "    </tr>\n",
       "  </tbody>\n",
       "</table>\n",
       "</div>"
      ],
      "text/plain": [
       "                                   feature significance\n",
       "promotion_name_Free For All                    0.030259\n",
       "promotion_name_Super Savers                    0.024277\n",
       "promotion_name_Price Slashers                  0.023900\n",
       "promotion_name_Save-It Sale                    0.022458\n",
       "promotion_name_Weekend Markdown                0.021975\n",
       "media_type_Cash Register Handout               0.021568\n",
       "promotion_name_Double Down Sale                0.021167\n",
       "promotion_name_Money Savers                    0.021012\n",
       "promotion_name_Big Time Discounts              0.020412\n",
       "media_type_Sunday Paper, Radio                 0.020342"
      ]
     },
     "execution_count": 10,
     "metadata": {},
     "output_type": "execute_result"
    }
   ],
   "source": [
    "feature_significances = pd.DataFrame(data = final_model_opt.feature_importances_, index = X_train_final.columns.to_numpy(), columns = ['feature significance'])\n",
    "feature_significances.sort_values('feature significance', ascending = False).head(10)"
   ]
  },
  {
   "cell_type": "markdown",
   "metadata": {},
   "source": [
    "SHAP"
   ]
  },
  {
   "cell_type": "code",
   "execution_count": 11,
   "metadata": {},
   "outputs": [
    {
     "name": "stdout",
     "output_type": "stream",
     "text": [
      "Requirement already satisfied: shap in c:\\users\\raman\\anaconda3\\lib\\site-packages (0.41.0)\n",
      "Requirement already satisfied: pandas in c:\\users\\raman\\anaconda3\\lib\\site-packages (from shap) (1.4.3)\n",
      "Requirement already satisfied: scikit-learn in c:\\users\\raman\\anaconda3\\lib\\site-packages (from shap) (1.2.1)\n",
      "Requirement already satisfied: tqdm>4.25.0 in c:\\users\\raman\\anaconda3\\lib\\site-packages (from shap) (4.59.0)\n",
      "Requirement already satisfied: numba in c:\\users\\raman\\anaconda3\\lib\\site-packages (from shap) (0.53.1)\n",
      "Requirement already satisfied: packaging>20.9 in c:\\users\\raman\\anaconda3\\lib\\site-packages (from shap) (21.3)\n",
      "Requirement already satisfied: slicer==0.0.7 in c:\\users\\raman\\anaconda3\\lib\\site-packages (from shap) (0.0.7)\n",
      "Requirement already satisfied: cloudpickle in c:\\users\\raman\\anaconda3\\lib\\site-packages (from shap) (1.6.0)\n",
      "Requirement already satisfied: numpy in c:\\users\\raman\\anaconda3\\lib\\site-packages (from shap) (1.20.1)\n",
      "Requirement already satisfied: scipy in c:\\users\\raman\\anaconda3\\lib\\site-packages (from shap) (1.6.2)\n",
      "Requirement already satisfied: pyparsing!=3.0.5,>=2.0.2 in c:\\users\\raman\\anaconda3\\lib\\site-packages (from packaging>20.9->shap) (2.4.7)\n",
      "Requirement already satisfied: setuptools in c:\\users\\raman\\anaconda3\\lib\\site-packages (from numba->shap) (52.0.0.post20210125)\n",
      "Requirement already satisfied: llvmlite<0.37,>=0.36.0rc1 in c:\\users\\raman\\anaconda3\\lib\\site-packages (from numba->shap) (0.36.0)\n",
      "Requirement already satisfied: python-dateutil>=2.8.1 in c:\\users\\raman\\anaconda3\\lib\\site-packages (from pandas->shap) (2.8.1)\n",
      "Requirement already satisfied: pytz>=2020.1 in c:\\users\\raman\\anaconda3\\lib\\site-packages (from pandas->shap) (2021.1)\n",
      "Requirement already satisfied: six>=1.5 in c:\\users\\raman\\anaconda3\\lib\\site-packages (from python-dateutil>=2.8.1->pandas->shap) (1.15.0)\n",
      "Requirement already satisfied: threadpoolctl>=2.0.0 in c:\\users\\raman\\anaconda3\\lib\\site-packages (from scikit-learn->shap) (2.1.0)\n",
      "Requirement already satisfied: joblib>=1.1.1 in c:\\users\\raman\\anaconda3\\lib\\site-packages (from scikit-learn->shap) (1.2.0)\n"
     ]
    }
   ],
   "source": [
    "!pip install shap"
   ]
  },
  {
   "cell_type": "code",
   "execution_count": 12,
   "metadata": {},
   "outputs": [],
   "source": [
    "import shap"
   ]
  },
  {
   "cell_type": "code",
   "execution_count": 13,
   "metadata": {},
   "outputs": [],
   "source": [
    "X_test_sample = X_test_final[:100]"
   ]
  },
  {
   "cell_type": "code",
   "execution_count": 14,
   "metadata": {},
   "outputs": [],
   "source": [
    "explainer = shap.Explainer(final_model_opt)\n",
    "shap_values = explainer(X_test_sample)"
   ]
  },
  {
   "cell_type": "code",
   "execution_count": 15,
   "metadata": {},
   "outputs": [
    {
     "data": {
      "image/png": "[encoded data removed]",
      "text/plain": [
       "<Figure size 576x396 with 2 Axes>"
      ]
     },
     "metadata": {
      "needs_background": "light"
     },
     "output_type": "display_data"
    }
   ],
   "source": [
    "shap.plots.beeswarm(shap_values)"
   ]
  },
  {
   "cell_type": "code",
   "execution_count": null,
   "metadata": {},
   "outputs": [],
   "source": []
  }
 ],
 "metadata": {
  "colab": {
   "gpuType": "T4",
   "provenance": []
  },
  "gpuClass": "standard",
  "kernelspec": {
   "display_name": "Python 3",
   "language": "python",
   "name": "python3"
  },
  "language_info": {
   "codemirror_mode": {
    "name": "ipython",
    "version": 3
   },
   "file_extension": ".py",
   "mimetype": "text/x-python",
   "name": "python",
   "nbconvert_exporter": "python",
   "pygments_lexer": "ipython3",
   "version": "3.8.8"
  }
 },
 "nbformat": 4,
 "nbformat_minor": 1
}
