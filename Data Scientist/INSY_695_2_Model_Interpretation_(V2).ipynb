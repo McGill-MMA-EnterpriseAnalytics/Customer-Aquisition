{
 "cells": [
  {
   "cell_type": "code",
   "execution_count": 1,
   "metadata": {
    "id": "GJ7SaA1wfveg"
   },
   "outputs": [],
   "source": [
    "import pandas as pd\n",
    "import numpy as np\n",
    "\n",
    "from sklearn.preprocessing import MinMaxScaler, StandardScaler\n",
    "from sklearn.ensemble import IsolationForest"
   ]
  },
  {
   "cell_type": "code",
   "execution_count": 2,
   "metadata": {
    "id": "CkbdW2Jtf-KT"
   },
   "outputs": [],
   "source": [
    "path = 'D:/Study/McGill University - MMA/Courses/INSY 695/Team Project/Data/'\n",
    "df_raw = pd.read_csv(path+\"media prediction and its cost NEW.csv\")"
   ]
  },
  {
   "cell_type": "code",
   "execution_count": 3,
   "metadata": {
    "colab": {
     "base_uri": "https://localhost:8080/"
    },
    "id": "JEYK5C4sgbJ_",
    "outputId": "d31e2f4c-9bcc-4a6e-87ea-40cf880658b2"
   },
   "outputs": [
    {
     "name": "stdout",
     "output_type": "stream",
     "text": [
      "Number of unique values: 6 \t Datatype: int64 \t Column name: unit_sales(in millions)\n",
      "Number of unique values: 6 \t Datatype: int64 \t Column name: total_children\n",
      "Number of unique values: 5 \t Datatype: int64 \t Column name: avg_cars_at home(approx)\n",
      "Number of unique values: 6 \t Datatype: int64 \t Column name: num_children_at_home\n",
      "Number of unique values: 5 \t Datatype: int64 \t Column name: avg_cars_at home(approx).1\n"
     ]
    }
   ],
   "source": [
    "num_cols, cate_cols, pre_dum_cols = [], [], []\n",
    "for c in df_raw.columns:\n",
    "    uni_len = len(set(df_raw[c]))\n",
    "    dtype = df_raw[c].dtypes\n",
    "\n",
    "    if dtype == object:\n",
    "        cate_cols.append(c)\n",
    "    else: # dtype == float\n",
    "        if uni_len == 2:\n",
    "            pre_dum_cols.append(c)\n",
    "        elif uni_len < 10:\n",
    "            num_cols.append(c)\n",
    "            print(\"Number of unique values: %d \\t Datatype: %s \\t Column name: %s\" %(uni_len, dtype, c))\n",
    "        else:\n",
    "            num_cols.append(c)"
   ]
  },
  {
   "cell_type": "code",
   "execution_count": 4,
   "metadata": {},
   "outputs": [
    {
     "data": {
      "text/html": [
       "<div>\n",
       "<style scoped>\n",
       "    .dataframe tbody tr th:only-of-type {\n",
       "        vertical-align: middle;\n",
       "    }\n",
       "\n",
       "    .dataframe tbody tr th {\n",
       "        vertical-align: top;\n",
       "    }\n",
       "\n",
       "    .dataframe thead th {\n",
       "        text-align: right;\n",
       "    }\n",
       "</style>\n",
       "<table border=\"1\" class=\"dataframe\">\n",
       "  <thead>\n",
       "    <tr style=\"text-align: right;\">\n",
       "      <th></th>\n",
       "      <th>food_category</th>\n",
       "      <th>food_department</th>\n",
       "      <th>food_family</th>\n",
       "      <th>store_sales(in millions)</th>\n",
       "      <th>store_cost(in millions)</th>\n",
       "      <th>unit_sales(in millions)</th>\n",
       "      <th>promotion_name</th>\n",
       "      <th>sales_country</th>\n",
       "      <th>marital_status</th>\n",
       "      <th>gender</th>\n",
       "      <th>...</th>\n",
       "      <th>grocery_sqft</th>\n",
       "      <th>frozen_sqft</th>\n",
       "      <th>meat_sqft</th>\n",
       "      <th>coffee_bar</th>\n",
       "      <th>video_store</th>\n",
       "      <th>salad_bar</th>\n",
       "      <th>prepared_food</th>\n",
       "      <th>florist</th>\n",
       "      <th>media_type</th>\n",
       "      <th>cost</th>\n",
       "    </tr>\n",
       "  </thead>\n",
       "  <tbody>\n",
       "    <tr>\n",
       "      <th>0</th>\n",
       "      <td>Breakfast Foods</td>\n",
       "      <td>Frozen Foods</td>\n",
       "      <td>Food</td>\n",
       "      <td>7.36</td>\n",
       "      <td>2.7232</td>\n",
       "      <td>4</td>\n",
       "      <td>Bag Stuffers</td>\n",
       "      <td>USA</td>\n",
       "      <td>M</td>\n",
       "      <td>F</td>\n",
       "      <td>...</td>\n",
       "      <td>8670</td>\n",
       "      <td>5415</td>\n",
       "      <td>13610</td>\n",
       "      <td>1</td>\n",
       "      <td>1</td>\n",
       "      <td>1</td>\n",
       "      <td>1</td>\n",
       "      <td>1</td>\n",
       "      <td>Daily Paper, Radio</td>\n",
       "      <td>126.62</td>\n",
       "    </tr>\n",
       "    <tr>\n",
       "      <th>1</th>\n",
       "      <td>Breakfast Foods</td>\n",
       "      <td>Frozen Foods</td>\n",
       "      <td>Food</td>\n",
       "      <td>7.36</td>\n",
       "      <td>2.7232</td>\n",
       "      <td>4</td>\n",
       "      <td>Bag Stuffers</td>\n",
       "      <td>USA</td>\n",
       "      <td>M</td>\n",
       "      <td>F</td>\n",
       "      <td>...</td>\n",
       "      <td>18670</td>\n",
       "      <td>5415</td>\n",
       "      <td>3610</td>\n",
       "      <td>1</td>\n",
       "      <td>1</td>\n",
       "      <td>1</td>\n",
       "      <td>1</td>\n",
       "      <td>1</td>\n",
       "      <td>Daily Paper, Radio</td>\n",
       "      <td>126.62</td>\n",
       "    </tr>\n",
       "    <tr>\n",
       "      <th>2</th>\n",
       "      <td>Breakfast Foods</td>\n",
       "      <td>Frozen Foods</td>\n",
       "      <td>Food</td>\n",
       "      <td>5.52</td>\n",
       "      <td>2.5944</td>\n",
       "      <td>3</td>\n",
       "      <td>Cash Register Lottery</td>\n",
       "      <td>USA</td>\n",
       "      <td>M</td>\n",
       "      <td>M</td>\n",
       "      <td>...</td>\n",
       "      <td>18670</td>\n",
       "      <td>5415</td>\n",
       "      <td>3610</td>\n",
       "      <td>1</td>\n",
       "      <td>1</td>\n",
       "      <td>1</td>\n",
       "      <td>1</td>\n",
       "      <td>1</td>\n",
       "      <td>Daily Paper, Radio</td>\n",
       "      <td>59.86</td>\n",
       "    </tr>\n",
       "    <tr>\n",
       "      <th>3</th>\n",
       "      <td>Breakfast Foods</td>\n",
       "      <td>Frozen Foods</td>\n",
       "      <td>Food</td>\n",
       "      <td>3.68</td>\n",
       "      <td>1.3616</td>\n",
       "      <td>2</td>\n",
       "      <td>High Roller Savings</td>\n",
       "      <td>USA</td>\n",
       "      <td>S</td>\n",
       "      <td>F</td>\n",
       "      <td>...</td>\n",
       "      <td>18670</td>\n",
       "      <td>5415</td>\n",
       "      <td>3610</td>\n",
       "      <td>1</td>\n",
       "      <td>1</td>\n",
       "      <td>1</td>\n",
       "      <td>1</td>\n",
       "      <td>1</td>\n",
       "      <td>Daily Paper, Radio</td>\n",
       "      <td>84.16</td>\n",
       "    </tr>\n",
       "    <tr>\n",
       "      <th>4</th>\n",
       "      <td>Breakfast Foods</td>\n",
       "      <td>Frozen Foods</td>\n",
       "      <td>Food</td>\n",
       "      <td>3.68</td>\n",
       "      <td>1.1776</td>\n",
       "      <td>2</td>\n",
       "      <td>Cash Register Lottery</td>\n",
       "      <td>USA</td>\n",
       "      <td>M</td>\n",
       "      <td>F</td>\n",
       "      <td>...</td>\n",
       "      <td>18670</td>\n",
       "      <td>5415</td>\n",
       "      <td>3610</td>\n",
       "      <td>1</td>\n",
       "      <td>1</td>\n",
       "      <td>1</td>\n",
       "      <td>1</td>\n",
       "      <td>1</td>\n",
       "      <td>In-Store Coupon</td>\n",
       "      <td>95.78</td>\n",
       "    </tr>\n",
       "  </tbody>\n",
       "</table>\n",
       "<p>5 rows × 40 columns</p>\n",
       "</div>"
      ],
      "text/plain": [
       "     food_category food_department food_family  store_sales(in millions)  \\\n",
       "0  Breakfast Foods    Frozen Foods        Food                      7.36   \n",
       "1  Breakfast Foods    Frozen Foods        Food                      7.36   \n",
       "2  Breakfast Foods    Frozen Foods        Food                      5.52   \n",
       "3  Breakfast Foods    Frozen Foods        Food                      3.68   \n",
       "4  Breakfast Foods    Frozen Foods        Food                      3.68   \n",
       "\n",
       "   store_cost(in millions)  unit_sales(in millions)         promotion_name  \\\n",
       "0                   2.7232                        4           Bag Stuffers   \n",
       "1                   2.7232                        4           Bag Stuffers   \n",
       "2                   2.5944                        3  Cash Register Lottery   \n",
       "3                   1.3616                        2    High Roller Savings   \n",
       "4                   1.1776                        2  Cash Register Lottery   \n",
       "\n",
       "  sales_country marital_status gender  ...  grocery_sqft frozen_sqft  \\\n",
       "0           USA              M      F  ...          8670        5415   \n",
       "1           USA              M      F  ...         18670        5415   \n",
       "2           USA              M      M  ...         18670        5415   \n",
       "3           USA              S      F  ...         18670        5415   \n",
       "4           USA              M      F  ...         18670        5415   \n",
       "\n",
       "  meat_sqft coffee_bar video_store  salad_bar prepared_food  florist  \\\n",
       "0     13610          1           1          1             1        1   \n",
       "1      3610          1           1          1             1        1   \n",
       "2      3610          1           1          1             1        1   \n",
       "3      3610          1           1          1             1        1   \n",
       "4      3610          1           1          1             1        1   \n",
       "\n",
       "           media_type    cost  \n",
       "0  Daily Paper, Radio  126.62  \n",
       "1  Daily Paper, Radio  126.62  \n",
       "2  Daily Paper, Radio   59.86  \n",
       "3  Daily Paper, Radio   84.16  \n",
       "4     In-Store Coupon   95.78  \n",
       "\n",
       "[5 rows x 40 columns]"
      ]
     },
     "execution_count": 4,
     "metadata": {},
     "output_type": "execute_result"
    }
   ],
   "source": [
    "df_raw.head()"
   ]
  },
  {
   "cell_type": "markdown",
   "metadata": {
    "id": "4HOZ5MTIP3Lz"
   },
   "source": [
    "# Model Development"
   ]
  },
  {
   "cell_type": "code",
   "execution_count": 5,
   "metadata": {},
   "outputs": [],
   "source": [
    "y = df_raw['cost']\n",
    "X = df_raw.drop(columns = ['cost'])\n",
    "X = pd.get_dummies(X)"
   ]
  },
  {
   "cell_type": "code",
   "execution_count": 6,
   "metadata": {
    "id": "1GRLE-HnX2Dt"
   },
   "outputs": [],
   "source": [
    "from sklearn.model_selection import train_test_split\n",
    "X_train_final, X_test_final, y_train, y_test = train_test_split(X, y, test_size = 0.3, random_state = 0)"
   ]
  },
  {
   "cell_type": "code",
   "execution_count": 7,
   "metadata": {
    "id": "QMi3lO79w6_N"
   },
   "outputs": [],
   "source": [
    "X_test_final, X_val_final, y_test, y_val = train_test_split(X_test_final, y_test, test_size = 0.5, random_state = 0)"
   ]
  },
  {
   "cell_type": "markdown",
   "metadata": {},
   "source": [
    "Since the model from TPOT yielded the lowest RMSE, we train the model based on parameters derived from TPOT as our final model."
   ]
  },
  {
   "cell_type": "code",
   "execution_count": 8,
   "metadata": {},
   "outputs": [],
   "source": [
    "from sklearn.ensemble import ExtraTreesRegressor\n",
    "extratree_best = ExtraTreesRegressor(random_state = 0, bootstrap=False, max_features=0.25, min_samples_leaf=3, min_samples_split=4, n_estimators=100)\n",
    "final_model_opt = extratree_best.fit(X_train_final, y_train)\n",
    "y_test_pred_final = final_model_opt.predict(X_test_final)"
   ]
  },
  {
   "cell_type": "code",
   "execution_count": 9,
   "metadata": {},
   "outputs": [
    {
     "data": {
      "text/plain": [
       "0.8370493487269288"
      ]
     },
     "execution_count": 9,
     "metadata": {},
     "output_type": "execute_result"
    }
   ],
   "source": [
    "from sklearn.metrics import mean_squared_error\n",
    "final_model_opt_mse = mean_squared_error(y_test, y_test_pred_final, squared=False)\n",
    "final_model_opt_mse"
   ]
  },
  {
   "cell_type": "markdown",
   "metadata": {},
   "source": [
    "# Model Interpretation"
   ]
  },
  {
   "cell_type": "markdown",
   "metadata": {},
   "source": [
    "Feature Importances"
   ]
  },
  {
   "cell_type": "code",
   "execution_count": 10,
   "metadata": {},
   "outputs": [
    {
     "data": {
      "text/html": [
       "<div>\n",
       "<style scoped>\n",
       "    .dataframe tbody tr th:only-of-type {\n",
       "        vertical-align: middle;\n",
       "    }\n",
       "\n",
       "    .dataframe tbody tr th {\n",
       "        vertical-align: top;\n",
       "    }\n",
       "\n",
       "    .dataframe thead th {\n",
       "        text-align: right;\n",
       "    }\n",
       "</style>\n",
       "<table border=\"1\" class=\"dataframe\">\n",
       "  <thead>\n",
       "    <tr style=\"text-align: right;\">\n",
       "      <th></th>\n",
       "      <th>feature significance</th>\n",
       "    </tr>\n",
       "  </thead>\n",
       "  <tbody>\n",
       "    <tr>\n",
       "      <th>promotion_name_Free For All</th>\n",
       "      <td>0.030259</td>\n",
       "    </tr>\n",
       "    <tr>\n",
       "      <th>promotion_name_Super Savers</th>\n",
       "      <td>0.024277</td>\n",
       "    </tr>\n",
       "    <tr>\n",
       "      <th>promotion_name_Price Slashers</th>\n",
       "      <td>0.023900</td>\n",
       "    </tr>\n",
       "    <tr>\n",
       "      <th>promotion_name_Save-It Sale</th>\n",
       "      <td>0.022458</td>\n",
       "    </tr>\n",
       "    <tr>\n",
       "      <th>promotion_name_Weekend Markdown</th>\n",
       "      <td>0.021975</td>\n",
       "    </tr>\n",
       "    <tr>\n",
       "      <th>media_type_Cash Register Handout</th>\n",
       "      <td>0.021568</td>\n",
       "    </tr>\n",
       "    <tr>\n",
       "      <th>promotion_name_Double Down Sale</th>\n",
       "      <td>0.021167</td>\n",
       "    </tr>\n",
       "    <tr>\n",
       "      <th>promotion_name_Money Savers</th>\n",
       "      <td>0.021012</td>\n",
       "    </tr>\n",
       "    <tr>\n",
       "      <th>promotion_name_Big Time Discounts</th>\n",
       "      <td>0.020412</td>\n",
       "    </tr>\n",
       "    <tr>\n",
       "      <th>media_type_Sunday Paper, Radio</th>\n",
       "      <td>0.020342</td>\n",
       "    </tr>\n",
       "  </tbody>\n",
       "</table>\n",
       "</div>"
      ],
      "text/plain": [
       "                                   feature significance\n",
       "promotion_name_Free For All                    0.030259\n",
       "promotion_name_Super Savers                    0.024277\n",
       "promotion_name_Price Slashers                  0.023900\n",
       "promotion_name_Save-It Sale                    0.022458\n",
       "promotion_name_Weekend Markdown                0.021975\n",
       "media_type_Cash Register Handout               0.021568\n",
       "promotion_name_Double Down Sale                0.021167\n",
       "promotion_name_Money Savers                    0.021012\n",
       "promotion_name_Big Time Discounts              0.020412\n",
       "media_type_Sunday Paper, Radio                 0.020342"
      ]
     },
     "execution_count": 10,
     "metadata": {},
     "output_type": "execute_result"
    }
   ],
   "source": [
    "feature_significances = pd.DataFrame(data = final_model_opt.feature_importances_, index = X_train_final.columns.to_numpy(), columns = ['feature significance'])\n",
    "feature_significances.sort_values('feature significance', ascending = False).head(10)"
   ]
  },
  {
   "cell_type": "markdown",
   "metadata": {},
   "source": [
    "SHAP"
   ]
  },
  {
   "cell_type": "code",
   "execution_count": 11,
   "metadata": {},
   "outputs": [
    {
     "name": "stdout",
     "output_type": "stream",
     "text": [
      "Requirement already satisfied: shap in c:\\users\\raman\\anaconda3\\lib\\site-packages (0.41.0)\n",
      "Requirement already satisfied: numpy in c:\\users\\raman\\anaconda3\\lib\\site-packages (from shap) (1.20.1)\n",
      "Requirement already satisfied: scikit-learn in c:\\users\\raman\\anaconda3\\lib\\site-packages (from shap) (1.2.1)\n",
      "Requirement already satisfied: scipy in c:\\users\\raman\\anaconda3\\lib\\site-packages (from shap) (1.6.2)\n",
      "Requirement already satisfied: pandas in c:\\users\\raman\\anaconda3\\lib\\site-packages (from shap) (1.4.3)\n",
      "Requirement already satisfied: numba in c:\\users\\raman\\anaconda3\\lib\\site-packages (from shap) (0.53.1)\n",
      "Requirement already satisfied: packaging>20.9 in c:\\users\\raman\\anaconda3\\lib\\site-packages (from shap) (21.3)\n",
      "Requirement already satisfied: slicer==0.0.7 in c:\\users\\raman\\anaconda3\\lib\\site-packages (from shap) (0.0.7)\n",
      "Requirement already satisfied: cloudpickle in c:\\users\\raman\\anaconda3\\lib\\site-packages (from shap) (1.6.0)\n",
      "Requirement already satisfied: tqdm>4.25.0 in c:\\users\\raman\\anaconda3\\lib\\site-packages (from shap) (4.59.0)\n",
      "Requirement already satisfied: pyparsing!=3.0.5,>=2.0.2 in c:\\users\\raman\\anaconda3\\lib\\site-packages (from packaging>20.9->shap) (2.4.7)\n",
      "Requirement already satisfied: llvmlite<0.37,>=0.36.0rc1 in c:\\users\\raman\\anaconda3\\lib\\site-packages (from numba->shap) (0.36.0)\n",
      "Requirement already satisfied: setuptools in c:\\users\\raman\\anaconda3\\lib\\site-packages (from numba->shap) (52.0.0.post20210125)\n",
      "Requirement already satisfied: pytz>=2020.1 in c:\\users\\raman\\anaconda3\\lib\\site-packages (from pandas->shap) (2021.1)\n",
      "Requirement already satisfied: python-dateutil>=2.8.1 in c:\\users\\raman\\anaconda3\\lib\\site-packages (from pandas->shap) (2.8.1)\n",
      "Requirement already satisfied: six>=1.5 in c:\\users\\raman\\anaconda3\\lib\\site-packages (from python-dateutil>=2.8.1->pandas->shap) (1.15.0)\n",
      "Requirement already satisfied: joblib>=1.1.1 in c:\\users\\raman\\anaconda3\\lib\\site-packages (from scikit-learn->shap) (1.2.0)\n",
      "Requirement already satisfied: threadpoolctl>=2.0.0 in c:\\users\\raman\\anaconda3\\lib\\site-packages (from scikit-learn->shap) (2.1.0)\n"
     ]
    }
   ],
   "source": [
    "!pip install shap"
   ]
  },
  {
   "cell_type": "code",
   "execution_count": 12,
   "metadata": {},
   "outputs": [],
   "source": [
    "import shap"
   ]
  },
  {
   "cell_type": "code",
   "execution_count": 13,
   "metadata": {},
   "outputs": [],
   "source": [
    "explainer = shap.Explainer(final_model_opt)\n",
    "shap_values = explainer(X_test_final)"
   ]
  },
  {
   "cell_type": "code",
   "execution_count": 14,
   "metadata": {},
   "outputs": [
    {
     "data": {
      "image/png": "[encoded data removed]",
      "text/plain": [
       "<Figure size 576x396 with 2 Axes>"
      ]
     },
     "metadata": {
      "needs_background": "light"
     },
     "output_type": "display_data"
    }
   ],
   "source": [
    "shap.plots.beeswarm(shap_values)"
   ]
  },
  {
   "cell_type": "code",
   "execution_count": 15,
   "metadata": {},
   "outputs": [
    {
     "data": {
      "text/html": [
       "\n",
       "<div id='iZN5XZBBSY41S9ZMPFW21'>\n",
       "<div style='color: #900; text-align: center;'>\n",
       "  <b>Visualization omitted, Javascript library not loaded!</b><br>\n",
       "  Have you run `initjs()` in this notebook? If this notebook was from another\n",
       "  user you must also trust this notebook (File -> Trust notebook). If you are viewing\n",
       "  this notebook on github the Javascript has been stripped for security. If you are using\n",
       "  JupyterLab this error is because a JupyterLab extension has not yet been written.\n",
       "</div></div>\n",
       " <script>\n",
       "   if (window.SHAP) SHAP.ReactDom.render(\n",
       "    SHAP.React.createElement(SHAP.AdditiveForceVisualizer, {\"outNames\": [\"f(x)\"], \"baseValue\": 99.25813262411353, \"outValue\": 136.73774622015063, \"link\": \"identity\", \"featureNames\": [\"store_sales(in millions)\", \"store_cost(in millions)\", \"unit_sales(in millions)\", \"total_children\", \"avg_cars_at home(approx)\", \"num_children_at_home\", \"avg_cars_at home(approx).1\", \"SRP\", \"gross_weight\", \"net_weight\", \"recyclable_package\", \"low_fat\", \"units_per_case\", \"store_sqft\", \"grocery_sqft\", \"frozen_sqft\", \"meat_sqft\", \"coffee_bar\", \"video_store\", \"salad_bar\", \"prepared_food\", \"florist\", \"food_category_Baking Goods\", \"food_category_Bathroom Products\", \"food_category_Beer and Wine\", \"food_category_Bread\", \"food_category_Breakfast Foods\", \"food_category_Candles\", \"food_category_Candy\", \"food_category_Canned Anchovies\", \"food_category_Canned Clams\", \"food_category_Canned Oysters\", \"food_category_Canned Sardines\", \"food_category_Canned Shrimp\", \"food_category_Canned Soup\", \"food_category_Canned Tuna\", \"food_category_Carbonated Beverages\", \"food_category_Cleaning Supplies\", \"food_category_Cold Remedies\", \"food_category_Dairy\", \"food_category_Decongestants\", \"food_category_Drinks\", \"food_category_Eggs\", \"food_category_Electrical\", \"food_category_Frozen Desserts\", \"food_category_Frozen Entrees\", \"food_category_Fruit\", \"food_category_Hardware\", \"food_category_Hot Beverages\", \"food_category_Hygiene\", \"food_category_Jams and Jellies\", \"food_category_Kitchen Products\", \"food_category_Magazines\", \"food_category_Meat\", \"food_category_Miscellaneous\", \"food_category_Packaged Vegetables\", \"food_category_Pain Relievers\", \"food_category_Paper Products\", \"food_category_Pizza\", \"food_category_Plastic Products\", \"food_category_Pure Juice Beverages\", \"food_category_Seafood\", \"food_category_Side Dishes\", \"food_category_Snack Foods\", \"food_category_Specialty\", \"food_category_Starchy Foods\", \"food_category_Vegetables\", \"food_department_Alcoholic Beverages\", \"food_department_Baked Goods\", \"food_department_Baking Goods\", \"food_department_Beverages\", \"food_department_Breakfast Foods\", \"food_department_Canned Foods\", \"food_department_Canned Products\", \"food_department_Carousel\", \"food_department_Checkout\", \"food_department_Dairy\", \"food_department_Deli\", \"food_department_Eggs\", \"food_department_Frozen Foods\", \"food_department_Health and Hygiene\", \"food_department_Household\", \"food_department_Meat\", \"food_department_Periodicals\", \"food_department_Produce\", \"food_department_Seafood\", \"food_department_Snack Foods\", \"food_department_Snacks\", \"food_department_Starchy Foods\", \"food_family_Drink\", \"food_family_Food\", \"food_family_Non-Consumable\", \"promotion_name_Bag Stuffers\", \"promotion_name_Best Savings\", \"promotion_name_Big Promo\", \"promotion_name_Big Time Discounts\", \"promotion_name_Big Time Savings\", \"promotion_name_Bye Bye Baby\", \"promotion_name_Cash Register Lottery\", \"promotion_name_Coupon Spectacular\", \"promotion_name_Dimes Off\", \"promotion_name_Dollar Cutters\", \"promotion_name_Dollar Days\", \"promotion_name_Double Down Sale\", \"promotion_name_Double Your Savings\", \"promotion_name_Fantastic Discounts\", \"promotion_name_Free For All\", \"promotion_name_Go For It\", \"promotion_name_Green Light Days\", \"promotion_name_Green Light Special\", \"promotion_name_High Roller Savings\", \"promotion_name_I Cant Believe It Sale\", \"promotion_name_Money Savers\", \"promotion_name_Mystery Sale\", \"promotion_name_One Day Sale\", \"promotion_name_Pick Your Savings\", \"promotion_name_Price Cutters\", \"promotion_name_Price Destroyers\", \"promotion_name_Price Savers\", \"promotion_name_Price Slashers\", \"promotion_name_Price Smashers\", \"promotion_name_Price Winners\", \"promotion_name_Sale Winners\", \"promotion_name_Sales Days\", \"promotion_name_Sales Galore\", \"promotion_name_Save-It Sale\", \"promotion_name_Saving Days\", \"promotion_name_Savings Galore\", \"promotion_name_Shelf Clearing Days\", \"promotion_name_Shelf Emptiers\", \"promotion_name_Super Duper Savers\", \"promotion_name_Super Savers\", \"promotion_name_Super Wallet Savers\", \"promotion_name_Three for One\", \"promotion_name_Tip Top Savings\", \"promotion_name_Two Day Sale\", \"promotion_name_Two for One\", \"promotion_name_Unbeatable Price Savers\", \"promotion_name_Wallet Savers\", \"promotion_name_Weekend Markdown\", \"promotion_name_You Save Days\", \"sales_country_Canada\", \"sales_country_Mexico\", \"sales_country_USA\", \"marital_status_M\", \"marital_status_S\", \"gender_F\", \"gender_M\", \"education_Bachelors Degree\", \"education_Graduate Degree\", \"education_High School Degree\", \"education_Partial College\", \"education_Partial High School\", \"member_card_Bronze\", \"member_card_Golden\", \"member_card_Normal\", \"member_card_Silver\", \"occupation_Clerical\", \"occupation_Management\", \"occupation_Manual\", \"occupation_Professional\", \"occupation_Skilled Manual\", \"houseowner_N\", \"houseowner_Y\", \"avg. yearly_income_$10K - $30K\", \"avg. yearly_income_$110K - $130K\", \"avg. yearly_income_$130K - $150K\", \"avg. yearly_income_$150K +\", \"avg. yearly_income_$30K - $50K\", \"avg. yearly_income_$50K - $70K\", \"avg. yearly_income_$70K - $90K\", \"avg. yearly_income_$90K - $110K\", \"brand_name_ADJ\", \"brand_name_Akron\", \"brand_name_American\", \"brand_name_Amigo\", \"brand_name_Applause\", \"brand_name_Atomic\", \"brand_name_BBB Best\", \"brand_name_Best\", \"brand_name_Best Choice\", \"brand_name_Better\", \"brand_name_Big City\", \"brand_name_Big Time\", \"brand_name_Bird Call\", \"brand_name_Black Tie\", \"brand_name_Blue Label\", \"brand_name_Blue Medal\", \"brand_name_Booker\", \"brand_name_Bravo\", \"brand_name_CDR\", \"brand_name_Carlson\", \"brand_name_Carrington\", \"brand_name_Choice\", \"brand_name_Club\", \"brand_name_Colony\", \"brand_name_Colossal\", \"brand_name_Consolidated\", \"brand_name_Cormorant\", \"brand_name_Curlew\", \"brand_name_Cutting Edge\", \"brand_name_Denny\", \"brand_name_Discover\", \"brand_name_Dollar\", \"brand_name_Dual City\", \"brand_name_Ebony\", \"brand_name_Even Better\", \"brand_name_Excel\", \"brand_name_Excellent\", \"brand_name_Fabulous\", \"brand_name_Fantastic\", \"brand_name_Fast\", \"brand_name_Faux Products\", \"brand_name_Footnote\", \"brand_name_Fort West\", \"brand_name_Framton\", \"brand_name_Gauss\", \"brand_name_Genteel\", \"brand_name_Gerolli\", \"brand_name_Giant\", \"brand_name_Golden\", \"brand_name_Good\", \"brand_name_Gorilla\", \"brand_name_Great\", \"brand_name_Green Ribbon\", \"brand_name_Gulf Coast\", \"brand_name_Hermanos\", \"brand_name_High Quality\", \"brand_name_High Top\", \"brand_name_Hilltop\", \"brand_name_Horatio\", \"brand_name_Imagine\", \"brand_name_James Bay\", \"brand_name_Jardon\", \"brand_name_Jeffers\", \"brand_name_Johnson\", \"brand_name_Jumbo\", \"brand_name_Just Right\", \"brand_name_King\", \"brand_name_Kiwi\", \"brand_name_Lake\", \"brand_name_Landslide\", \"brand_name_Medalist\", \"brand_name_Mighty Good\", \"brand_name_Modell\", \"brand_name_Moms\", \"brand_name_Monarch\", \"brand_name_Musial\", \"brand_name_National\", \"brand_name_Nationeel\", \"brand_name_Pearl\", \"brand_name_PigTail\", \"brand_name_Plato\", \"brand_name_Pleasant\", \"brand_name_Portsmouth\", \"brand_name_Prelude\", \"brand_name_Queen\", \"brand_name_Quick\", \"brand_name_Radius\", \"brand_name_Red Spade\", \"brand_name_Red Wing\", \"brand_name_Robust\", \"brand_name_Shady Lake\", \"brand_name_Ship Shape\", \"brand_name_Skinner\", \"brand_name_Special\", \"brand_name_Sphinx\", \"brand_name_Steady\", \"brand_name_Sunset\", \"brand_name_Super\", \"brand_name_Swell\", \"brand_name_Symphony\", \"brand_name_Tell Tale\", \"brand_name_Thresher\", \"brand_name_Tip Top\", \"brand_name_Token\", \"brand_name_Top Measure\", \"brand_name_Toretti\", \"brand_name_Toucan\", \"brand_name_Tri-State\", \"brand_name_Urban\", \"brand_name_Walrus\", \"brand_name_Washington\", \"store_type_Deluxe Supermarket\", \"store_type_Gourmet Supermarket\", \"store_type_Mid-Size Grocery\", \"store_type_Small Grocery\", \"store_type_Supermarket\", \"store_city_Acapulco\", \"store_city_Bellingham\", \"store_city_Beverly Hills\", \"store_city_Bremerton\", \"store_city_Camacho\", \"store_city_Guadalajara\", \"store_city_Hidalgo\", \"store_city_Los Angeles\", \"store_city_Merida\", \"store_city_Mexico City\", \"store_city_Orizaba\", \"store_city_Portland\", \"store_city_Salem\", \"store_city_San Francisco\", \"store_city_Seattle\", \"store_city_Spokane\", \"store_city_Tacoma\", \"store_city_Vancouver\", \"store_city_Victoria\", \"store_state_BC\", \"store_state_CA\", \"store_state_DF\", \"store_state_Guerrero\", \"store_state_Jalisco\", \"store_state_OR\", \"store_state_Veracruz\", \"store_state_WA\", \"store_state_Yucatan\", \"store_state_Zacatecas\", \"media_type_Bulk Mail\", \"media_type_Cash Register Handout\", \"media_type_Daily Paper\", \"media_type_Daily Paper, Radio\", \"media_type_Daily Paper, Radio, TV\", \"media_type_In-Store Coupon\", \"media_type_Product Attachment\", \"media_type_Radio\", \"media_type_Street Handout\", \"media_type_Sunday Paper\", \"media_type_Sunday Paper, Radio\", \"media_type_Sunday Paper, Radio, TV\", \"media_type_TV\"], \"features\": {\"0\": {\"effect\": -0.0008086895686074383, \"value\": 2.37}, \"1\": {\"effect\": 0.000684040568906362, \"value\": 0.8058}, \"2\": {\"effect\": 0.013929314844605207, \"value\": 3.0}, \"3\": {\"effect\": -0.0045039637231650415, \"value\": 0.0}, \"4\": {\"effect\": -0.015562696151160207, \"value\": 1.0}, \"5\": {\"effect\": -0.0016440141485954383, \"value\": 0.0}, \"6\": {\"effect\": -0.00948007102756963, \"value\": 1.0}, \"7\": {\"effect\": -0.0008208691174550497, \"value\": 0.79}, \"8\": {\"effect\": 0.0005511473839835007, \"value\": 9.65}, \"9\": {\"effect\": 0.0007832567953914239, \"value\": 7.64}, \"10\": {\"effect\": -0.0015367883325331099, \"value\": 1.0}, \"11\": {\"effect\": 0.0014054238538561876, \"value\": 0.0}, \"12\": {\"effect\": 0.00042124783621939286, \"value\": 14.0}, \"13\": {\"effect\": 0.09954072684634635, \"value\": 33858.0}, \"14\": {\"effect\": -0.11394167383038441, \"value\": 22123.0}, \"15\": {\"effect\": 0.10179804249705003, \"value\": 7041.0}, \"16\": {\"effect\": 0.05201745712116325, \"value\": 4694.0}, \"17\": {\"effect\": -0.051354460082327295, \"value\": 1.0}, \"18\": {\"effect\": 0.40034092511428776, \"value\": 0.0}, \"19\": {\"effect\": -0.017791119861891302, \"value\": 1.0}, \"20\": {\"effect\": 0.02233950907049767, \"value\": 1.0}, \"21\": {\"effect\": 0.15755312048069703, \"value\": 1.0}, \"22\": {\"effect\": -0.0005946021440820024, \"value\": 0.0}, \"23\": {\"effect\": -0.00013887174505480463, \"value\": 0.0}, \"24\": {\"effect\": -2.0642326333429737e-05, \"value\": 0.0}, \"25\": {\"effect\": -5.5918268628578436e-05, \"value\": 0.0}, \"26\": {\"effect\": -0.0001310717681042535, \"value\": 0.0}, \"27\": {\"effect\": 4.4946956313102193e-17, \"value\": 0.0}, \"28\": {\"effect\": 9.304759479334735e-05, \"value\": 0.0}, \"29\": {\"effect\": -1.2158066979399418e-14, \"value\": 0.0}, \"30\": {\"effect\": -0.000551013155045471, \"value\": 1.0}, \"31\": {\"effect\": 1.5559564985585542e-06, \"value\": 0.0}, \"32\": {\"effect\": -1.1673130452700964e-16, \"value\": 0.0}, \"33\": {\"effect\": 4.641740550953566e-19, \"value\": 0.0}, \"34\": {\"effect\": 0.0010407173202282025, \"value\": 0.0}, \"35\": {\"effect\": -1.5808824133113554e-05, \"value\": 0.0}, \"36\": {\"effect\": 1.1087465926513568e-05, \"value\": 0.0}, \"37\": {\"effect\": 0.0001660805049189318, \"value\": 0.0}, \"38\": {\"effect\": 1.931602517350078e-06, \"value\": 0.0}, \"39\": {\"effect\": 0.00039113379164831656, \"value\": 0.0}, \"40\": {\"effect\": -1.889570397860738e-05, \"value\": 0.0}, \"41\": {\"effect\": 2.7909815842167335e-05, \"value\": 0.0}, \"42\": {\"effect\": -3.765489163172641e-05, \"value\": 0.0}, \"43\": {\"effect\": 4.74765737363973e-05, \"value\": 0.0}, \"44\": {\"effect\": 2.395228057904933e-05, \"value\": 0.0}, \"45\": {\"effect\": -1.1409462213853446e-05, \"value\": 0.0}, \"46\": {\"effect\": -6.823970768968758e-05, \"value\": 0.0}, \"47\": {\"effect\": 2.6084156308258393e-05, \"value\": 0.0}, \"48\": {\"effect\": 9.700755956467765e-07, \"value\": 0.0}, \"49\": {\"effect\": -3.922963526454052e-06, \"value\": 0.0}, \"50\": {\"effect\": 5.131211518777626e-05, \"value\": 0.0}, \"51\": {\"effect\": -7.510219301857545e-06, \"value\": 0.0}, \"52\": {\"effect\": 2.6542617868322408e-05, \"value\": 0.0}, \"53\": {\"effect\": -9.71612276144943e-06, \"value\": 0.0}, \"56\": {\"effect\": -1.1306911134796768e-05, \"value\": 0.0}, \"57\": {\"effect\": -1.0699081546163692e-05, \"value\": 0.0}, \"58\": {\"effect\": 5.957260366391271e-05, \"value\": 0.0}, \"59\": {\"effect\": 1.676494149990008e-05, \"value\": 0.0}, \"60\": {\"effect\": 2.3332111740246707e-05, \"value\": 0.0}, \"61\": {\"effect\": -4.75063781715801e-14, \"value\": 0.0}, \"62\": {\"effect\": 1.1814028060213928e-05, \"value\": 0.0}, \"63\": {\"effect\": 0.00010162304749759127, \"value\": 0.0}, \"64\": {\"effect\": 1.7521415111957585e-05, \"value\": 0.0}, \"65\": {\"effect\": -6.391487162188716e-05, \"value\": 0.0}, \"66\": {\"effect\": -0.00046717934787492995, \"value\": 0.0}, \"67\": {\"effect\": 3.283920322126851e-05, \"value\": 0.0}, \"68\": {\"effect\": 5.369226430281662e-06, \"value\": 0.0}, \"69\": {\"effect\": 0.0002190486553609467, \"value\": 0.0}, \"70\": {\"effect\": -3.054144267761505e-05, \"value\": 0.0}, \"71\": {\"effect\": -2.330082952897261e-05, \"value\": 0.0}, \"72\": {\"effect\": 0.00028552086601413, \"value\": 1.0}, \"73\": {\"effect\": -2.24351351792628e-06, \"value\": 0.0}, \"74\": {\"effect\": -7.947477781265625e-11, \"value\": 0.0}, \"75\": {\"effect\": -9.020955465576143e-06, \"value\": 0.0}, \"76\": {\"effect\": 0.0005075365514558549, \"value\": 0.0}, \"77\": {\"effect\": -0.0001486975732312518, \"value\": 0.0}, \"78\": {\"effect\": -2.8376714096084626e-06, \"value\": 0.0}, \"79\": {\"effect\": 8.097575883330273e-05, \"value\": 0.0}, \"80\": {\"effect\": -0.0001506766229662965, \"value\": 0.0}, \"81\": {\"effect\": -0.0004232060158718649, \"value\": 0.0}, \"82\": {\"effect\": -2.372456386580983e-06, \"value\": 0.0}, \"83\": {\"effect\": 0.00024386162377365429, \"value\": 0.0}, \"84\": {\"effect\": 0.0002919999478086022, \"value\": 0.0}, \"85\": {\"effect\": -1.9840195355773336e-05, \"value\": 0.0}, \"86\": {\"effect\": 0.0002763983455908885, \"value\": 0.0}, \"87\": {\"effect\": 8.708020514665776e-05, \"value\": 0.0}, \"88\": {\"effect\": -0.00014443497805947174, \"value\": 0.0}, \"89\": {\"effect\": 5.267947142628736e-05, \"value\": 0.0}, \"90\": {\"effect\": 0.0006685919147416531, \"value\": 1.0}, \"91\": {\"effect\": -0.000432143433161364, \"value\": 0.0}, \"92\": {\"effect\": 0.04580188540139999, \"value\": 0.0}, \"93\": {\"effect\": 0.41122625845714716, \"value\": 0.0}, \"94\": {\"effect\": 0.7343384048423691, \"value\": 0.0}, \"95\": {\"effect\": 0.15957748040644334, \"value\": 0.0}, \"96\": {\"effect\": -0.03927529530106231, \"value\": 0.0}, \"97\": {\"effect\": 0.012638091599256975, \"value\": 0.0}, \"98\": {\"effect\": 0.25596263961457083, \"value\": 0.0}, \"99\": {\"effect\": 0.023452904911027604, \"value\": 0.0}, \"100\": {\"effect\": -0.12951230961489626, \"value\": 0.0}, \"101\": {\"effect\": 18.85596766175679, \"value\": 1.0}, \"102\": {\"effect\": -0.23878215963254545, \"value\": 0.0}, \"103\": {\"effect\": 0.709184088392336, \"value\": 0.0}, \"104\": {\"effect\": -0.004511449615486409, \"value\": 0.0}, \"105\": {\"effect\": -0.03495707806382162, \"value\": 0.0}, \"106\": {\"effect\": 0.00717121201418379, \"value\": 0.0}, \"107\": {\"effect\": 0.12354536650353558, \"value\": 0.0}, \"108\": {\"effect\": 0.011948013720912578, \"value\": 0.0}, \"109\": {\"effect\": -0.05082999563799176, \"value\": 0.0}, \"110\": {\"effect\": 0.023036796796376453, \"value\": 0.0}, \"111\": {\"effect\": 0.10747368059604315, \"value\": 0.0}, \"112\": {\"effect\": 0.5185049389797345, \"value\": 0.0}, \"113\": {\"effect\": 0.041656853807340834, \"value\": 0.0}, \"114\": {\"effect\": -0.16639404967977023, \"value\": 0.0}, \"115\": {\"effect\": 0.06519244014324871, \"value\": 0.0}, \"116\": {\"effect\": -0.1062024626641851, \"value\": 0.0}, \"117\": {\"effect\": -0.017465265504836232, \"value\": 0.0}, \"118\": {\"effect\": 0.7122567802465244, \"value\": 0.0}, \"119\": {\"effect\": 0.9718565144849055, \"value\": 0.0}, \"120\": {\"effect\": 0.0023477876875509355, \"value\": 0.0}, \"121\": {\"effect\": 0.056081320991505146, \"value\": 0.0}, \"122\": {\"effect\": -0.08863763339031831, \"value\": 0.0}, \"123\": {\"effect\": -0.09591067118705444, \"value\": 0.0}, \"124\": {\"effect\": -0.3823887687091988, \"value\": 0.0}, \"125\": {\"effect\": 0.014950971205729703, \"value\": 0.0}, \"126\": {\"effect\": 0.3971992280033307, \"value\": 0.0}, \"127\": {\"effect\": -0.1519436307960574, \"value\": 0.0}, \"128\": {\"effect\": 0.09608237495556868, \"value\": 0.0}, \"129\": {\"effect\": -0.1243772882060188, \"value\": 0.0}, \"130\": {\"effect\": 0.9994270558028338, \"value\": 0.0}, \"131\": {\"effect\": 0.11711211561468475, \"value\": 0.0}, \"132\": {\"effect\": -0.014469274798193602, \"value\": 0.0}, \"133\": {\"effect\": -0.1925670358437558, \"value\": 0.0}, \"134\": {\"effect\": -0.13687021855402196, \"value\": 0.0}, \"135\": {\"effect\": -0.04339416270948122, \"value\": 0.0}, \"136\": {\"effect\": 1.0309401707639616, \"value\": 0.0}, \"137\": {\"effect\": 0.06256585920817562, \"value\": 0.0}, \"138\": {\"effect\": 0.19394361328651102, \"value\": 0.0}, \"139\": {\"effect\": 0.5816337708415782, \"value\": 0.0}, \"140\": {\"effect\": -0.013752963154262391, \"value\": 0.0}, \"141\": {\"effect\": 0.018310772196236252, \"value\": 0.0}, \"142\": {\"effect\": 0.9038744756106728, \"value\": 0.0}, \"143\": {\"effect\": 0.3922343491835291, \"value\": 1.0}, \"144\": {\"effect\": 0.004038143535648735, \"value\": 0.0}, \"145\": {\"effect\": 0.0025056807673472146, \"value\": 1.0}, \"146\": {\"effect\": -3.993179569428341e-05, \"value\": 0.0}, \"147\": {\"effect\": 0.003981510718839007, \"value\": 1.0}, \"148\": {\"effect\": -0.001206796684238778, \"value\": 0.0}, \"149\": {\"effect\": -0.00015765501222190684, \"value\": 0.0}, \"150\": {\"effect\": 0.008952403000457047, \"value\": 0.0}, \"151\": {\"effect\": -0.000594536226541221, \"value\": 0.0}, \"152\": {\"effect\": 0.004612756369572782, \"value\": 1.0}, \"153\": {\"effect\": -0.003856109214124381, \"value\": 1.0}, \"154\": {\"effect\": 0.0024043523791756893, \"value\": 0.0}, \"155\": {\"effect\": 0.0016965496530745295, \"value\": 0.0}, \"156\": {\"effect\": 0.002485101605382958, \"value\": 0.0}, \"157\": {\"effect\": -0.00034858861709347695, \"value\": 0.0}, \"158\": {\"effect\": 0.009292420792711024, \"value\": 0.0}, \"159\": {\"effect\": 0.005942329263021287, \"value\": 1.0}, \"160\": {\"effect\": -0.0012610238418634323, \"value\": 0.0}, \"161\": {\"effect\": -0.0008112866625831034, \"value\": 0.0}, \"162\": {\"effect\": 0.0023755178035781924, \"value\": 0.0}, \"163\": {\"effect\": -0.002552818452866445, \"value\": 1.0}, \"164\": {\"effect\": 0.005246418151206383, \"value\": 0.0}, \"165\": {\"effect\": -0.0009538470633941975, \"value\": 0.0}, \"166\": {\"effect\": 0.0024210822572389786, \"value\": 0.0}, \"167\": {\"effect\": 0.0007857254757323326, \"value\": 0.0}, \"168\": {\"effect\": -0.005365901927548529, \"value\": 1.0}, \"169\": {\"effect\": -0.0009893357356972332, \"value\": 0.0}, \"170\": {\"effect\": 0.0010337396843476641, \"value\": 0.0}, \"171\": {\"effect\": 0.002870828195702984, \"value\": 0.0}, \"174\": {\"effect\": 4.555581053396268e-06, \"value\": 0.0}, \"177\": {\"effect\": -1.0492593121312197e-05, \"value\": 0.0}, \"178\": {\"effect\": 2.0465438064555152e-05, \"value\": 0.0}, \"179\": {\"effect\": 1.0321446150714373e-05, \"value\": 0.0}, \"180\": {\"effect\": 0.00019301207637172768, \"value\": 0.0}, \"181\": {\"effect\": -0.00014407455562167457, \"value\": 0.0}, \"183\": {\"effect\": -3.4242518522661455e-05, \"value\": 0.0}, \"184\": {\"effect\": -8.935177033422408e-06, \"value\": 0.0}, \"186\": {\"effect\": 3.1064232873539123e-06, \"value\": 0.0}, \"187\": {\"effect\": 5.0866109704817385e-11, \"value\": 0.0}, \"188\": {\"effect\": 2.818159191719206e-05, \"value\": 0.0}, \"189\": {\"effect\": -2.4378532348174253e-06, \"value\": 0.0}, \"190\": {\"effect\": -5.960302208497611e-07, \"value\": 0.0}, \"191\": {\"effect\": 3.906965600586457e-05, \"value\": 0.0}, \"192\": {\"effect\": -0.00020624061735346954, \"value\": 0.0}, \"193\": {\"effect\": 1.3558723249244028e-05, \"value\": 0.0}, \"194\": {\"effect\": -0.0001702143090568556, \"value\": 0.0}, \"195\": {\"effect\": -6.072888504881274e-06, \"value\": 0.0}, \"197\": {\"effect\": 3.187504797556191e-05, \"value\": 0.0}, \"198\": {\"effect\": -0.00022253624055106763, \"value\": 0.0}, \"200\": {\"effect\": -1.6304079972597065e-05, \"value\": 0.0}, \"201\": {\"effect\": -3.639798493678935e-05, \"value\": 0.0}, \"202\": {\"effect\": 7.546429345905354e-06, \"value\": 0.0}, \"203\": {\"effect\": -5.215275860566818e-06, \"value\": 0.0}, \"205\": {\"effect\": 7.53327682195872e-05, \"value\": 0.0}, \"206\": {\"effect\": -1.5193363350126396e-05, \"value\": 0.0}, \"207\": {\"effect\": 6.139608339414925e-13, \"value\": 0.0}, \"208\": {\"effect\": 7.857210188010269e-07, \"value\": 0.0}, \"209\": {\"effect\": 1.505265387355874e-05, \"value\": 0.0}, \"210\": {\"effect\": 2.1399104342181897e-06, \"value\": 0.0}, \"211\": {\"effect\": 0.00012352275897117788, \"value\": 0.0}, \"212\": {\"effect\": -9.96689143934805e-05, \"value\": 0.0}, \"214\": {\"effect\": 3.3522489352693514e-06, \"value\": 0.0}, \"216\": {\"effect\": 2.8526313019294154e-05, \"value\": 0.0}, \"219\": {\"effect\": -1.3209604205972166e-05, \"value\": 0.0}, \"220\": {\"effect\": -5.428070028539166e-05, \"value\": 0.0}, \"221\": {\"effect\": -3.779606700315616e-15, \"value\": 0.0}, \"222\": {\"effect\": 5.271145574343834e-05, \"value\": 0.0}, \"223\": {\"effect\": 2.5659996201306884e-05, \"value\": 0.0}, \"225\": {\"effect\": 3.9707011957579944e-05, \"value\": 0.0}, \"226\": {\"effect\": -2.0109866463541202e-05, \"value\": 0.0}, \"227\": {\"effect\": -2.560296714950808e-05, \"value\": 0.0}, \"228\": {\"effect\": -7.172432824236397e-06, \"value\": 0.0}, \"229\": {\"effect\": -5.487281320142993e-06, \"value\": 0.0}, \"230\": {\"effect\": -0.00019452588606386166, \"value\": 0.0}, \"231\": {\"effect\": 3.7858410258300845e-05, \"value\": 0.0}, \"233\": {\"effect\": -1.815364612106629e-11, \"value\": 0.0}, \"236\": {\"effect\": -1.3770299801146337e-12, \"value\": 0.0}, \"237\": {\"effect\": 1.8762890334363683e-05, \"value\": 0.0}, \"240\": {\"effect\": -1.8457427550768582e-05, \"value\": 0.0}, \"241\": {\"effect\": 6.37566806282551e-05, \"value\": 0.0}, \"242\": {\"effect\": -3.3361015469458737e-06, \"value\": 0.0}, \"244\": {\"effect\": 5.968250554004703e-10, \"value\": 0.0}, \"245\": {\"effect\": 7.724099123989652e-06, \"value\": 0.0}, \"246\": {\"effect\": -8.930776582670441e-16, \"value\": 0.0}, \"247\": {\"effect\": 6.335975871990095e-08, \"value\": 0.0}, \"248\": {\"effect\": -2.6025254079972437e-06, \"value\": 0.0}, \"249\": {\"effect\": -0.00011056416116437267, \"value\": 0.0}, \"250\": {\"effect\": 4.129453050366044e-05, \"value\": 0.0}, \"251\": {\"effect\": 1.3129553594703488e-05, \"value\": 0.0}, \"252\": {\"effect\": -0.0002347417547643425, \"value\": 0.0}, \"253\": {\"effect\": 0.0017708552344875162, \"value\": 1.0}, \"254\": {\"effect\": -2.8693800864488554e-06, \"value\": 0.0}, \"258\": {\"effect\": -2.5468515676697477e-05, \"value\": 0.0}, \"259\": {\"effect\": -4.1801531820549345e-05, \"value\": 0.0}, \"260\": {\"effect\": -7.274219051942653e-05, \"value\": 0.0}, \"261\": {\"effect\": 1.0337956123256319e-05, \"value\": 0.0}, \"264\": {\"effect\": -8.415740467419388e-07, \"value\": 0.0}, \"265\": {\"effect\": 7.728508859359412e-14, \"value\": 0.0}, \"266\": {\"effect\": -2.6220782476457417e-05, \"value\": 0.0}, \"267\": {\"effect\": -3.2312384262538305e-05, \"value\": 0.0}, \"268\": {\"effect\": 0.00011033449027611828, \"value\": 0.0}, \"269\": {\"effect\": 1.123868845330082e-05, \"value\": 0.0}, \"272\": {\"effect\": 4.470293632307265e-05, \"value\": 0.0}, \"273\": {\"effect\": 2.8875786651513064e-10, \"value\": 0.0}, \"275\": {\"effect\": 2.5392374353454997e-05, \"value\": 0.0}, \"276\": {\"effect\": 9.927829359386155e-06, \"value\": 0.0}, \"279\": {\"effect\": -0.00024127542126118487, \"value\": 0.0}, \"281\": {\"effect\": 1.0048085639893725e-05, \"value\": 0.0}, \"282\": {\"effect\": -2.32910749906011e-05, \"value\": 0.0}, \"283\": {\"effect\": 0.9875782028889789, \"value\": 1.0}, \"284\": {\"effect\": 0.023371176528403596, \"value\": 0.0}, \"285\": {\"effect\": -0.04508846867910529, \"value\": 0.0}, \"286\": {\"effect\": 0.21408523128907214, \"value\": 0.0}, \"287\": {\"effect\": -0.23134205370683467, \"value\": 0.0}, \"288\": {\"effect\": 0.015101989790680111, \"value\": 0.0}, \"289\": {\"effect\": 0.03352616364865483, \"value\": 0.0}, \"290\": {\"effect\": -0.018799501914619442, \"value\": 0.0}, \"291\": {\"effect\": 0.3746992097418187, \"value\": 0.0}, \"292\": {\"effect\": -0.00956173795362852, \"value\": 0.0}, \"293\": {\"effect\": 0.1709274194309907, \"value\": 0.0}, \"294\": {\"effect\": 0.02125203962415403, \"value\": 0.0}, \"295\": {\"effect\": -0.027577276199165394, \"value\": 0.0}, \"296\": {\"effect\": 0.20259025887761928, \"value\": 0.0}, \"297\": {\"effect\": 0.07888868410997732, \"value\": 0.0}, \"298\": {\"effect\": 0.022916317992365244, \"value\": 0.0}, \"299\": {\"effect\": -0.06928322796066837, \"value\": 0.0}, \"300\": {\"effect\": 0.9973703172277668, \"value\": 0.0}, \"301\": {\"effect\": 0.0028798813152734635, \"value\": 0.0}, \"302\": {\"effect\": -0.10723341923676803, \"value\": 0.0}, \"303\": {\"effect\": 0.056676045800466715, \"value\": 0.0}, \"304\": {\"effect\": 0.1839591741214012, \"value\": 1.0}, \"305\": {\"effect\": 0.0060588776925319665, \"value\": 0.0}, \"306\": {\"effect\": 0.002536890064447598, \"value\": 0.0}, \"307\": {\"effect\": 0.00636646725520561, \"value\": 0.0}, \"308\": {\"effect\": -0.00122666231052449, \"value\": 0.0}, \"309\": {\"effect\": 0.04980518984206331, \"value\": 0.0}, \"310\": {\"effect\": 0.08780700014719008, \"value\": 0.0}, \"311\": {\"effect\": 0.10678514152431161, \"value\": 0.0}, \"312\": {\"effect\": 0.21890881729749662, \"value\": 0.0}, \"313\": {\"effect\": 0.022598649677625274, \"value\": 0.0}, \"314\": {\"effect\": 0.49918878967171404, \"value\": 1.0}, \"315\": {\"effect\": 0.1040517091374014, \"value\": 0.0}, \"316\": {\"effect\": 0.0817156974839518, \"value\": 0.0}, \"317\": {\"effect\": 0.03323007344498432, \"value\": 0.0}, \"318\": {\"effect\": 0.4163138281894258, \"value\": 0.0}, \"319\": {\"effect\": 0.8495844423022381, \"value\": 0.0}, \"320\": {\"effect\": 0.07508858534556416, \"value\": 0.0}, \"321\": {\"effect\": 0.33368779671157206, \"value\": 0.0}, \"322\": {\"effect\": 0.03664090551148132, \"value\": 0.0}, \"323\": {\"effect\": -0.02384199950861191, \"value\": 0.0}, \"324\": {\"effect\": 0.29895971606920285, \"value\": 0.0}, \"325\": {\"effect\": 0.16503549855081134, \"value\": 0.0}, \"326\": {\"effect\": -0.020809066313276846, \"value\": 0.0}, \"327\": {\"effect\": 2.698483280517774, \"value\": 1.0}, \"328\": {\"effect\": -0.04768061043412906, \"value\": 0.0}, \"329\": {\"effect\": 1.2996643776480816, \"value\": 0.0}}, \"plot_cmap\": \"RdBu\", \"labelMargin\": 20}),\n",
       "    document.getElementById('iZN5XZBBSY41S9ZMPFW21')\n",
       "  );\n",
       "</script>"
      ],
      "text/plain": [
       "<shap.plots._force.AdditiveForceVisualizer at 0x1e6249f53d0>"
      ]
     },
     "execution_count": 15,
     "metadata": {},
     "output_type": "execute_result"
    }
   ],
   "source": [
    "shap.plots.force(shap_values[0])"
   ]
  },
  {
   "cell_type": "code",
   "execution_count": null,
   "metadata": {},
   "outputs": [],
   "source": []
  }
 ],
 "metadata": {
  "colab": {
   "gpuType": "T4",
   "provenance": []
  },
  "gpuClass": "standard",
  "kernelspec": {
   "display_name": "Python 3",
   "language": "python",
   "name": "python3"
  },
  "language_info": {
   "codemirror_mode": {
    "name": "ipython",
    "version": 3
   },
   "file_extension": ".py",
   "mimetype": "text/x-python",
   "name": "python",
   "nbconvert_exporter": "python",
   "pygments_lexer": "ipython3",
   "version": "3.8.8"
  }
 },
 "nbformat": 4,
 "nbformat_minor": 1
}
