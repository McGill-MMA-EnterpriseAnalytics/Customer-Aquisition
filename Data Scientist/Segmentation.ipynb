{
 "cells": [
  {
   "cell_type": "markdown",
   "id": "0d65c914",
   "metadata": {
    "id": "0d65c914"
   },
   "source": [
    "- Created date: 2023. 02. 12\n",
    "- Last updated: 2023. 02. 12\n",
    "- Author: Chongho Pyo\n",
    "- Version: 0.0"
   ]
  },
  {
   "cell_type": "markdown",
   "id": "f5d53cf9",
   "metadata": {
    "id": "f5d53cf9"
   },
   "source": [
    "**Market segmentation**\n",
    "- (original)\n",
    "- Consumer income and gender are target variables, all other features are predictors.\n",
    "- Understand how to attract different types of customers. Useful for expanding their reach and consumer base"
   ]
  },
  {
   "cell_type": "markdown",
   "id": "e7c0b6d3",
   "metadata": {
    "id": "e7c0b6d3"
   },
   "source": [
    "**Customer Segmentation**\n",
    "- Customer segmentation: grouping customers together based on similar features or properties."
   ]
  },
  {
   "cell_type": "code",
   "execution_count": 1,
   "id": "939058fb",
   "metadata": {
    "ExecuteTime": {
     "end_time": "2023-02-13T20:44:13.566255Z",
     "start_time": "2023-02-13T20:44:11.005737Z"
    },
    "colab": {
     "base_uri": "https://localhost:8080/"
    },
    "id": "939058fb",
    "outputId": "e34d983f-6d3c-4123-db1b-f04cc46e6650",
    "scrolled": true
   },
   "outputs": [],
   "source": [
    "!pip install category_encoders"
   ]
  },
  {
   "cell_type": "code",
   "execution_count": 2,
   "id": "156cd07c",
   "metadata": {
    "ExecuteTime": {
     "end_time": "2023-02-13T20:44:16.167180Z",
     "start_time": "2023-02-13T20:44:13.570195Z"
    },
    "id": "156cd07c"
   },
   "outputs": [],
   "source": [
    "import pandas as pd\n",
    "import numpy as np\n",
    "import itertools\n",
    "\n",
    "import random\n",
    "\n",
    "from sklearn.cluster import KMeans\n",
    "from sklearn.preprocessing import MinMaxScaler\n",
    "from sklearn import preprocessing \n",
    "import category_encoders as ce\n",
    "\n",
    "# Visualization libraries\n",
    "import seaborn as sns\n",
    "import matplotlib.pyplot as plt\n",
    "\n",
    "import plotly.express as px\n",
    "\n",
    "from mpl_toolkits.mplot3d import Axes3D\n",
    "\n",
    "%matplotlib inline"
   ]
  },
  {
   "cell_type": "code",
   "execution_count": 3,
   "id": "9062337d",
   "metadata": {
    "ExecuteTime": {
     "end_time": "2023-02-13T20:44:16.437970Z",
     "start_time": "2023-02-13T20:44:16.170003Z"
    },
    "colab": {
     "base_uri": "https://localhost:8080/",
     "height": 386
    },
    "id": "9062337d",
    "outputId": "48cef630-6d60-4826-e74b-81336d90ca04",
    "scrolled": true
   },
   "outputs": [],
   "source": [
    "df_raw = pd.read_csv(\"media prediction and its cost.csv\")\n",
    "df_raw.head()"
   ]
  },
  {
   "cell_type": "code",
   "execution_count": 4,
   "id": "d950709e",
   "metadata": {
    "ExecuteTime": {
     "end_time": "2023-02-13T20:44:16.444446Z",
     "start_time": "2023-02-13T20:44:16.440216Z"
    },
    "colab": {
     "base_uri": "https://localhost:8080/"
    },
    "id": "d950709e",
    "outputId": "c65c4290-6de9-48d7-aad8-2ecde054e9df"
   },
   "outputs": [],
   "source": [
    "# Customer related column names\n",
    "cus_cols = df_raw.columns[8: 19]\n",
    "cus_cols"
   ]
  },
  {
   "cell_type": "markdown",
   "id": "wPzHKpWrG8nC",
   "metadata": {
    "id": "wPzHKpWrG8nC"
   },
   "source": [
    "# Visualization functions"
   ]
  },
  {
   "cell_type": "markdown",
   "id": "8af368bd",
   "metadata": {
    "id": "8af368bd"
   },
   "source": [
    "## Pie chart\n",
    "- A function to draw a pie chart\n",
    "- Parameter\n",
    "    - df (DataFrame): e.g., df_mid\n",
    "    - group_name (string): a name of segment, in lower case (e.g., male, female)\n",
    "    - columns = customer info attributes"
   ]
  },
  {
   "cell_type": "code",
   "execution_count": 5,
   "id": "d7a87850",
   "metadata": {
    "ExecuteTime": {
     "end_time": "2023-02-13T20:44:16.452356Z",
     "start_time": "2023-02-13T20:44:16.446019Z"
    },
    "id": "d7a87850"
   },
   "outputs": [],
   "source": [
    "def draw_pie (df, columns, group_name):\n",
    "    figsize = (6, 6)\n",
    "    if group_name in ['male', 'female']:\n",
    "        cols = [c for c in columns if c != 'gender']\n",
    "    \n",
    "    elif group_name in ['low', 'mid', 'high']:\n",
    "        cols = [c for c in columns if c != 'avg. yearly_income']\n",
    "        \n",
    "    for col in cols:\n",
    "        df_pie = pd.DataFrame(df[col].value_counts())\n",
    "        labels = df_pie.index\n",
    "\n",
    "        fig1, ax1 = plt.subplots(figsize=figsize)\n",
    "\n",
    "        colors = sns.color_palette(\"husl\", len(labels))\n",
    "\n",
    "        wedges, texts, autotexts = ax1.pie(df_pie[col], labels=labels, \n",
    "                                           colors=colors, autopct='%1.1f%%', startangle=90, \n",
    "                                           textprops={'fontsize': 10}, \n",
    "                                           wedgeprops={'linewidth': 2, 'edgecolor': 'white'}, \n",
    "                                           pctdistance=0.8)\n",
    "\n",
    "        for autotext in autotexts:\n",
    "            autotext.set_color('black')\n",
    "            autotext.set_size(10)\n",
    "\n",
    "        #draw a circle at the center of pie to make it look like a donut\n",
    "        centre_circle = plt.Circle((0,0),0.6,color='white', fc='white',linewidth=0)\n",
    "        fig = plt.gcf()\n",
    "        fig.gca().add_artist(centre_circle)\n",
    "\n",
    "        # Equal aspect ratio ensures that pie is drawn as a circle\n",
    "        ax1.axis('equal')\n",
    "        plt.title(col + \" Distribution for \" + group_name, fontsize=16, \n",
    "                  fontweight='bold')\n",
    "\n",
    "        plt.legend(wedges, labels, fontsize=8, bbox_to_anchor=(1.05, 1), loc='upper left', borderaxespad=0)\n",
    "        plt.tight_layout()\n",
    "        plt.show()\n"
   ]
  },
  {
   "cell_type": "markdown",
   "id": "074c0fd8",
   "metadata": {
    "id": "074c0fd8"
   },
   "source": [
    "## Histogram\n",
    "- A function to draw histogram\n",
    "- Parameter\n",
    "    - df (DataFrame): e.g., df_mid\n",
    "    - group_name (string): a name of segment, in lower case (e.g., male, female)\n",
    "    - columns = customer info attributes"
   ]
  },
  {
   "cell_type": "code",
   "execution_count": 6,
   "id": "a14fe1c5",
   "metadata": {
    "ExecuteTime": {
     "end_time": "2023-02-13T20:44:16.457074Z",
     "start_time": "2023-02-13T20:44:16.453502Z"
    },
    "id": "a14fe1c5"
   },
   "outputs": [],
   "source": [
    "def draw_histo (df, columns, group_name):\n",
    "    if group_name in ['male', 'female']:\n",
    "        cols = [c for c in columns if c != 'gender']\n",
    "    \n",
    "    elif group_name in ['low', 'mid', 'high']:\n",
    "        cols = [c for c in columns if c != 'avg. yearly_income']\n",
    "    \n",
    "    for col in cols:\n",
    "        sns.histplot(data = df, x = col, kde=False, color=\"lightblue\")\n",
    "\n",
    "        plt.title(\"Distribution of \" + str(col) + \" \" + group_name, \n",
    "                  fontsize=14, fontweight='bold')\n",
    "        plt.xlabel(col, fontsize=12)\n",
    "        plt.ylabel(\"Frequency\", fontsize=12)\n",
    "\n",
    "        sns.despine()\n",
    "\n",
    "        plt.xticks(fontsize=7)\n",
    "        plt.show()"
   ]
  },
  {
   "cell_type": "markdown",
   "id": "588367e1",
   "metadata": {
    "id": "588367e1"
   },
   "source": [
    "## Bivariate Analysis\n",
    "- A function to draw a scatter plots\n",
    "- Parameter\n",
    "    - df (DataFrame): e.g., df_mid\n",
    "    - group_name (string): a name of segment, in lower case (e.g., male, female)\n",
    "    - columns = customer info attributes"
   ]
  },
  {
   "cell_type": "code",
   "execution_count": 7,
   "id": "c3cbad92",
   "metadata": {
    "ExecuteTime": {
     "end_time": "2023-02-13T20:44:16.461858Z",
     "start_time": "2023-02-13T20:44:16.458131Z"
    },
    "id": "c3cbad92"
   },
   "outputs": [],
   "source": [
    "def draw_bivar (df, columns, group_name):\n",
    "    combinations = list(itertools.combinations(['total_children', \n",
    "                                                'avg_cars_at home(approx)',\n",
    "                                                'num_children_at_home', \n",
    "                                                'rand_income'], 2))\n",
    "\n",
    "    for comb in combinations:\n",
    "        x = comb[0]\n",
    "        y = comb[1]\n",
    "\n",
    "        fig = px.scatter(data_frame=df, x=x, y=y,\n",
    "                     height=500,\n",
    "                     color_discrete_sequence = ['skyblue'])\n",
    "\n",
    "        fig.update_layout(title={\n",
    "            'text': x + \" and \" + y + \" \" + group_name,\n",
    "            'x':0.5,\n",
    "            'xanchor': 'center',\n",
    "            'yanchor': 'top'})\n",
    "\n",
    "        fig.show()"
   ]
  },
  {
   "cell_type": "markdown",
   "id": "e1602c14",
   "metadata": {
    "id": "e1602c14"
   },
   "source": [
    "# Segmentation: Gender\n",
    "- Characteristics of each group, based on gender\n",
    "- Either Male or Female"
   ]
  },
  {
   "cell_type": "code",
   "execution_count": 8,
   "id": "2a51aee9",
   "metadata": {
    "ExecuteTime": {
     "end_time": "2023-02-13T20:44:16.487680Z",
     "start_time": "2023-02-13T20:44:16.464879Z"
    },
    "colab": {
     "base_uri": "https://localhost:8080/"
    },
    "id": "2a51aee9",
    "outputId": "ba254a98-d03a-4655-e35d-1ab31c630012"
   },
   "outputs": [],
   "source": [
    "# Dataframes based on gender\n",
    "df_male = df_raw[df_raw['gender'] == 'M']\n",
    "df_female = df_raw[df_raw['gender'] == 'F']\n",
    "\n",
    "len(df_raw) == len(df_male) + len(df_female)"
   ]
  },
  {
   "cell_type": "markdown",
   "id": "bd21de1f",
   "metadata": {
    "ExecuteTime": {
     "end_time": "2023-02-13T03:48:06.790387Z",
     "start_time": "2023-02-13T03:48:06.785004Z"
    },
    "id": "bd21de1f"
   },
   "source": [
    "## Pie chart"
   ]
  },
  {
   "cell_type": "markdown",
   "id": "104924fc",
   "metadata": {
    "id": "104924fc"
   },
   "source": [
    "### Male"
   ]
  },
  {
   "cell_type": "code",
   "execution_count": 9,
   "id": "96d07dc3",
   "metadata": {
    "ExecuteTime": {
     "end_time": "2023-02-13T20:44:17.504159Z",
     "start_time": "2023-02-13T20:44:16.489025Z"
    },
    "colab": {
     "base_uri": "https://localhost:8080/",
     "height": 1000
    },
    "id": "96d07dc3",
    "outputId": "96dd2557-1c8c-4766-ee48-0271be1a958a",
    "scrolled": true
   },
   "outputs": [],
   "source": [
    "draw_pie(df_male, cus_cols, \"male\")"
   ]
  },
  {
   "cell_type": "markdown",
   "id": "c6f6ab65",
   "metadata": {
    "id": "c6f6ab65"
   },
   "source": [
    "### Female"
   ]
  },
  {
   "cell_type": "code",
   "execution_count": 10,
   "id": "8019c4d2",
   "metadata": {
    "ExecuteTime": {
     "end_time": "2023-02-13T20:44:18.317545Z",
     "start_time": "2023-02-13T20:44:17.505384Z"
    },
    "colab": {
     "base_uri": "https://localhost:8080/",
     "height": 1000
    },
    "id": "8019c4d2",
    "outputId": "41fea885-485f-4471-be14-5a3eb0f6a9c0"
   },
   "outputs": [],
   "source": [
    "draw_pie(df_female, cus_cols, \"female\")"
   ]
  },
  {
   "cell_type": "markdown",
   "id": "3011b70a",
   "metadata": {
    "id": "3011b70a"
   },
   "source": [
    "## Univariate analysis (Histograms)\n",
    "- Univariate analysis entails evaluating a single feature in order to get insights about it."
   ]
  },
  {
   "cell_type": "markdown",
   "id": "217cdb01",
   "metadata": {
    "id": "217cdb01"
   },
   "source": [
    "### Male"
   ]
  },
  {
   "cell_type": "code",
   "execution_count": 11,
   "id": "v0Y7VV4KA-zG",
   "metadata": {
    "ExecuteTime": {
     "end_time": "2023-02-13T20:44:19.269379Z",
     "start_time": "2023-02-13T20:44:18.318666Z"
    },
    "colab": {
     "base_uri": "https://localhost:8080/",
     "height": 1000
    },
    "id": "v0Y7VV4KA-zG",
    "outputId": "a2711052-029f-40d4-e6bb-f9bd608bd650"
   },
   "outputs": [],
   "source": [
    "draw_histo(df_male, cus_cols, \"male\")"
   ]
  },
  {
   "cell_type": "markdown",
   "id": "7a7ce250",
   "metadata": {
    "id": "7a7ce250"
   },
   "source": [
    "### Female"
   ]
  },
  {
   "cell_type": "code",
   "execution_count": 12,
   "id": "-68garECBS4S",
   "metadata": {
    "ExecuteTime": {
     "end_time": "2023-02-13T20:44:20.176579Z",
     "start_time": "2023-02-13T20:44:19.270382Z"
    },
    "colab": {
     "base_uri": "https://localhost:8080/",
     "height": 1000
    },
    "id": "-68garECBS4S",
    "outputId": "287ca462-8dc0-42fd-8999-03ec714ebab5"
   },
   "outputs": [],
   "source": [
    "draw_histo(df_female, cus_cols, \"female\")"
   ]
  },
  {
   "cell_type": "markdown",
   "id": "3c45e321",
   "metadata": {
    "id": "3c45e321"
   },
   "source": [
    "## Multivariate Analysis"
   ]
  },
  {
   "cell_type": "markdown",
   "id": "b7791aa4",
   "metadata": {
    "id": "b7791aa4"
   },
   "source": [
    "### Male"
   ]
  },
  {
   "cell_type": "code",
   "execution_count": 13,
   "id": "i_d2iRNLBuFq",
   "metadata": {
    "ExecuteTime": {
     "end_time": "2023-02-13T20:44:20.180028Z",
     "start_time": "2023-02-13T20:44:20.177719Z"
    },
    "colab": {
     "base_uri": "https://localhost:8080/"
    },
    "id": "i_d2iRNLBuFq",
    "outputId": "87fa4f78-a2ae-41b9-b2d7-bb67042a14a3"
   },
   "outputs": [],
   "source": [
    "cus_cols"
   ]
  },
  {
   "cell_type": "code",
   "execution_count": 14,
   "id": "SxeORb-aCuf1",
   "metadata": {
    "ExecuteTime": {
     "end_time": "2023-02-13T20:44:20.182655Z",
     "start_time": "2023-02-13T20:44:20.181060Z"
    },
    "id": "SxeORb-aCuf1"
   },
   "outputs": [],
   "source": [
    "cate_cols = ['marital_status', 'gender', 'education', 'member_card',\n",
    "             'occupation', 'houseowner']"
   ]
  },
  {
   "cell_type": "code",
   "execution_count": 15,
   "id": "d8AdHZXqE73v",
   "metadata": {
    "ExecuteTime": {
     "end_time": "2023-02-13T20:44:20.185880Z",
     "start_time": "2023-02-13T20:44:20.183621Z"
    },
    "colab": {
     "base_uri": "https://localhost:8080/"
    },
    "id": "d8AdHZXqE73v",
    "outputId": "6b44f889-72ce-4dea-a665-f6f129cbd2b4"
   },
   "outputs": [],
   "source": [
    "[c for c in cus_cols if c not in cate_cols]"
   ]
  },
  {
   "cell_type": "code",
   "execution_count": 16,
   "id": "hgPFgz4vBlHp",
   "metadata": {
    "ExecuteTime": {
     "end_time": "2023-02-13T20:44:22.024674Z",
     "start_time": "2023-02-13T20:44:20.186875Z"
    },
    "colab": {
     "base_uri": "https://localhost:8080/",
     "height": 1000
    },
    "id": "hgPFgz4vBlHp",
    "outputId": "6ff566ed-f4ff-4c06-8cac-dd87906d5883"
   },
   "outputs": [],
   "source": [
    "for x in ['total_children',\n",
    " 'avg_cars_at home(approx)',\n",
    " 'avg. yearly_income',\n",
    " 'num_children_at_home',\n",
    " 'avg_cars_at home(approx).1']:\n",
    " \n",
    "    for g in ['education', 'member_card', 'occupation']:\n",
    "        fig = px.scatter(\n",
    "            data_frame = df_male,\n",
    "            x = x,\n",
    "            y= \"cost\",\n",
    "            title = \"Relationship between \" + x + \" VS Cost based on \" + g,\n",
    "            color = g,\n",
    "            height=500\n",
    "        )\n",
    "\n",
    "        fig.show()"
   ]
  },
  {
   "cell_type": "markdown",
   "id": "bc376366",
   "metadata": {
    "id": "bc376366"
   },
   "source": [
    "### Female"
   ]
  },
  {
   "cell_type": "code",
   "execution_count": 17,
   "id": "SmP7G3tpF1Dc",
   "metadata": {
    "ExecuteTime": {
     "end_time": "2023-02-13T20:44:23.605435Z",
     "start_time": "2023-02-13T20:44:22.025836Z"
    },
    "colab": {
     "base_uri": "https://localhost:8080/",
     "height": 1000
    },
    "id": "SmP7G3tpF1Dc",
    "outputId": "86e69b23-5325-4e82-a75b-8c6c665d6517"
   },
   "outputs": [],
   "source": [
    "for x in ['total_children',\n",
    " 'avg_cars_at home(approx)',\n",
    " 'avg. yearly_income',\n",
    " 'num_children_at_home',\n",
    " 'avg_cars_at home(approx).1']:\n",
    " \n",
    "    for g in ['education', 'member_card', 'occupation']:\n",
    "        fig = px.scatter(\n",
    "            data_frame = df_female,\n",
    "            x = x,\n",
    "            y= \"cost\",\n",
    "            title = \"Relationship between \" + x + \" VS Cost based on \" + g,\n",
    "            color = g,\n",
    "            height=500\n",
    "        )\n",
    "\n",
    "        fig.show()"
   ]
  },
  {
   "cell_type": "markdown",
   "id": "4f4f6803",
   "metadata": {
    "id": "4f4f6803"
   },
   "source": [
    "# Segmentation: Income"
   ]
  },
  {
   "cell_type": "markdown",
   "id": "43774c7e",
   "metadata": {
    "id": "43774c7e"
   },
   "source": [
    "## Spliting groups by income\n",
    "- (dollars)\n",
    "- df_low: 10,000 ~ 50,000\n",
    "- df_mid: 50,000 ~ 110,000\n",
    "- df_high: 110,000 ~"
   ]
  },
  {
   "cell_type": "markdown",
   "id": "KHKyC6dNIFKZ",
   "metadata": {
    "id": "KHKyC6dNIFKZ"
   },
   "source": [
    "### Ordinal Encoding (income)"
   ]
  },
  {
   "cell_type": "code",
   "execution_count": 18,
   "id": "3aff8e58",
   "metadata": {
    "ExecuteTime": {
     "end_time": "2023-02-13T20:44:23.646377Z",
     "start_time": "2023-02-13T20:44:23.606529Z"
    },
    "id": "3aff8e58"
   },
   "outputs": [],
   "source": [
    "# Ordinal encoding, because the values have orders\n",
    "ore = ce.OrdinalEncoder(\n",
    "    mapping=[\n",
    "        {\n",
    "            \n",
    "            \"col\": \"avg. yearly_income\",\n",
    "            \"mapping\": {\n",
    "                '$10K - $30K' : 1,\n",
    "                '$30K - $50K' : 2,\n",
    "                '$50K - $70K' : 3,\n",
    "                '$70K - $90K' : 4,\n",
    "                '$90K - $110K' : 5,\n",
    "                '$110K - $130K' : 6,\n",
    "                '$130K - $150K' : 7,\n",
    "                '$150K +' : 8\n",
    "            }, \n",
    "        }\n",
    "    ]\n",
    ")\n",
    "\n",
    "df_raw['ordinal_encoded'] = ore.fit_transform(df_raw[\"avg. yearly_income\"])"
   ]
  },
  {
   "cell_type": "code",
   "execution_count": 19,
   "id": "c6b1b648",
   "metadata": {
    "ExecuteTime": {
     "end_time": "2023-02-13T20:44:23.715153Z",
     "start_time": "2023-02-13T20:44:23.647703Z"
    },
    "id": "c6b1b648"
   },
   "outputs": [],
   "source": [
    "# Randomly assign a value within its range\n",
    "# To change labeled to continuous values\n",
    "\n",
    "'''\n",
    "'$10K - $30K' : 1,\n",
    "'$30K - $50K' : 2,\n",
    "'$50K - $70K' : 3,\n",
    "'$70K - $90K' : 4,\n",
    "'$90K - $110K' : 5,\n",
    "'$110K - $130K' : 6,\n",
    "'$130K - $150K' : 7,\n",
    "'$150K +' : 8\n",
    "'''\n",
    "random_numbers = [random.randint(10000, 20000) for i in range(10000)]\n",
    "\n",
    "rand_income = []\n",
    "for ord_num in df_raw['ordinal_encoded']:\n",
    "    if ord_num == 1:\n",
    "        n = random.randint(10000, 30000)\n",
    "    elif ord_num == 2:\n",
    "        n = random.randint(30000, 50000)\n",
    "    elif ord_num == 3:\n",
    "        n = random.randint(50000, 70000)\n",
    "    elif ord_num == 4:\n",
    "        n = random.randint(70000, 90000)\n",
    "    elif ord_num == 5:\n",
    "        n = random.randint(90000, 110000)\n",
    "    elif ord_num == 6:\n",
    "        n = random.randint(110000, 130000)\n",
    "    elif ord_num == 7:\n",
    "        n = random.randint(130000, 150000)\n",
    "    else: # ord_num == 8\n",
    "        n = random.randint(150000, 200000)\n",
    "        \n",
    "    rand_income.append(n)"
   ]
  },
  {
   "cell_type": "code",
   "execution_count": 20,
   "id": "d95c5fc5",
   "metadata": {
    "ExecuteTime": {
     "end_time": "2023-02-13T20:44:23.729174Z",
     "start_time": "2023-02-13T20:44:23.716145Z"
    },
    "id": "d95c5fc5"
   },
   "outputs": [],
   "source": [
    "df_raw['rand_income'] = rand_income"
   ]
  },
  {
   "cell_type": "code",
   "execution_count": 21,
   "id": "40fdeaac",
   "metadata": {
    "ExecuteTime": {
     "end_time": "2023-02-13T20:44:23.746872Z",
     "start_time": "2023-02-13T20:44:23.730417Z"
    },
    "id": "40fdeaac"
   },
   "outputs": [],
   "source": [
    "df_low = df_raw[(df_raw['ordinal_encoded'] == 1) | (df_raw['ordinal_encoded'] == 2)]\n",
    "df_mid = df_raw[(df_raw['ordinal_encoded'] == 3) | (df_raw['ordinal_encoded'] == 4)\n",
    "               | (df_raw['ordinal_encoded'] == 5)]\n",
    "df_high = df_raw[(df_raw['ordinal_encoded'] == 6) | \n",
    "                 (df_raw['ordinal_encoded'] == 7) | \n",
    "                 (df_raw['ordinal_encoded'] == 8)]"
   ]
  },
  {
   "cell_type": "code",
   "execution_count": 22,
   "id": "f010ffbc",
   "metadata": {
    "ExecuteTime": {
     "end_time": "2023-02-13T20:44:23.751717Z",
     "start_time": "2023-02-13T20:44:23.748162Z"
    },
    "colab": {
     "base_uri": "https://localhost:8080/"
    },
    "id": "f010ffbc",
    "outputId": "237c6aac-414f-402a-ea81-aff124dc0ca0"
   },
   "outputs": [],
   "source": [
    "df_low['ordinal_encoded'].value_counts()"
   ]
  },
  {
   "cell_type": "code",
   "execution_count": 23,
   "id": "f9d3d537",
   "metadata": {
    "ExecuteTime": {
     "end_time": "2023-02-13T20:44:23.757105Z",
     "start_time": "2023-02-13T20:44:23.753072Z"
    },
    "colab": {
     "base_uri": "https://localhost:8080/"
    },
    "id": "f9d3d537",
    "outputId": "875e0464-6592-46b5-b4f6-862956c31ea4"
   },
   "outputs": [],
   "source": [
    "df_mid['ordinal_encoded'].value_counts()"
   ]
  },
  {
   "cell_type": "code",
   "execution_count": 24,
   "id": "3f3b54c9",
   "metadata": {
    "ExecuteTime": {
     "end_time": "2023-02-13T20:44:23.761526Z",
     "start_time": "2023-02-13T20:44:23.758161Z"
    },
    "colab": {
     "base_uri": "https://localhost:8080/"
    },
    "id": "3f3b54c9",
    "outputId": "67355ce4-c1f4-42f6-b9b1-9e96272a8ce9"
   },
   "outputs": [],
   "source": [
    "df_high['ordinal_encoded'].value_counts()"
   ]
  },
  {
   "cell_type": "markdown",
   "id": "a5865ded",
   "metadata": {
    "id": "a5865ded"
   },
   "source": [
    "## Pie chart"
   ]
  },
  {
   "cell_type": "markdown",
   "id": "9d3035b1",
   "metadata": {
    "id": "9d3035b1"
   },
   "source": [
    "### Low income"
   ]
  },
  {
   "cell_type": "code",
   "execution_count": 25,
   "id": "pDTHAVMuLEYg",
   "metadata": {
    "ExecuteTime": {
     "end_time": "2023-02-13T20:44:24.473971Z",
     "start_time": "2023-02-13T20:44:23.762777Z"
    },
    "colab": {
     "base_uri": "https://localhost:8080/",
     "height": 1000
    },
    "id": "pDTHAVMuLEYg",
    "outputId": "51a6ab3c-9165-4368-e172-c37c8e3f7d66"
   },
   "outputs": [],
   "source": [
    "draw_pie(df_low, cus_cols, \"low\")"
   ]
  },
  {
   "cell_type": "markdown",
   "id": "15430a2d",
   "metadata": {
    "id": "15430a2d"
   },
   "source": [
    "### Mid Income"
   ]
  },
  {
   "cell_type": "code",
   "execution_count": 26,
   "id": "DirpFPHmLEwz",
   "metadata": {
    "ExecuteTime": {
     "end_time": "2023-02-13T20:44:25.444943Z",
     "start_time": "2023-02-13T20:44:24.479229Z"
    },
    "colab": {
     "base_uri": "https://localhost:8080/",
     "height": 1000
    },
    "id": "DirpFPHmLEwz",
    "outputId": "73216720-1a3d-4507-fbed-b1e1f34c2696"
   },
   "outputs": [],
   "source": [
    "draw_pie(df_mid, cus_cols, \"mid\")"
   ]
  },
  {
   "cell_type": "markdown",
   "id": "925a46b1",
   "metadata": {
    "id": "925a46b1"
   },
   "source": [
    "### High Income"
   ]
  },
  {
   "cell_type": "code",
   "execution_count": 27,
   "id": "pL1GB7ocLFSo",
   "metadata": {
    "ExecuteTime": {
     "end_time": "2023-02-13T20:44:26.157657Z",
     "start_time": "2023-02-13T20:44:25.446203Z"
    },
    "colab": {
     "base_uri": "https://localhost:8080/",
     "height": 1000
    },
    "id": "pL1GB7ocLFSo",
    "outputId": "cde92cff-7826-4df3-f889-e4c1ce8e3cff"
   },
   "outputs": [],
   "source": [
    "draw_pie(df_high, cus_cols, \"high\")"
   ]
  },
  {
   "cell_type": "markdown",
   "id": "b8348b45",
   "metadata": {
    "id": "b8348b45"
   },
   "source": [
    "## Univariate analysis (Histograms)\n"
   ]
  },
  {
   "cell_type": "markdown",
   "id": "6954a3b4",
   "metadata": {
    "id": "6954a3b4"
   },
   "source": [
    "### Low Income"
   ]
  },
  {
   "cell_type": "code",
   "execution_count": 28,
   "id": "688a3362",
   "metadata": {
    "ExecuteTime": {
     "end_time": "2023-02-13T20:44:27.164695Z",
     "start_time": "2023-02-13T20:44:26.158908Z"
    },
    "colab": {
     "base_uri": "https://localhost:8080/",
     "height": 1000
    },
    "id": "688a3362",
    "outputId": "d9ebe7e7-17fc-44ea-d54b-5b213027d669"
   },
   "outputs": [],
   "source": [
    "for col in [c for c in cus_cols if c != 'avg. yearly_income']:\n",
    "    sns.histplot(data = df_low, x = col, kde=False, color=\"lightblue\")\n",
    "    \n",
    "    plt.title(\"Distribution of \" + str(col) + \" (Male)\", fontsize=14, fontweight='bold')\n",
    "    plt.xlabel(col, fontsize=12)\n",
    "    plt.ylabel(\"Frequency\", fontsize=12)\n",
    "    \n",
    "    sns.despine()\n",
    "    \n",
    "    plt.xticks(fontsize=7)\n",
    "    plt.show()"
   ]
  },
  {
   "cell_type": "markdown",
   "id": "91c7e5bf",
   "metadata": {
    "id": "91c7e5bf"
   },
   "source": [
    "### Mid Income"
   ]
  },
  {
   "cell_type": "code",
   "execution_count": 29,
   "id": "2b8a6bec",
   "metadata": {
    "ExecuteTime": {
     "end_time": "2023-02-13T20:44:28.112842Z",
     "start_time": "2023-02-13T20:44:27.166094Z"
    },
    "colab": {
     "base_uri": "https://localhost:8080/",
     "height": 1000
    },
    "id": "2b8a6bec",
    "outputId": "9d4157b5-dc10-4eb4-c719-6df7b24c2483"
   },
   "outputs": [],
   "source": [
    "draw_histo(df_mid, cus_cols, \"mid\")"
   ]
  },
  {
   "cell_type": "code",
   "execution_count": 30,
   "id": "417eaf98",
   "metadata": {
    "ExecuteTime": {
     "end_time": "2023-02-13T20:44:29.116836Z",
     "start_time": "2023-02-13T20:44:28.119728Z"
    },
    "colab": {
     "base_uri": "https://localhost:8080/",
     "height": 1000
    },
    "id": "417eaf98",
    "outputId": "2eee26e7-72d2-4ba1-b4a4-baf93f743289"
   },
   "outputs": [],
   "source": [
    "draw_histo(df_male, cus_cols, \"male\")"
   ]
  },
  {
   "cell_type": "markdown",
   "id": "a7e42412",
   "metadata": {
    "id": "a7e42412"
   },
   "source": [
    "### High Income"
   ]
  },
  {
   "cell_type": "code",
   "execution_count": 31,
   "id": "337b67dc",
   "metadata": {
    "ExecuteTime": {
     "end_time": "2023-02-13T20:44:29.882024Z",
     "start_time": "2023-02-13T20:44:29.118172Z"
    },
    "colab": {
     "base_uri": "https://localhost:8080/",
     "height": 1000
    },
    "id": "337b67dc",
    "outputId": "a1c6d611-f2bc-4661-ef7b-360deb95a951"
   },
   "outputs": [],
   "source": [
    "draw_histo(df_high, cus_cols, \"high\")"
   ]
  },
  {
   "cell_type": "markdown",
   "id": "ae687555",
   "metadata": {
    "id": "ae687555"
   },
   "source": [
    "## Multivariate Analysis"
   ]
  },
  {
   "cell_type": "code",
   "execution_count": 32,
   "id": "3b941fab",
   "metadata": {
    "ExecuteTime": {
     "end_time": "2023-02-13T20:44:29.887733Z",
     "start_time": "2023-02-13T20:44:29.883576Z"
    }
   },
   "outputs": [],
   "source": [
    "path = \"/Users/chpyo/iCloud Drive (Archive)/Python/InformationSystem/Group Project/Multivariate_graphs/\""
   ]
  },
  {
   "cell_type": "markdown",
   "id": "83f33536",
   "metadata": {
    "id": "83f33536"
   },
   "source": [
    "### Low Income"
   ]
  },
  {
   "cell_type": "code",
   "execution_count": 33,
   "id": "cc716f57",
   "metadata": {
    "ExecuteTime": {
     "end_time": "2023-02-13T20:44:32.786405Z",
     "start_time": "2023-02-13T20:44:29.890776Z"
    }
   },
   "outputs": [],
   "source": [
    "!pip install htmlmerge"
   ]
  },
  {
   "cell_type": "code",
   "execution_count": 34,
   "id": "HRFnPOI8GAGg",
   "metadata": {
    "ExecuteTime": {
     "end_time": "2023-02-13T20:44:33.305497Z",
     "start_time": "2023-02-13T20:44:32.789700Z"
    },
    "colab": {
     "base_uri": "https://localhost:8080/",
     "height": 1000
    },
    "id": "HRFnPOI8GAGg",
    "outputId": "a3ace44e-3118-4b9c-e0e4-92b72bfaf4b4"
   },
   "outputs": [],
   "source": [
    "figs_low = []\n",
    "\n",
    "for x in ['total_children', 'avg_cars_at home(approx)', 'num_children_at_home', 'avg_cars_at home(approx).1']:\n",
    "    for g in ['gender', 'education', 'member_card', 'occupation']:\n",
    "        title = \"Relationship between \" + x + \" VS Cost based on \" + g\n",
    "        \n",
    "        fig = px.scatter(\n",
    "            data_frame = df_low,\n",
    "            x = x,\n",
    "            y= \"cost\",\n",
    "            title = \"Relationship between \" + x + \" VS Cost based on \" + g,\n",
    "            color = g,\n",
    "            height=500\n",
    "        )\n",
    "        plt.show()\n",
    "        #fig.write_html(path + title + \" (low)\" + '.html')"
   ]
  },
  {
   "cell_type": "markdown",
   "id": "4dwwg_QvGLv8",
   "metadata": {
    "id": "4dwwg_QvGLv8"
   },
   "source": [
    "### Mid Income"
   ]
  },
  {
   "cell_type": "code",
   "execution_count": 35,
   "id": "1cd19c77",
   "metadata": {
    "ExecuteTime": {
     "end_time": "2023-02-13T20:44:34.722755Z",
     "start_time": "2023-02-13T20:44:33.307118Z"
    },
    "colab": {
     "base_uri": "https://localhost:8080/",
     "height": 1000
    },
    "id": "1cd19c77",
    "outputId": "f5a097dd-3500-447a-bf40-34cd904e27f2"
   },
   "outputs": [],
   "source": [
    "for x in ['total_children',\n",
    " 'avg_cars_at home(approx)',\n",
    " 'num_children_at_home',\n",
    " 'avg_cars_at home(approx).1']:\n",
    " \n",
    "    for g in ['gender', 'education', 'member_card', 'occupation']:\n",
    "        title = \"Relationship between \" + x + \" VS Cost based on \" + g\n",
    "\n",
    "        fig = px.scatter(\n",
    "            data_frame = df_mid,\n",
    "            x = x,\n",
    "            y= \"cost\",\n",
    "            title = \"Relationship between \" + x + \" VS Cost based on \" + g,\n",
    "            color = g,\n",
    "            height=500\n",
    "        )\n",
    "        fig.show()\n",
    "        #fig.write_html(path + title + \" (mid)\" + '.html')"
   ]
  },
  {
   "cell_type": "markdown",
   "id": "6fvCGTAgGibG",
   "metadata": {
    "id": "6fvCGTAgGibG"
   },
   "source": [
    "### High Income"
   ]
  },
  {
   "cell_type": "code",
   "execution_count": 36,
   "id": "HAf6yYBEGhrS",
   "metadata": {
    "ExecuteTime": {
     "end_time": "2023-02-13T20:44:35.451409Z",
     "start_time": "2023-02-13T20:44:34.724198Z"
    },
    "colab": {
     "base_uri": "https://localhost:8080/",
     "height": 1000
    },
    "id": "HAf6yYBEGhrS",
    "outputId": "09775b4e-2a69-4034-c9b2-e17613f20144"
   },
   "outputs": [],
   "source": [
    "for x in ['total_children',\n",
    " 'avg_cars_at home(approx)',\n",
    " 'num_children_at_home',\n",
    " 'avg_cars_at home(approx).1']:\n",
    " \n",
    "    for g in ['gender', 'education', 'member_card', 'occupation']:\n",
    "        title = \"Relationship between \" + x + \" VS Cost based on \" + g\n",
    "\n",
    "        fig = px.scatter(\n",
    "            data_frame = df_high,\n",
    "            x = x,\n",
    "            y= \"cost\",\n",
    "            title = \"Relationship between \" + x + \" VS Cost based on \" + g,\n",
    "            color = g,\n",
    "            height=500\n",
    "        )\n",
    "        fig.show()\n",
    "        #fig.write_html(path + title + \" (high)\" + '.html')"
   ]
  }
 ],
 "metadata": {
  "colab": {
   "provenance": [],
   "toc_visible": true
  },
  "kernelspec": {
   "display_name": "Python 3 (ipykernel)",
   "language": "python",
   "name": "python3"
  },
  "language_info": {
   "codemirror_mode": {
    "name": "ipython",
    "version": 3
   },
   "file_extension": ".py",
   "mimetype": "text/x-python",
   "name": "python",
   "nbconvert_exporter": "python",
   "pygments_lexer": "ipython3",
   "version": "3.8.13"
  },
  "toc": {
   "base_numbering": 1,
   "nav_menu": {},
   "number_sections": true,
   "sideBar": true,
   "skip_h1_title": false,
   "title_cell": "Table of Contents",
   "title_sidebar": "Contents",
   "toc_cell": false,
   "toc_position": {
    "height": "calc(100% - 180px)",
    "left": "10px",
    "top": "150px",
    "width": "230.258163px"
   },
   "toc_section_display": true,
   "toc_window_display": true
  }
 },
 "nbformat": 4,
 "nbformat_minor": 5
}
