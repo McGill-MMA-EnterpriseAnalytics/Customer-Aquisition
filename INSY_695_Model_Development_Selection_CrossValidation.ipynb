{
  "cells": [
    {
      "cell_type": "markdown",
      "metadata": {
        "id": "s6NPLk7mKAk9"
      },
      "source": [
        "NOTICE:\n",
        "\n",
        "Since exploratory data analysis and data preprocessing has been done previously, this notebook only includes the necassary parts for model development.\n",
        "\n",
        "The notebook for exploratory data analysis can be accessed at:\n",
        "https://github.com/McGill-MMA-EnterpriseAnalytics/Customer-Aquisition/blob/main/Pre-processing%20-%20Data%20Description%20(v0.0).ipynb\n",
        "\n",
        "The notebook for data preprocessing can be accessed at:\n",
        "https://github.com/McGill-MMA-EnterpriseAnalytics/Customer-Aquisition/blob/main/Preprocessing%20(v0.0).ipynb\n",
        "\n",
        "And the notebook for feature selection can be accessed at:\n",
        "https://github.com/McGill-MMA-EnterpriseAnalytics/Customer-Aquisition/blob/DataScientist/INSY_695_Feature_Selection.ipynb"
      ]
    },
    {
      "cell_type": "code",
      "execution_count": 1,
      "metadata": {
        "id": "GJ7SaA1wfveg"
      },
      "outputs": [],
      "source": [
        "import pandas as pd\n",
        "import numpy as np\n",
        "\n",
        "from sklearn.preprocessing import MinMaxScaler, StandardScaler\n",
        "from sklearn.ensemble import IsolationForest"
      ]
    },
    {
      "cell_type": "code",
      "source": [
        "from google.colab import drive\n",
        "drive.mount('/content/drive')"
      ],
      "metadata": {
        "colab": {
          "base_uri": "https://localhost:8080/"
        },
        "id": "6rYG-zy9KD7g",
        "outputId": "4ca4e1fc-ee71-44e7-ee04-dde1b53f4072"
      },
      "execution_count": 2,
      "outputs": [
        {
          "output_type": "stream",
          "name": "stdout",
          "text": [
            "Mounted at /content/drive\n"
          ]
        }
      ]
    },
    {
      "cell_type": "code",
      "execution_count": 3,
      "metadata": {
        "id": "CkbdW2Jtf-KT"
      },
      "outputs": [],
      "source": [
        "df_raw = pd.read_csv(\"/content/drive/MyDrive/Datasets/media prediction and its cost.csv\")"
      ]
    },
    {
      "cell_type": "code",
      "execution_count": 4,
      "metadata": {
        "colab": {
          "base_uri": "https://localhost:8080/"
        },
        "id": "JEYK5C4sgbJ_",
        "outputId": "aec5e116-4df8-4ac9-d14f-2cea3282c3b3"
      },
      "outputs": [
        {
          "output_type": "stream",
          "name": "stdout",
          "text": [
            "Number of unique values: 6 \t Datatype: float64 \t Column name: unit_sales(in millions)\n",
            "Number of unique values: 6 \t Datatype: float64 \t Column name: total_children\n",
            "Number of unique values: 5 \t Datatype: float64 \t Column name: avg_cars_at home(approx)\n",
            "Number of unique values: 6 \t Datatype: float64 \t Column name: num_children_at_home\n",
            "Number of unique values: 5 \t Datatype: float64 \t Column name: avg_cars_at home(approx).1\n"
          ]
        }
      ],
      "source": [
        "num_cols, cate_cols, pre_dum_cols = [], [], []\n",
        "for c in df_raw.columns:\n",
        "    uni_len = len(set(df_raw[c]))\n",
        "    dtype = df_raw[c].dtypes\n",
        "\n",
        "    if dtype == object:\n",
        "        cate_cols.append(c)\n",
        "    else: # dtype == float\n",
        "        if uni_len == 2:\n",
        "            pre_dum_cols.append(c)\n",
        "        elif uni_len < 10:\n",
        "            num_cols.append(c)\n",
        "            print(\"Number of unique values: %d \\t Datatype: %s \\t Column name: %s\" %(uni_len, dtype, c))\n",
        "        else:\n",
        "            num_cols.append(c)"
      ]
    },
    {
      "cell_type": "code",
      "execution_count": 5,
      "metadata": {
        "colab": {
          "base_uri": "https://localhost:8080/",
          "height": 1000
        },
        "id": "VyV6lSbOgRL4",
        "outputId": "189f657f-d73a-4e22-b000-d68da99d6c0b"
      },
      "outputs": [
        {
          "output_type": "stream",
          "name": "stderr",
          "text": [
            "/usr/local/lib/python3.8/dist-packages/sklearn/base.py:450: UserWarning: X does not have valid feature names, but IsolationForest was fitted with feature names\n",
            "  warnings.warn(\n",
            "/usr/local/lib/python3.8/dist-packages/sklearn/base.py:450: UserWarning: X does not have valid feature names, but IsolationForest was fitted with feature names\n",
            "  warnings.warn(\n",
            "/usr/local/lib/python3.8/dist-packages/sklearn/base.py:450: UserWarning: X does not have valid feature names, but IsolationForest was fitted with feature names\n",
            "  warnings.warn(\n",
            "/usr/local/lib/python3.8/dist-packages/sklearn/base.py:450: UserWarning: X does not have valid feature names, but IsolationForest was fitted with feature names\n",
            "  warnings.warn(\n",
            "/usr/local/lib/python3.8/dist-packages/sklearn/base.py:450: UserWarning: X does not have valid feature names, but IsolationForest was fitted with feature names\n",
            "  warnings.warn(\n",
            "/usr/local/lib/python3.8/dist-packages/sklearn/base.py:450: UserWarning: X does not have valid feature names, but IsolationForest was fitted with feature names\n",
            "  warnings.warn(\n",
            "/usr/local/lib/python3.8/dist-packages/sklearn/base.py:450: UserWarning: X does not have valid feature names, but IsolationForest was fitted with feature names\n",
            "  warnings.warn(\n",
            "/usr/local/lib/python3.8/dist-packages/sklearn/base.py:450: UserWarning: X does not have valid feature names, but IsolationForest was fitted with feature names\n",
            "  warnings.warn(\n",
            "/usr/local/lib/python3.8/dist-packages/sklearn/base.py:450: UserWarning: X does not have valid feature names, but IsolationForest was fitted with feature names\n",
            "  warnings.warn(\n",
            "/usr/local/lib/python3.8/dist-packages/sklearn/base.py:450: UserWarning: X does not have valid feature names, but IsolationForest was fitted with feature names\n",
            "  warnings.warn(\n",
            "/usr/local/lib/python3.8/dist-packages/sklearn/base.py:450: UserWarning: X does not have valid feature names, but IsolationForest was fitted with feature names\n",
            "  warnings.warn(\n",
            "/usr/local/lib/python3.8/dist-packages/sklearn/base.py:450: UserWarning: X does not have valid feature names, but IsolationForest was fitted with feature names\n",
            "  warnings.warn(\n",
            "/usr/local/lib/python3.8/dist-packages/sklearn/base.py:450: UserWarning: X does not have valid feature names, but IsolationForest was fitted with feature names\n",
            "  warnings.warn(\n",
            "/usr/local/lib/python3.8/dist-packages/sklearn/base.py:450: UserWarning: X does not have valid feature names, but IsolationForest was fitted with feature names\n",
            "  warnings.warn(\n",
            "/usr/local/lib/python3.8/dist-packages/sklearn/base.py:450: UserWarning: X does not have valid feature names, but IsolationForest was fitted with feature names\n",
            "  warnings.warn(\n",
            "/usr/local/lib/python3.8/dist-packages/sklearn/base.py:450: UserWarning: X does not have valid feature names, but IsolationForest was fitted with feature names\n",
            "  warnings.warn(\n"
          ]
        },
        {
          "output_type": "execute_result",
          "data": {
            "text/plain": [
              "       store_sales(in millions)  store_cost(in millions)  \\\n",
              "0                             1                        1   \n",
              "1                             1                        1   \n",
              "2                             1                        1   \n",
              "3                             1                        1   \n",
              "4                             1                        1   \n",
              "...                         ...                      ...   \n",
              "60423                         1                        1   \n",
              "60424                         1                       -1   \n",
              "60425                         1                        1   \n",
              "60426                         1                        1   \n",
              "60427                         1                        1   \n",
              "\n",
              "       unit_sales(in millions)  total_children  avg_cars_at home(approx)  \\\n",
              "0                            1               1                         1   \n",
              "1                            1               1                         1   \n",
              "2                            1               1                         1   \n",
              "3                            1               1                         1   \n",
              "4                            1               1                         1   \n",
              "...                        ...             ...                       ...   \n",
              "60423                       -1               1                         1   \n",
              "60424                       -1               1                         1   \n",
              "60425                        1               1                         1   \n",
              "60426                        1               1                         1   \n",
              "60427                        1               1                         1   \n",
              "\n",
              "       num_children_at_home  avg_cars_at home(approx).1  SRP  gross_weight  \\\n",
              "0                         1                           1    1             1   \n",
              "1                         1                           1    1             1   \n",
              "2                         1                           1    1             1   \n",
              "3                         1                           1    1             1   \n",
              "4                         1                           1    1             1   \n",
              "...                     ...                         ...  ...           ...   \n",
              "60423                     1                           1    1             1   \n",
              "60424                     1                           1    1             1   \n",
              "60425                     1                           1    1             1   \n",
              "60426                     1                           1    1             1   \n",
              "60427                     1                           1    1             1   \n",
              "\n",
              "       net_weight  units_per_case  store_sqft  grocery_sqft  frozen_sqft  \\\n",
              "0               1               1           1             1            1   \n",
              "1               1               1           1             1            1   \n",
              "2               1               1           1             1            1   \n",
              "3               1               1           1             1            1   \n",
              "4               1               1           1             1            1   \n",
              "...           ...             ...         ...           ...          ...   \n",
              "60423           1               1           1             1            1   \n",
              "60424           1              -1           1             1            1   \n",
              "60425           1               1           1             1            1   \n",
              "60426           1               1           1            -1            1   \n",
              "60427           1               1           1            -1            1   \n",
              "\n",
              "       meat_sqft  cost  \n",
              "0              1     1  \n",
              "1              1     1  \n",
              "2              1     1  \n",
              "3              1     1  \n",
              "4              1    -1  \n",
              "...          ...   ...  \n",
              "60423          1     1  \n",
              "60424          1     1  \n",
              "60425          1     1  \n",
              "60426          1     1  \n",
              "60427          1     1  \n",
              "\n",
              "[60428 rows x 16 columns]"
            ],
            "text/html": [
              "\n",
              "  <div id=\"df-03433d75-e350-4c5d-a439-8e624249a0e4\">\n",
              "    <div class=\"colab-df-container\">\n",
              "      <div>\n",
              "<style scoped>\n",
              "    .dataframe tbody tr th:only-of-type {\n",
              "        vertical-align: middle;\n",
              "    }\n",
              "\n",
              "    .dataframe tbody tr th {\n",
              "        vertical-align: top;\n",
              "    }\n",
              "\n",
              "    .dataframe thead th {\n",
              "        text-align: right;\n",
              "    }\n",
              "</style>\n",
              "<table border=\"1\" class=\"dataframe\">\n",
              "  <thead>\n",
              "    <tr style=\"text-align: right;\">\n",
              "      <th></th>\n",
              "      <th>store_sales(in millions)</th>\n",
              "      <th>store_cost(in millions)</th>\n",
              "      <th>unit_sales(in millions)</th>\n",
              "      <th>total_children</th>\n",
              "      <th>avg_cars_at home(approx)</th>\n",
              "      <th>num_children_at_home</th>\n",
              "      <th>avg_cars_at home(approx).1</th>\n",
              "      <th>SRP</th>\n",
              "      <th>gross_weight</th>\n",
              "      <th>net_weight</th>\n",
              "      <th>units_per_case</th>\n",
              "      <th>store_sqft</th>\n",
              "      <th>grocery_sqft</th>\n",
              "      <th>frozen_sqft</th>\n",
              "      <th>meat_sqft</th>\n",
              "      <th>cost</th>\n",
              "    </tr>\n",
              "  </thead>\n",
              "  <tbody>\n",
              "    <tr>\n",
              "      <th>0</th>\n",
              "      <td>1</td>\n",
              "      <td>1</td>\n",
              "      <td>1</td>\n",
              "      <td>1</td>\n",
              "      <td>1</td>\n",
              "      <td>1</td>\n",
              "      <td>1</td>\n",
              "      <td>1</td>\n",
              "      <td>1</td>\n",
              "      <td>1</td>\n",
              "      <td>1</td>\n",
              "      <td>1</td>\n",
              "      <td>1</td>\n",
              "      <td>1</td>\n",
              "      <td>1</td>\n",
              "      <td>1</td>\n",
              "    </tr>\n",
              "    <tr>\n",
              "      <th>1</th>\n",
              "      <td>1</td>\n",
              "      <td>1</td>\n",
              "      <td>1</td>\n",
              "      <td>1</td>\n",
              "      <td>1</td>\n",
              "      <td>1</td>\n",
              "      <td>1</td>\n",
              "      <td>1</td>\n",
              "      <td>1</td>\n",
              "      <td>1</td>\n",
              "      <td>1</td>\n",
              "      <td>1</td>\n",
              "      <td>1</td>\n",
              "      <td>1</td>\n",
              "      <td>1</td>\n",
              "      <td>1</td>\n",
              "    </tr>\n",
              "    <tr>\n",
              "      <th>2</th>\n",
              "      <td>1</td>\n",
              "      <td>1</td>\n",
              "      <td>1</td>\n",
              "      <td>1</td>\n",
              "      <td>1</td>\n",
              "      <td>1</td>\n",
              "      <td>1</td>\n",
              "      <td>1</td>\n",
              "      <td>1</td>\n",
              "      <td>1</td>\n",
              "      <td>1</td>\n",
              "      <td>1</td>\n",
              "      <td>1</td>\n",
              "      <td>1</td>\n",
              "      <td>1</td>\n",
              "      <td>1</td>\n",
              "    </tr>\n",
              "    <tr>\n",
              "      <th>3</th>\n",
              "      <td>1</td>\n",
              "      <td>1</td>\n",
              "      <td>1</td>\n",
              "      <td>1</td>\n",
              "      <td>1</td>\n",
              "      <td>1</td>\n",
              "      <td>1</td>\n",
              "      <td>1</td>\n",
              "      <td>1</td>\n",
              "      <td>1</td>\n",
              "      <td>1</td>\n",
              "      <td>1</td>\n",
              "      <td>1</td>\n",
              "      <td>1</td>\n",
              "      <td>1</td>\n",
              "      <td>1</td>\n",
              "    </tr>\n",
              "    <tr>\n",
              "      <th>4</th>\n",
              "      <td>1</td>\n",
              "      <td>1</td>\n",
              "      <td>1</td>\n",
              "      <td>1</td>\n",
              "      <td>1</td>\n",
              "      <td>1</td>\n",
              "      <td>1</td>\n",
              "      <td>1</td>\n",
              "      <td>1</td>\n",
              "      <td>1</td>\n",
              "      <td>1</td>\n",
              "      <td>1</td>\n",
              "      <td>1</td>\n",
              "      <td>1</td>\n",
              "      <td>1</td>\n",
              "      <td>-1</td>\n",
              "    </tr>\n",
              "    <tr>\n",
              "      <th>...</th>\n",
              "      <td>...</td>\n",
              "      <td>...</td>\n",
              "      <td>...</td>\n",
              "      <td>...</td>\n",
              "      <td>...</td>\n",
              "      <td>...</td>\n",
              "      <td>...</td>\n",
              "      <td>...</td>\n",
              "      <td>...</td>\n",
              "      <td>...</td>\n",
              "      <td>...</td>\n",
              "      <td>...</td>\n",
              "      <td>...</td>\n",
              "      <td>...</td>\n",
              "      <td>...</td>\n",
              "      <td>...</td>\n",
              "    </tr>\n",
              "    <tr>\n",
              "      <th>60423</th>\n",
              "      <td>1</td>\n",
              "      <td>1</td>\n",
              "      <td>-1</td>\n",
              "      <td>1</td>\n",
              "      <td>1</td>\n",
              "      <td>1</td>\n",
              "      <td>1</td>\n",
              "      <td>1</td>\n",
              "      <td>1</td>\n",
              "      <td>1</td>\n",
              "      <td>1</td>\n",
              "      <td>1</td>\n",
              "      <td>1</td>\n",
              "      <td>1</td>\n",
              "      <td>1</td>\n",
              "      <td>1</td>\n",
              "    </tr>\n",
              "    <tr>\n",
              "      <th>60424</th>\n",
              "      <td>1</td>\n",
              "      <td>-1</td>\n",
              "      <td>-1</td>\n",
              "      <td>1</td>\n",
              "      <td>1</td>\n",
              "      <td>1</td>\n",
              "      <td>1</td>\n",
              "      <td>1</td>\n",
              "      <td>1</td>\n",
              "      <td>1</td>\n",
              "      <td>-1</td>\n",
              "      <td>1</td>\n",
              "      <td>1</td>\n",
              "      <td>1</td>\n",
              "      <td>1</td>\n",
              "      <td>1</td>\n",
              "    </tr>\n",
              "    <tr>\n",
              "      <th>60425</th>\n",
              "      <td>1</td>\n",
              "      <td>1</td>\n",
              "      <td>1</td>\n",
              "      <td>1</td>\n",
              "      <td>1</td>\n",
              "      <td>1</td>\n",
              "      <td>1</td>\n",
              "      <td>1</td>\n",
              "      <td>1</td>\n",
              "      <td>1</td>\n",
              "      <td>1</td>\n",
              "      <td>1</td>\n",
              "      <td>1</td>\n",
              "      <td>1</td>\n",
              "      <td>1</td>\n",
              "      <td>1</td>\n",
              "    </tr>\n",
              "    <tr>\n",
              "      <th>60426</th>\n",
              "      <td>1</td>\n",
              "      <td>1</td>\n",
              "      <td>1</td>\n",
              "      <td>1</td>\n",
              "      <td>1</td>\n",
              "      <td>1</td>\n",
              "      <td>1</td>\n",
              "      <td>1</td>\n",
              "      <td>1</td>\n",
              "      <td>1</td>\n",
              "      <td>1</td>\n",
              "      <td>1</td>\n",
              "      <td>-1</td>\n",
              "      <td>1</td>\n",
              "      <td>1</td>\n",
              "      <td>1</td>\n",
              "    </tr>\n",
              "    <tr>\n",
              "      <th>60427</th>\n",
              "      <td>1</td>\n",
              "      <td>1</td>\n",
              "      <td>1</td>\n",
              "      <td>1</td>\n",
              "      <td>1</td>\n",
              "      <td>1</td>\n",
              "      <td>1</td>\n",
              "      <td>1</td>\n",
              "      <td>1</td>\n",
              "      <td>1</td>\n",
              "      <td>1</td>\n",
              "      <td>1</td>\n",
              "      <td>-1</td>\n",
              "      <td>1</td>\n",
              "      <td>1</td>\n",
              "      <td>1</td>\n",
              "    </tr>\n",
              "  </tbody>\n",
              "</table>\n",
              "<p>60428 rows × 16 columns</p>\n",
              "</div>\n",
              "      <button class=\"colab-df-convert\" onclick=\"convertToInteractive('df-03433d75-e350-4c5d-a439-8e624249a0e4')\"\n",
              "              title=\"Convert this dataframe to an interactive table.\"\n",
              "              style=\"display:none;\">\n",
              "        \n",
              "  <svg xmlns=\"http://www.w3.org/2000/svg\" height=\"24px\"viewBox=\"0 0 24 24\"\n",
              "       width=\"24px\">\n",
              "    <path d=\"M0 0h24v24H0V0z\" fill=\"none\"/>\n",
              "    <path d=\"M18.56 5.44l.94 2.06.94-2.06 2.06-.94-2.06-.94-.94-2.06-.94 2.06-2.06.94zm-11 1L8.5 8.5l.94-2.06 2.06-.94-2.06-.94L8.5 2.5l-.94 2.06-2.06.94zm10 10l.94 2.06.94-2.06 2.06-.94-2.06-.94-.94-2.06-.94 2.06-2.06.94z\"/><path d=\"M17.41 7.96l-1.37-1.37c-.4-.4-.92-.59-1.43-.59-.52 0-1.04.2-1.43.59L10.3 9.45l-7.72 7.72c-.78.78-.78 2.05 0 2.83L4 21.41c.39.39.9.59 1.41.59.51 0 1.02-.2 1.41-.59l7.78-7.78 2.81-2.81c.8-.78.8-2.07 0-2.86zM5.41 20L4 18.59l7.72-7.72 1.47 1.35L5.41 20z\"/>\n",
              "  </svg>\n",
              "      </button>\n",
              "      \n",
              "  <style>\n",
              "    .colab-df-container {\n",
              "      display:flex;\n",
              "      flex-wrap:wrap;\n",
              "      gap: 12px;\n",
              "    }\n",
              "\n",
              "    .colab-df-convert {\n",
              "      background-color: #E8F0FE;\n",
              "      border: none;\n",
              "      border-radius: 50%;\n",
              "      cursor: pointer;\n",
              "      display: none;\n",
              "      fill: #1967D2;\n",
              "      height: 32px;\n",
              "      padding: 0 0 0 0;\n",
              "      width: 32px;\n",
              "    }\n",
              "\n",
              "    .colab-df-convert:hover {\n",
              "      background-color: #E2EBFA;\n",
              "      box-shadow: 0px 1px 2px rgba(60, 64, 67, 0.3), 0px 1px 3px 1px rgba(60, 64, 67, 0.15);\n",
              "      fill: #174EA6;\n",
              "    }\n",
              "\n",
              "    [theme=dark] .colab-df-convert {\n",
              "      background-color: #3B4455;\n",
              "      fill: #D2E3FC;\n",
              "    }\n",
              "\n",
              "    [theme=dark] .colab-df-convert:hover {\n",
              "      background-color: #434B5C;\n",
              "      box-shadow: 0px 1px 3px 1px rgba(0, 0, 0, 0.15);\n",
              "      filter: drop-shadow(0px 1px 2px rgba(0, 0, 0, 0.3));\n",
              "      fill: #FFFFFF;\n",
              "    }\n",
              "  </style>\n",
              "\n",
              "      <script>\n",
              "        const buttonEl =\n",
              "          document.querySelector('#df-03433d75-e350-4c5d-a439-8e624249a0e4 button.colab-df-convert');\n",
              "        buttonEl.style.display =\n",
              "          google.colab.kernel.accessAllowed ? 'block' : 'none';\n",
              "\n",
              "        async function convertToInteractive(key) {\n",
              "          const element = document.querySelector('#df-03433d75-e350-4c5d-a439-8e624249a0e4');\n",
              "          const dataTable =\n",
              "            await google.colab.kernel.invokeFunction('convertToInteractive',\n",
              "                                                     [key], {});\n",
              "          if (!dataTable) return;\n",
              "\n",
              "          const docLinkHtml = 'Like what you see? Visit the ' +\n",
              "            '<a target=\"_blank\" href=https://colab.research.google.com/notebooks/data_table.ipynb>data table notebook</a>'\n",
              "            + ' to learn more about interactive tables.';\n",
              "          element.innerHTML = '';\n",
              "          dataTable['output_type'] = 'display_data';\n",
              "          await google.colab.output.renderOutput(dataTable, element);\n",
              "          const docLink = document.createElement('div');\n",
              "          docLink.innerHTML = docLinkHtml;\n",
              "          element.appendChild(docLink);\n",
              "        }\n",
              "      </script>\n",
              "    </div>\n",
              "  </div>\n",
              "  "
            ]
          },
          "metadata": {},
          "execution_count": 5
        }
      ],
      "source": [
        "isolation_forest = IsolationForest(contamination = 0.05, max_samples = 100, random_state = 0)\n",
        "\n",
        "# DataFrame to store the outlier predictions\n",
        "outlier_preds = pd.DataFrame()\n",
        "\n",
        "# Iterate all numerical columns\n",
        "for col in num_cols:\n",
        "    # Fit the Isolation Forest to the current column\n",
        "    isolation_forest.fit(df_raw[[col]])\n",
        "    \n",
        "    # Get the outlier predictions for the current column\n",
        "    outlier_pred = isolation_forest.predict(df_raw[[col]])\n",
        "    \n",
        "    # Add the outlier predictions as a new column in the outlier_preds DataFrame\n",
        "    outlier_preds[col] = outlier_pred\n",
        "\n",
        "outlier_preds"
      ]
    },
    {
      "cell_type": "code",
      "execution_count": 6,
      "metadata": {
        "colab": {
          "base_uri": "https://localhost:8080/",
          "height": 696
        },
        "id": "6fWcpPnwgspv",
        "outputId": "d01062f4-ef4c-408a-c3a0-db5810639a8c"
      },
      "outputs": [
        {
          "output_type": "execute_result",
          "data": {
            "text/plain": [
              "         food_category food_department     food_family  \\\n",
              "0      Breakfast Foods    Frozen Foods            Food   \n",
              "1      Breakfast Foods    Frozen Foods            Food   \n",
              "2      Breakfast Foods    Frozen Foods            Food   \n",
              "3      Breakfast Foods    Frozen Foods            Food   \n",
              "6      Breakfast Foods    Frozen Foods            Food   \n",
              "...                ...             ...             ...   \n",
              "60423        Specialty        Carousel  Non-Consumable   \n",
              "60424        Specialty        Carousel  Non-Consumable   \n",
              "60425        Specialty        Carousel  Non-Consumable   \n",
              "60426        Specialty        Carousel  Non-Consumable   \n",
              "60427        Specialty        Carousel  Non-Consumable   \n",
              "\n",
              "       store_sales(in millions)  store_cost(in millions)  \\\n",
              "0                          7.36                   2.7232   \n",
              "1                          5.52                   2.5944   \n",
              "2                          3.68                   1.3616   \n",
              "3                          3.68                   1.1776   \n",
              "6                          5.44                   2.5568   \n",
              "...                         ...                      ...   \n",
              "60423                      2.76                   1.3248   \n",
              "60424                      1.60                   0.4960   \n",
              "60425                      5.52                   2.5392   \n",
              "60426                      8.28                   2.5668   \n",
              "60427                      9.20                   4.2320   \n",
              "\n",
              "       unit_sales(in millions)         promotion_name sales_country  \\\n",
              "0                          4.0           Bag Stuffers           USA   \n",
              "1                          3.0  Cash Register Lottery           USA   \n",
              "2                          2.0    High Roller Savings           USA   \n",
              "3                          2.0  Cash Register Lottery           USA   \n",
              "6                          4.0  Cash Register Lottery           USA   \n",
              "...                        ...                    ...           ...   \n",
              "60423                      1.0          You Save Days           USA   \n",
              "60424                      1.0          Price Cutters           USA   \n",
              "60425                      2.0       Weekend Markdown           USA   \n",
              "60426                      3.0             Sales Days        Canada   \n",
              "60427                      4.0     Super Duper Savers        Canada   \n",
              "\n",
              "      marital_status gender  ...  grocery_sqft frozen_sqft meat_sqft  \\\n",
              "0                  M      F  ...       18670.0      5415.0    3610.0   \n",
              "1                  M      M  ...       18670.0      5415.0    3610.0   \n",
              "2                  S      F  ...       18670.0      5415.0    3610.0   \n",
              "3                  M      F  ...       18670.0      5415.0    3610.0   \n",
              "6                  S      F  ...       18670.0      5415.0    3610.0   \n",
              "...              ...    ...  ...           ...         ...       ...   \n",
              "60423              M      F  ...       15321.0      4294.0    2863.0   \n",
              "60424              S      F  ...       15321.0      4294.0    2863.0   \n",
              "60425              M      M  ...       15321.0      4294.0    2863.0   \n",
              "60426              S      M  ...       27463.0      4193.0    2795.0   \n",
              "60427              S      F  ...       27463.0      4193.0    2795.0   \n",
              "\n",
              "      coffee_bar video_store  salad_bar prepared_food  florist  \\\n",
              "0            1.0         1.0        1.0           1.0      1.0   \n",
              "1            1.0         1.0        1.0           1.0      1.0   \n",
              "2            1.0         1.0        1.0           1.0      1.0   \n",
              "3            1.0         1.0        1.0           1.0      1.0   \n",
              "6            1.0         1.0        1.0           1.0      1.0   \n",
              "...          ...         ...        ...           ...      ...   \n",
              "60423        1.0         0.0        0.0           0.0      0.0   \n",
              "60424        1.0         0.0        0.0           0.0      0.0   \n",
              "60425        1.0         0.0        0.0           0.0      0.0   \n",
              "60426        1.0         0.0        0.0           0.0      1.0   \n",
              "60427        1.0         0.0        0.0           0.0      1.0   \n",
              "\n",
              "                    media_type    cost  \n",
              "0           Daily Paper, Radio  126.62  \n",
              "1           Daily Paper, Radio   59.86  \n",
              "2           Daily Paper, Radio   84.16  \n",
              "3              In-Store Coupon   95.78  \n",
              "6              In-Store Coupon   95.78  \n",
              "...                        ...     ...  \n",
              "60423          In-Store Coupon   95.25  \n",
              "60424             Sunday Paper   69.42  \n",
              "60425  Sunday Paper, Radio, TV   67.51  \n",
              "60426             Sunday Paper  132.88  \n",
              "60427       Daily Paper, Radio   87.76  \n",
              "\n",
              "[57423 rows x 40 columns]"
            ],
            "text/html": [
              "\n",
              "  <div id=\"df-beac720a-f901-471d-a732-bc6e38bb6507\">\n",
              "    <div class=\"colab-df-container\">\n",
              "      <div>\n",
              "<style scoped>\n",
              "    .dataframe tbody tr th:only-of-type {\n",
              "        vertical-align: middle;\n",
              "    }\n",
              "\n",
              "    .dataframe tbody tr th {\n",
              "        vertical-align: top;\n",
              "    }\n",
              "\n",
              "    .dataframe thead th {\n",
              "        text-align: right;\n",
              "    }\n",
              "</style>\n",
              "<table border=\"1\" class=\"dataframe\">\n",
              "  <thead>\n",
              "    <tr style=\"text-align: right;\">\n",
              "      <th></th>\n",
              "      <th>food_category</th>\n",
              "      <th>food_department</th>\n",
              "      <th>food_family</th>\n",
              "      <th>store_sales(in millions)</th>\n",
              "      <th>store_cost(in millions)</th>\n",
              "      <th>unit_sales(in millions)</th>\n",
              "      <th>promotion_name</th>\n",
              "      <th>sales_country</th>\n",
              "      <th>marital_status</th>\n",
              "      <th>gender</th>\n",
              "      <th>...</th>\n",
              "      <th>grocery_sqft</th>\n",
              "      <th>frozen_sqft</th>\n",
              "      <th>meat_sqft</th>\n",
              "      <th>coffee_bar</th>\n",
              "      <th>video_store</th>\n",
              "      <th>salad_bar</th>\n",
              "      <th>prepared_food</th>\n",
              "      <th>florist</th>\n",
              "      <th>media_type</th>\n",
              "      <th>cost</th>\n",
              "    </tr>\n",
              "  </thead>\n",
              "  <tbody>\n",
              "    <tr>\n",
              "      <th>0</th>\n",
              "      <td>Breakfast Foods</td>\n",
              "      <td>Frozen Foods</td>\n",
              "      <td>Food</td>\n",
              "      <td>7.36</td>\n",
              "      <td>2.7232</td>\n",
              "      <td>4.0</td>\n",
              "      <td>Bag Stuffers</td>\n",
              "      <td>USA</td>\n",
              "      <td>M</td>\n",
              "      <td>F</td>\n",
              "      <td>...</td>\n",
              "      <td>18670.0</td>\n",
              "      <td>5415.0</td>\n",
              "      <td>3610.0</td>\n",
              "      <td>1.0</td>\n",
              "      <td>1.0</td>\n",
              "      <td>1.0</td>\n",
              "      <td>1.0</td>\n",
              "      <td>1.0</td>\n",
              "      <td>Daily Paper, Radio</td>\n",
              "      <td>126.62</td>\n",
              "    </tr>\n",
              "    <tr>\n",
              "      <th>1</th>\n",
              "      <td>Breakfast Foods</td>\n",
              "      <td>Frozen Foods</td>\n",
              "      <td>Food</td>\n",
              "      <td>5.52</td>\n",
              "      <td>2.5944</td>\n",
              "      <td>3.0</td>\n",
              "      <td>Cash Register Lottery</td>\n",
              "      <td>USA</td>\n",
              "      <td>M</td>\n",
              "      <td>M</td>\n",
              "      <td>...</td>\n",
              "      <td>18670.0</td>\n",
              "      <td>5415.0</td>\n",
              "      <td>3610.0</td>\n",
              "      <td>1.0</td>\n",
              "      <td>1.0</td>\n",
              "      <td>1.0</td>\n",
              "      <td>1.0</td>\n",
              "      <td>1.0</td>\n",
              "      <td>Daily Paper, Radio</td>\n",
              "      <td>59.86</td>\n",
              "    </tr>\n",
              "    <tr>\n",
              "      <th>2</th>\n",
              "      <td>Breakfast Foods</td>\n",
              "      <td>Frozen Foods</td>\n",
              "      <td>Food</td>\n",
              "      <td>3.68</td>\n",
              "      <td>1.3616</td>\n",
              "      <td>2.0</td>\n",
              "      <td>High Roller Savings</td>\n",
              "      <td>USA</td>\n",
              "      <td>S</td>\n",
              "      <td>F</td>\n",
              "      <td>...</td>\n",
              "      <td>18670.0</td>\n",
              "      <td>5415.0</td>\n",
              "      <td>3610.0</td>\n",
              "      <td>1.0</td>\n",
              "      <td>1.0</td>\n",
              "      <td>1.0</td>\n",
              "      <td>1.0</td>\n",
              "      <td>1.0</td>\n",
              "      <td>Daily Paper, Radio</td>\n",
              "      <td>84.16</td>\n",
              "    </tr>\n",
              "    <tr>\n",
              "      <th>3</th>\n",
              "      <td>Breakfast Foods</td>\n",
              "      <td>Frozen Foods</td>\n",
              "      <td>Food</td>\n",
              "      <td>3.68</td>\n",
              "      <td>1.1776</td>\n",
              "      <td>2.0</td>\n",
              "      <td>Cash Register Lottery</td>\n",
              "      <td>USA</td>\n",
              "      <td>M</td>\n",
              "      <td>F</td>\n",
              "      <td>...</td>\n",
              "      <td>18670.0</td>\n",
              "      <td>5415.0</td>\n",
              "      <td>3610.0</td>\n",
              "      <td>1.0</td>\n",
              "      <td>1.0</td>\n",
              "      <td>1.0</td>\n",
              "      <td>1.0</td>\n",
              "      <td>1.0</td>\n",
              "      <td>In-Store Coupon</td>\n",
              "      <td>95.78</td>\n",
              "    </tr>\n",
              "    <tr>\n",
              "      <th>6</th>\n",
              "      <td>Breakfast Foods</td>\n",
              "      <td>Frozen Foods</td>\n",
              "      <td>Food</td>\n",
              "      <td>5.44</td>\n",
              "      <td>2.5568</td>\n",
              "      <td>4.0</td>\n",
              "      <td>Cash Register Lottery</td>\n",
              "      <td>USA</td>\n",
              "      <td>S</td>\n",
              "      <td>F</td>\n",
              "      <td>...</td>\n",
              "      <td>18670.0</td>\n",
              "      <td>5415.0</td>\n",
              "      <td>3610.0</td>\n",
              "      <td>1.0</td>\n",
              "      <td>1.0</td>\n",
              "      <td>1.0</td>\n",
              "      <td>1.0</td>\n",
              "      <td>1.0</td>\n",
              "      <td>In-Store Coupon</td>\n",
              "      <td>95.78</td>\n",
              "    </tr>\n",
              "    <tr>\n",
              "      <th>...</th>\n",
              "      <td>...</td>\n",
              "      <td>...</td>\n",
              "      <td>...</td>\n",
              "      <td>...</td>\n",
              "      <td>...</td>\n",
              "      <td>...</td>\n",
              "      <td>...</td>\n",
              "      <td>...</td>\n",
              "      <td>...</td>\n",
              "      <td>...</td>\n",
              "      <td>...</td>\n",
              "      <td>...</td>\n",
              "      <td>...</td>\n",
              "      <td>...</td>\n",
              "      <td>...</td>\n",
              "      <td>...</td>\n",
              "      <td>...</td>\n",
              "      <td>...</td>\n",
              "      <td>...</td>\n",
              "      <td>...</td>\n",
              "      <td>...</td>\n",
              "    </tr>\n",
              "    <tr>\n",
              "      <th>60423</th>\n",
              "      <td>Specialty</td>\n",
              "      <td>Carousel</td>\n",
              "      <td>Non-Consumable</td>\n",
              "      <td>2.76</td>\n",
              "      <td>1.3248</td>\n",
              "      <td>1.0</td>\n",
              "      <td>You Save Days</td>\n",
              "      <td>USA</td>\n",
              "      <td>M</td>\n",
              "      <td>F</td>\n",
              "      <td>...</td>\n",
              "      <td>15321.0</td>\n",
              "      <td>4294.0</td>\n",
              "      <td>2863.0</td>\n",
              "      <td>1.0</td>\n",
              "      <td>0.0</td>\n",
              "      <td>0.0</td>\n",
              "      <td>0.0</td>\n",
              "      <td>0.0</td>\n",
              "      <td>In-Store Coupon</td>\n",
              "      <td>95.25</td>\n",
              "    </tr>\n",
              "    <tr>\n",
              "      <th>60424</th>\n",
              "      <td>Specialty</td>\n",
              "      <td>Carousel</td>\n",
              "      <td>Non-Consumable</td>\n",
              "      <td>1.60</td>\n",
              "      <td>0.4960</td>\n",
              "      <td>1.0</td>\n",
              "      <td>Price Cutters</td>\n",
              "      <td>USA</td>\n",
              "      <td>S</td>\n",
              "      <td>F</td>\n",
              "      <td>...</td>\n",
              "      <td>15321.0</td>\n",
              "      <td>4294.0</td>\n",
              "      <td>2863.0</td>\n",
              "      <td>1.0</td>\n",
              "      <td>0.0</td>\n",
              "      <td>0.0</td>\n",
              "      <td>0.0</td>\n",
              "      <td>0.0</td>\n",
              "      <td>Sunday Paper</td>\n",
              "      <td>69.42</td>\n",
              "    </tr>\n",
              "    <tr>\n",
              "      <th>60425</th>\n",
              "      <td>Specialty</td>\n",
              "      <td>Carousel</td>\n",
              "      <td>Non-Consumable</td>\n",
              "      <td>5.52</td>\n",
              "      <td>2.5392</td>\n",
              "      <td>2.0</td>\n",
              "      <td>Weekend Markdown</td>\n",
              "      <td>USA</td>\n",
              "      <td>M</td>\n",
              "      <td>M</td>\n",
              "      <td>...</td>\n",
              "      <td>15321.0</td>\n",
              "      <td>4294.0</td>\n",
              "      <td>2863.0</td>\n",
              "      <td>1.0</td>\n",
              "      <td>0.0</td>\n",
              "      <td>0.0</td>\n",
              "      <td>0.0</td>\n",
              "      <td>0.0</td>\n",
              "      <td>Sunday Paper, Radio, TV</td>\n",
              "      <td>67.51</td>\n",
              "    </tr>\n",
              "    <tr>\n",
              "      <th>60426</th>\n",
              "      <td>Specialty</td>\n",
              "      <td>Carousel</td>\n",
              "      <td>Non-Consumable</td>\n",
              "      <td>8.28</td>\n",
              "      <td>2.5668</td>\n",
              "      <td>3.0</td>\n",
              "      <td>Sales Days</td>\n",
              "      <td>Canada</td>\n",
              "      <td>S</td>\n",
              "      <td>M</td>\n",
              "      <td>...</td>\n",
              "      <td>27463.0</td>\n",
              "      <td>4193.0</td>\n",
              "      <td>2795.0</td>\n",
              "      <td>1.0</td>\n",
              "      <td>0.0</td>\n",
              "      <td>0.0</td>\n",
              "      <td>0.0</td>\n",
              "      <td>1.0</td>\n",
              "      <td>Sunday Paper</td>\n",
              "      <td>132.88</td>\n",
              "    </tr>\n",
              "    <tr>\n",
              "      <th>60427</th>\n",
              "      <td>Specialty</td>\n",
              "      <td>Carousel</td>\n",
              "      <td>Non-Consumable</td>\n",
              "      <td>9.20</td>\n",
              "      <td>4.2320</td>\n",
              "      <td>4.0</td>\n",
              "      <td>Super Duper Savers</td>\n",
              "      <td>Canada</td>\n",
              "      <td>S</td>\n",
              "      <td>F</td>\n",
              "      <td>...</td>\n",
              "      <td>27463.0</td>\n",
              "      <td>4193.0</td>\n",
              "      <td>2795.0</td>\n",
              "      <td>1.0</td>\n",
              "      <td>0.0</td>\n",
              "      <td>0.0</td>\n",
              "      <td>0.0</td>\n",
              "      <td>1.0</td>\n",
              "      <td>Daily Paper, Radio</td>\n",
              "      <td>87.76</td>\n",
              "    </tr>\n",
              "  </tbody>\n",
              "</table>\n",
              "<p>57423 rows × 40 columns</p>\n",
              "</div>\n",
              "      <button class=\"colab-df-convert\" onclick=\"convertToInteractive('df-beac720a-f901-471d-a732-bc6e38bb6507')\"\n",
              "              title=\"Convert this dataframe to an interactive table.\"\n",
              "              style=\"display:none;\">\n",
              "        \n",
              "  <svg xmlns=\"http://www.w3.org/2000/svg\" height=\"24px\"viewBox=\"0 0 24 24\"\n",
              "       width=\"24px\">\n",
              "    <path d=\"M0 0h24v24H0V0z\" fill=\"none\"/>\n",
              "    <path d=\"M18.56 5.44l.94 2.06.94-2.06 2.06-.94-2.06-.94-.94-2.06-.94 2.06-2.06.94zm-11 1L8.5 8.5l.94-2.06 2.06-.94-2.06-.94L8.5 2.5l-.94 2.06-2.06.94zm10 10l.94 2.06.94-2.06 2.06-.94-2.06-.94-.94-2.06-.94 2.06-2.06.94z\"/><path d=\"M17.41 7.96l-1.37-1.37c-.4-.4-.92-.59-1.43-.59-.52 0-1.04.2-1.43.59L10.3 9.45l-7.72 7.72c-.78.78-.78 2.05 0 2.83L4 21.41c.39.39.9.59 1.41.59.51 0 1.02-.2 1.41-.59l7.78-7.78 2.81-2.81c.8-.78.8-2.07 0-2.86zM5.41 20L4 18.59l7.72-7.72 1.47 1.35L5.41 20z\"/>\n",
              "  </svg>\n",
              "      </button>\n",
              "      \n",
              "  <style>\n",
              "    .colab-df-container {\n",
              "      display:flex;\n",
              "      flex-wrap:wrap;\n",
              "      gap: 12px;\n",
              "    }\n",
              "\n",
              "    .colab-df-convert {\n",
              "      background-color: #E8F0FE;\n",
              "      border: none;\n",
              "      border-radius: 50%;\n",
              "      cursor: pointer;\n",
              "      display: none;\n",
              "      fill: #1967D2;\n",
              "      height: 32px;\n",
              "      padding: 0 0 0 0;\n",
              "      width: 32px;\n",
              "    }\n",
              "\n",
              "    .colab-df-convert:hover {\n",
              "      background-color: #E2EBFA;\n",
              "      box-shadow: 0px 1px 2px rgba(60, 64, 67, 0.3), 0px 1px 3px 1px rgba(60, 64, 67, 0.15);\n",
              "      fill: #174EA6;\n",
              "    }\n",
              "\n",
              "    [theme=dark] .colab-df-convert {\n",
              "      background-color: #3B4455;\n",
              "      fill: #D2E3FC;\n",
              "    }\n",
              "\n",
              "    [theme=dark] .colab-df-convert:hover {\n",
              "      background-color: #434B5C;\n",
              "      box-shadow: 0px 1px 3px 1px rgba(0, 0, 0, 0.15);\n",
              "      filter: drop-shadow(0px 1px 2px rgba(0, 0, 0, 0.3));\n",
              "      fill: #FFFFFF;\n",
              "    }\n",
              "  </style>\n",
              "\n",
              "      <script>\n",
              "        const buttonEl =\n",
              "          document.querySelector('#df-beac720a-f901-471d-a732-bc6e38bb6507 button.colab-df-convert');\n",
              "        buttonEl.style.display =\n",
              "          google.colab.kernel.accessAllowed ? 'block' : 'none';\n",
              "\n",
              "        async function convertToInteractive(key) {\n",
              "          const element = document.querySelector('#df-beac720a-f901-471d-a732-bc6e38bb6507');\n",
              "          const dataTable =\n",
              "            await google.colab.kernel.invokeFunction('convertToInteractive',\n",
              "                                                     [key], {});\n",
              "          if (!dataTable) return;\n",
              "\n",
              "          const docLinkHtml = 'Like what you see? Visit the ' +\n",
              "            '<a target=\"_blank\" href=https://colab.research.google.com/notebooks/data_table.ipynb>data table notebook</a>'\n",
              "            + ' to learn more about interactive tables.';\n",
              "          element.innerHTML = '';\n",
              "          dataTable['output_type'] = 'display_data';\n",
              "          await google.colab.output.renderOutput(dataTable, element);\n",
              "          const docLink = document.createElement('div');\n",
              "          docLink.innerHTML = docLinkHtml;\n",
              "          element.appendChild(docLink);\n",
              "        }\n",
              "      </script>\n",
              "    </div>\n",
              "  </div>\n",
              "  "
            ]
          },
          "metadata": {},
          "execution_count": 6
        }
      ],
      "source": [
        "df_woOut = df_raw.iloc[outlier_pred == 1]\n",
        "df_woOut"
      ]
    },
    {
      "cell_type": "code",
      "execution_count": null,
      "metadata": {
        "colab": {
          "base_uri": "https://localhost:8080/",
          "height": 762
        },
        "id": "C1WD7nxYgyVB",
        "outputId": "7fb08f7e-7260-4ae7-a918-b0723ac7e593"
      },
      "outputs": [
        {
          "data": {
            "text/plain": [
              "Text(0.5, 1.0, 'Correlation Matrix')"
            ]
          },
          "execution_count": 6,
          "metadata": {},
          "output_type": "execute_result"
        },
        {
          "data": {
            "image/png": "[encoded data removed]",
            "text/plain": [
              "<Figure size 936x720 with 2 Axes>"
            ]
          },
          "metadata": {
            "needs_background": "light"
          },
          "output_type": "display_data"
        }
      ],
      "source": [
        "import matplotlib.pyplot as plt\n",
        "import seaborn as sns\n",
        "\n",
        "plt.figure(figsize = (13, 10))\n",
        "\n",
        "sns.heatmap(df_woOut[num_cols].corr(), annot = True, cmap = 'coolwarm', annot_kws = {'size' : 7})\n",
        "plt.title(\"Correlation Matrix\", fontsize = 20, fontweight = 'bold')"
      ]
    },
    {
      "cell_type": "markdown",
      "metadata": {
        "id": "VVt7Fwi57dhA"
      },
      "source": [
        "# Feature Engineering"
      ]
    },
    {
      "cell_type": "markdown",
      "metadata": {
        "id": "4RR-lNjMmnf0"
      },
      "source": [
        "According to the correlation matrix, we will do feature engineering to preserve as much data as possible at this stage while not facing multicollinearity."
      ]
    },
    {
      "cell_type": "code",
      "execution_count": 7,
      "metadata": {
        "colab": {
          "base_uri": "https://localhost:8080/"
        },
        "id": "MC-N0Uyom6t1",
        "outputId": "24e2cd4f-6ee2-4375-aaba-e9b40bf58b09"
      },
      "outputs": [
        {
          "output_type": "stream",
          "name": "stderr",
          "text": [
            "<ipython-input-7-dd7f76fe2813>:1: SettingWithCopyWarning: \n",
            "A value is trying to be set on a copy of a slice from a DataFrame.\n",
            "Try using .loc[row_indexer,col_indexer] = value instead\n",
            "\n",
            "See the caveats in the documentation: https://pandas.pydata.org/pandas-docs/stable/user_guide/indexing.html#returning-a-view-versus-a-copy\n",
            "  df_woOut['sales_to_cost_ratio'] = df_woOut['store_sales(in millions)'] / df_woOut['store_cost(in millions)']\n",
            "<ipython-input-7-dd7f76fe2813>:2: SettingWithCopyWarning: \n",
            "A value is trying to be set on a copy of a slice from a DataFrame.\n",
            "Try using .loc[row_indexer,col_indexer] = value instead\n",
            "\n",
            "See the caveats in the documentation: https://pandas.pydata.org/pandas-docs/stable/user_guide/indexing.html#returning-a-view-versus-a-copy\n",
            "  df_woOut['frozen_to_meat_ratio'] = df_woOut['frozen_sqft'] / df_woOut['meat_sqft']\n",
            "<ipython-input-7-dd7f76fe2813>:3: SettingWithCopyWarning: \n",
            "A value is trying to be set on a copy of a slice from a DataFrame.\n",
            "Try using .loc[row_indexer,col_indexer] = value instead\n",
            "\n",
            "See the caveats in the documentation: https://pandas.pydata.org/pandas-docs/stable/user_guide/indexing.html#returning-a-view-versus-a-copy\n",
            "  df_woOut['meat_to_total_ratio'] = df_woOut['meat_sqft'] / df_woOut['store_sqft']\n"
          ]
        }
      ],
      "source": [
        "df_woOut['sales_to_cost_ratio'] = df_woOut['store_sales(in millions)'] / df_woOut['store_cost(in millions)']\n",
        "df_woOut['frozen_to_meat_ratio'] = df_woOut['frozen_sqft'] / df_woOut['meat_sqft']\n",
        "df_woOut['meat_to_total_ratio'] = df_woOut['meat_sqft'] / df_woOut['store_sqft']"
      ]
    },
    {
      "cell_type": "code",
      "execution_count": 8,
      "metadata": {
        "id": "00tz4H6rpb4I"
      },
      "outputs": [],
      "source": [
        "df_woOut = df_woOut.drop(['store_sales(in millions)', 'store_cost(in millions)', 'frozen_sqft', 'meat_sqft', 'grocery_sqft', 'store_sqft',\n",
        "                          'gross_weight', 'avg_cars_at home(approx).1', 'grocery_sqft'], axis = 1)"
      ]
    },
    {
      "cell_type": "code",
      "execution_count": 9,
      "metadata": {
        "colab": {
          "base_uri": "https://localhost:8080/"
        },
        "id": "tA_rjHUtqXXK",
        "outputId": "47202ddd-3802-493f-9612-674c3d407955"
      },
      "outputs": [
        {
          "output_type": "stream",
          "name": "stdout",
          "text": [
            "Number of unique values: 6 \t Datatype: float64 \t Column name: unit_sales(in millions)\n",
            "Number of unique values: 6 \t Datatype: float64 \t Column name: total_children\n",
            "Number of unique values: 5 \t Datatype: float64 \t Column name: avg_cars_at home(approx)\n",
            "Number of unique values: 6 \t Datatype: float64 \t Column name: num_children_at_home\n"
          ]
        }
      ],
      "source": [
        "num_cols, cate_cols, pre_dum_cols = [], [], []\n",
        "for c in df_woOut.columns:\n",
        "    uni_len = len(set(df_woOut[c]))\n",
        "    dtype = df_woOut[c].dtypes\n",
        "\n",
        "    if dtype == object:\n",
        "        cate_cols.append(c)\n",
        "    else: # dtype == float\n",
        "        if uni_len == 2:\n",
        "            pre_dum_cols.append(c)\n",
        "        elif uni_len < 10:\n",
        "            num_cols.append(c)\n",
        "            print(\"Number of unique values: %d \\t Datatype: %s \\t Column name: %s\" %(uni_len, dtype, c))\n",
        "        else:\n",
        "            num_cols.append(c)"
      ]
    },
    {
      "cell_type": "code",
      "execution_count": null,
      "metadata": {
        "colab": {
          "base_uri": "https://localhost:8080/",
          "height": 752
        },
        "id": "vz7sMeI4qjn5",
        "outputId": "85bf8ad3-3b21-4c76-cef4-abfd1bf10456"
      },
      "outputs": [
        {
          "data": {
            "text/plain": [
              "Text(0.5, 1.0, 'Correlation Matrix')"
            ]
          },
          "execution_count": 10,
          "metadata": {},
          "output_type": "execute_result"
        },
        {
          "data": {
            "image/png": "[encoded data removed]",
            "text/plain": [
              "<Figure size 936x720 with 2 Axes>"
            ]
          },
          "metadata": {
            "needs_background": "light"
          },
          "output_type": "display_data"
        }
      ],
      "source": [
        "import matplotlib.pyplot as plt\n",
        "import seaborn as sns\n",
        "\n",
        "plt.figure(figsize = (13, 10))\n",
        "\n",
        "sns.heatmap(df_woOut[num_cols].corr(), annot = True, cmap = 'coolwarm', annot_kws = {'size' : 7})\n",
        "plt.title(\"Correlation Matrix\", fontsize = 20, fontweight = 'bold')"
      ]
    },
    {
      "cell_type": "code",
      "execution_count": 10,
      "metadata": {
        "colab": {
          "base_uri": "https://localhost:8080/"
        },
        "id": "xP2BxSRFA_5P",
        "outputId": "654c21e2-cc01-4eb3-cc7c-7315de9e4f16"
      },
      "outputs": [
        {
          "output_type": "execute_result",
          "data": {
            "text/plain": [
              "array([[ 0.2       , -0.6       , -0.5       , ...,  0.05405405,\n",
              "         0.11000332,  0.26845737],\n",
              "       [-0.2       , -1.        ,  1.        , ..., -0.80851064,\n",
              "         0.11000332,  0.26845737],\n",
              "       [-0.6       ,  0.6       , -0.5       , ...,  0.05405405,\n",
              "         0.11000332,  0.26845737],\n",
              "       ...,\n",
              "       [-0.6       , -0.6       ,  0.5       , ..., -0.73913043,\n",
              "        -0.4091355 ,  0.19257961],\n",
              "       [-0.2       , -0.2       ,  1.        , ...,  0.83870968,\n",
              "         0.64177236, -0.98319777],\n",
              "       [ 0.2       ,  0.2       , -0.5       , ..., -0.73913043,\n",
              "         0.64177236, -0.98319777]])"
            ]
          },
          "metadata": {},
          "execution_count": 10
        }
      ],
      "source": [
        "cols = [c for c in num_cols if c != 'cost'] # exclude target\n",
        "\n",
        "min_max_scaler = MinMaxScaler(feature_range=(-1, 1))\n",
        "MinMax_scaled = min_max_scaler.fit_transform(df_woOut[cols])\n",
        "\n",
        "MinMax_scaled"
      ]
    },
    {
      "cell_type": "code",
      "execution_count": 11,
      "metadata": {
        "colab": {
          "base_uri": "https://localhost:8080/"
        },
        "id": "gyA2MCIVBBF_",
        "outputId": "54ffce9a-e28f-4406-f973-c578b9935a7a"
      },
      "outputs": [
        {
          "output_type": "execute_result",
          "data": {
            "text/plain": [
              "array([[ 1.09602519, -1.03128914, -1.08330242, ...,  0.39259738,\n",
              "        -0.01604716,  0.18363349],\n",
              "       [-0.11019699, -1.70201487,  1.61780374, ..., -1.11761199,\n",
              "        -0.01604716,  0.18363349],\n",
              "       [-1.31641916,  0.98088805, -1.08330242, ...,  0.39259738,\n",
              "        -0.01604716,  0.18363349],\n",
              "       ...,\n",
              "       [-1.31641916, -1.03128914,  0.71743502, ..., -0.99613863,\n",
              "        -0.97003583,  0.05803928],\n",
              "       [-0.11019699, -0.36056341,  1.61780374, ...,  1.76640074,\n",
              "         0.96115125, -1.88812817],\n",
              "       [ 1.09602519,  0.31016232, -1.08330242, ..., -0.99613863,\n",
              "         0.96115125, -1.88812817]])"
            ]
          },
          "metadata": {},
          "execution_count": 11
        }
      ],
      "source": [
        "cols = [c for c in num_cols if c != 'cost'] # exclude target\n",
        "\n",
        "std_scaler = StandardScaler()\n",
        "std_scaled = std_scaler.fit_transform(df_woOut[cols])\n",
        "std_scaled"
      ]
    },
    {
      "cell_type": "code",
      "execution_count": 12,
      "metadata": {
        "id": "3Mwpet-lBBQf"
      },
      "outputs": [],
      "source": [
        "#df = pd.DataFrame(std_scaled, columns = [c for c in num_cols if c != 'cost'])\n",
        "df = pd.DataFrame(MinMax_scaled, columns = [c for c in num_cols if c != 'cost'])\n",
        "\n",
        "# Concatenate standardized/normalized numerical columns with the others\n",
        "df = pd.concat([df.reset_index(drop=True), \n",
        "                df_woOut[cate_cols + pre_dum_cols].reset_index(drop=True)], axis=1)"
      ]
    },
    {
      "cell_type": "markdown",
      "metadata": {
        "id": "sH4zirUNF8y7"
      },
      "source": [
        "### Dropping irrelevant attributes"
      ]
    },
    {
      "cell_type": "markdown",
      "metadata": {
        "id": "2JlDapYsGB6d"
      },
      "source": [
        "We will drop irrelevant attributes or attributes that have too many variables to avoid over-complicating our model."
      ]
    },
    {
      "cell_type": "code",
      "execution_count": 13,
      "metadata": {
        "id": "HbbFqCTuGG5N"
      },
      "outputs": [],
      "source": [
        "df = df.drop(['food_category', 'food_department', 'brand_name', 'store_city', 'promotion_name'], axis = 1)"
      ]
    },
    {
      "cell_type": "markdown",
      "metadata": {
        "id": "VqAHhXiT7Ghq"
      },
      "source": [
        "### Dummifying categorical variables\n",
        "\n"
      ]
    },
    {
      "cell_type": "markdown",
      "metadata": {
        "id": "uAgE_eWA8HHy"
      },
      "source": [
        "Since 'media_type' will be our treatment for the causal inference, we encode it differently not to add too many features/predictors to our model."
      ]
    },
    {
      "cell_type": "code",
      "execution_count": 14,
      "metadata": {
        "id": "Z_obMaE17Pr-"
      },
      "outputs": [],
      "source": [
        "from sklearn import preprocessing \n",
        "\n",
        "label_encoder = preprocessing.LabelEncoder() \n",
        "label_encoder.fit_transform(df['media_type'].tolist())\n",
        "\n",
        "# to decode values \n",
        "# label_encoder.inverse_transform([1, 1, 0])\n",
        "\n",
        "df['media_type_labeled'] = label_encoder.fit_transform(df['media_type'].tolist())"
      ]
    },
    {
      "cell_type": "code",
      "execution_count": 15,
      "metadata": {
        "id": "EGFEjIPo8F9U"
      },
      "outputs": [],
      "source": [
        "# Dummify categorical variables except for 'media type'\n",
        "df = pd.get_dummies(df[[c for c in df.columns if c != 'media_type']], drop_first = True)"
      ]
    },
    {
      "cell_type": "code",
      "execution_count": 16,
      "metadata": {
        "colab": {
          "base_uri": "https://localhost:8080/",
          "height": 505
        },
        "id": "-CgIAFpG8U_P",
        "outputId": "2cf2fb31-3e6f-4e3f-823e-efa36ad46374"
      },
      "outputs": [
        {
          "output_type": "execute_result",
          "data": {
            "text/plain": [
              "       unit_sales(in millions)  total_children  avg_cars_at home(approx)  \\\n",
              "0                          0.2            -0.6                      -0.5   \n",
              "1                         -0.2            -1.0                       1.0   \n",
              "2                         -0.6             0.6                      -0.5   \n",
              "3                         -0.6            -0.2                       0.0   \n",
              "4                          0.2             0.6                       0.0   \n",
              "...                        ...             ...                       ...   \n",
              "57418                     -1.0            -0.6                      -0.5   \n",
              "57419                     -1.0            -0.2                       0.0   \n",
              "57420                     -0.6            -0.6                       0.5   \n",
              "57421                     -0.2            -0.2                       1.0   \n",
              "57422                      0.2             0.2                      -0.5   \n",
              "\n",
              "       num_children_at_home       SRP  net_weight  units_per_case  \\\n",
              "0                      -0.6 -0.229885    0.650704       -0.085714   \n",
              "1                      -1.0 -0.229885    0.650704       -0.085714   \n",
              "2                      -1.0 -0.229885    0.650704       -0.085714   \n",
              "3                      -0.2 -0.229885    0.650704       -0.085714   \n",
              "4                      -1.0 -0.505747   -0.767887        0.600000   \n",
              "...                     ...       ...         ...             ...   \n",
              "57418                  -0.6  0.298851    0.752113        0.428571   \n",
              "57419                  -1.0 -0.367816    0.380282        1.000000   \n",
              "57420                  -1.0  0.298851    0.752113        0.428571   \n",
              "57421                  -1.0  0.298851    0.752113        0.428571   \n",
              "57422                  -1.0  0.034483    0.853521        0.600000   \n",
              "\n",
              "       sales_to_cost_ratio  frozen_to_meat_ratio  meat_to_total_ratio  ...  \\\n",
              "0                 0.054054              0.110003             0.268457  ...   \n",
              "1                -0.808511              0.110003             0.268457  ...   \n",
              "2                 0.054054              0.110003             0.268457  ...   \n",
              "3                 0.687500              0.110003             0.268457  ...   \n",
              "4                -0.808511              0.110003             0.268457  ...   \n",
              "...                    ...                   ...                  ...  ...   \n",
              "57418            -0.875000             -0.409135             0.192580  ...   \n",
              "57419             0.838710             -0.409135             0.192580  ...   \n",
              "57420            -0.739130             -0.409135             0.192580  ...   \n",
              "57421             0.838710              0.641772            -0.983198  ...   \n",
              "57422            -0.739130              0.641772            -0.983198  ...   \n",
              "\n",
              "       store_type_Supermarket  store_state_CA  store_state_DF  \\\n",
              "0                           0               0               0   \n",
              "1                           0               0               0   \n",
              "2                           0               0               0   \n",
              "3                           0               0               0   \n",
              "4                           0               0               0   \n",
              "...                       ...             ...             ...   \n",
              "57418                       0               1               0   \n",
              "57419                       0               1               0   \n",
              "57420                       0               1               0   \n",
              "57421                       0               0               0   \n",
              "57422                       0               0               0   \n",
              "\n",
              "       store_state_Guerrero  store_state_Jalisco  store_state_OR  \\\n",
              "0                         0                    0               1   \n",
              "1                         0                    0               1   \n",
              "2                         0                    0               1   \n",
              "3                         0                    0               1   \n",
              "4                         0                    0               1   \n",
              "...                     ...                  ...             ...   \n",
              "57418                     0                    0               0   \n",
              "57419                     0                    0               0   \n",
              "57420                     0                    0               0   \n",
              "57421                     0                    0               0   \n",
              "57422                     0                    0               0   \n",
              "\n",
              "       store_state_Veracruz  store_state_WA  store_state_Yucatan  \\\n",
              "0                         0               0                    0   \n",
              "1                         0               0                    0   \n",
              "2                         0               0                    0   \n",
              "3                         0               0                    0   \n",
              "4                         0               0                    0   \n",
              "...                     ...             ...                  ...   \n",
              "57418                     0               0                    0   \n",
              "57419                     0               0                    0   \n",
              "57420                     0               0                    0   \n",
              "57421                     0               0                    0   \n",
              "57422                     0               0                    0   \n",
              "\n",
              "       store_state_Zacatecas  \n",
              "0                          0  \n",
              "1                          0  \n",
              "2                          0  \n",
              "3                          0  \n",
              "4                          0  \n",
              "...                      ...  \n",
              "57418                      0  \n",
              "57419                      0  \n",
              "57420                      0  \n",
              "57421                      0  \n",
              "57422                      0  \n",
              "\n",
              "[57423 rows x 56 columns]"
            ],
            "text/html": [
              "\n",
              "  <div id=\"df-0faeecee-e1a6-4c36-b7b7-97c07480d83b\">\n",
              "    <div class=\"colab-df-container\">\n",
              "      <div>\n",
              "<style scoped>\n",
              "    .dataframe tbody tr th:only-of-type {\n",
              "        vertical-align: middle;\n",
              "    }\n",
              "\n",
              "    .dataframe tbody tr th {\n",
              "        vertical-align: top;\n",
              "    }\n",
              "\n",
              "    .dataframe thead th {\n",
              "        text-align: right;\n",
              "    }\n",
              "</style>\n",
              "<table border=\"1\" class=\"dataframe\">\n",
              "  <thead>\n",
              "    <tr style=\"text-align: right;\">\n",
              "      <th></th>\n",
              "      <th>unit_sales(in millions)</th>\n",
              "      <th>total_children</th>\n",
              "      <th>avg_cars_at home(approx)</th>\n",
              "      <th>num_children_at_home</th>\n",
              "      <th>SRP</th>\n",
              "      <th>net_weight</th>\n",
              "      <th>units_per_case</th>\n",
              "      <th>sales_to_cost_ratio</th>\n",
              "      <th>frozen_to_meat_ratio</th>\n",
              "      <th>meat_to_total_ratio</th>\n",
              "      <th>...</th>\n",
              "      <th>store_type_Supermarket</th>\n",
              "      <th>store_state_CA</th>\n",
              "      <th>store_state_DF</th>\n",
              "      <th>store_state_Guerrero</th>\n",
              "      <th>store_state_Jalisco</th>\n",
              "      <th>store_state_OR</th>\n",
              "      <th>store_state_Veracruz</th>\n",
              "      <th>store_state_WA</th>\n",
              "      <th>store_state_Yucatan</th>\n",
              "      <th>store_state_Zacatecas</th>\n",
              "    </tr>\n",
              "  </thead>\n",
              "  <tbody>\n",
              "    <tr>\n",
              "      <th>0</th>\n",
              "      <td>0.2</td>\n",
              "      <td>-0.6</td>\n",
              "      <td>-0.5</td>\n",
              "      <td>-0.6</td>\n",
              "      <td>-0.229885</td>\n",
              "      <td>0.650704</td>\n",
              "      <td>-0.085714</td>\n",
              "      <td>0.054054</td>\n",
              "      <td>0.110003</td>\n",
              "      <td>0.268457</td>\n",
              "      <td>...</td>\n",
              "      <td>0</td>\n",
              "      <td>0</td>\n",
              "      <td>0</td>\n",
              "      <td>0</td>\n",
              "      <td>0</td>\n",
              "      <td>1</td>\n",
              "      <td>0</td>\n",
              "      <td>0</td>\n",
              "      <td>0</td>\n",
              "      <td>0</td>\n",
              "    </tr>\n",
              "    <tr>\n",
              "      <th>1</th>\n",
              "      <td>-0.2</td>\n",
              "      <td>-1.0</td>\n",
              "      <td>1.0</td>\n",
              "      <td>-1.0</td>\n",
              "      <td>-0.229885</td>\n",
              "      <td>0.650704</td>\n",
              "      <td>-0.085714</td>\n",
              "      <td>-0.808511</td>\n",
              "      <td>0.110003</td>\n",
              "      <td>0.268457</td>\n",
              "      <td>...</td>\n",
              "      <td>0</td>\n",
              "      <td>0</td>\n",
              "      <td>0</td>\n",
              "      <td>0</td>\n",
              "      <td>0</td>\n",
              "      <td>1</td>\n",
              "      <td>0</td>\n",
              "      <td>0</td>\n",
              "      <td>0</td>\n",
              "      <td>0</td>\n",
              "    </tr>\n",
              "    <tr>\n",
              "      <th>2</th>\n",
              "      <td>-0.6</td>\n",
              "      <td>0.6</td>\n",
              "      <td>-0.5</td>\n",
              "      <td>-1.0</td>\n",
              "      <td>-0.229885</td>\n",
              "      <td>0.650704</td>\n",
              "      <td>-0.085714</td>\n",
              "      <td>0.054054</td>\n",
              "      <td>0.110003</td>\n",
              "      <td>0.268457</td>\n",
              "      <td>...</td>\n",
              "      <td>0</td>\n",
              "      <td>0</td>\n",
              "      <td>0</td>\n",
              "      <td>0</td>\n",
              "      <td>0</td>\n",
              "      <td>1</td>\n",
              "      <td>0</td>\n",
              "      <td>0</td>\n",
              "      <td>0</td>\n",
              "      <td>0</td>\n",
              "    </tr>\n",
              "    <tr>\n",
              "      <th>3</th>\n",
              "      <td>-0.6</td>\n",
              "      <td>-0.2</td>\n",
              "      <td>0.0</td>\n",
              "      <td>-0.2</td>\n",
              "      <td>-0.229885</td>\n",
              "      <td>0.650704</td>\n",
              "      <td>-0.085714</td>\n",
              "      <td>0.687500</td>\n",
              "      <td>0.110003</td>\n",
              "      <td>0.268457</td>\n",
              "      <td>...</td>\n",
              "      <td>0</td>\n",
              "      <td>0</td>\n",
              "      <td>0</td>\n",
              "      <td>0</td>\n",
              "      <td>0</td>\n",
              "      <td>1</td>\n",
              "      <td>0</td>\n",
              "      <td>0</td>\n",
              "      <td>0</td>\n",
              "      <td>0</td>\n",
              "    </tr>\n",
              "    <tr>\n",
              "      <th>4</th>\n",
              "      <td>0.2</td>\n",
              "      <td>0.6</td>\n",
              "      <td>0.0</td>\n",
              "      <td>-1.0</td>\n",
              "      <td>-0.505747</td>\n",
              "      <td>-0.767887</td>\n",
              "      <td>0.600000</td>\n",
              "      <td>-0.808511</td>\n",
              "      <td>0.110003</td>\n",
              "      <td>0.268457</td>\n",
              "      <td>...</td>\n",
              "      <td>0</td>\n",
              "      <td>0</td>\n",
              "      <td>0</td>\n",
              "      <td>0</td>\n",
              "      <td>0</td>\n",
              "      <td>1</td>\n",
              "      <td>0</td>\n",
              "      <td>0</td>\n",
              "      <td>0</td>\n",
              "      <td>0</td>\n",
              "    </tr>\n",
              "    <tr>\n",
              "      <th>...</th>\n",
              "      <td>...</td>\n",
              "      <td>...</td>\n",
              "      <td>...</td>\n",
              "      <td>...</td>\n",
              "      <td>...</td>\n",
              "      <td>...</td>\n",
              "      <td>...</td>\n",
              "      <td>...</td>\n",
              "      <td>...</td>\n",
              "      <td>...</td>\n",
              "      <td>...</td>\n",
              "      <td>...</td>\n",
              "      <td>...</td>\n",
              "      <td>...</td>\n",
              "      <td>...</td>\n",
              "      <td>...</td>\n",
              "      <td>...</td>\n",
              "      <td>...</td>\n",
              "      <td>...</td>\n",
              "      <td>...</td>\n",
              "      <td>...</td>\n",
              "    </tr>\n",
              "    <tr>\n",
              "      <th>57418</th>\n",
              "      <td>-1.0</td>\n",
              "      <td>-0.6</td>\n",
              "      <td>-0.5</td>\n",
              "      <td>-0.6</td>\n",
              "      <td>0.298851</td>\n",
              "      <td>0.752113</td>\n",
              "      <td>0.428571</td>\n",
              "      <td>-0.875000</td>\n",
              "      <td>-0.409135</td>\n",
              "      <td>0.192580</td>\n",
              "      <td>...</td>\n",
              "      <td>0</td>\n",
              "      <td>1</td>\n",
              "      <td>0</td>\n",
              "      <td>0</td>\n",
              "      <td>0</td>\n",
              "      <td>0</td>\n",
              "      <td>0</td>\n",
              "      <td>0</td>\n",
              "      <td>0</td>\n",
              "      <td>0</td>\n",
              "    </tr>\n",
              "    <tr>\n",
              "      <th>57419</th>\n",
              "      <td>-1.0</td>\n",
              "      <td>-0.2</td>\n",
              "      <td>0.0</td>\n",
              "      <td>-1.0</td>\n",
              "      <td>-0.367816</td>\n",
              "      <td>0.380282</td>\n",
              "      <td>1.000000</td>\n",
              "      <td>0.838710</td>\n",
              "      <td>-0.409135</td>\n",
              "      <td>0.192580</td>\n",
              "      <td>...</td>\n",
              "      <td>0</td>\n",
              "      <td>1</td>\n",
              "      <td>0</td>\n",
              "      <td>0</td>\n",
              "      <td>0</td>\n",
              "      <td>0</td>\n",
              "      <td>0</td>\n",
              "      <td>0</td>\n",
              "      <td>0</td>\n",
              "      <td>0</td>\n",
              "    </tr>\n",
              "    <tr>\n",
              "      <th>57420</th>\n",
              "      <td>-0.6</td>\n",
              "      <td>-0.6</td>\n",
              "      <td>0.5</td>\n",
              "      <td>-1.0</td>\n",
              "      <td>0.298851</td>\n",
              "      <td>0.752113</td>\n",
              "      <td>0.428571</td>\n",
              "      <td>-0.739130</td>\n",
              "      <td>-0.409135</td>\n",
              "      <td>0.192580</td>\n",
              "      <td>...</td>\n",
              "      <td>0</td>\n",
              "      <td>1</td>\n",
              "      <td>0</td>\n",
              "      <td>0</td>\n",
              "      <td>0</td>\n",
              "      <td>0</td>\n",
              "      <td>0</td>\n",
              "      <td>0</td>\n",
              "      <td>0</td>\n",
              "      <td>0</td>\n",
              "    </tr>\n",
              "    <tr>\n",
              "      <th>57421</th>\n",
              "      <td>-0.2</td>\n",
              "      <td>-0.2</td>\n",
              "      <td>1.0</td>\n",
              "      <td>-1.0</td>\n",
              "      <td>0.298851</td>\n",
              "      <td>0.752113</td>\n",
              "      <td>0.428571</td>\n",
              "      <td>0.838710</td>\n",
              "      <td>0.641772</td>\n",
              "      <td>-0.983198</td>\n",
              "      <td>...</td>\n",
              "      <td>0</td>\n",
              "      <td>0</td>\n",
              "      <td>0</td>\n",
              "      <td>0</td>\n",
              "      <td>0</td>\n",
              "      <td>0</td>\n",
              "      <td>0</td>\n",
              "      <td>0</td>\n",
              "      <td>0</td>\n",
              "      <td>0</td>\n",
              "    </tr>\n",
              "    <tr>\n",
              "      <th>57422</th>\n",
              "      <td>0.2</td>\n",
              "      <td>0.2</td>\n",
              "      <td>-0.5</td>\n",
              "      <td>-1.0</td>\n",
              "      <td>0.034483</td>\n",
              "      <td>0.853521</td>\n",
              "      <td>0.600000</td>\n",
              "      <td>-0.739130</td>\n",
              "      <td>0.641772</td>\n",
              "      <td>-0.983198</td>\n",
              "      <td>...</td>\n",
              "      <td>0</td>\n",
              "      <td>0</td>\n",
              "      <td>0</td>\n",
              "      <td>0</td>\n",
              "      <td>0</td>\n",
              "      <td>0</td>\n",
              "      <td>0</td>\n",
              "      <td>0</td>\n",
              "      <td>0</td>\n",
              "      <td>0</td>\n",
              "    </tr>\n",
              "  </tbody>\n",
              "</table>\n",
              "<p>57423 rows × 56 columns</p>\n",
              "</div>\n",
              "      <button class=\"colab-df-convert\" onclick=\"convertToInteractive('df-0faeecee-e1a6-4c36-b7b7-97c07480d83b')\"\n",
              "              title=\"Convert this dataframe to an interactive table.\"\n",
              "              style=\"display:none;\">\n",
              "        \n",
              "  <svg xmlns=\"http://www.w3.org/2000/svg\" height=\"24px\"viewBox=\"0 0 24 24\"\n",
              "       width=\"24px\">\n",
              "    <path d=\"M0 0h24v24H0V0z\" fill=\"none\"/>\n",
              "    <path d=\"M18.56 5.44l.94 2.06.94-2.06 2.06-.94-2.06-.94-.94-2.06-.94 2.06-2.06.94zm-11 1L8.5 8.5l.94-2.06 2.06-.94-2.06-.94L8.5 2.5l-.94 2.06-2.06.94zm10 10l.94 2.06.94-2.06 2.06-.94-2.06-.94-.94-2.06-.94 2.06-2.06.94z\"/><path d=\"M17.41 7.96l-1.37-1.37c-.4-.4-.92-.59-1.43-.59-.52 0-1.04.2-1.43.59L10.3 9.45l-7.72 7.72c-.78.78-.78 2.05 0 2.83L4 21.41c.39.39.9.59 1.41.59.51 0 1.02-.2 1.41-.59l7.78-7.78 2.81-2.81c.8-.78.8-2.07 0-2.86zM5.41 20L4 18.59l7.72-7.72 1.47 1.35L5.41 20z\"/>\n",
              "  </svg>\n",
              "      </button>\n",
              "      \n",
              "  <style>\n",
              "    .colab-df-container {\n",
              "      display:flex;\n",
              "      flex-wrap:wrap;\n",
              "      gap: 12px;\n",
              "    }\n",
              "\n",
              "    .colab-df-convert {\n",
              "      background-color: #E8F0FE;\n",
              "      border: none;\n",
              "      border-radius: 50%;\n",
              "      cursor: pointer;\n",
              "      display: none;\n",
              "      fill: #1967D2;\n",
              "      height: 32px;\n",
              "      padding: 0 0 0 0;\n",
              "      width: 32px;\n",
              "    }\n",
              "\n",
              "    .colab-df-convert:hover {\n",
              "      background-color: #E2EBFA;\n",
              "      box-shadow: 0px 1px 2px rgba(60, 64, 67, 0.3), 0px 1px 3px 1px rgba(60, 64, 67, 0.15);\n",
              "      fill: #174EA6;\n",
              "    }\n",
              "\n",
              "    [theme=dark] .colab-df-convert {\n",
              "      background-color: #3B4455;\n",
              "      fill: #D2E3FC;\n",
              "    }\n",
              "\n",
              "    [theme=dark] .colab-df-convert:hover {\n",
              "      background-color: #434B5C;\n",
              "      box-shadow: 0px 1px 3px 1px rgba(0, 0, 0, 0.15);\n",
              "      filter: drop-shadow(0px 1px 2px rgba(0, 0, 0, 0.3));\n",
              "      fill: #FFFFFF;\n",
              "    }\n",
              "  </style>\n",
              "\n",
              "      <script>\n",
              "        const buttonEl =\n",
              "          document.querySelector('#df-0faeecee-e1a6-4c36-b7b7-97c07480d83b button.colab-df-convert');\n",
              "        buttonEl.style.display =\n",
              "          google.colab.kernel.accessAllowed ? 'block' : 'none';\n",
              "\n",
              "        async function convertToInteractive(key) {\n",
              "          const element = document.querySelector('#df-0faeecee-e1a6-4c36-b7b7-97c07480d83b');\n",
              "          const dataTable =\n",
              "            await google.colab.kernel.invokeFunction('convertToInteractive',\n",
              "                                                     [key], {});\n",
              "          if (!dataTable) return;\n",
              "\n",
              "          const docLinkHtml = 'Like what you see? Visit the ' +\n",
              "            '<a target=\"_blank\" href=https://colab.research.google.com/notebooks/data_table.ipynb>data table notebook</a>'\n",
              "            + ' to learn more about interactive tables.';\n",
              "          element.innerHTML = '';\n",
              "          dataTable['output_type'] = 'display_data';\n",
              "          await google.colab.output.renderOutput(dataTable, element);\n",
              "          const docLink = document.createElement('div');\n",
              "          docLink.innerHTML = docLinkHtml;\n",
              "          element.appendChild(docLink);\n",
              "        }\n",
              "      </script>\n",
              "    </div>\n",
              "  </div>\n",
              "  "
            ]
          },
          "metadata": {},
          "execution_count": 16
        }
      ],
      "source": [
        "df"
      ]
    },
    {
      "cell_type": "code",
      "execution_count": 17,
      "metadata": {
        "id": "4poT2WSq9JNL"
      },
      "outputs": [],
      "source": [
        "y = df_woOut['cost']"
      ]
    },
    {
      "cell_type": "code",
      "execution_count": 18,
      "metadata": {
        "id": "xAbWKnY0QQZ4"
      },
      "outputs": [],
      "source": [
        "X_final = df[['media_type_labeled', 'SRP', 'net_weight', 'units_per_case', 'sales_to_cost_ratio', 'total_children', 'avg_cars_at home(approx)', 'meat_to_total_ratio',\n",
        "              'num_children_at_home', 'unit_sales(in millions)', 'gender_M', 'houseowner_Y']]"
      ]
    },
    {
      "cell_type": "markdown",
      "metadata": {
        "id": "4HOZ5MTIP3Lz"
      },
      "source": [
        "# Model Development"
      ]
    },
    {
      "cell_type": "code",
      "execution_count": 19,
      "metadata": {
        "id": "1GRLE-HnX2Dt"
      },
      "outputs": [],
      "source": [
        "from sklearn.model_selection import train_test_split\n",
        "X_train_final, X_test_final, y_train, y_test = train_test_split(X_final, y, test_size = 0.3, random_state = 0)"
      ]
    },
    {
      "cell_type": "markdown",
      "metadata": {
        "id": "ZxQD09MsXob0"
      },
      "source": [
        "## Baseline Model"
      ]
    },
    {
      "cell_type": "code",
      "execution_count": 37,
      "metadata": {
        "id": "YYi8toNEXnfm"
      },
      "outputs": [],
      "source": [
        "from sklearn.dummy import DummyRegressor\n",
        "dr = DummyRegressor()\n",
        "base_model = dr.fit(X_train_final, y_train)\n",
        "y_test_pred_base = base_model.predict(X_test_final)"
      ]
    },
    {
      "cell_type": "code",
      "execution_count": 38,
      "metadata": {
        "colab": {
          "base_uri": "https://localhost:8080/"
        },
        "id": "Z_q2PMSXX_mL",
        "outputId": "3d482463-a53c-4b34-a15f-a681e0c96a73"
      },
      "outputs": [
        {
          "output_type": "execute_result",
          "data": {
            "text/plain": [
              "28.73026641116157"
            ]
          },
          "metadata": {},
          "execution_count": 38
        }
      ],
      "source": [
        "from sklearn.metrics import mean_squared_error\n",
        "base_mse = mean_squared_error(y_test, y_test_pred_base, squared=False)\n",
        "base_mse"
      ]
    },
    {
      "cell_type": "markdown",
      "source": [
        "## Linear Regression"
      ],
      "metadata": {
        "id": "d7_Z2f3AK3W7"
      }
    },
    {
      "cell_type": "code",
      "source": [
        "from sklearn.linear_model import LinearRegression\n",
        "lr = LinearRegression()\n",
        "model_lr_final = lr.fit(X_train_final,y_train)\n",
        "y_test_pred = model_lr_final.predict(X_test_final)"
      ],
      "metadata": {
        "id": "c9cdQq__K58V"
      },
      "execution_count": 39,
      "outputs": []
    },
    {
      "cell_type": "code",
      "source": [
        "lr_mse = mean_squared_error(y_test, y_test_pred, squared=False)\n",
        "lr_mse"
      ],
      "metadata": {
        "colab": {
          "base_uri": "https://localhost:8080/"
        },
        "id": "-7eNVXkWLS-l",
        "outputId": "c0029c1c-8b9c-4508-ac34-fcdd32077ac6"
      },
      "execution_count": 40,
      "outputs": [
        {
          "output_type": "execute_result",
          "data": {
            "text/plain": [
              "28.690971996437348"
            ]
          },
          "metadata": {},
          "execution_count": 40
        }
      ]
    },
    {
      "cell_type": "markdown",
      "metadata": {
        "id": "s5P51nYJoNEn"
      },
      "source": [
        "## Decision Tree"
      ]
    },
    {
      "cell_type": "code",
      "execution_count": 41,
      "metadata": {
        "id": "Z79ZyWmdoPLg"
      },
      "outputs": [],
      "source": [
        "from sklearn.tree import DecisionTreeRegressor\n",
        "dt = DecisionTreeRegressor(random_state = 0, max_features = 10, max_depth = 5)\n",
        "model_dt_final = dt.fit(X_train_final, y_train)\n",
        "y_test_pred_final = model_dt_final.predict(X_test_final)"
      ]
    },
    {
      "cell_type": "code",
      "execution_count": 42,
      "metadata": {
        "colab": {
          "base_uri": "https://localhost:8080/"
        },
        "id": "ZqCB361Eojbg",
        "outputId": "d7ed98f5-49da-49ab-a43a-7c6df09e69b8"
      },
      "outputs": [
        {
          "output_type": "execute_result",
          "data": {
            "text/plain": [
              "26.619336508695465"
            ]
          },
          "metadata": {},
          "execution_count": 42
        }
      ],
      "source": [
        "decisiontree_pred_mse = mean_squared_error(y_test, y_test_pred_final, squared=False)\n",
        "decisiontree_pred_mse"
      ]
    },
    {
      "cell_type": "markdown",
      "metadata": {
        "id": "xnM47GLHP8A7"
      },
      "source": [
        "## Random Forest"
      ]
    },
    {
      "cell_type": "code",
      "execution_count": 43,
      "metadata": {
        "id": "3d17lBAuFQtt"
      },
      "outputs": [],
      "source": [
        "from sklearn.ensemble import RandomForestRegressor\n",
        "randomforest = RandomForestRegressor(random_state = 0, max_features = 10, n_estimators = 1000)\n",
        "model_rf_final = randomforest.fit(X_train_final, y_train)\n",
        "y_test_pred_final = model_rf_final.predict(X_test_final)"
      ]
    },
    {
      "cell_type": "code",
      "execution_count": 44,
      "metadata": {
        "colab": {
          "base_uri": "https://localhost:8080/"
        },
        "id": "2SaJIIPRFg9r",
        "outputId": "94850e34-cd06-412d-9f2d-3f9aa34d357f"
      },
      "outputs": [
        {
          "output_type": "execute_result",
          "data": {
            "text/plain": [
              "18.021941468542185"
            ]
          },
          "metadata": {},
          "execution_count": 44
        }
      ],
      "source": [
        "randomforest_pred_mse = mean_squared_error(y_test, y_test_pred_final, squared=False)\n",
        "randomforest_pred_mse"
      ]
    },
    {
      "cell_type": "markdown",
      "metadata": {
        "id": "0L0hpiXWhr1k"
      },
      "source": [
        "## Extra Tree"
      ]
    },
    {
      "cell_type": "code",
      "execution_count": 45,
      "metadata": {
        "id": "5w7tkO3bhuJq"
      },
      "outputs": [],
      "source": [
        "from sklearn.ensemble import ExtraTreesRegressor\n",
        "extratree = ExtraTreesRegressor(random_state = 0, max_features = 10, n_estimators = 1000)\n",
        "model_et_final = extratree.fit(X_train_final, y_train)\n",
        "y_test_pred_final = model_et_final.predict(X_test_final)"
      ]
    },
    {
      "cell_type": "code",
      "execution_count": 46,
      "metadata": {
        "colab": {
          "base_uri": "https://localhost:8080/"
        },
        "id": "d1YV9TCNigvi",
        "outputId": "945cfe47-586a-4b1f-cac4-d036e3530342"
      },
      "outputs": [
        {
          "output_type": "execute_result",
          "data": {
            "text/plain": [
              "15.552651439528221"
            ]
          },
          "metadata": {},
          "execution_count": 46
        }
      ],
      "source": [
        "extratree_pred_mse = mean_squared_error(y_test, y_test_pred_final, squared=False)\n",
        "extratree_pred_mse"
      ]
    },
    {
      "cell_type": "markdown",
      "metadata": {
        "id": "CzLf6VTzj16M"
      },
      "source": [
        "## AdaBoost"
      ]
    },
    {
      "cell_type": "code",
      "execution_count": 47,
      "metadata": {
        "id": "54Mws9_mj4Fo"
      },
      "outputs": [],
      "source": [
        "from sklearn.ensemble import AdaBoostRegressor\n",
        "adaboost = AdaBoostRegressor(base_estimator=DecisionTreeRegressor(max_depth=10), random_state = 0, n_estimators = 1000)\n",
        "model_ab_final = adaboost.fit(X_train_final, y_train)\n",
        "y_test_pred_final = model_ab_final.predict(X_test_final)"
      ]
    },
    {
      "cell_type": "code",
      "execution_count": 48,
      "metadata": {
        "colab": {
          "base_uri": "https://localhost:8080/"
        },
        "id": "uW4VtlOYkGHr",
        "outputId": "561501d8-50eb-4454-a101-d8f8272e05de"
      },
      "outputs": [
        {
          "output_type": "execute_result",
          "data": {
            "text/plain": [
              "25.38369080992926"
            ]
          },
          "metadata": {},
          "execution_count": 48
        }
      ],
      "source": [
        "adaboost_pred_mse = mean_squared_error(y_test, y_test_pred_final, squared=False)\n",
        "adaboost_pred_mse"
      ]
    },
    {
      "cell_type": "markdown",
      "metadata": {
        "id": "_iZaE4KIlTpc"
      },
      "source": [
        "## Gradient Boosting"
      ]
    },
    {
      "cell_type": "code",
      "execution_count": 49,
      "metadata": {
        "id": "9aF4TjOUlWlg"
      },
      "outputs": [],
      "source": [
        "from sklearn.ensemble import GradientBoostingRegressor\n",
        "gb = GradientBoostingRegressor(max_depth=5, n_estimators=1000, max_features = 10)\n",
        "model_gb_final = gb.fit(X_train_final, y_train)\n",
        "y_test_pred_final = model_gb_final.predict(X_test_final)"
      ]
    },
    {
      "cell_type": "code",
      "execution_count": 50,
      "metadata": {
        "colab": {
          "base_uri": "https://localhost:8080/"
        },
        "id": "ogxS0fkVmBS-",
        "outputId": "27b39036-03cd-47f0-e4fd-891eb37b1967"
      },
      "outputs": [
        {
          "output_type": "execute_result",
          "data": {
            "text/plain": [
              "19.7053145641623"
            ]
          },
          "metadata": {},
          "execution_count": 50
        }
      ],
      "source": [
        "gb_pred_mse = mean_squared_error(y_test, y_test_pred_final, squared=False)\n",
        "gb_pred_mse"
      ]
    },
    {
      "cell_type": "markdown",
      "source": [
        "## LightGBM"
      ],
      "metadata": {
        "id": "KG4CWwP2LeZN"
      }
    },
    {
      "cell_type": "code",
      "source": [
        "import lightgbm as ltb\n",
        "lgbm = ltb.LGBMRegressor()\n",
        "model_lgbm_final = lgbm.fit(X_train_final,y_train)\n",
        "y_test_pred = model_lgbm_final.predict(X_test_final)"
      ],
      "metadata": {
        "id": "eQrUmGrbLkLl"
      },
      "execution_count": 51,
      "outputs": []
    },
    {
      "cell_type": "code",
      "source": [
        "lgbm_mse = mean_squared_error(y_test, y_test_pred, squared=False)\n",
        "lgbm_mse"
      ],
      "metadata": {
        "colab": {
          "base_uri": "https://localhost:8080/"
        },
        "id": "BBIA9DNMMKwt",
        "outputId": "dced8ac5-a4a1-4f0f-e4eb-45c13aacda96"
      },
      "execution_count": 54,
      "outputs": [
        {
          "output_type": "execute_result",
          "data": {
            "text/plain": [
              "20.072371274299034"
            ]
          },
          "metadata": {},
          "execution_count": 54
        }
      ]
    },
    {
      "cell_type": "markdown",
      "metadata": {
        "id": "l5Yidz1eYe4z"
      },
      "source": [
        "## Artificial Neural Network"
      ]
    },
    {
      "cell_type": "code",
      "execution_count": 58,
      "metadata": {
        "id": "Beq71mkRH2yX"
      },
      "outputs": [],
      "source": [
        "from sklearn.neural_network import MLPRegressor\n",
        "ann = MLPRegressor(hidden_layer_sizes = (20), max_iter = 2000, random_state = 0)\n",
        "model_ann_final = ann.fit(X_train_final, y_train)\n",
        "y_test_pred_final = model_ann_final.predict(X_test_final)"
      ]
    },
    {
      "cell_type": "code",
      "execution_count": 59,
      "metadata": {
        "colab": {
          "base_uri": "https://localhost:8080/"
        },
        "id": "RMuCC0FHe07x",
        "outputId": "39fc62cf-466c-47b9-a4ca-5ebd7658a28e"
      },
      "outputs": [
        {
          "output_type": "execute_result",
          "data": {
            "text/plain": [
              "28.28242429228561"
            ]
          },
          "metadata": {},
          "execution_count": 59
        }
      ],
      "source": [
        "ann_pred_mse = mean_squared_error(y_test, y_test_pred_final, squared=False)\n",
        "ann_pred_mse"
      ]
    },
    {
      "cell_type": "markdown",
      "source": [
        "## Model Selection and Cross Validation"
      ],
      "metadata": {
        "id": "BdXZvtcfRJZ4"
      }
    },
    {
      "cell_type": "markdown",
      "source": [
        "According to the results, the Extra Tree model performs the best since it has the lowest MSE. Therefore, we will chose it as our final model and do cross-validation."
      ],
      "metadata": {
        "id": "ewEHKv14Qt61"
      }
    },
    {
      "cell_type": "code",
      "execution_count": 60,
      "metadata": {
        "id": "bt3v6y70e1Bz"
      },
      "outputs": [],
      "source": [
        "final_model = model_et_final"
      ]
    },
    {
      "cell_type": "code",
      "source": [
        "# According to the size of our dataset, we will divide it to 10 folds for cross-validation\n",
        "from sklearn.model_selection import cross_val_score\n",
        "final_model.fit(X_train_final, y_train)\n",
        "et_mses = -cross_val_score(final_model, X_test_final, y_test, scoring=\"neg_root_mean_squared_error\", cv=10)"
      ],
      "metadata": {
        "id": "K3Y-r_tgRzoV"
      },
      "execution_count": 62,
      "outputs": []
    },
    {
      "cell_type": "code",
      "source": [
        "pd.Series(et_mses).describe()"
      ],
      "metadata": {
        "colab": {
          "base_uri": "https://localhost:8080/"
        },
        "id": "mWJjYTNSWvip",
        "outputId": "0f565d48-b5a6-47bb-c089-ec49761659f2"
      },
      "execution_count": 64,
      "outputs": [
        {
          "output_type": "execute_result",
          "data": {
            "text/plain": [
              "count    10.000000\n",
              "mean     18.260835\n",
              "std       0.545241\n",
              "min      17.626331\n",
              "25%      17.808020\n",
              "50%      18.206255\n",
              "75%      18.767677\n",
              "max      18.988023\n",
              "dtype: float64"
            ]
          },
          "metadata": {},
          "execution_count": 64
        }
      ]
    },
    {
      "cell_type": "code",
      "source": [
        "final_model.fit(X_train_final, y_train)\n",
        "final_predictions = final_model.predict(X_test_final)\n",
        "final_mse = mean_squared_error(y_test, final_predictions, squared=False)\n",
        "final_mse"
      ],
      "metadata": {
        "colab": {
          "base_uri": "https://localhost:8080/"
        },
        "id": "6YF5ZFfPTdCM",
        "outputId": "facb0f76-0c6e-4a41-a4ad-a049d47be20d"
      },
      "execution_count": 63,
      "outputs": [
        {
          "output_type": "execute_result",
          "data": {
            "text/plain": [
              "15.552651439528221"
            ]
          },
          "metadata": {},
          "execution_count": 63
        }
      ]
    }
  ],
  "metadata": {
    "colab": {
      "provenance": []
    },
    "kernelspec": {
      "display_name": "Python 3",
      "language": "python",
      "name": "python3"
    },
    "language_info": {
      "codemirror_mode": {
        "name": "ipython",
        "version": 3
      },
      "file_extension": ".py",
      "mimetype": "text/x-python",
      "name": "python",
      "nbconvert_exporter": "python",
      "pygments_lexer": "ipython3",
      "version": "3.8.8"
    }
  },
  "nbformat": 4,
  "nbformat_minor": 0
}